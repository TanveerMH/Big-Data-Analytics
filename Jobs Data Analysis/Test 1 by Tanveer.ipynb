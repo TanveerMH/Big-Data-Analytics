{
 "cells": [
  {
   "cell_type": "markdown",
   "metadata": {},
   "source": [
    "# Hasan Tanveer Mahmood\n",
    "# Matric no: 1725413\n",
    "# Bigdata Analysis Test: 1"
   ]
  },
  {
   "cell_type": "markdown",
   "metadata": {},
   "source": [
    "#Necesarry Library need to import"
   ]
  },
  {
   "cell_type": "code",
   "execution_count": 78,
   "metadata": {},
   "outputs": [],
   "source": [
    "import pandas as pd\n",
    "import numpy as np\n",
    "import matplotlib\n",
    "from matplotlib import pyplot as plt\n",
    "%matplotlib inline\n",
    "import seaborn as sns\n",
    "import warnings\n",
    "warnings.filterwarnings('ignore')"
   ]
  },
  {
   "cell_type": "markdown",
   "metadata": {},
   "source": [
    "Read All dataset"
   ]
  },
  {
   "cell_type": "code",
   "execution_count": 79,
   "metadata": {},
   "outputs": [],
   "source": [
    "linkedin = pd.read_csv('linkedin_to_isic_rev_4_industry_mapping_0.csv')\n",
    "skill_pen= pd.read_excel('public_use-skill-penetration.xlsx' , 'Skill Penetration')\n",
    "industry_skill = pd.read_excel('public_use-industry-skills-needs.xlsx' , 'Industry Skills Needs')\n",
    "skill_migration = pd.read_excel('public_use-talent-migration.xlsx', 'Skill Migration')\n",
    "growth_idust = pd.read_excel('public_use-industry-employment-growth.xlsx', 'Growth from Industry Transition')"
   ]
  },
  {
   "cell_type": "code",
   "execution_count": 80,
   "metadata": {},
   "outputs": [
    {
     "data": {
      "text/html": [
       "<div>\n",
       "<style scoped>\n",
       "    .dataframe tbody tr th:only-of-type {\n",
       "        vertical-align: middle;\n",
       "    }\n",
       "\n",
       "    .dataframe tbody tr th {\n",
       "        vertical-align: top;\n",
       "    }\n",
       "\n",
       "    .dataframe thead th {\n",
       "        text-align: right;\n",
       "    }\n",
       "</style>\n",
       "<table border=\"1\" class=\"dataframe\">\n",
       "  <thead>\n",
       "    <tr style=\"text-align: right;\">\n",
       "      <th></th>\n",
       "      <th>isic_section</th>\n",
       "      <th>isic_section_name</th>\n",
       "      <th>isic_division</th>\n",
       "      <th>isic_division_name</th>\n",
       "      <th>industry_sk</th>\n",
       "      <th>industry_name</th>\n",
       "      <th>Industry_group_sk</th>\n",
       "      <th>Industry_group_name</th>\n",
       "    </tr>\n",
       "  </thead>\n",
       "  <tbody>\n",
       "    <tr>\n",
       "      <th>0</th>\n",
       "      <td>A</td>\n",
       "      <td>A. Agriculture; forestry and fishing</td>\n",
       "      <td>1</td>\n",
       "      <td>Crop and animal production, hunting and relate...</td>\n",
       "      <td>63</td>\n",
       "      <td>farming</td>\n",
       "      <td>1</td>\n",
       "      <td>Agriculture</td>\n",
       "    </tr>\n",
       "    <tr>\n",
       "      <th>1</th>\n",
       "      <td>A</td>\n",
       "      <td>A. Agriculture; forestry and fishing</td>\n",
       "      <td>1</td>\n",
       "      <td>Crop and animal production, hunting and relate...</td>\n",
       "      <td>64</td>\n",
       "      <td>ranching</td>\n",
       "      <td>1</td>\n",
       "      <td>Agriculture</td>\n",
       "    </tr>\n",
       "    <tr>\n",
       "      <th>2</th>\n",
       "      <td>A</td>\n",
       "      <td>A. Agriculture; forestry and fishing</td>\n",
       "      <td>1</td>\n",
       "      <td>Crop and animal production, hunting and relate...</td>\n",
       "      <td>65</td>\n",
       "      <td>dairy</td>\n",
       "      <td>1</td>\n",
       "      <td>Agriculture</td>\n",
       "    </tr>\n",
       "    <tr>\n",
       "      <th>3</th>\n",
       "      <td>A</td>\n",
       "      <td>A. Agriculture; forestry and fishing</td>\n",
       "      <td>3</td>\n",
       "      <td>Fishing and aquaculture</td>\n",
       "      <td>66</td>\n",
       "      <td>fishery</td>\n",
       "      <td>1</td>\n",
       "      <td>Agriculture</td>\n",
       "    </tr>\n",
       "    <tr>\n",
       "      <th>4</th>\n",
       "      <td>B</td>\n",
       "      <td>B. Mining and quarrying</td>\n",
       "      <td>5</td>\n",
       "      <td>Mining of coal and lignite</td>\n",
       "      <td>56</td>\n",
       "      <td>mining &amp; metals</td>\n",
       "      <td>16</td>\n",
       "      <td>Energy and Mining</td>\n",
       "    </tr>\n",
       "  </tbody>\n",
       "</table>\n",
       "</div>"
      ],
      "text/plain": [
       "  isic_section                      isic_section_name  isic_division  \\\n",
       "0            A   A. Agriculture; forestry and fishing              1   \n",
       "1            A   A. Agriculture; forestry and fishing              1   \n",
       "2            A   A. Agriculture; forestry and fishing              1   \n",
       "3            A   A. Agriculture; forestry and fishing              3   \n",
       "4            B                B. Mining and quarrying              5   \n",
       "\n",
       "                                  isic_division_name  industry_sk  \\\n",
       "0  Crop and animal production, hunting and relate...           63   \n",
       "1  Crop and animal production, hunting and relate...           64   \n",
       "2  Crop and animal production, hunting and relate...           65   \n",
       "3                            Fishing and aquaculture           66   \n",
       "4                         Mining of coal and lignite           56   \n",
       "\n",
       "     industry_name  Industry_group_sk Industry_group_name  \n",
       "0          farming                  1         Agriculture  \n",
       "1         ranching                  1         Agriculture  \n",
       "2            dairy                  1         Agriculture  \n",
       "3          fishery                  1         Agriculture  \n",
       "4  mining & metals                 16   Energy and Mining  "
      ]
     },
     "execution_count": 80,
     "metadata": {},
     "output_type": "execute_result"
    }
   ],
   "source": [
    "#check dataset read successfull or not.\n",
    "linkedin.head(5)"
   ]
  },
  {
   "cell_type": "markdown",
   "metadata": {},
   "source": [
    "# Data cleaning"
   ]
  },
  {
   "cell_type": "code",
   "execution_count": 81,
   "metadata": {},
   "outputs": [
    {
     "data": {
      "text/plain": [
       "isic_section           0\n",
       "isic_section_name      0\n",
       "isic_division          0\n",
       "isic_division_name     0\n",
       "industry_sk            0\n",
       "industry_name          0\n",
       "Industry_group_sk      0\n",
       "Industry_group_name    0\n",
       "dtype: int64"
      ]
     },
     "execution_count": 81,
     "metadata": {},
     "output_type": "execute_result"
    }
   ],
   "source": [
    "#check null values\n",
    "linkedin.isnull().sum()"
   ]
  },
  {
   "cell_type": "code",
   "execution_count": 82,
   "metadata": {},
   "outputs": [
    {
     "data": {
      "text/plain": [
       "<AxesSubplot:>"
      ]
     },
     "execution_count": 82,
     "metadata": {},
     "output_type": "execute_result"
    },
    {
     "data": {
      "image/png": "[encoded data removed]",
      "text/plain": [
       "<Figure size 432x288 with 1 Axes>"
      ]
     },
     "metadata": {
      "needs_background": "light"
     },
     "output_type": "display_data"
    }
   ],
   "source": [
    "#visualize the null values\n",
    "sns.heatmap(linkedin.isnull(),yticklabels=False,cbar=False,cmap='YlGnBu')"
   ]
  },
  {
   "cell_type": "code",
   "execution_count": 83,
   "metadata": {},
   "outputs": [
    {
     "data": {
      "text/html": [
       "<div>\n",
       "<style scoped>\n",
       "    .dataframe tbody tr th:only-of-type {\n",
       "        vertical-align: middle;\n",
       "    }\n",
       "\n",
       "    .dataframe tbody tr th {\n",
       "        vertical-align: top;\n",
       "    }\n",
       "\n",
       "    .dataframe thead th {\n",
       "        text-align: right;\n",
       "    }\n",
       "</style>\n",
       "<table border=\"1\" class=\"dataframe\">\n",
       "  <thead>\n",
       "    <tr style=\"text-align: right;\">\n",
       "      <th></th>\n",
       "      <th>count</th>\n",
       "      <th>mean</th>\n",
       "      <th>std</th>\n",
       "      <th>min</th>\n",
       "      <th>25%</th>\n",
       "      <th>50%</th>\n",
       "      <th>75%</th>\n",
       "      <th>max</th>\n",
       "    </tr>\n",
       "  </thead>\n",
       "  <tbody>\n",
       "    <tr>\n",
       "      <th>isic_division</th>\n",
       "      <td>148.0</td>\n",
       "      <td>59.351351</td>\n",
       "      <td>26.277655</td>\n",
       "      <td>-9.0</td>\n",
       "      <td>47.00</td>\n",
       "      <td>64.0</td>\n",
       "      <td>81.25</td>\n",
       "      <td>96.0</td>\n",
       "    </tr>\n",
       "    <tr>\n",
       "      <th>industry_sk</th>\n",
       "      <td>148.0</td>\n",
       "      <td>74.432432</td>\n",
       "      <td>42.992352</td>\n",
       "      <td>-9.0</td>\n",
       "      <td>37.75</td>\n",
       "      <td>74.5</td>\n",
       "      <td>111.25</td>\n",
       "      <td>148.0</td>\n",
       "    </tr>\n",
       "    <tr>\n",
       "      <th>Industry_group_sk</th>\n",
       "      <td>148.0</td>\n",
       "      <td>11.135135</td>\n",
       "      <td>6.205822</td>\n",
       "      <td>-9.0</td>\n",
       "      <td>6.00</td>\n",
       "      <td>11.0</td>\n",
       "      <td>15.00</td>\n",
       "      <td>24.0</td>\n",
       "    </tr>\n",
       "  </tbody>\n",
       "</table>\n",
       "</div>"
      ],
      "text/plain": [
       "                   count       mean        std  min    25%   50%     75%  \\\n",
       "isic_division      148.0  59.351351  26.277655 -9.0  47.00  64.0   81.25   \n",
       "industry_sk        148.0  74.432432  42.992352 -9.0  37.75  74.5  111.25   \n",
       "Industry_group_sk  148.0  11.135135   6.205822 -9.0   6.00  11.0   15.00   \n",
       "\n",
       "                     max  \n",
       "isic_division       96.0  \n",
       "industry_sk        148.0  \n",
       "Industry_group_sk   24.0  "
      ]
     },
     "execution_count": 83,
     "metadata": {},
     "output_type": "execute_result"
    }
   ],
   "source": [
    "linkedin.describe().transpose()"
   ]
  },
  {
   "cell_type": "code",
   "execution_count": 84,
   "metadata": {},
   "outputs": [
    {
     "data": {
      "text/plain": [
       "isic_section           object\n",
       "isic_section_name      object\n",
       "isic_division           int64\n",
       "isic_division_name     object\n",
       "industry_sk             int64\n",
       "industry_name          object\n",
       "Industry_group_sk       int64\n",
       "Industry_group_name    object\n",
       "dtype: object"
      ]
     },
     "execution_count": 84,
     "metadata": {},
     "output_type": "execute_result"
    }
   ],
   "source": [
    "#show the data type for linked in data.\n",
    "linkedin.dtypes"
   ]
  },
  {
   "cell_type": "code",
   "execution_count": 85,
   "metadata": {},
   "outputs": [],
   "source": [
    "#replace all the semicolon to space\n",
    "linkedin['isic_section_name'] = linkedin['isic_section_name'].str.replace(';', ' ')"
   ]
  },
  {
   "cell_type": "code",
   "execution_count": 86,
   "metadata": {},
   "outputs": [
    {
     "data": {
      "text/html": [
       "<div>\n",
       "<style scoped>\n",
       "    .dataframe tbody tr th:only-of-type {\n",
       "        vertical-align: middle;\n",
       "    }\n",
       "\n",
       "    .dataframe tbody tr th {\n",
       "        vertical-align: top;\n",
       "    }\n",
       "\n",
       "    .dataframe thead th {\n",
       "        text-align: right;\n",
       "    }\n",
       "</style>\n",
       "<table border=\"1\" class=\"dataframe\">\n",
       "  <thead>\n",
       "    <tr style=\"text-align: right;\">\n",
       "      <th></th>\n",
       "      <th>isic_section</th>\n",
       "      <th>isic_section_name</th>\n",
       "      <th>isic_division</th>\n",
       "      <th>isic_division_name</th>\n",
       "      <th>industry_sk</th>\n",
       "      <th>industry_name</th>\n",
       "      <th>Industry_group_sk</th>\n",
       "      <th>Industry_group_name</th>\n",
       "    </tr>\n",
       "  </thead>\n",
       "  <tbody>\n",
       "    <tr>\n",
       "      <th>0</th>\n",
       "      <td>A</td>\n",
       "      <td>A. Agriculture  forestry and fishing</td>\n",
       "      <td>1</td>\n",
       "      <td>Crop and animal production, hunting and relate...</td>\n",
       "      <td>63</td>\n",
       "      <td>farming</td>\n",
       "      <td>1</td>\n",
       "      <td>Agriculture</td>\n",
       "    </tr>\n",
       "    <tr>\n",
       "      <th>1</th>\n",
       "      <td>A</td>\n",
       "      <td>A. Agriculture  forestry and fishing</td>\n",
       "      <td>1</td>\n",
       "      <td>Crop and animal production, hunting and relate...</td>\n",
       "      <td>64</td>\n",
       "      <td>ranching</td>\n",
       "      <td>1</td>\n",
       "      <td>Agriculture</td>\n",
       "    </tr>\n",
       "    <tr>\n",
       "      <th>2</th>\n",
       "      <td>A</td>\n",
       "      <td>A. Agriculture  forestry and fishing</td>\n",
       "      <td>1</td>\n",
       "      <td>Crop and animal production, hunting and relate...</td>\n",
       "      <td>65</td>\n",
       "      <td>dairy</td>\n",
       "      <td>1</td>\n",
       "      <td>Agriculture</td>\n",
       "    </tr>\n",
       "    <tr>\n",
       "      <th>3</th>\n",
       "      <td>A</td>\n",
       "      <td>A. Agriculture  forestry and fishing</td>\n",
       "      <td>3</td>\n",
       "      <td>Fishing and aquaculture</td>\n",
       "      <td>66</td>\n",
       "      <td>fishery</td>\n",
       "      <td>1</td>\n",
       "      <td>Agriculture</td>\n",
       "    </tr>\n",
       "    <tr>\n",
       "      <th>4</th>\n",
       "      <td>B</td>\n",
       "      <td>B. Mining and quarrying</td>\n",
       "      <td>5</td>\n",
       "      <td>Mining of coal and lignite</td>\n",
       "      <td>56</td>\n",
       "      <td>mining &amp; metals</td>\n",
       "      <td>16</td>\n",
       "      <td>Energy and Mining</td>\n",
       "    </tr>\n",
       "  </tbody>\n",
       "</table>\n",
       "</div>"
      ],
      "text/plain": [
       "  isic_section                      isic_section_name  isic_division  \\\n",
       "0            A   A. Agriculture  forestry and fishing              1   \n",
       "1            A   A. Agriculture  forestry and fishing              1   \n",
       "2            A   A. Agriculture  forestry and fishing              1   \n",
       "3            A   A. Agriculture  forestry and fishing              3   \n",
       "4            B                B. Mining and quarrying              5   \n",
       "\n",
       "                                  isic_division_name  industry_sk  \\\n",
       "0  Crop and animal production, hunting and relate...           63   \n",
       "1  Crop and animal production, hunting and relate...           64   \n",
       "2  Crop and animal production, hunting and relate...           65   \n",
       "3                            Fishing and aquaculture           66   \n",
       "4                         Mining of coal and lignite           56   \n",
       "\n",
       "     industry_name  Industry_group_sk Industry_group_name  \n",
       "0          farming                  1         Agriculture  \n",
       "1         ranching                  1         Agriculture  \n",
       "2            dairy                  1         Agriculture  \n",
       "3          fishery                  1         Agriculture  \n",
       "4  mining & metals                 16   Energy and Mining  "
      ]
     },
     "execution_count": 86,
     "metadata": {},
     "output_type": "execute_result"
    }
   ],
   "source": [
    "linkedin.head(5)"
   ]
  },
  {
   "cell_type": "markdown",
   "metadata": {},
   "source": [
    "# showing the corelation"
   ]
  },
  {
   "cell_type": "code",
   "execution_count": 87,
   "metadata": {},
   "outputs": [
    {
     "data": {
      "text/plain": [
       "<AxesSubplot:>"
      ]
     },
     "execution_count": 87,
     "metadata": {},
     "output_type": "execute_result"
    },
    {
     "data": {
      "image/png": "[encoded data removed]",
      "text/plain": [
       "<Figure size 720x360 with 2 Axes>"
      ]
     },
     "metadata": {
      "needs_background": "light"
     },
     "output_type": "display_data"
    }
   ],
   "source": [
    "corr = linkedin.corr()\n",
    "plt.figure(figsize=(10,5))\n",
    "sns.heatmap(corr, annot = True, cmap=\"YlGnBu\")"
   ]
  },
  {
   "cell_type": "code",
   "execution_count": 88,
   "metadata": {},
   "outputs": [
    {
     "data": {
      "image/png": "[encoded data removed]",
      "text/plain": [
       "<Figure size 432x288 with 1 Axes>"
      ]
     },
     "metadata": {
      "needs_background": "light"
     },
     "output_type": "display_data"
    }
   ],
   "source": [
    "axis = sns.countplot(x=\"isic_section\", data=linkedin, palette=\"Set2\")"
   ]
  },
  {
   "cell_type": "code",
   "execution_count": 89,
   "metadata": {},
   "outputs": [
    {
     "data": {
      "text/plain": [
       "<AxesSubplot:>"
      ]
     },
     "execution_count": 89,
     "metadata": {},
     "output_type": "execute_result"
    },
    {
     "data": {
      "image/png": "[encoded data removed]",
      "text/plain": [
       "<Figure size 432x288 with 1 Axes>"
      ]
     },
     "metadata": {
      "needs_background": "light"
     },
     "output_type": "display_data"
    }
   ],
   "source": [
    "linkedin['isic_section_name'].value_counts().plot(kind='bar')"
   ]
  },
  {
   "cell_type": "markdown",
   "metadata": {},
   "source": [
    "Box plot visualization"
   ]
  },
  {
   "cell_type": "code",
   "execution_count": 90,
   "metadata": {},
   "outputs": [
    {
     "data": {
      "text/plain": [
       "<AxesSubplot:xlabel='Industry_group_name', ylabel='industry_sk'>"
      ]
     },
     "execution_count": 90,
     "metadata": {},
     "output_type": "execute_result"
    },
    {
     "data": {
      "image/png": "[encoded data removed]",
      "text/plain": [
       "<Figure size 1800x1080 with 1 Axes>"
      ]
     },
     "metadata": {
      "needs_background": "light"
     },
     "output_type": "display_data"
    }
   ],
   "source": [
    "plt.figure(figsize=(25, 15))\n",
    "sns.boxplot(x='Industry_group_name',y='industry_sk',data=linkedin,palette='summer')"
   ]
  },
  {
   "cell_type": "raw",
   "metadata": {},
   "source": [
    "numerical attributes visualization"
   ]
  },
  {
   "cell_type": "code",
   "execution_count": 91,
   "metadata": {},
   "outputs": [
    {
     "data": {
      "text/plain": [
       "<AxesSubplot:xlabel='industry_sk', ylabel='Density'>"
      ]
     },
     "execution_count": 91,
     "metadata": {},
     "output_type": "execute_result"
    },
    {
     "data": {
      "image/png": "[encoded data removed]",
      "text/plain": [
       "<Figure size 432x288 with 1 Axes>"
      ]
     },
     "metadata": {
      "needs_background": "light"
     },
     "output_type": "display_data"
    }
   ],
   "source": [
    "sns.distplot(linkedin[\"industry_sk\"])"
   ]
  },
  {
   "cell_type": "markdown",
   "metadata": {},
   "source": [
    "# Now, analysis Second Dataset Skill Penetration"
   ]
  },
  {
   "cell_type": "markdown",
   "metadata": {},
   "source": [
    "Check data set read successfull"
   ]
  },
  {
   "cell_type": "code",
   "execution_count": 92,
   "metadata": {},
   "outputs": [
    {
     "data": {
      "text/html": [
       "<div>\n",
       "<style scoped>\n",
       "    .dataframe tbody tr th:only-of-type {\n",
       "        vertical-align: middle;\n",
       "    }\n",
       "\n",
       "    .dataframe tbody tr th {\n",
       "        vertical-align: top;\n",
       "    }\n",
       "\n",
       "    .dataframe thead th {\n",
       "        text-align: right;\n",
       "    }\n",
       "</style>\n",
       "<table border=\"1\" class=\"dataframe\">\n",
       "  <thead>\n",
       "    <tr style=\"text-align: right;\">\n",
       "      <th></th>\n",
       "      <th>year</th>\n",
       "      <th>skill_group_category</th>\n",
       "      <th>skill_group_name</th>\n",
       "      <th>isic_section_index</th>\n",
       "      <th>isic_section_name</th>\n",
       "      <th>industry_name</th>\n",
       "      <th>skill_group_penetration_rate</th>\n",
       "    </tr>\n",
       "  </thead>\n",
       "  <tbody>\n",
       "    <tr>\n",
       "      <th>0</th>\n",
       "      <td>2015</td>\n",
       "      <td>Business Skills</td>\n",
       "      <td>Accounts Payable</td>\n",
       "      <td>M</td>\n",
       "      <td>Professional scientific and technical activities</td>\n",
       "      <td>Accounting</td>\n",
       "      <td>0.00719</td>\n",
       "    </tr>\n",
       "    <tr>\n",
       "      <th>1</th>\n",
       "      <td>2015</td>\n",
       "      <td>Business Skills</td>\n",
       "      <td>Accounts Payable</td>\n",
       "      <td>M</td>\n",
       "      <td>Professional scientific and technical activities</td>\n",
       "      <td>Law Practice</td>\n",
       "      <td>0.00244</td>\n",
       "    </tr>\n",
       "    <tr>\n",
       "      <th>2</th>\n",
       "      <td>2015</td>\n",
       "      <td>Business Skills</td>\n",
       "      <td>Accounts Payable</td>\n",
       "      <td>M</td>\n",
       "      <td>Professional scientific and technical activities</td>\n",
       "      <td>Executive Office</td>\n",
       "      <td>0.00222</td>\n",
       "    </tr>\n",
       "    <tr>\n",
       "      <th>3</th>\n",
       "      <td>2015</td>\n",
       "      <td>Business Skills</td>\n",
       "      <td>Accounts Payable</td>\n",
       "      <td>C</td>\n",
       "      <td>Manufacturing</td>\n",
       "      <td>Packaging &amp; Containers</td>\n",
       "      <td>0.00132</td>\n",
       "    </tr>\n",
       "    <tr>\n",
       "      <th>4</th>\n",
       "      <td>2015</td>\n",
       "      <td>Business Skills</td>\n",
       "      <td>Accounts Payable</td>\n",
       "      <td>B</td>\n",
       "      <td>Mining and quarrying</td>\n",
       "      <td>Oil &amp; Energy</td>\n",
       "      <td>0.00132</td>\n",
       "    </tr>\n",
       "  </tbody>\n",
       "</table>\n",
       "</div>"
      ],
      "text/plain": [
       "   year skill_group_category  skill_group_name isic_section_index  \\\n",
       "0  2015      Business Skills  Accounts Payable                  M   \n",
       "1  2015      Business Skills  Accounts Payable                  M   \n",
       "2  2015      Business Skills  Accounts Payable                  M   \n",
       "3  2015      Business Skills  Accounts Payable                  C   \n",
       "4  2015      Business Skills  Accounts Payable                  B   \n",
       "\n",
       "                                  isic_section_name           industry_name  \\\n",
       "0  Professional scientific and technical activities              Accounting   \n",
       "1  Professional scientific and technical activities            Law Practice   \n",
       "2  Professional scientific and technical activities        Executive Office   \n",
       "3                                     Manufacturing  Packaging & Containers   \n",
       "4                              Mining and quarrying            Oil & Energy   \n",
       "\n",
       "   skill_group_penetration_rate  \n",
       "0                       0.00719  \n",
       "1                       0.00244  \n",
       "2                       0.00222  \n",
       "3                       0.00132  \n",
       "4                       0.00132  "
      ]
     },
     "execution_count": 92,
     "metadata": {},
     "output_type": "execute_result"
    }
   ],
   "source": [
    "skill_pen.head()"
   ]
  },
  {
   "cell_type": "markdown",
   "metadata": {},
   "source": [
    "Check Null values"
   ]
  },
  {
   "cell_type": "code",
   "execution_count": 93,
   "metadata": {},
   "outputs": [
    {
     "data": {
      "text/plain": [
       "year                            0\n",
       "skill_group_category            0\n",
       "skill_group_name                0\n",
       "isic_section_index              0\n",
       "isic_section_name               0\n",
       "industry_name                   0\n",
       "skill_group_penetration_rate    0\n",
       "dtype: int64"
      ]
     },
     "execution_count": 93,
     "metadata": {},
     "output_type": "execute_result"
    }
   ],
   "source": [
    "skill_pen.isnull().sum()"
   ]
  },
  {
   "cell_type": "code",
   "execution_count": 94,
   "metadata": {},
   "outputs": [
    {
     "data": {
      "image/png": "[encoded data removed]",
      "text/plain": [
       "<Figure size 360x360 with 1 Axes>"
      ]
     },
     "metadata": {
      "needs_background": "light"
     },
     "output_type": "display_data"
    }
   ],
   "source": [
    "import matplotlib.pyplot as plt\n",
    "skill_pen.isic_section_name.value_counts(dropna=False).sort_index().plot(kind='bar',figsize=(5,5))\n",
    "plt.show()"
   ]
  },
  {
   "cell_type": "markdown",
   "metadata": {},
   "source": [
    "Attributes visualization"
   ]
  },
  {
   "cell_type": "code",
   "execution_count": 95,
   "metadata": {},
   "outputs": [
    {
     "data": {
      "text/plain": [
       "<AxesSubplot:xlabel='skill_group_penetration_rate', ylabel='Density'>"
      ]
     },
     "execution_count": 95,
     "metadata": {},
     "output_type": "execute_result"
    },
    {
     "data": {
      "image/png": "[encoded data removed]",
      "text/plain": [
       "<Figure size 432x288 with 1 Axes>"
      ]
     },
     "metadata": {
      "needs_background": "light"
     },
     "output_type": "display_data"
    }
   ],
   "source": [
    "sns.distplot(skill_pen[\"skill_group_penetration_rate\"])"
   ]
  },
  {
   "cell_type": "code",
   "execution_count": 96,
   "metadata": {},
   "outputs": [
    {
     "data": {
      "text/plain": [
       "<AxesSubplot:xlabel='industry_name', ylabel='count'>"
      ]
     },
     "execution_count": 96,
     "metadata": {},
     "output_type": "execute_result"
    },
    {
     "data": {
      "image/png": "[encoded data removed]",
      "text/plain": [
       "<Figure size 432x288 with 1 Axes>"
      ]
     },
     "metadata": {},
     "output_type": "display_data"
    }
   ],
   "source": [
    "sns.set_style('whitegrid')\n",
    "sns.countplot(x='industry_name',hue='year',data=skill_pen,palette='rainbow')"
   ]
  },
  {
   "cell_type": "markdown",
   "metadata": {},
   "source": [
    "# Now Analysis the third data set"
   ]
  },
  {
   "cell_type": "markdown",
   "metadata": {},
   "source": [
    "Check data set"
   ]
  },
  {
   "cell_type": "code",
   "execution_count": 97,
   "metadata": {},
   "outputs": [
    {
     "data": {
      "text/html": [
       "<div>\n",
       "<style scoped>\n",
       "    .dataframe tbody tr th:only-of-type {\n",
       "        vertical-align: middle;\n",
       "    }\n",
       "\n",
       "    .dataframe tbody tr th {\n",
       "        vertical-align: top;\n",
       "    }\n",
       "\n",
       "    .dataframe thead th {\n",
       "        text-align: right;\n",
       "    }\n",
       "</style>\n",
       "<table border=\"1\" class=\"dataframe\">\n",
       "  <thead>\n",
       "    <tr style=\"text-align: right;\">\n",
       "      <th></th>\n",
       "      <th>year</th>\n",
       "      <th>isic_section_index</th>\n",
       "      <th>isic_section_name</th>\n",
       "      <th>industry_name</th>\n",
       "      <th>skill_group_category</th>\n",
       "      <th>skill_group_name</th>\n",
       "      <th>skill_group_rank</th>\n",
       "    </tr>\n",
       "  </thead>\n",
       "  <tbody>\n",
       "    <tr>\n",
       "      <th>0</th>\n",
       "      <td>2015</td>\n",
       "      <td>B</td>\n",
       "      <td>Mining and quarrying</td>\n",
       "      <td>Mining &amp; Metals</td>\n",
       "      <td>Specialized Industry Skills</td>\n",
       "      <td>Mining</td>\n",
       "      <td>1</td>\n",
       "    </tr>\n",
       "    <tr>\n",
       "      <th>1</th>\n",
       "      <td>2015</td>\n",
       "      <td>B</td>\n",
       "      <td>Mining and quarrying</td>\n",
       "      <td>Mining &amp; Metals</td>\n",
       "      <td>Soft Skills</td>\n",
       "      <td>Negotiation</td>\n",
       "      <td>2</td>\n",
       "    </tr>\n",
       "    <tr>\n",
       "      <th>2</th>\n",
       "      <td>2015</td>\n",
       "      <td>B</td>\n",
       "      <td>Mining and quarrying</td>\n",
       "      <td>Mining &amp; Metals</td>\n",
       "      <td>Business Skills</td>\n",
       "      <td>Project Management</td>\n",
       "      <td>3</td>\n",
       "    </tr>\n",
       "    <tr>\n",
       "      <th>3</th>\n",
       "      <td>2015</td>\n",
       "      <td>B</td>\n",
       "      <td>Mining and quarrying</td>\n",
       "      <td>Mining &amp; Metals</td>\n",
       "      <td>Business Skills</td>\n",
       "      <td>Business Management</td>\n",
       "      <td>4</td>\n",
       "    </tr>\n",
       "    <tr>\n",
       "      <th>4</th>\n",
       "      <td>2015</td>\n",
       "      <td>B</td>\n",
       "      <td>Mining and quarrying</td>\n",
       "      <td>Mining &amp; Metals</td>\n",
       "      <td>Specialized Industry Skills</td>\n",
       "      <td>Earth Science</td>\n",
       "      <td>5</td>\n",
       "    </tr>\n",
       "  </tbody>\n",
       "</table>\n",
       "</div>"
      ],
      "text/plain": [
       "   year isic_section_index     isic_section_name    industry_name  \\\n",
       "0  2015                  B  Mining and quarrying  Mining & Metals   \n",
       "1  2015                  B  Mining and quarrying  Mining & Metals   \n",
       "2  2015                  B  Mining and quarrying  Mining & Metals   \n",
       "3  2015                  B  Mining and quarrying  Mining & Metals   \n",
       "4  2015                  B  Mining and quarrying  Mining & Metals   \n",
       "\n",
       "          skill_group_category     skill_group_name  skill_group_rank  \n",
       "0  Specialized Industry Skills               Mining                 1  \n",
       "1                  Soft Skills          Negotiation                 2  \n",
       "2              Business Skills   Project Management                 3  \n",
       "3              Business Skills  Business Management                 4  \n",
       "4  Specialized Industry Skills        Earth Science                 5  "
      ]
     },
     "execution_count": 97,
     "metadata": {},
     "output_type": "execute_result"
    }
   ],
   "source": [
    "industry_skill.head(5)"
   ]
  },
  {
   "cell_type": "markdown",
   "metadata": {},
   "source": [
    "Find the unique industry name"
   ]
  },
  {
   "cell_type": "code",
   "execution_count": 98,
   "metadata": {},
   "outputs": [
    {
     "data": {
      "text/plain": [
       "array(['Mining & Metals', 'Oil & Energy', 'Pharmaceuticals',\n",
       "       'Food Production', 'Aviation & Aerospace', 'Automotive',\n",
       "       'Chemicals', 'Machinery', 'Textiles', 'Paper & Forest Products',\n",
       "       'Printing', 'Electrical & Electronic Manufacturing', 'Plastics',\n",
       "       'Renewables & Environment', 'Packaging & Containers',\n",
       "       'Industrial Automation', 'Computer Hardware', 'Computer Software',\n",
       "       'Computer Networking', 'Internet', 'Semiconductors',\n",
       "       'Telecommunications', 'Motion Pictures & Film', 'Broadcast Media',\n",
       "       'Newspapers', 'Publishing', 'Information Technology & Services',\n",
       "       'Writing & Editing', 'Computer Games', 'Online Media',\n",
       "       'Computer & Network Security', 'Media Production', 'Banking',\n",
       "       'Insurance', 'Financial Services', 'Investment Banking',\n",
       "       'Investment Management', 'Venture Capital & Private Equity',\n",
       "       'Law Practice', 'Legal Services', 'Management Consulting',\n",
       "       'Biotechnology', 'Veterinary', 'Accounting',\n",
       "       'Architecture & Planning', 'Research', 'Executive Office',\n",
       "       'Marketing & Advertising', 'Information Services',\n",
       "       'Environmental Services', 'Market Research',\n",
       "       'Public Relations & Communications', 'Design',\n",
       "       'Professional Training & Coaching', 'Translation & Localization',\n",
       "       'Events Services', 'Outsourcing/Offshoring',\n",
       "       'Mechanical Or Industrial Engineering', 'Photography',\n",
       "       'Graphic Design', 'Entertainment', 'Gambling & Casinos', 'Sports',\n",
       "       'Museums & Institutions', 'Fine Art', 'Performing Arts',\n",
       "       'Arts & Crafts', 'Music', 'Health, Wellness & Fitness',\n",
       "       'Animation'], dtype=object)"
      ]
     },
     "execution_count": 98,
     "metadata": {},
     "output_type": "execute_result"
    }
   ],
   "source": [
    "industry_skill['industry_name'].unique()"
   ]
  },
  {
   "cell_type": "code",
   "execution_count": 99,
   "metadata": {},
   "outputs": [
    {
     "data": {
      "text/html": [
       "<div>\n",
       "<style scoped>\n",
       "    .dataframe tbody tr th:only-of-type {\n",
       "        vertical-align: middle;\n",
       "    }\n",
       "\n",
       "    .dataframe tbody tr th {\n",
       "        vertical-align: top;\n",
       "    }\n",
       "\n",
       "    .dataframe thead th {\n",
       "        text-align: right;\n",
       "    }\n",
       "</style>\n",
       "<table border=\"1\" class=\"dataframe\">\n",
       "  <thead>\n",
       "    <tr style=\"text-align: right;\">\n",
       "      <th></th>\n",
       "      <th>count</th>\n",
       "      <th>mean</th>\n",
       "      <th>std</th>\n",
       "      <th>min</th>\n",
       "      <th>25%</th>\n",
       "      <th>50%</th>\n",
       "      <th>75%</th>\n",
       "      <th>max</th>\n",
       "    </tr>\n",
       "  </thead>\n",
       "  <tbody>\n",
       "    <tr>\n",
       "      <th>year</th>\n",
       "      <td>3500.0</td>\n",
       "      <td>2017.0</td>\n",
       "      <td>1.414416</td>\n",
       "      <td>2015.0</td>\n",
       "      <td>2016.0</td>\n",
       "      <td>2017.0</td>\n",
       "      <td>2018.0</td>\n",
       "      <td>2019.0</td>\n",
       "    </tr>\n",
       "    <tr>\n",
       "      <th>skill_group_rank</th>\n",
       "      <td>3500.0</td>\n",
       "      <td>5.5</td>\n",
       "      <td>2.872692</td>\n",
       "      <td>1.0</td>\n",
       "      <td>3.0</td>\n",
       "      <td>5.5</td>\n",
       "      <td>8.0</td>\n",
       "      <td>10.0</td>\n",
       "    </tr>\n",
       "  </tbody>\n",
       "</table>\n",
       "</div>"
      ],
      "text/plain": [
       "                   count    mean       std     min     25%     50%     75%  \\\n",
       "year              3500.0  2017.0  1.414416  2015.0  2016.0  2017.0  2018.0   \n",
       "skill_group_rank  3500.0     5.5  2.872692     1.0     3.0     5.5     8.0   \n",
       "\n",
       "                     max  \n",
       "year              2019.0  \n",
       "skill_group_rank    10.0  "
      ]
     },
     "execution_count": 99,
     "metadata": {},
     "output_type": "execute_result"
    }
   ],
   "source": [
    "industry_skill.describe().transpose()"
   ]
  },
  {
   "cell_type": "markdown",
   "metadata": {},
   "source": [
    "The connection Between Section And year"
   ]
  },
  {
   "cell_type": "code",
   "execution_count": 100,
   "metadata": {},
   "outputs": [
    {
     "data": {
      "text/plain": [
       "<AxesSubplot:xlabel='year', ylabel='count'>"
      ]
     },
     "execution_count": 100,
     "metadata": {},
     "output_type": "execute_result"
    },
    {
     "data": {
      "image/png": "[encoded data removed]",
      "text/plain": [
       "<Figure size 432x288 with 1 Axes>"
      ]
     },
     "metadata": {},
     "output_type": "display_data"
    }
   ],
   "source": [
    "sns.set_style('whitegrid')\n",
    "sns.countplot(x='year',hue='skill_group_category',data=industry_skill,palette='rainbow')"
   ]
  },
  {
   "cell_type": "markdown",
   "metadata": {},
   "source": [
    "# Fourth dataset Talent Migration data set"
   ]
  },
  {
   "cell_type": "code",
   "execution_count": 101,
   "metadata": {},
   "outputs": [
    {
     "data": {
      "text/html": [
       "<div>\n",
       "<style scoped>\n",
       "    .dataframe tbody tr th:only-of-type {\n",
       "        vertical-align: middle;\n",
       "    }\n",
       "\n",
       "    .dataframe tbody tr th {\n",
       "        vertical-align: top;\n",
       "    }\n",
       "\n",
       "    .dataframe thead th {\n",
       "        text-align: right;\n",
       "    }\n",
       "</style>\n",
       "<table border=\"1\" class=\"dataframe\">\n",
       "  <thead>\n",
       "    <tr style=\"text-align: right;\">\n",
       "      <th></th>\n",
       "      <th>country_code</th>\n",
       "      <th>country_name</th>\n",
       "      <th>wb_income</th>\n",
       "      <th>wb_region</th>\n",
       "      <th>skill_group_id</th>\n",
       "      <th>skill_group_category</th>\n",
       "      <th>skill_group_name</th>\n",
       "      <th>net_per_10K_2015</th>\n",
       "      <th>net_per_10K_2016</th>\n",
       "      <th>net_per_10K_2017</th>\n",
       "      <th>net_per_10K_2018</th>\n",
       "      <th>net_per_10K_2019</th>\n",
       "    </tr>\n",
       "  </thead>\n",
       "  <tbody>\n",
       "    <tr>\n",
       "      <th>0</th>\n",
       "      <td>af</td>\n",
       "      <td>Afghanistan</td>\n",
       "      <td>Low income</td>\n",
       "      <td>South Asia</td>\n",
       "      <td>2549</td>\n",
       "      <td>Tech Skills</td>\n",
       "      <td>Information Management</td>\n",
       "      <td>-791.59</td>\n",
       "      <td>-705.88</td>\n",
       "      <td>-550.04</td>\n",
       "      <td>-680.92</td>\n",
       "      <td>-1208.79</td>\n",
       "    </tr>\n",
       "    <tr>\n",
       "      <th>1</th>\n",
       "      <td>af</td>\n",
       "      <td>Afghanistan</td>\n",
       "      <td>Low income</td>\n",
       "      <td>South Asia</td>\n",
       "      <td>2608</td>\n",
       "      <td>Business Skills</td>\n",
       "      <td>Operational Efficiency</td>\n",
       "      <td>-1610.25</td>\n",
       "      <td>-933.55</td>\n",
       "      <td>-776.06</td>\n",
       "      <td>-532.22</td>\n",
       "      <td>-790.09</td>\n",
       "    </tr>\n",
       "    <tr>\n",
       "      <th>2</th>\n",
       "      <td>af</td>\n",
       "      <td>Afghanistan</td>\n",
       "      <td>Low income</td>\n",
       "      <td>South Asia</td>\n",
       "      <td>3806</td>\n",
       "      <td>Specialized Industry Skills</td>\n",
       "      <td>National Security</td>\n",
       "      <td>-1731.45</td>\n",
       "      <td>-769.68</td>\n",
       "      <td>-756.59</td>\n",
       "      <td>-600.44</td>\n",
       "      <td>-767.64</td>\n",
       "    </tr>\n",
       "    <tr>\n",
       "      <th>3</th>\n",
       "      <td>af</td>\n",
       "      <td>Afghanistan</td>\n",
       "      <td>Low income</td>\n",
       "      <td>South Asia</td>\n",
       "      <td>50321</td>\n",
       "      <td>Tech Skills</td>\n",
       "      <td>Software Testing</td>\n",
       "      <td>-957.50</td>\n",
       "      <td>-828.54</td>\n",
       "      <td>-964.73</td>\n",
       "      <td>-406.50</td>\n",
       "      <td>-739.51</td>\n",
       "    </tr>\n",
       "    <tr>\n",
       "      <th>4</th>\n",
       "      <td>af</td>\n",
       "      <td>Afghanistan</td>\n",
       "      <td>Low income</td>\n",
       "      <td>South Asia</td>\n",
       "      <td>1606</td>\n",
       "      <td>Specialized Industry Skills</td>\n",
       "      <td>Navy</td>\n",
       "      <td>-1510.71</td>\n",
       "      <td>-841.17</td>\n",
       "      <td>-842.32</td>\n",
       "      <td>-581.71</td>\n",
       "      <td>-718.64</td>\n",
       "    </tr>\n",
       "  </tbody>\n",
       "</table>\n",
       "</div>"
      ],
      "text/plain": [
       "  country_code country_name   wb_income   wb_region  skill_group_id  \\\n",
       "0           af  Afghanistan  Low income  South Asia            2549   \n",
       "1           af  Afghanistan  Low income  South Asia            2608   \n",
       "2           af  Afghanistan  Low income  South Asia            3806   \n",
       "3           af  Afghanistan  Low income  South Asia           50321   \n",
       "4           af  Afghanistan  Low income  South Asia            1606   \n",
       "\n",
       "          skill_group_category        skill_group_name  net_per_10K_2015  \\\n",
       "0                  Tech Skills  Information Management           -791.59   \n",
       "1              Business Skills  Operational Efficiency          -1610.25   \n",
       "2  Specialized Industry Skills       National Security          -1731.45   \n",
       "3                  Tech Skills        Software Testing           -957.50   \n",
       "4  Specialized Industry Skills                    Navy          -1510.71   \n",
       "\n",
       "   net_per_10K_2016  net_per_10K_2017  net_per_10K_2018  net_per_10K_2019  \n",
       "0           -705.88           -550.04           -680.92          -1208.79  \n",
       "1           -933.55           -776.06           -532.22           -790.09  \n",
       "2           -769.68           -756.59           -600.44           -767.64  \n",
       "3           -828.54           -964.73           -406.50           -739.51  \n",
       "4           -841.17           -842.32           -581.71           -718.64  "
      ]
     },
     "execution_count": 101,
     "metadata": {},
     "output_type": "execute_result"
    }
   ],
   "source": [
    "skill_migration.head(5)"
   ]
  },
  {
   "cell_type": "code",
   "execution_count": 102,
   "metadata": {},
   "outputs": [
    {
     "data": {
      "text/html": [
       "<div>\n",
       "<style scoped>\n",
       "    .dataframe tbody tr th:only-of-type {\n",
       "        vertical-align: middle;\n",
       "    }\n",
       "\n",
       "    .dataframe tbody tr th {\n",
       "        vertical-align: top;\n",
       "    }\n",
       "\n",
       "    .dataframe thead th {\n",
       "        text-align: right;\n",
       "    }\n",
       "</style>\n",
       "<table border=\"1\" class=\"dataframe\">\n",
       "  <thead>\n",
       "    <tr style=\"text-align: right;\">\n",
       "      <th></th>\n",
       "      <th>count</th>\n",
       "      <th>mean</th>\n",
       "      <th>std</th>\n",
       "      <th>min</th>\n",
       "      <th>25%</th>\n",
       "      <th>50%</th>\n",
       "      <th>75%</th>\n",
       "      <th>max</th>\n",
       "    </tr>\n",
       "  </thead>\n",
       "  <tbody>\n",
       "    <tr>\n",
       "      <th>skill_group_id</th>\n",
       "      <td>17617.0</td>\n",
       "      <td>6768.889368</td>\n",
       "      <td>11609.744113</td>\n",
       "      <td>44.00</td>\n",
       "      <td>618.00</td>\n",
       "      <td>2091.00</td>\n",
       "      <td>6189.00</td>\n",
       "      <td>50415.00</td>\n",
       "    </tr>\n",
       "    <tr>\n",
       "      <th>net_per_10K_2015</th>\n",
       "      <td>17617.0</td>\n",
       "      <td>-14.600256</td>\n",
       "      <td>255.690007</td>\n",
       "      <td>-3037.38</td>\n",
       "      <td>-106.16</td>\n",
       "      <td>-11.50</td>\n",
       "      <td>72.12</td>\n",
       "      <td>2824.97</td>\n",
       "    </tr>\n",
       "    <tr>\n",
       "      <th>net_per_10K_2016</th>\n",
       "      <td>17617.0</td>\n",
       "      <td>-39.200810</td>\n",
       "      <td>252.333770</td>\n",
       "      <td>-2435.26</td>\n",
       "      <td>-119.24</td>\n",
       "      <td>-27.04</td>\n",
       "      <td>58.85</td>\n",
       "      <td>1796.89</td>\n",
       "    </tr>\n",
       "    <tr>\n",
       "      <th>net_per_10K_2017</th>\n",
       "      <td>17617.0</td>\n",
       "      <td>-54.772238</td>\n",
       "      <td>256.931197</td>\n",
       "      <td>-6604.67</td>\n",
       "      <td>-121.46</td>\n",
       "      <td>-31.81</td>\n",
       "      <td>47.48</td>\n",
       "      <td>1906.14</td>\n",
       "    </tr>\n",
       "    <tr>\n",
       "      <th>net_per_10K_2018</th>\n",
       "      <td>17617.0</td>\n",
       "      <td>-36.081342</td>\n",
       "      <td>265.209723</td>\n",
       "      <td>-3629.02</td>\n",
       "      <td>-111.44</td>\n",
       "      <td>-15.17</td>\n",
       "      <td>65.94</td>\n",
       "      <td>1515.79</td>\n",
       "    </tr>\n",
       "    <tr>\n",
       "      <th>net_per_10K_2019</th>\n",
       "      <td>17617.0</td>\n",
       "      <td>-34.782431</td>\n",
       "      <td>239.798934</td>\n",
       "      <td>-4022.04</td>\n",
       "      <td>-111.74</td>\n",
       "      <td>-17.43</td>\n",
       "      <td>65.92</td>\n",
       "      <td>1901.99</td>\n",
       "    </tr>\n",
       "  </tbody>\n",
       "</table>\n",
       "</div>"
      ],
      "text/plain": [
       "                    count         mean           std      min     25%  \\\n",
       "skill_group_id    17617.0  6768.889368  11609.744113    44.00  618.00   \n",
       "net_per_10K_2015  17617.0   -14.600256    255.690007 -3037.38 -106.16   \n",
       "net_per_10K_2016  17617.0   -39.200810    252.333770 -2435.26 -119.24   \n",
       "net_per_10K_2017  17617.0   -54.772238    256.931197 -6604.67 -121.46   \n",
       "net_per_10K_2018  17617.0   -36.081342    265.209723 -3629.02 -111.44   \n",
       "net_per_10K_2019  17617.0   -34.782431    239.798934 -4022.04 -111.74   \n",
       "\n",
       "                      50%      75%       max  \n",
       "skill_group_id    2091.00  6189.00  50415.00  \n",
       "net_per_10K_2015   -11.50    72.12   2824.97  \n",
       "net_per_10K_2016   -27.04    58.85   1796.89  \n",
       "net_per_10K_2017   -31.81    47.48   1906.14  \n",
       "net_per_10K_2018   -15.17    65.94   1515.79  \n",
       "net_per_10K_2019   -17.43    65.92   1901.99  "
      ]
     },
     "execution_count": 102,
     "metadata": {},
     "output_type": "execute_result"
    }
   ],
   "source": [
    "skill_migration.describe().transpose()"
   ]
  },
  {
   "cell_type": "code",
   "execution_count": 103,
   "metadata": {},
   "outputs": [
    {
     "data": {
      "text/plain": [
       "<AxesSubplot:ylabel='Information Management'>"
      ]
     },
     "execution_count": 103,
     "metadata": {},
     "output_type": "execute_result"
    },
    {
     "data": {
      "image/png": "[encoded data removed]",
      "text/plain": [
       "<Figure size 432x288 with 1 Axes>"
      ]
     },
     "metadata": {},
     "output_type": "display_data"
    }
   ],
   "source": [
    "skill_migration[skill_migration['skill_group_name']=='Information Management']['wb_income'].value_counts().plot(kind='bar',ylabel='Information Management')"
   ]
  },
  {
   "cell_type": "code",
   "execution_count": 104,
   "metadata": {},
   "outputs": [
    {
     "data": {
      "image/png": "[encoded data removed]",
      "text/plain": [
       "<Figure size 360x360 with 1 Axes>"
      ]
     },
     "metadata": {},
     "output_type": "display_data"
    }
   ],
   "source": [
    "import matplotlib.pyplot as plt\n",
    "skill_migration.skill_group_category.value_counts(dropna=False).sort_index().plot(kind='bar',figsize=(5,5))\n",
    "plt.show()"
   ]
  },
  {
   "cell_type": "code",
   "execution_count": 105,
   "metadata": {},
   "outputs": [
    {
     "data": {
      "text/plain": [
       "<AxesSubplot:ylabel='low income'>"
      ]
     },
     "execution_count": 105,
     "metadata": {},
     "output_type": "execute_result"
    },
    {
     "data": {
      "image/png": "[encoded data removed]",
      "text/plain": [
       "<Figure size 432x288 with 1 Axes>"
      ]
     },
     "metadata": {},
     "output_type": "display_data"
    }
   ],
   "source": [
    "skill_migration[skill_migration['wb_income']=='Low income']['country_name'].value_counts().plot(kind='bar',ylabel='low income')"
   ]
  },
  {
   "cell_type": "markdown",
   "metadata": {},
   "source": [
    "# Now fifth dataset Growth from Industry Transition"
   ]
  },
  {
   "cell_type": "code",
   "execution_count": 106,
   "metadata": {},
   "outputs": [
    {
     "data": {
      "text/html": [
       "<div>\n",
       "<style scoped>\n",
       "    .dataframe tbody tr th:only-of-type {\n",
       "        vertical-align: middle;\n",
       "    }\n",
       "\n",
       "    .dataframe tbody tr th {\n",
       "        vertical-align: top;\n",
       "    }\n",
       "\n",
       "    .dataframe thead th {\n",
       "        text-align: right;\n",
       "    }\n",
       "</style>\n",
       "<table border=\"1\" class=\"dataframe\">\n",
       "  <thead>\n",
       "    <tr style=\"text-align: right;\">\n",
       "      <th></th>\n",
       "      <th>country_code</th>\n",
       "      <th>country_name</th>\n",
       "      <th>wb_region</th>\n",
       "      <th>wb_income</th>\n",
       "      <th>isic_section_index</th>\n",
       "      <th>isic_section_name</th>\n",
       "      <th>industry_id</th>\n",
       "      <th>industry_name</th>\n",
       "      <th>growth_rate_2015</th>\n",
       "      <th>growth_rate_2016</th>\n",
       "      <th>growth_rate_2017</th>\n",
       "      <th>growth_rate_2018</th>\n",
       "      <th>growth_rate_2019</th>\n",
       "    </tr>\n",
       "  </thead>\n",
       "  <tbody>\n",
       "    <tr>\n",
       "      <th>0</th>\n",
       "      <td>ae</td>\n",
       "      <td>United Arab Emirates</td>\n",
       "      <td>Middle East &amp; North Africa</td>\n",
       "      <td>High income</td>\n",
       "      <td>B</td>\n",
       "      <td>Mining and quarrying</td>\n",
       "      <td>56</td>\n",
       "      <td>Mining &amp; Metals</td>\n",
       "      <td>0.078000</td>\n",
       "      <td>0.058550</td>\n",
       "      <td>0.043402</td>\n",
       "      <td>0.010048</td>\n",
       "      <td>-0.000621</td>\n",
       "    </tr>\n",
       "    <tr>\n",
       "      <th>1</th>\n",
       "      <td>ae</td>\n",
       "      <td>United Arab Emirates</td>\n",
       "      <td>Middle East &amp; North Africa</td>\n",
       "      <td>High income</td>\n",
       "      <td>B</td>\n",
       "      <td>Mining and quarrying</td>\n",
       "      <td>57</td>\n",
       "      <td>Oil &amp; Energy</td>\n",
       "      <td>0.033015</td>\n",
       "      <td>0.013479</td>\n",
       "      <td>0.017459</td>\n",
       "      <td>0.018514</td>\n",
       "      <td>0.022606</td>\n",
       "    </tr>\n",
       "    <tr>\n",
       "      <th>2</th>\n",
       "      <td>ae</td>\n",
       "      <td>United Arab Emirates</td>\n",
       "      <td>Middle East &amp; North Africa</td>\n",
       "      <td>High income</td>\n",
       "      <td>C</td>\n",
       "      <td>Manufacturing</td>\n",
       "      <td>15</td>\n",
       "      <td>Pharmaceuticals</td>\n",
       "      <td>0.171367</td>\n",
       "      <td>0.136986</td>\n",
       "      <td>0.090631</td>\n",
       "      <td>0.048148</td>\n",
       "      <td>0.028423</td>\n",
       "    </tr>\n",
       "    <tr>\n",
       "      <th>3</th>\n",
       "      <td>ae</td>\n",
       "      <td>United Arab Emirates</td>\n",
       "      <td>Middle East &amp; North Africa</td>\n",
       "      <td>High income</td>\n",
       "      <td>C</td>\n",
       "      <td>Manufacturing</td>\n",
       "      <td>23</td>\n",
       "      <td>Food Production</td>\n",
       "      <td>0.063351</td>\n",
       "      <td>0.038647</td>\n",
       "      <td>0.022137</td>\n",
       "      <td>0.005990</td>\n",
       "      <td>0.004317</td>\n",
       "    </tr>\n",
       "    <tr>\n",
       "      <th>4</th>\n",
       "      <td>ae</td>\n",
       "      <td>United Arab Emirates</td>\n",
       "      <td>Middle East &amp; North Africa</td>\n",
       "      <td>High income</td>\n",
       "      <td>C</td>\n",
       "      <td>Manufacturing</td>\n",
       "      <td>52</td>\n",
       "      <td>Aviation &amp; Aerospace</td>\n",
       "      <td>0.096607</td>\n",
       "      <td>0.056744</td>\n",
       "      <td>0.028673</td>\n",
       "      <td>0.015048</td>\n",
       "      <td>0.000816</td>\n",
       "    </tr>\n",
       "  </tbody>\n",
       "</table>\n",
       "</div>"
      ],
      "text/plain": [
       "  country_code          country_name                   wb_region    wb_income  \\\n",
       "0           ae  United Arab Emirates  Middle East & North Africa  High income   \n",
       "1           ae  United Arab Emirates  Middle East & North Africa  High income   \n",
       "2           ae  United Arab Emirates  Middle East & North Africa  High income   \n",
       "3           ae  United Arab Emirates  Middle East & North Africa  High income   \n",
       "4           ae  United Arab Emirates  Middle East & North Africa  High income   \n",
       "\n",
       "  isic_section_index     isic_section_name  industry_id         industry_name  \\\n",
       "0                  B  Mining and quarrying           56       Mining & Metals   \n",
       "1                  B  Mining and quarrying           57          Oil & Energy   \n",
       "2                  C         Manufacturing           15       Pharmaceuticals   \n",
       "3                  C         Manufacturing           23       Food Production   \n",
       "4                  C         Manufacturing           52  Aviation & Aerospace   \n",
       "\n",
       "   growth_rate_2015  growth_rate_2016  growth_rate_2017  growth_rate_2018  \\\n",
       "0          0.078000          0.058550          0.043402          0.010048   \n",
       "1          0.033015          0.013479          0.017459          0.018514   \n",
       "2          0.171367          0.136986          0.090631          0.048148   \n",
       "3          0.063351          0.038647          0.022137          0.005990   \n",
       "4          0.096607          0.056744          0.028673          0.015048   \n",
       "\n",
       "   growth_rate_2019  \n",
       "0         -0.000621  \n",
       "1          0.022606  \n",
       "2          0.028423  \n",
       "3          0.004317  \n",
       "4          0.000816  "
      ]
     },
     "execution_count": 106,
     "metadata": {},
     "output_type": "execute_result"
    }
   ],
   "source": [
    "growth_idust.head(5)"
   ]
  },
  {
   "cell_type": "code",
   "execution_count": 107,
   "metadata": {},
   "outputs": [
    {
     "data": {
      "text/html": [
       "<div>\n",
       "<style scoped>\n",
       "    .dataframe tbody tr th:only-of-type {\n",
       "        vertical-align: middle;\n",
       "    }\n",
       "\n",
       "    .dataframe tbody tr th {\n",
       "        vertical-align: top;\n",
       "    }\n",
       "\n",
       "    .dataframe thead th {\n",
       "        text-align: right;\n",
       "    }\n",
       "</style>\n",
       "<table border=\"1\" class=\"dataframe\">\n",
       "  <thead>\n",
       "    <tr style=\"text-align: right;\">\n",
       "      <th></th>\n",
       "      <th>count</th>\n",
       "      <th>mean</th>\n",
       "      <th>std</th>\n",
       "      <th>min</th>\n",
       "      <th>25%</th>\n",
       "      <th>50%</th>\n",
       "      <th>75%</th>\n",
       "      <th>max</th>\n",
       "    </tr>\n",
       "  </thead>\n",
       "  <tbody>\n",
       "    <tr>\n",
       "      <th>industry_id</th>\n",
       "      <td>7335.0</td>\n",
       "      <td>70.444853</td>\n",
       "      <td>43.195772</td>\n",
       "      <td>3.000000</td>\n",
       "      <td>37.000000</td>\n",
       "      <td>61.000000</td>\n",
       "      <td>110.000000</td>\n",
       "      <td>147.000000</td>\n",
       "    </tr>\n",
       "    <tr>\n",
       "      <th>growth_rate_2015</th>\n",
       "      <td>7335.0</td>\n",
       "      <td>0.000465</td>\n",
       "      <td>0.057863</td>\n",
       "      <td>-0.372654</td>\n",
       "      <td>-0.026549</td>\n",
       "      <td>-0.001190</td>\n",
       "      <td>0.023056</td>\n",
       "      <td>1.084507</td>\n",
       "    </tr>\n",
       "    <tr>\n",
       "      <th>growth_rate_2016</th>\n",
       "      <td>7335.0</td>\n",
       "      <td>0.001303</td>\n",
       "      <td>0.051965</td>\n",
       "      <td>-0.310484</td>\n",
       "      <td>-0.023920</td>\n",
       "      <td>-0.001036</td>\n",
       "      <td>0.021858</td>\n",
       "      <td>0.760417</td>\n",
       "    </tr>\n",
       "    <tr>\n",
       "      <th>growth_rate_2017</th>\n",
       "      <td>7335.0</td>\n",
       "      <td>0.000662</td>\n",
       "      <td>0.044719</td>\n",
       "      <td>-0.603328</td>\n",
       "      <td>-0.020628</td>\n",
       "      <td>0.000000</td>\n",
       "      <td>0.018868</td>\n",
       "      <td>0.459854</td>\n",
       "    </tr>\n",
       "    <tr>\n",
       "      <th>growth_rate_2018</th>\n",
       "      <td>7335.0</td>\n",
       "      <td>0.000499</td>\n",
       "      <td>0.036628</td>\n",
       "      <td>-0.186667</td>\n",
       "      <td>-0.017104</td>\n",
       "      <td>0.000000</td>\n",
       "      <td>0.015649</td>\n",
       "      <td>0.317073</td>\n",
       "    </tr>\n",
       "    <tr>\n",
       "      <th>growth_rate_2019</th>\n",
       "      <td>7335.0</td>\n",
       "      <td>0.000330</td>\n",
       "      <td>0.027025</td>\n",
       "      <td>-0.164179</td>\n",
       "      <td>-0.012658</td>\n",
       "      <td>-0.000468</td>\n",
       "      <td>0.011299</td>\n",
       "      <td>0.345154</td>\n",
       "    </tr>\n",
       "  </tbody>\n",
       "</table>\n",
       "</div>"
      ],
      "text/plain": [
       "                   count       mean        std       min        25%  \\\n",
       "industry_id       7335.0  70.444853  43.195772  3.000000  37.000000   \n",
       "growth_rate_2015  7335.0   0.000465   0.057863 -0.372654  -0.026549   \n",
       "growth_rate_2016  7335.0   0.001303   0.051965 -0.310484  -0.023920   \n",
       "growth_rate_2017  7335.0   0.000662   0.044719 -0.603328  -0.020628   \n",
       "growth_rate_2018  7335.0   0.000499   0.036628 -0.186667  -0.017104   \n",
       "growth_rate_2019  7335.0   0.000330   0.027025 -0.164179  -0.012658   \n",
       "\n",
       "                        50%         75%         max  \n",
       "industry_id       61.000000  110.000000  147.000000  \n",
       "growth_rate_2015  -0.001190    0.023056    1.084507  \n",
       "growth_rate_2016  -0.001036    0.021858    0.760417  \n",
       "growth_rate_2017   0.000000    0.018868    0.459854  \n",
       "growth_rate_2018   0.000000    0.015649    0.317073  \n",
       "growth_rate_2019  -0.000468    0.011299    0.345154  "
      ]
     },
     "execution_count": 107,
     "metadata": {},
     "output_type": "execute_result"
    }
   ],
   "source": [
    "growth_idust.describe().transpose()"
   ]
  },
  {
   "cell_type": "code",
   "execution_count": 108,
   "metadata": {},
   "outputs": [
    {
     "data": {
      "text/plain": [
       "array(['High income', 'Low income', 'Upper middle income',\n",
       "       'Lower middle income'], dtype=object)"
      ]
     },
     "execution_count": 108,
     "metadata": {},
     "output_type": "execute_result"
    }
   ],
   "source": [
    "growth_idust['wb_income'].unique()"
   ]
  },
  {
   "cell_type": "code",
   "execution_count": 109,
   "metadata": {},
   "outputs": [
    {
     "data": {
      "text/plain": [
       "country_code          0\n",
       "country_name          0\n",
       "wb_region             0\n",
       "wb_income             0\n",
       "isic_section_index    0\n",
       "isic_section_name     0\n",
       "industry_id           0\n",
       "industry_name         0\n",
       "growth_rate_2015      0\n",
       "growth_rate_2016      0\n",
       "growth_rate_2017      0\n",
       "growth_rate_2018      0\n",
       "growth_rate_2019      0\n",
       "dtype: int64"
      ]
     },
     "execution_count": 109,
     "metadata": {},
     "output_type": "execute_result"
    }
   ],
   "source": [
    "growth_idust.isnull().sum()"
   ]
  },
  {
   "cell_type": "markdown",
   "metadata": {},
   "source": [
    "Find the unique region"
   ]
  },
  {
   "cell_type": "code",
   "execution_count": 110,
   "metadata": {},
   "outputs": [
    {
     "data": {
      "text/plain": [
       "array(['Middle East & North Africa', 'South Asia',\n",
       "       'Europe & Central Asia', 'Sub-Saharan Africa ',\n",
       "       'Latin America & Caribbean ', 'East Asia & Pacific',\n",
       "       'North America'], dtype=object)"
      ]
     },
     "execution_count": 110,
     "metadata": {},
     "output_type": "execute_result"
    }
   ],
   "source": [
    "growth_idust['wb_region'].unique()"
   ]
  },
  {
   "cell_type": "markdown",
   "metadata": {},
   "source": [
    "Finding the corelation"
   ]
  },
  {
   "cell_type": "code",
   "execution_count": 111,
   "metadata": {},
   "outputs": [
    {
     "data": {
      "text/plain": [
       "<AxesSubplot:>"
      ]
     },
     "execution_count": 111,
     "metadata": {},
     "output_type": "execute_result"
    },
    {
     "data": {
      "image/png": "[encoded data removed]",
      "text/plain": [
       "<Figure size 720x720 with 2 Axes>"
      ]
     },
     "metadata": {},
     "output_type": "display_data"
    }
   ],
   "source": [
    "corr = growth_idust.corr()\n",
    "plt.figure(figsize=(10,10))\n",
    "sns.heatmap(corr, annot = True, cmap=\"YlGnBu\")"
   ]
  },
  {
   "cell_type": "code",
   "execution_count": 112,
   "metadata": {},
   "outputs": [
    {
     "data": {
      "image/png": "[encoded data removed]",
      "text/plain": [
       "<Figure size 432x288 with 1 Axes>"
      ]
     },
     "metadata": {},
     "output_type": "display_data"
    }
   ],
   "source": [
    "axis = sns.countplot(x=\"wb_income\", data=growth_idust, palette=\"Set1\")"
   ]
  },
  {
   "cell_type": "code",
   "execution_count": 113,
   "metadata": {},
   "outputs": [
    {
     "data": {
      "text/plain": [
       "<AxesSubplot:ylabel='low income'>"
      ]
     },
     "execution_count": 113,
     "metadata": {},
     "output_type": "execute_result"
    },
    {
     "data": {
      "image/png": "[encoded data removed]",
      "text/plain": [
       "<Figure size 432x288 with 1 Axes>"
      ]
     },
     "metadata": {},
     "output_type": "display_data"
    }
   ],
   "source": [
    "growth_idust[growth_idust['wb_income']=='Low income']['country_name'].value_counts().plot(kind='bar',ylabel='low income')"
   ]
  },
  {
   "cell_type": "markdown",
   "metadata": {},
   "source": [
    "# finish"
   ]
  }
 ],
 "metadata": {
  "kernelspec": {
   "display_name": "Python 3",
   "language": "python",
   "name": "python3"
  },
  "language_info": {
   "codemirror_mode": {
    "name": "ipython",
    "version": 3
   },
   "file_extension": ".py",
   "mimetype": "text/x-python",
   "name": "python",
   "nbconvert_exporter": "python",
   "pygments_lexer": "ipython3",
   "version": "3.8.5"
  }
 },
 "nbformat": 4,
 "nbformat_minor": 4
}
