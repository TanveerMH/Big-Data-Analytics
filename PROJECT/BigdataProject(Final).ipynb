{
  "nbformat": 4,
  "nbformat_minor": 0,
  "metadata": {
    "colab": {
      "name": "BigdataProject(Final).ipynb",
      "provenance": [],
      "collapsed_sections": []
    },
    "kernelspec": {
      "name": "python3",
      "display_name": "Python 3"
    },
    "language_info": {
      "name": "python"
    }
  },
  "cells": [
    {
      "cell_type": "markdown",
      "metadata": {
        "id": "qk1SNG1HeqDd"
      },
      "source": [
        "**Bigdata Analytics  |  CSC 3303  |  Sec: 1  |  Group Project**"
      ]
    },
    {
      "cell_type": "markdown",
      "metadata": {
        "id": "wRnsUJWle-5m"
      },
      "source": [
        "**Authors:**"
      ]
    },
    {
      "cell_type": "markdown",
      "metadata": {
        "id": "lfkfjrDHfFJZ"
      },
      "source": [
        "\n",
        "1.   Tasnim Rafia 1725826 \n",
        "2.   Billah Syed Mashkur 1723387\n",
        "3.   Hasan Tanveer Mahmood 1725413\n",
        "4.   K.M Zubair 1722931\n",
        "\n"
      ]
    },
    {
      "cell_type": "markdown",
      "metadata": {
        "id": "dWIK5TJLgUNz"
      },
      "source": [
        "**Project Title:** E-commerce data analysis and visualization (Pakistan's Largest ECommerce)"
      ]
    },
    {
      "cell_type": "markdown",
      "metadata": {
        "id": "oLdF3y6GijMD"
      },
      "source": [
        "**Abastract**\n",
        "\n",
        "   This project is primarily trying to analyze one E-commerce dataset (Pakistan's Largest ECommerce\n",
        "Dataset), where the product values will be analyzed along with the popularity by\n",
        "comparing the sales history among themselves. According to the analysis, some suggestions to\n",
        "undertake are going to be provided in order to increase the popularity of the company by\n",
        "forecasting the sales condition of next year with the help of time series analysis in terms of the\n",
        "dataset history such as product status, the most sold product history etc. that is already accorded\n",
        "in the dataset. Many research has been already conducted using public datasets, still many business\n",
        "questions yet to be answered from Realtime dataset. The purpose of this research is to understand\n",
        "the ecommerce domain better by analyzing the public datasets. An overall depth analysis will be\n",
        "performed by comparing the product status history so far. The main aim of the project is to\n",
        "implement a solution to assist the company to enhance their popularity. Therefore, this research\n",
        "will propose a strategy on how they can improve their sales.\n",
        "\n"
      ]
    },
    {
      "cell_type": "markdown",
      "metadata": {
        "id": "h4ECHT7fi3jX"
      },
      "source": [
        "**Research Questions:**\n",
        "\n",
        "1.   Which category has the most popularity in terms of sale? (Descriptive)\n",
        "2.   How was the sales condition throughout the time from July, 2016 to July, 2018 ? (Diagnostic)\n",
        "3.   Do the most cancelled category of items get affected by time or customer ? (Causality Analysis)\n",
        "4.   How is the sales state going to be next year ? (Predictive)\n",
        "5.   Which product demand is in a high-rising phase? (Exploratory)\n",
        "6.   Which are the categories those get cancelled the most? (Exploratory)\n"
      ]
    },
    {
      "cell_type": "markdown",
      "metadata": {
        "id": "acyoS7ODgr11"
      },
      "source": [
        "**Necessary Library and Packages**"
      ]
    },
    {
      "cell_type": "code",
      "metadata": {
        "id": "W5lt25qX7S7s"
      },
      "source": [
        "import datetime\n",
        "import numpy as np\n",
        "import pandas as pd\n",
        "%matplotlib inline\n",
        "import matplotlib as mpl\n",
        "import matplotlib.pyplot as plt\n",
        "import seaborn as sns\n",
        "\n",
        "import plotly.graph_objects as go\n",
        "from plotly.subplots import make_subplots\n",
        "import plotly.express as px"
      ],
      "execution_count": 1,
      "outputs": []
    },
    {
      "cell_type": "code",
      "metadata": {
        "colab": {
          "base_uri": "https://localhost:8080/"
        },
        "id": "gmphEfiDXhkw",
        "outputId": "70de7ba3-5bc3-4a02-b3fd-aaa53b6c8d3e"
      },
      "source": [
        "from google.colab import drive\n",
        "drive.mount('/content/drive')"
      ],
      "execution_count": 2,
      "outputs": [
        {
          "output_type": "stream",
          "text": [
            "Drive already mounted at /content/drive; to attempt to forcibly remount, call drive.mount(\"/content/drive\", force_remount=True).\n"
          ],
          "name": "stdout"
        }
      ]
    },
    {
      "cell_type": "markdown",
      "metadata": {
        "id": "amdVxmSVhJ8f"
      },
      "source": [
        "**Read the DataSets.**"
      ]
    },
    {
      "cell_type": "code",
      "metadata": {
        "colab": {
          "base_uri": "https://localhost:8080/"
        },
        "id": "DZnEbPfhGiLd",
        "outputId": "44386874-c02f-47a5-cea1-4824c6ec6c8d"
      },
      "source": [
        "path = '/content/drive/MyDrive/Final Project/Pakistan Largest Ecommerce Dataset.csv'\n",
        "EC_pakistan = pd.read_csv(path)"
      ],
      "execution_count": 3,
      "outputs": [
        {
          "output_type": "stream",
          "text": [
            "/usr/local/lib/python3.7/dist-packages/IPython/core/interactiveshell.py:2718: DtypeWarning:\n",
            "\n",
            "Columns (1,2,3,7,8,9,11,12,13,14,17,18,19) have mixed types.Specify dtype option on import or set low_memory=False.\n",
            "\n"
          ],
          "name": "stderr"
        }
      ]
    },
    {
      "cell_type": "code",
      "metadata": {
        "colab": {
          "base_uri": "https://localhost:8080/",
          "height": 377
        },
        "id": "rzHX6sQ0G61X",
        "outputId": "f237112f-ab0f-4a91-a5df-54ebedcf1394"
      },
      "source": [
        "EC_pakistan.head(5)"
      ],
      "execution_count": 4,
      "outputs": [
        {
          "output_type": "execute_result",
          "data": {
            "text/html": [
              "<div>\n",
              "<style scoped>\n",
              "    .dataframe tbody tr th:only-of-type {\n",
              "        vertical-align: middle;\n",
              "    }\n",
              "\n",
              "    .dataframe tbody tr th {\n",
              "        vertical-align: top;\n",
              "    }\n",
              "\n",
              "    .dataframe thead th {\n",
              "        text-align: right;\n",
              "    }\n",
              "</style>\n",
              "<table border=\"1\" class=\"dataframe\">\n",
              "  <thead>\n",
              "    <tr style=\"text-align: right;\">\n",
              "      <th></th>\n",
              "      <th>item_id</th>\n",
              "      <th>status</th>\n",
              "      <th>created_at</th>\n",
              "      <th>sku</th>\n",
              "      <th>price</th>\n",
              "      <th>qty_ordered</th>\n",
              "      <th>grand_total</th>\n",
              "      <th>increment_id</th>\n",
              "      <th>category_name_1</th>\n",
              "      <th>sales_commission_code</th>\n",
              "      <th>discount_amount</th>\n",
              "      <th>payment_method</th>\n",
              "      <th>Working Date</th>\n",
              "      <th>BI Status</th>\n",
              "      <th>MV</th>\n",
              "      <th>Year</th>\n",
              "      <th>Month</th>\n",
              "      <th>Customer Since</th>\n",
              "      <th>M-Y</th>\n",
              "      <th>FY</th>\n",
              "      <th>Customer ID</th>\n",
              "      <th>Unnamed: 21</th>\n",
              "      <th>Unnamed: 22</th>\n",
              "      <th>Unnamed: 23</th>\n",
              "      <th>Unnamed: 24</th>\n",
              "      <th>Unnamed: 25</th>\n",
              "    </tr>\n",
              "  </thead>\n",
              "  <tbody>\n",
              "    <tr>\n",
              "      <th>0</th>\n",
              "      <td>211131.0</td>\n",
              "      <td>complete</td>\n",
              "      <td>7/1/2016</td>\n",
              "      <td>kreations_YI 06-L</td>\n",
              "      <td>1950.0</td>\n",
              "      <td>1.0</td>\n",
              "      <td>1950.0</td>\n",
              "      <td>100147443</td>\n",
              "      <td>Women's Fashion</td>\n",
              "      <td>\\N</td>\n",
              "      <td>0.0</td>\n",
              "      <td>cod</td>\n",
              "      <td>7/1/2016</td>\n",
              "      <td>#REF!</td>\n",
              "      <td>1,950</td>\n",
              "      <td>2016.0</td>\n",
              "      <td>7.0</td>\n",
              "      <td>2016-7</td>\n",
              "      <td>7-2016</td>\n",
              "      <td>FY17</td>\n",
              "      <td>1.0</td>\n",
              "      <td>NaN</td>\n",
              "      <td>NaN</td>\n",
              "      <td>NaN</td>\n",
              "      <td>NaN</td>\n",
              "      <td>NaN</td>\n",
              "    </tr>\n",
              "    <tr>\n",
              "      <th>1</th>\n",
              "      <td>211133.0</td>\n",
              "      <td>canceled</td>\n",
              "      <td>7/1/2016</td>\n",
              "      <td>kcc_Buy 2 Frey Air Freshener &amp; Get 1 Kasual Bo...</td>\n",
              "      <td>240.0</td>\n",
              "      <td>1.0</td>\n",
              "      <td>240.0</td>\n",
              "      <td>100147444</td>\n",
              "      <td>Beauty &amp; Grooming</td>\n",
              "      <td>\\N</td>\n",
              "      <td>0.0</td>\n",
              "      <td>cod</td>\n",
              "      <td>7/1/2016</td>\n",
              "      <td>Gross</td>\n",
              "      <td>240</td>\n",
              "      <td>2016.0</td>\n",
              "      <td>7.0</td>\n",
              "      <td>2016-7</td>\n",
              "      <td>7-2016</td>\n",
              "      <td>FY17</td>\n",
              "      <td>2.0</td>\n",
              "      <td>NaN</td>\n",
              "      <td>NaN</td>\n",
              "      <td>NaN</td>\n",
              "      <td>NaN</td>\n",
              "      <td>NaN</td>\n",
              "    </tr>\n",
              "    <tr>\n",
              "      <th>2</th>\n",
              "      <td>211134.0</td>\n",
              "      <td>canceled</td>\n",
              "      <td>7/1/2016</td>\n",
              "      <td>Ego_UP0017-999-MR0</td>\n",
              "      <td>2450.0</td>\n",
              "      <td>1.0</td>\n",
              "      <td>2450.0</td>\n",
              "      <td>100147445</td>\n",
              "      <td>Women's Fashion</td>\n",
              "      <td>\\N</td>\n",
              "      <td>0.0</td>\n",
              "      <td>cod</td>\n",
              "      <td>7/1/2016</td>\n",
              "      <td>Gross</td>\n",
              "      <td>2,450</td>\n",
              "      <td>2016.0</td>\n",
              "      <td>7.0</td>\n",
              "      <td>2016-7</td>\n",
              "      <td>7-2016</td>\n",
              "      <td>FY17</td>\n",
              "      <td>3.0</td>\n",
              "      <td>NaN</td>\n",
              "      <td>NaN</td>\n",
              "      <td>NaN</td>\n",
              "      <td>NaN</td>\n",
              "      <td>NaN</td>\n",
              "    </tr>\n",
              "    <tr>\n",
              "      <th>3</th>\n",
              "      <td>211135.0</td>\n",
              "      <td>complete</td>\n",
              "      <td>7/1/2016</td>\n",
              "      <td>kcc_krone deal</td>\n",
              "      <td>360.0</td>\n",
              "      <td>1.0</td>\n",
              "      <td>60.0</td>\n",
              "      <td>100147446</td>\n",
              "      <td>Beauty &amp; Grooming</td>\n",
              "      <td>R-FSD-52352</td>\n",
              "      <td>300.0</td>\n",
              "      <td>cod</td>\n",
              "      <td>7/1/2016</td>\n",
              "      <td>Net</td>\n",
              "      <td>360</td>\n",
              "      <td>2016.0</td>\n",
              "      <td>7.0</td>\n",
              "      <td>2016-7</td>\n",
              "      <td>7-2016</td>\n",
              "      <td>FY17</td>\n",
              "      <td>4.0</td>\n",
              "      <td>NaN</td>\n",
              "      <td>NaN</td>\n",
              "      <td>NaN</td>\n",
              "      <td>NaN</td>\n",
              "      <td>NaN</td>\n",
              "    </tr>\n",
              "    <tr>\n",
              "      <th>4</th>\n",
              "      <td>211136.0</td>\n",
              "      <td>order_refunded</td>\n",
              "      <td>7/1/2016</td>\n",
              "      <td>BK7010400AG</td>\n",
              "      <td>555.0</td>\n",
              "      <td>2.0</td>\n",
              "      <td>1110.0</td>\n",
              "      <td>100147447</td>\n",
              "      <td>Soghaat</td>\n",
              "      <td>\\N</td>\n",
              "      <td>0.0</td>\n",
              "      <td>cod</td>\n",
              "      <td>7/1/2016</td>\n",
              "      <td>Valid</td>\n",
              "      <td>1,110</td>\n",
              "      <td>2016.0</td>\n",
              "      <td>7.0</td>\n",
              "      <td>2016-7</td>\n",
              "      <td>7-2016</td>\n",
              "      <td>FY17</td>\n",
              "      <td>5.0</td>\n",
              "      <td>NaN</td>\n",
              "      <td>NaN</td>\n",
              "      <td>NaN</td>\n",
              "      <td>NaN</td>\n",
              "      <td>NaN</td>\n",
              "    </tr>\n",
              "  </tbody>\n",
              "</table>\n",
              "</div>"
            ],
            "text/plain": [
              "    item_id          status created_at  ... Unnamed: 23  Unnamed: 24  Unnamed: 25\n",
              "0  211131.0        complete   7/1/2016  ...         NaN          NaN          NaN\n",
              "1  211133.0        canceled   7/1/2016  ...         NaN          NaN          NaN\n",
              "2  211134.0        canceled   7/1/2016  ...         NaN          NaN          NaN\n",
              "3  211135.0        complete   7/1/2016  ...         NaN          NaN          NaN\n",
              "4  211136.0  order_refunded   7/1/2016  ...         NaN          NaN          NaN\n",
              "\n",
              "[5 rows x 26 columns]"
            ]
          },
          "metadata": {
            "tags": []
          },
          "execution_count": 4
        }
      ]
    },
    {
      "cell_type": "markdown",
      "metadata": {
        "id": "weYgfhBkJLAT"
      },
      "source": [
        "# **Data Cleaning And Preprocessing.**"
      ]
    },
    {
      "cell_type": "code",
      "metadata": {
        "colab": {
          "base_uri": "https://localhost:8080/",
          "height": 452
        },
        "id": "SQzggNjZh6f8",
        "outputId": "73757b9e-2633-4e6e-a196-d83f17292840"
      },
      "source": [
        "#Describe data sets\n",
        "EC_pakistan.describe().transpose()"
      ],
      "execution_count": 5,
      "outputs": [
        {
          "output_type": "execute_result",
          "data": {
            "text/html": [
              "<div>\n",
              "<style scoped>\n",
              "    .dataframe tbody tr th:only-of-type {\n",
              "        vertical-align: middle;\n",
              "    }\n",
              "\n",
              "    .dataframe tbody tr th {\n",
              "        vertical-align: top;\n",
              "    }\n",
              "\n",
              "    .dataframe thead th {\n",
              "        text-align: right;\n",
              "    }\n",
              "</style>\n",
              "<table border=\"1\" class=\"dataframe\">\n",
              "  <thead>\n",
              "    <tr style=\"text-align: right;\">\n",
              "      <th></th>\n",
              "      <th>count</th>\n",
              "      <th>mean</th>\n",
              "      <th>std</th>\n",
              "      <th>min</th>\n",
              "      <th>25%</th>\n",
              "      <th>50%</th>\n",
              "      <th>75%</th>\n",
              "      <th>max</th>\n",
              "    </tr>\n",
              "  </thead>\n",
              "  <tbody>\n",
              "    <tr>\n",
              "      <th>item_id</th>\n",
              "      <td>584524.0</td>\n",
              "      <td>565667.074218</td>\n",
              "      <td>200121.173648</td>\n",
              "      <td>211131.0</td>\n",
              "      <td>395000.75</td>\n",
              "      <td>568424.5</td>\n",
              "      <td>739106.25</td>\n",
              "      <td>905208.0</td>\n",
              "    </tr>\n",
              "    <tr>\n",
              "      <th>price</th>\n",
              "      <td>584524.0</td>\n",
              "      <td>6348.747531</td>\n",
              "      <td>14949.269515</td>\n",
              "      <td>0.0</td>\n",
              "      <td>360.00</td>\n",
              "      <td>899.0</td>\n",
              "      <td>4070.00</td>\n",
              "      <td>1012625.9</td>\n",
              "    </tr>\n",
              "    <tr>\n",
              "      <th>qty_ordered</th>\n",
              "      <td>584524.0</td>\n",
              "      <td>1.296388</td>\n",
              "      <td>3.996061</td>\n",
              "      <td>1.0</td>\n",
              "      <td>1.00</td>\n",
              "      <td>1.0</td>\n",
              "      <td>1.00</td>\n",
              "      <td>1000.0</td>\n",
              "    </tr>\n",
              "    <tr>\n",
              "      <th>grand_total</th>\n",
              "      <td>584524.0</td>\n",
              "      <td>8530.618571</td>\n",
              "      <td>61320.814625</td>\n",
              "      <td>-1594.0</td>\n",
              "      <td>945.00</td>\n",
              "      <td>1960.4</td>\n",
              "      <td>6999.00</td>\n",
              "      <td>17888000.0</td>\n",
              "    </tr>\n",
              "    <tr>\n",
              "      <th>discount_amount</th>\n",
              "      <td>584524.0</td>\n",
              "      <td>499.492775</td>\n",
              "      <td>1506.943046</td>\n",
              "      <td>-599.5</td>\n",
              "      <td>0.00</td>\n",
              "      <td>0.0</td>\n",
              "      <td>160.50</td>\n",
              "      <td>90300.0</td>\n",
              "    </tr>\n",
              "    <tr>\n",
              "      <th>Year</th>\n",
              "      <td>584524.0</td>\n",
              "      <td>2017.044115</td>\n",
              "      <td>0.707355</td>\n",
              "      <td>2016.0</td>\n",
              "      <td>2017.00</td>\n",
              "      <td>2017.0</td>\n",
              "      <td>2018.00</td>\n",
              "      <td>2018.0</td>\n",
              "    </tr>\n",
              "    <tr>\n",
              "      <th>Month</th>\n",
              "      <td>584524.0</td>\n",
              "      <td>7.167654</td>\n",
              "      <td>3.486305</td>\n",
              "      <td>1.0</td>\n",
              "      <td>4.00</td>\n",
              "      <td>7.0</td>\n",
              "      <td>11.00</td>\n",
              "      <td>12.0</td>\n",
              "    </tr>\n",
              "    <tr>\n",
              "      <th>Customer ID</th>\n",
              "      <td>584513.0</td>\n",
              "      <td>45790.511965</td>\n",
              "      <td>34414.962389</td>\n",
              "      <td>1.0</td>\n",
              "      <td>13516.00</td>\n",
              "      <td>42856.0</td>\n",
              "      <td>73536.00</td>\n",
              "      <td>115326.0</td>\n",
              "    </tr>\n",
              "    <tr>\n",
              "      <th>Unnamed: 21</th>\n",
              "      <td>0.0</td>\n",
              "      <td>NaN</td>\n",
              "      <td>NaN</td>\n",
              "      <td>NaN</td>\n",
              "      <td>NaN</td>\n",
              "      <td>NaN</td>\n",
              "      <td>NaN</td>\n",
              "      <td>NaN</td>\n",
              "    </tr>\n",
              "    <tr>\n",
              "      <th>Unnamed: 22</th>\n",
              "      <td>0.0</td>\n",
              "      <td>NaN</td>\n",
              "      <td>NaN</td>\n",
              "      <td>NaN</td>\n",
              "      <td>NaN</td>\n",
              "      <td>NaN</td>\n",
              "      <td>NaN</td>\n",
              "      <td>NaN</td>\n",
              "    </tr>\n",
              "    <tr>\n",
              "      <th>Unnamed: 23</th>\n",
              "      <td>0.0</td>\n",
              "      <td>NaN</td>\n",
              "      <td>NaN</td>\n",
              "      <td>NaN</td>\n",
              "      <td>NaN</td>\n",
              "      <td>NaN</td>\n",
              "      <td>NaN</td>\n",
              "      <td>NaN</td>\n",
              "    </tr>\n",
              "    <tr>\n",
              "      <th>Unnamed: 24</th>\n",
              "      <td>0.0</td>\n",
              "      <td>NaN</td>\n",
              "      <td>NaN</td>\n",
              "      <td>NaN</td>\n",
              "      <td>NaN</td>\n",
              "      <td>NaN</td>\n",
              "      <td>NaN</td>\n",
              "      <td>NaN</td>\n",
              "    </tr>\n",
              "    <tr>\n",
              "      <th>Unnamed: 25</th>\n",
              "      <td>0.0</td>\n",
              "      <td>NaN</td>\n",
              "      <td>NaN</td>\n",
              "      <td>NaN</td>\n",
              "      <td>NaN</td>\n",
              "      <td>NaN</td>\n",
              "      <td>NaN</td>\n",
              "      <td>NaN</td>\n",
              "    </tr>\n",
              "  </tbody>\n",
              "</table>\n",
              "</div>"
            ],
            "text/plain": [
              "                    count           mean  ...        75%         max\n",
              "item_id          584524.0  565667.074218  ...  739106.25    905208.0\n",
              "price            584524.0    6348.747531  ...    4070.00   1012625.9\n",
              "qty_ordered      584524.0       1.296388  ...       1.00      1000.0\n",
              "grand_total      584524.0    8530.618571  ...    6999.00  17888000.0\n",
              "discount_amount  584524.0     499.492775  ...     160.50     90300.0\n",
              "Year             584524.0    2017.044115  ...    2018.00      2018.0\n",
              "Month            584524.0       7.167654  ...      11.00        12.0\n",
              "Customer ID      584513.0   45790.511965  ...   73536.00    115326.0\n",
              "Unnamed: 21           0.0            NaN  ...        NaN         NaN\n",
              "Unnamed: 22           0.0            NaN  ...        NaN         NaN\n",
              "Unnamed: 23           0.0            NaN  ...        NaN         NaN\n",
              "Unnamed: 24           0.0            NaN  ...        NaN         NaN\n",
              "Unnamed: 25           0.0            NaN  ...        NaN         NaN\n",
              "\n",
              "[13 rows x 8 columns]"
            ]
          },
          "metadata": {
            "tags": []
          },
          "execution_count": 5
        }
      ]
    },
    {
      "cell_type": "code",
      "metadata": {
        "colab": {
          "base_uri": "https://localhost:8080/"
        },
        "id": "OVrQVyjRHJgS",
        "outputId": "610832ba-a581-4886-9327-c2aa459df0fc"
      },
      "source": [
        "#Check the null Values\n",
        "EC_pakistan.isnull().sum()"
      ],
      "execution_count": 6,
      "outputs": [
        {
          "output_type": "execute_result",
          "data": {
            "text/plain": [
              "item_id                   464051\n",
              "status                    464066\n",
              "created_at                464051\n",
              "sku                       464071\n",
              "price                     464051\n",
              "qty_ordered               464051\n",
              "grand_total               464051\n",
              "increment_id              464051\n",
              "category_name_1           464215\n",
              "sales_commission_code     601226\n",
              "discount_amount           464051\n",
              "payment_method            464051\n",
              "Working Date              464051\n",
              "BI Status                 464051\n",
              " MV                       464051\n",
              "Year                      464051\n",
              "Month                     464051\n",
              "Customer Since            464062\n",
              "M-Y                       464051\n",
              "FY                        464051\n",
              "Customer ID               464062\n",
              "Unnamed: 21              1048575\n",
              "Unnamed: 22              1048575\n",
              "Unnamed: 23              1048575\n",
              "Unnamed: 24              1048575\n",
              "Unnamed: 25              1048575\n",
              "dtype: int64"
            ]
          },
          "metadata": {
            "tags": []
          },
          "execution_count": 6
        }
      ]
    },
    {
      "cell_type": "code",
      "metadata": {
        "colab": {
          "base_uri": "https://localhost:8080/",
          "height": 391
        },
        "id": "0y-Ha6mnHSWm",
        "outputId": "57796e18-8993-45da-aaf0-f2884ed69124"
      },
      "source": [
        "#Visualize the Null Values\n",
        "sns.heatmap(EC_pakistan.isnull(),yticklabels=False,cbar=False,cmap='YlGnBu')"
      ],
      "execution_count": 7,
      "outputs": [
        {
          "output_type": "execute_result",
          "data": {
            "text/plain": [
              "<matplotlib.axes._subplots.AxesSubplot at 0x7f4296d4d490>"
            ]
          },
          "metadata": {
            "tags": []
          },
          "execution_count": 7
        },
        {
          "output_type": "display_data",
          "data": {
            "image/png": "[encoded data removed]",
            "text/plain": [
              "<Figure size 432x288 with 1 Axes>"
            ]
          },
          "metadata": {
            "tags": [],
            "needs_background": "light"
          }
        }
      ]
    },
    {
      "cell_type": "code",
      "metadata": {
        "id": "3Rd1v6CMHfwn"
      },
      "source": [
        "# Drop Unnecesarry Column.\n",
        "EC_pakistan.drop(['sales_commission_code','Unnamed: 21', 'Unnamed: 22','Unnamed: 23', 'Unnamed: 24','Unnamed: 25'], axis='columns', inplace=True)"
      ],
      "execution_count": 8,
      "outputs": []
    },
    {
      "cell_type": "code",
      "metadata": {
        "colab": {
          "base_uri": "https://localhost:8080/",
          "height": 323
        },
        "id": "UeUZYsuoIwv2",
        "outputId": "cdf730d5-cfbd-4d9c-ee5e-8a3d891f462e"
      },
      "source": [
        "EC_pakistan.head(5)"
      ],
      "execution_count": 9,
      "outputs": [
        {
          "output_type": "execute_result",
          "data": {
            "text/html": [
              "<div>\n",
              "<style scoped>\n",
              "    .dataframe tbody tr th:only-of-type {\n",
              "        vertical-align: middle;\n",
              "    }\n",
              "\n",
              "    .dataframe tbody tr th {\n",
              "        vertical-align: top;\n",
              "    }\n",
              "\n",
              "    .dataframe thead th {\n",
              "        text-align: right;\n",
              "    }\n",
              "</style>\n",
              "<table border=\"1\" class=\"dataframe\">\n",
              "  <thead>\n",
              "    <tr style=\"text-align: right;\">\n",
              "      <th></th>\n",
              "      <th>item_id</th>\n",
              "      <th>status</th>\n",
              "      <th>created_at</th>\n",
              "      <th>sku</th>\n",
              "      <th>price</th>\n",
              "      <th>qty_ordered</th>\n",
              "      <th>grand_total</th>\n",
              "      <th>increment_id</th>\n",
              "      <th>category_name_1</th>\n",
              "      <th>discount_amount</th>\n",
              "      <th>payment_method</th>\n",
              "      <th>Working Date</th>\n",
              "      <th>BI Status</th>\n",
              "      <th>MV</th>\n",
              "      <th>Year</th>\n",
              "      <th>Month</th>\n",
              "      <th>Customer Since</th>\n",
              "      <th>M-Y</th>\n",
              "      <th>FY</th>\n",
              "      <th>Customer ID</th>\n",
              "    </tr>\n",
              "  </thead>\n",
              "  <tbody>\n",
              "    <tr>\n",
              "      <th>0</th>\n",
              "      <td>211131.0</td>\n",
              "      <td>complete</td>\n",
              "      <td>7/1/2016</td>\n",
              "      <td>kreations_YI 06-L</td>\n",
              "      <td>1950.0</td>\n",
              "      <td>1.0</td>\n",
              "      <td>1950.0</td>\n",
              "      <td>100147443</td>\n",
              "      <td>Women's Fashion</td>\n",
              "      <td>0.0</td>\n",
              "      <td>cod</td>\n",
              "      <td>7/1/2016</td>\n",
              "      <td>#REF!</td>\n",
              "      <td>1,950</td>\n",
              "      <td>2016.0</td>\n",
              "      <td>7.0</td>\n",
              "      <td>2016-7</td>\n",
              "      <td>7-2016</td>\n",
              "      <td>FY17</td>\n",
              "      <td>1.0</td>\n",
              "    </tr>\n",
              "    <tr>\n",
              "      <th>1</th>\n",
              "      <td>211133.0</td>\n",
              "      <td>canceled</td>\n",
              "      <td>7/1/2016</td>\n",
              "      <td>kcc_Buy 2 Frey Air Freshener &amp; Get 1 Kasual Bo...</td>\n",
              "      <td>240.0</td>\n",
              "      <td>1.0</td>\n",
              "      <td>240.0</td>\n",
              "      <td>100147444</td>\n",
              "      <td>Beauty &amp; Grooming</td>\n",
              "      <td>0.0</td>\n",
              "      <td>cod</td>\n",
              "      <td>7/1/2016</td>\n",
              "      <td>Gross</td>\n",
              "      <td>240</td>\n",
              "      <td>2016.0</td>\n",
              "      <td>7.0</td>\n",
              "      <td>2016-7</td>\n",
              "      <td>7-2016</td>\n",
              "      <td>FY17</td>\n",
              "      <td>2.0</td>\n",
              "    </tr>\n",
              "    <tr>\n",
              "      <th>2</th>\n",
              "      <td>211134.0</td>\n",
              "      <td>canceled</td>\n",
              "      <td>7/1/2016</td>\n",
              "      <td>Ego_UP0017-999-MR0</td>\n",
              "      <td>2450.0</td>\n",
              "      <td>1.0</td>\n",
              "      <td>2450.0</td>\n",
              "      <td>100147445</td>\n",
              "      <td>Women's Fashion</td>\n",
              "      <td>0.0</td>\n",
              "      <td>cod</td>\n",
              "      <td>7/1/2016</td>\n",
              "      <td>Gross</td>\n",
              "      <td>2,450</td>\n",
              "      <td>2016.0</td>\n",
              "      <td>7.0</td>\n",
              "      <td>2016-7</td>\n",
              "      <td>7-2016</td>\n",
              "      <td>FY17</td>\n",
              "      <td>3.0</td>\n",
              "    </tr>\n",
              "    <tr>\n",
              "      <th>3</th>\n",
              "      <td>211135.0</td>\n",
              "      <td>complete</td>\n",
              "      <td>7/1/2016</td>\n",
              "      <td>kcc_krone deal</td>\n",
              "      <td>360.0</td>\n",
              "      <td>1.0</td>\n",
              "      <td>60.0</td>\n",
              "      <td>100147446</td>\n",
              "      <td>Beauty &amp; Grooming</td>\n",
              "      <td>300.0</td>\n",
              "      <td>cod</td>\n",
              "      <td>7/1/2016</td>\n",
              "      <td>Net</td>\n",
              "      <td>360</td>\n",
              "      <td>2016.0</td>\n",
              "      <td>7.0</td>\n",
              "      <td>2016-7</td>\n",
              "      <td>7-2016</td>\n",
              "      <td>FY17</td>\n",
              "      <td>4.0</td>\n",
              "    </tr>\n",
              "    <tr>\n",
              "      <th>4</th>\n",
              "      <td>211136.0</td>\n",
              "      <td>order_refunded</td>\n",
              "      <td>7/1/2016</td>\n",
              "      <td>BK7010400AG</td>\n",
              "      <td>555.0</td>\n",
              "      <td>2.0</td>\n",
              "      <td>1110.0</td>\n",
              "      <td>100147447</td>\n",
              "      <td>Soghaat</td>\n",
              "      <td>0.0</td>\n",
              "      <td>cod</td>\n",
              "      <td>7/1/2016</td>\n",
              "      <td>Valid</td>\n",
              "      <td>1,110</td>\n",
              "      <td>2016.0</td>\n",
              "      <td>7.0</td>\n",
              "      <td>2016-7</td>\n",
              "      <td>7-2016</td>\n",
              "      <td>FY17</td>\n",
              "      <td>5.0</td>\n",
              "    </tr>\n",
              "  </tbody>\n",
              "</table>\n",
              "</div>"
            ],
            "text/plain": [
              "    item_id          status created_at  ...     M-Y    FY  Customer ID\n",
              "0  211131.0        complete   7/1/2016  ...  7-2016  FY17          1.0\n",
              "1  211133.0        canceled   7/1/2016  ...  7-2016  FY17          2.0\n",
              "2  211134.0        canceled   7/1/2016  ...  7-2016  FY17          3.0\n",
              "3  211135.0        complete   7/1/2016  ...  7-2016  FY17          4.0\n",
              "4  211136.0  order_refunded   7/1/2016  ...  7-2016  FY17          5.0\n",
              "\n",
              "[5 rows x 20 columns]"
            ]
          },
          "metadata": {
            "tags": []
          },
          "execution_count": 9
        }
      ]
    },
    {
      "cell_type": "code",
      "metadata": {
        "colab": {
          "base_uri": "https://localhost:8080/"
        },
        "id": "36E3XQswUbMp",
        "outputId": "22e5cc37-d810-47e3-b832-8c9ea6adf471"
      },
      "source": [
        "# Check which Row has null values.\n",
        "null_columns=EC_pakistan.columns[EC_pakistan.isnull().any()]\n",
        "print(EC_pakistan[EC_pakistan[\"item_id\"].isnull()][null_columns])"
      ],
      "execution_count": 10,
      "outputs": [
        {
          "output_type": "stream",
          "text": [
            "         item_id status created_at  sku  ...  Customer Since  M-Y   FY Customer ID\n",
            "584524       NaN    NaN        NaN  NaN  ...             NaN  NaN  NaN         NaN\n",
            "584525       NaN    NaN        NaN  NaN  ...             NaN  NaN  NaN         NaN\n",
            "584526       NaN    NaN        NaN  NaN  ...             NaN  NaN  NaN         NaN\n",
            "584527       NaN    NaN        NaN  NaN  ...             NaN  NaN  NaN         NaN\n",
            "584528       NaN    NaN        NaN  NaN  ...             NaN  NaN  NaN         NaN\n",
            "...          ...    ...        ...  ...  ...             ...  ...  ...         ...\n",
            "1048570      NaN    NaN        NaN  NaN  ...             NaN  NaN  NaN         NaN\n",
            "1048571      NaN    NaN        NaN  NaN  ...             NaN  NaN  NaN         NaN\n",
            "1048572      NaN    NaN        NaN  NaN  ...             NaN  NaN  NaN         NaN\n",
            "1048573      NaN    NaN        NaN  NaN  ...             NaN  NaN  NaN         NaN\n",
            "1048574      NaN    NaN        NaN  NaN  ...             NaN  NaN  NaN         NaN\n",
            "\n",
            "[464051 rows x 20 columns]\n"
          ],
          "name": "stdout"
        }
      ]
    },
    {
      "cell_type": "code",
      "metadata": {
        "id": "VUQjF1h6Zk59"
      },
      "source": [
        "# Remove All null values.\n",
        "EC_pakistan = EC_pakistan[EC_pakistan['item_id'].notna()]\n"
      ],
      "execution_count": 11,
      "outputs": []
    },
    {
      "cell_type": "code",
      "metadata": {
        "colab": {
          "base_uri": "https://localhost:8080/",
          "height": 361
        },
        "id": "ed6ml5vvnxpL",
        "outputId": "d46fe070-3ae3-4ec9-bafe-f61102eac3a5"
      },
      "source": [
        "#Visualize the Null Values\n",
        "sns.heatmap(EC_pakistan.isnull(),yticklabels=False,cbar=False,cmap='YlGnBu')"
      ],
      "execution_count": 12,
      "outputs": [
        {
          "output_type": "execute_result",
          "data": {
            "text/plain": [
              "<matplotlib.axes._subplots.AxesSubplot at 0x7f428e816a50>"
            ]
          },
          "metadata": {
            "tags": []
          },
          "execution_count": 12
        },
        {
          "output_type": "display_data",
          "data": {
            "image/png": "[encoded data removed]",
            "text/plain": [
              "<Figure size 432x288 with 1 Axes>"
            ]
          },
          "metadata": {
            "tags": [],
            "needs_background": "light"
          }
        }
      ]
    },
    {
      "cell_type": "code",
      "metadata": {
        "colab": {
          "base_uri": "https://localhost:8080/"
        },
        "id": "hqExELmWmRKB",
        "outputId": "dc7da37d-121e-42df-c021-ed4b0f8b30df"
      },
      "source": [
        "null_columns=EC_pakistan.columns[EC_pakistan.isnull().any()]\n",
        "print(EC_pakistan[EC_pakistan[\"category_name_1\"].isnull()][null_columns])"
      ],
      "execution_count": 13,
      "outputs": [
        {
          "output_type": "stream",
          "text": [
            "                status                    sku  ... Customer Since Customer ID\n",
            "425895  order_refunded  MEFQMO59B0942707B79-L  ...         2017-8     59587.0\n",
            "431194        received  MEFQMO59B0942707B79-M  ...         2017-8     59587.0\n",
            "432492        canceled  MEFQMO59B0942707B79-M  ...         2017-3     37311.0\n",
            "432494        canceled  MEFQMO59B0942707B79-M  ...         2017-3     37311.0\n",
            "432496  order_refunded  MEFQMO59B0942707B79-M  ...         2018-1     85633.0\n",
            "...                ...                    ...  ...            ...         ...\n",
            "535572        received    KABASA5ABC763F62E76  ...         2018-5    108622.0\n",
            "541927        received    WOFASA5AE962A6DD038  ...         2016-7      2237.0\n",
            "549314        canceled  MEFQMO59B0942707B79-M  ...         2018-1     85385.0\n",
            "568069        canceled     COMWD5AA8FF5851E73  ...         2018-7    113144.0\n",
            "580564        received     COMWD5AA8FF5851E73  ...        2017-11     79853.0\n",
            "\n",
            "[164 rows x 5 columns]\n"
          ],
          "name": "stdout"
        }
      ]
    },
    {
      "cell_type": "code",
      "metadata": {
        "colab": {
          "base_uri": "https://localhost:8080/"
        },
        "id": "8vzSCm19lmJq",
        "outputId": "fc847ece-67e0-46ae-df5c-91ca0cce0611"
      },
      "source": [
        "# Summarize the remaining Null values column.\n",
        "EC_pakistan.isnull().sum()"
      ],
      "execution_count": 14,
      "outputs": [
        {
          "output_type": "execute_result",
          "data": {
            "text/plain": [
              "item_id              0\n",
              "status              15\n",
              "created_at           0\n",
              "sku                 20\n",
              "price                0\n",
              "qty_ordered          0\n",
              "grand_total          0\n",
              "increment_id         0\n",
              "category_name_1    164\n",
              "discount_amount      0\n",
              "payment_method       0\n",
              "Working Date         0\n",
              "BI Status            0\n",
              " MV                  0\n",
              "Year                 0\n",
              "Month                0\n",
              "Customer Since      11\n",
              "M-Y                  0\n",
              "FY                   0\n",
              "Customer ID         11\n",
              "dtype: int64"
            ]
          },
          "metadata": {
            "tags": []
          },
          "execution_count": 14
        }
      ]
    },
    {
      "cell_type": "code",
      "metadata": {
        "id": "y4-8Oq-enrdF"
      },
      "source": [
        "# Rename the Columns Name.\n",
        "EC_pakistan.columns = ['Item ID', 'Status', 'Created at', 'Product Name', 'Price', 'Quantity', 'Grand Total', 'Increment ID', 'Product Category', 'Discount Amount', 'Payment Method', 'Working Date', 'BI Status', 'MV', 'Year', 'Month', 'Customer Since', 'M-Y', 'FY', 'Customer ID']"
      ],
      "execution_count": 15,
      "outputs": []
    },
    {
      "cell_type": "code",
      "metadata": {
        "colab": {
          "base_uri": "https://localhost:8080/",
          "height": 306
        },
        "id": "B2FPo2KGpyko",
        "outputId": "497038fc-3f3d-4fd0-d9fa-f96a86361e2f"
      },
      "source": [
        "EC_pakistan.tail(5)"
      ],
      "execution_count": 16,
      "outputs": [
        {
          "output_type": "execute_result",
          "data": {
            "text/html": [
              "<div>\n",
              "<style scoped>\n",
              "    .dataframe tbody tr th:only-of-type {\n",
              "        vertical-align: middle;\n",
              "    }\n",
              "\n",
              "    .dataframe tbody tr th {\n",
              "        vertical-align: top;\n",
              "    }\n",
              "\n",
              "    .dataframe thead th {\n",
              "        text-align: right;\n",
              "    }\n",
              "</style>\n",
              "<table border=\"1\" class=\"dataframe\">\n",
              "  <thead>\n",
              "    <tr style=\"text-align: right;\">\n",
              "      <th></th>\n",
              "      <th>Item ID</th>\n",
              "      <th>Status</th>\n",
              "      <th>Created at</th>\n",
              "      <th>Product Name</th>\n",
              "      <th>Price</th>\n",
              "      <th>Quantity</th>\n",
              "      <th>Grand Total</th>\n",
              "      <th>Increment ID</th>\n",
              "      <th>Product Category</th>\n",
              "      <th>Discount Amount</th>\n",
              "      <th>Payment Method</th>\n",
              "      <th>Working Date</th>\n",
              "      <th>BI Status</th>\n",
              "      <th>MV</th>\n",
              "      <th>Year</th>\n",
              "      <th>Month</th>\n",
              "      <th>Customer Since</th>\n",
              "      <th>M-Y</th>\n",
              "      <th>FY</th>\n",
              "      <th>Customer ID</th>\n",
              "    </tr>\n",
              "  </thead>\n",
              "  <tbody>\n",
              "    <tr>\n",
              "      <th>584519</th>\n",
              "      <td>905204.0</td>\n",
              "      <td>cod</td>\n",
              "      <td>8/28/2018</td>\n",
              "      <td>WOFSCE5AE00357AECDE</td>\n",
              "      <td>699.0</td>\n",
              "      <td>1.0</td>\n",
              "      <td>849.0</td>\n",
              "      <td>100562385</td>\n",
              "      <td>Women's Fashion</td>\n",
              "      <td>0.0</td>\n",
              "      <td>cod</td>\n",
              "      <td>8/28/2018</td>\n",
              "      <td>Valid</td>\n",
              "      <td>699</td>\n",
              "      <td>2018.0</td>\n",
              "      <td>8.0</td>\n",
              "      <td>2018-8</td>\n",
              "      <td>8-2018</td>\n",
              "      <td>FY19</td>\n",
              "      <td>115320.0</td>\n",
              "    </tr>\n",
              "    <tr>\n",
              "      <th>584520</th>\n",
              "      <td>905205.0</td>\n",
              "      <td>processing</td>\n",
              "      <td>8/28/2018</td>\n",
              "      <td>MATHUA5AF70A7D1E50A</td>\n",
              "      <td>35599.0</td>\n",
              "      <td>1.0</td>\n",
              "      <td>35899.0</td>\n",
              "      <td>100562386</td>\n",
              "      <td>Mobiles &amp; Tablets</td>\n",
              "      <td>0.0</td>\n",
              "      <td>bankalfalah</td>\n",
              "      <td>8/28/2018</td>\n",
              "      <td>Gross</td>\n",
              "      <td>35,599</td>\n",
              "      <td>2018.0</td>\n",
              "      <td>8.0</td>\n",
              "      <td>2018-8</td>\n",
              "      <td>8-2018</td>\n",
              "      <td>FY19</td>\n",
              "      <td>115326.0</td>\n",
              "    </tr>\n",
              "    <tr>\n",
              "      <th>584521</th>\n",
              "      <td>905206.0</td>\n",
              "      <td>processing</td>\n",
              "      <td>8/28/2018</td>\n",
              "      <td>MATSAM5B6D7208C6D30</td>\n",
              "      <td>129999.0</td>\n",
              "      <td>2.0</td>\n",
              "      <td>652178.0</td>\n",
              "      <td>100562387</td>\n",
              "      <td>Mobiles &amp; Tablets</td>\n",
              "      <td>0.0</td>\n",
              "      <td>bankalfalah</td>\n",
              "      <td>8/28/2018</td>\n",
              "      <td>Gross</td>\n",
              "      <td>259,998</td>\n",
              "      <td>2018.0</td>\n",
              "      <td>8.0</td>\n",
              "      <td>2018-7</td>\n",
              "      <td>8-2018</td>\n",
              "      <td>FY19</td>\n",
              "      <td>113474.0</td>\n",
              "    </tr>\n",
              "    <tr>\n",
              "      <th>584522</th>\n",
              "      <td>905207.0</td>\n",
              "      <td>processing</td>\n",
              "      <td>8/28/2018</td>\n",
              "      <td>MATSAM5B1509B4696EA</td>\n",
              "      <td>87300.0</td>\n",
              "      <td>2.0</td>\n",
              "      <td>652178.0</td>\n",
              "      <td>100562387</td>\n",
              "      <td>Mobiles &amp; Tablets</td>\n",
              "      <td>0.0</td>\n",
              "      <td>bankalfalah</td>\n",
              "      <td>8/28/2018</td>\n",
              "      <td>Gross</td>\n",
              "      <td>174,600</td>\n",
              "      <td>2018.0</td>\n",
              "      <td>8.0</td>\n",
              "      <td>2018-7</td>\n",
              "      <td>8-2018</td>\n",
              "      <td>FY19</td>\n",
              "      <td>113474.0</td>\n",
              "    </tr>\n",
              "    <tr>\n",
              "      <th>584523</th>\n",
              "      <td>905208.0</td>\n",
              "      <td>processing</td>\n",
              "      <td>8/28/2018</td>\n",
              "      <td>MATSAM5B10F91A9B6AB</td>\n",
              "      <td>108640.0</td>\n",
              "      <td>2.0</td>\n",
              "      <td>652178.0</td>\n",
              "      <td>100562387</td>\n",
              "      <td>Mobiles &amp; Tablets</td>\n",
              "      <td>0.0</td>\n",
              "      <td>bankalfalah</td>\n",
              "      <td>8/28/2018</td>\n",
              "      <td>Gross</td>\n",
              "      <td>217,280</td>\n",
              "      <td>2018.0</td>\n",
              "      <td>8.0</td>\n",
              "      <td>2018-7</td>\n",
              "      <td>8-2018</td>\n",
              "      <td>FY19</td>\n",
              "      <td>113474.0</td>\n",
              "    </tr>\n",
              "  </tbody>\n",
              "</table>\n",
              "</div>"
            ],
            "text/plain": [
              "         Item ID      Status Created at  ...     M-Y    FY  Customer ID\n",
              "584519  905204.0         cod  8/28/2018  ...  8-2018  FY19     115320.0\n",
              "584520  905205.0  processing  8/28/2018  ...  8-2018  FY19     115326.0\n",
              "584521  905206.0  processing  8/28/2018  ...  8-2018  FY19     113474.0\n",
              "584522  905207.0  processing  8/28/2018  ...  8-2018  FY19     113474.0\n",
              "584523  905208.0  processing  8/28/2018  ...  8-2018  FY19     113474.0\n",
              "\n",
              "[5 rows x 20 columns]"
            ]
          },
          "metadata": {
            "tags": []
          },
          "execution_count": 16
        }
      ]
    },
    {
      "cell_type": "markdown",
      "metadata": {
        "id": "bl0zf9FbpVX2"
      },
      "source": [
        "# **Data Visualization & Result Findings.**"
      ]
    },
    {
      "cell_type": "markdown",
      "metadata": {
        "id": "knvY1q7SqQ53"
      },
      "source": [
        "**Showing the correlation Among the columns.**"
      ]
    },
    {
      "cell_type": "code",
      "metadata": {
        "colab": {
          "base_uri": "https://localhost:8080/",
          "height": 417
        },
        "id": "qOvR-RpPaFzN",
        "outputId": "c43f062a-d9f1-4ee0-e5a0-30acb2c821bb"
      },
      "source": [
        "corr = EC_pakistan.corr()\n",
        "plt.figure(figsize=(10,5))\n",
        "sns.heatmap(corr, annot = True, cmap=\"YlGnBu\")"
      ],
      "execution_count": 17,
      "outputs": [
        {
          "output_type": "execute_result",
          "data": {
            "text/plain": [
              "<matplotlib.axes._subplots.AxesSubplot at 0x7f428e7a34d0>"
            ]
          },
          "metadata": {
            "tags": []
          },
          "execution_count": 17
        },
        {
          "output_type": "display_data",
          "data": {
            "image/png": "[encoded data removed]",
            "text/plain": [
              "<Figure size 720x360 with 2 Axes>"
            ]
          },
          "metadata": {
            "tags": [],
            "needs_background": "light"
          }
        }
      ]
    },
    {
      "cell_type": "markdown",
      "metadata": {
        "id": "RawZinBNrjqx"
      },
      "source": [
        "# **Data Analysis With Spark.**"
      ]
    },
    {
      "cell_type": "code",
      "metadata": {
        "colab": {
          "base_uri": "https://localhost:8080/",
          "height": 35
        },
        "id": "Dxf2hvYfrhO8",
        "outputId": "759e713e-5226-4506-8a09-a2c989f974ed"
      },
      "source": [
        "!apt-get install openjdk-8-jdk-headless -qq > /dev/null\n",
        "!wget -q https://www-us.apache.org/dist/spark/spark-3.1.1/spark-3.1.1-bin-hadoop3.2.tgz\n",
        "!tar xf spark-3.1.1-bin-hadoop3.2.tgz\n",
        "!pip install -q findspark\n",
        "import os\n",
        "os.environ[\"JAVA_HOME\"] = \"/usr/lib/jvm/java-8-openjdk-amd64\"\n",
        "os.environ[\"SPARK_HOME\"] = \"/content/spark-3.1.1-bin-hadoop3.2\"\n",
        "import findspark\n",
        "findspark.init()\n",
        "findspark.find()"
      ],
      "execution_count": 18,
      "outputs": [
        {
          "output_type": "execute_result",
          "data": {
            "application/vnd.google.colaboratory.intrinsic+json": {
              "type": "string"
            },
            "text/plain": [
              "'/content/spark-3.1.1-bin-hadoop3.2'"
            ]
          },
          "metadata": {
            "tags": []
          },
          "execution_count": 18
        }
      ]
    },
    {
      "cell_type": "code",
      "metadata": {
        "colab": {
          "base_uri": "https://localhost:8080/"
        },
        "id": "FxgJLdd2rhtl",
        "outputId": "120ed704-0fb1-4853-9457-f43f7e0bd47b"
      },
      "source": [
        "pip install Prophet"
      ],
      "execution_count": 19,
      "outputs": [
        {
          "output_type": "stream",
          "text": [
            "Requirement already satisfied: Prophet in /usr/local/lib/python3.7/dist-packages (1.0.1)\n",
            "Requirement already satisfied: LunarCalendar>=0.0.9 in /usr/local/lib/python3.7/dist-packages (from Prophet) (0.0.9)\n",
            "Requirement already satisfied: convertdate>=2.1.2 in /usr/local/lib/python3.7/dist-packages (from Prophet) (2.3.2)\n",
            "Requirement already satisfied: tqdm>=4.36.1 in /usr/local/lib/python3.7/dist-packages (from Prophet) (4.41.1)\n",
            "Requirement already satisfied: matplotlib>=2.0.0 in /usr/local/lib/python3.7/dist-packages (from Prophet) (3.2.2)\n",
            "Requirement already satisfied: cmdstanpy==0.9.68 in /usr/local/lib/python3.7/dist-packages (from Prophet) (0.9.68)\n",
            "Requirement already satisfied: pystan~=2.19.1.1 in /usr/local/lib/python3.7/dist-packages (from Prophet) (2.19.1.1)\n",
            "Requirement already satisfied: python-dateutil>=2.8.0 in /usr/local/lib/python3.7/dist-packages (from Prophet) (2.8.1)\n",
            "Requirement already satisfied: holidays>=0.10.2 in /usr/local/lib/python3.7/dist-packages (from Prophet) (0.10.5.2)\n",
            "Requirement already satisfied: setuptools-git>=1.2 in /usr/local/lib/python3.7/dist-packages (from Prophet) (1.2)\n",
            "Requirement already satisfied: Cython>=0.22 in /usr/local/lib/python3.7/dist-packages (from Prophet) (0.29.23)\n",
            "Requirement already satisfied: pandas>=1.0.4 in /usr/local/lib/python3.7/dist-packages (from Prophet) (1.1.5)\n",
            "Requirement already satisfied: numpy>=1.15.4 in /usr/local/lib/python3.7/dist-packages (from Prophet) (1.19.5)\n",
            "Requirement already satisfied: ephem>=3.7.5.3 in /usr/local/lib/python3.7/dist-packages (from LunarCalendar>=0.0.9->Prophet) (4.0.0.2)\n",
            "Requirement already satisfied: pytz in /usr/local/lib/python3.7/dist-packages (from LunarCalendar>=0.0.9->Prophet) (2018.9)\n",
            "Requirement already satisfied: pymeeus<=1,>=0.3.13 in /usr/local/lib/python3.7/dist-packages (from convertdate>=2.1.2->Prophet) (0.5.11)\n",
            "Requirement already satisfied: pyparsing!=2.0.4,!=2.1.2,!=2.1.6,>=2.0.1 in /usr/local/lib/python3.7/dist-packages (from matplotlib>=2.0.0->Prophet) (2.4.7)\n",
            "Requirement already satisfied: kiwisolver>=1.0.1 in /usr/local/lib/python3.7/dist-packages (from matplotlib>=2.0.0->Prophet) (1.3.1)\n",
            "Requirement already satisfied: cycler>=0.10 in /usr/local/lib/python3.7/dist-packages (from matplotlib>=2.0.0->Prophet) (0.10.0)\n",
            "Requirement already satisfied: ujson in /usr/local/lib/python3.7/dist-packages (from cmdstanpy==0.9.68->Prophet) (4.0.2)\n",
            "Requirement already satisfied: six>=1.5 in /usr/local/lib/python3.7/dist-packages (from python-dateutil>=2.8.0->Prophet) (1.15.0)\n",
            "Requirement already satisfied: korean-lunar-calendar in /usr/local/lib/python3.7/dist-packages (from holidays>=0.10.2->Prophet) (0.2.1)\n",
            "Requirement already satisfied: hijri-converter in /usr/local/lib/python3.7/dist-packages (from holidays>=0.10.2->Prophet) (2.1.2)\n"
          ],
          "name": "stdout"
        }
      ]
    },
    {
      "cell_type": "code",
      "metadata": {
        "id": "aK1943iBcAGd"
      },
      "source": [
        "import findspark \n",
        "import datetime\n",
        "import numpy as np\n",
        "import pandas as pd\n",
        "%matplotlib inline\n",
        "import matplotlib as mpl\n",
        "import matplotlib.pyplot as plt\n",
        "import seaborn as sns\n",
        "findspark.init()\n",
        "\n",
        "from pyspark.sql import SparkSession\n",
        "import pyspark.sql.functions as sf, pyspark.sql.types as st\n",
        "\n",
        "import plotly.graph_objects as go\n",
        "from plotly.subplots import make_subplots\n",
        "import plotly.express as px\n",
        "from prophet import Prophet\n",
        "from sklearn.metrics import accuracy_score"
      ],
      "execution_count": 20,
      "outputs": []
    },
    {
      "cell_type": "code",
      "metadata": {
        "colab": {
          "base_uri": "https://localhost:8080/"
        },
        "id": "iRjznQrjcCeq",
        "outputId": "61871e21-39bc-4eeb-d23c-ba889b79dabc"
      },
      "source": [
        "!pip install squarify\n",
        "import squarify"
      ],
      "execution_count": 21,
      "outputs": [
        {
          "output_type": "stream",
          "text": [
            "Requirement already satisfied: squarify in /usr/local/lib/python3.7/dist-packages (0.4.3)\n"
          ],
          "name": "stdout"
        }
      ]
    },
    {
      "cell_type": "code",
      "metadata": {
        "id": "IwdAruSgsW6w"
      },
      "source": [
        "spark = SparkSession.builder\\\n",
        "         .master(\"local\")\\\n",
        "         .appName(\"test 2\")\\\n",
        "         .config('spark.ui.port', '4050')\\\n",
        "         .getOrCreate()"
      ],
      "execution_count": 22,
      "outputs": []
    },
    {
      "cell_type": "code",
      "metadata": {
        "id": "_UwIpN7Csdgo"
      },
      "source": [
        "df_ecData = spark.read.csv(\"/content/drive/MyDrive/Final Project/Pakistan Largest Ecommerce Dataset.csv\", header=True, inferSchema=True)"
      ],
      "execution_count": 23,
      "outputs": []
    },
    {
      "cell_type": "code",
      "metadata": {
        "colab": {
          "base_uri": "https://localhost:8080/"
        },
        "id": "G9gWrxLZx9-h",
        "outputId": "2c62fa60-01cb-4000-d2e8-7ef510fd3f26"
      },
      "source": [
        "df_ecData.count()"
      ],
      "execution_count": 24,
      "outputs": [
        {
          "output_type": "execute_result",
          "data": {
            "text/plain": [
              "1048586"
            ]
          },
          "metadata": {
            "tags": []
          },
          "execution_count": 24
        }
      ]
    },
    {
      "cell_type": "code",
      "metadata": {
        "id": "5aoEuYvEXNpD"
      },
      "source": [
        "# Drop Null values and Unnecessary column\n",
        "df_ecData = df_ecData.dropna(how='all')\\\n",
        ".drop('_c21','_c22', '_c23', '_c24', '_c25')"
      ],
      "execution_count": 25,
      "outputs": []
    },
    {
      "cell_type": "code",
      "metadata": {
        "id": "Ac0ZtagJyw6q"
      },
      "source": [
        "#drop duplicates \n",
        "df_ecData = df_ecData.dropna(how='all')\n",
        "df_ecData = df_ecData.withColumn('created_at',sf.to_timestamp(sf.col(\"created_at\"), 'M/d/yyyy'))\\\n",
        "                    .withColumn('customer_id',sf.col(\"Customer ID\"))\\\n",
        "                    .drop_duplicates()"
      ],
      "execution_count": 26,
      "outputs": []
    },
    {
      "cell_type": "code",
      "metadata": {
        "id": "88Yin9efWJ6K",
        "colab": {
          "base_uri": "https://localhost:8080/"
        },
        "outputId": "466c1bec-b4a2-481d-a7c4-00cd12c2d3f3"
      },
      "source": [
        "\n",
        "df_ecData.show()"
      ],
      "execution_count": 27,
      "outputs": [
        {
          "output_type": "stream",
          "text": [
            "+-------+--------------+-------------------+--------------------+------+-----------+-----------+------------+-----------------+---------------------+---------------+--------------+------------+---------+-------+----+-----+--------------+------+----+-----------+-----------+\n",
            "|item_id|        status|         created_at|                 sku| price|qty_ordered|grand_total|increment_id|  category_name_1|sales_commission_code|discount_amount|payment_method|Working Date|BI Status|    MV |Year|Month|Customer Since|   M-Y|  FY|Customer ID|customer_id|\n",
            "+-------+--------------+-------------------+--------------------+------+-----------+-----------+------------+-----------------+---------------------+---------------+--------------+------------+---------+-------+----+-----+--------------+------+----+-----------+-----------+\n",
            "| 211197|order_refunded|2016-07-01 00:00:00|      kcc_krone deal| 360.0|          1|        360|   100147482|Beauty & Grooming|         C-Rwp-101853|              0|           cod|    7/1/2016|    Valid|   360 |2016|    7|        2016-7|7-2016|FY17|         33|         33|\n",
            "| 211590|order_refunded|2016-07-01 00:00:00|bata_wein-8734881...|1199.0|          1|       1199|   100147785|    Men's Fashion|                   \\N|              0|           cod|    7/1/2016|    Valid| 1,199 |2016|    7|        2016-7|7-2016|FY17|        134|        134|\n",
            "| 211720|      complete|2016-07-01 00:00:00|  bed&rest_Danika 3D| 630.0|          1|        540|   100147881|    Home & Living|                   \\N|            225|           cod|    7/1/2016|      Net|   630 |2016|    7|        2016-7|7-2016|FY17|        178|        178|\n",
            "| 212270|order_refunded|2016-07-03 00:00:00|vitamin_Royal Jel...| 640.0|          1|        640|   100148189|  Health & Sports|                   \\N|              0|           cod|    7/3/2016|    Valid|   640 |2016|    7|        2016-7|7-2016|FY17|        379|        379|\n",
            "| 212401|      canceled|2016-07-04 00:00:00|     KC_209 White-XL|3290.0|          2|       6580|   100148270|    Men's Fashion|                   \\N|              0|     mygateway|    7/4/2016|    Gross| 6,580 |2016|    7|        2016-7|7-2016|FY17|        425|        425|\n",
            "| 213003|      canceled|2016-07-08 00:00:00|bata_comfit-86475...| 699.0|          1|        699|   100148656|    Men's Fashion|                   \\N|              0|           cod|    7/8/2016|    Gross|   699 |2016|    7|        2016-7|7-2016|FY17|        659|        659|\n",
            "| 213006|      complete|2016-07-08 00:00:00|Audionic6-954217-...| 480.0|          1|        180|   100148658|        Computing|                   \\N|            300|           cod|    7/8/2016|      Net|   480 |2016|    7|        2016-7|7-2016|FY17|        661|        661|\n",
            "| 213161|      canceled|2016-07-09 00:00:00|UK_ Namkino Lajaw...|  80.0|          1|       1879|   100148755|          Soghaat|                   \\N|              0|     mygateway|    7/9/2016|    Gross|    80 |2016|    7|        2016-7|7-2016|FY17|        159|        159|\n",
            "| 213212|      complete|2016-07-09 00:00:00|Aleesa_ALG-16-4092-M| 923.0|          1|        923|   100148776|    Men's Fashion|                   \\N|              0|           cod|    7/9/2016|      Net|   923 |2016|    7|        2016-7|7-2016|FY17|        727|        727|\n",
            "| 213268|      complete|2016-07-10 00:00:00|      kcc_krone deal| 360.0|          1|        500|   100148817|Beauty & Grooming|          R-MUX-90516|            180|           cod|   7/10/2016|      Net|   360 |2016|    7|        2016-7|7-2016|FY17|        468|        468|\n",
            "| 213709|      complete|2016-07-12 00:00:00|kkc_Lemon Oasis P...|  80.0|          1|         80|   100149134|    Home & Living|          C-LHC-30667|              0|           cod|   7/12/2016|      Net|    80 |2016|    7|        2016-7|7-2016|FY17|        909|        909|\n",
            "| 213828|      canceled|2016-07-12 00:00:00|       HOS-m_CKOM100|2800.0|          1|       2800|   100149238|Beauty & Grooming|                   \\N|              0|     mygateway|   7/12/2016|    Gross| 2,800 |2016|    7|        2016-7|7-2016|FY17|        933|        933|\n",
            "| 213907|      complete|2016-07-12 00:00:00|  duma_4561254076083| 449.0|          1|       2647|   100149285|               \\N|                   \\N|              0|           cod|   7/12/2016|      Net|   449 |2016|    7|        2016-7|7-2016|FY17|        963|        963|\n",
            "| 214268|      complete|2016-07-13 00:00:00|     ajmery_AJ-123-M| 999.0|          1|       1549|   100149527|    Men's Fashion|                   \\N|              0|           cod|   7/13/2016|      Net|   999 |2016|    7|        2016-7|7-2016|FY17|       1049|       1049|\n",
            "| 214418|      complete|2016-07-14 00:00:00|       itter_AB 1211| 250.0|          1|        250|   100149635|Beauty & Grooming|          C-LHC-30384|              0|           cod|   7/14/2016|      Net|   250 |2016|    7|        2016-7|7-2016|FY17|        163|        163|\n",
            "| 214442|      complete|2016-07-14 00:00:00|Al Muhafiz Sohan ...| 570.0|          1|        570|   100149653|          Soghaat|                   \\N|              0|           cod|   7/14/2016|      Net|   570 |2016|    7|        2016-7|7-2016|FY17|       1098|       1098|\n",
            "| 214719|      complete|2016-07-14 00:00:00|RS_Rehmat-e-Shere...| 950.0|          1|        950|   100149903|               \\N|         R-KHE-103983|              0|       mcblite|   7/14/2016|      Net|   950 |2016|    7|        2016-7|7-2016|FY17|       1099|       1099|\n",
            "| 214857|      canceled|2016-07-15 00:00:00|    RS_Chum Chum Tin| 455.0|          1|        455|   100150003|          Soghaat|                   \\N|              0|       mcblite|   7/15/2016|    Gross|   455 |2016|    7|        2016-7|7-2016|FY17|       1161|       1161|\n",
            "| 215171|      complete|2016-07-15 00:00:00|RS_Rehmat-e-Shere...| 950.0|          1|        950|   100150246|               \\N|         R-KHE-103983|              0|       mcblite|   7/15/2016|      Net|   950 |2016|    7|        2016-7|7-2016|FY17|       1099|       1099|\n",
            "| 214983|      canceled|2016-07-15 00:00:00|GFC_Louver Bracke...|3700.0|          2|       7400|   100150101|       Appliances|                0KNFM|              0|           cod|   7/15/2016|    Gross| 7,400 |2016|    7|        2016-7|7-2016|FY17|        160|        160|\n",
            "+-------+--------------+-------------------+--------------------+------+-----------+-----------+------------+-----------------+---------------------+---------------+--------------+------------+---------+-------+----+-----+--------------+------+----+-----------+-----------+\n",
            "only showing top 20 rows\n",
            "\n"
          ],
          "name": "stdout"
        }
      ]
    },
    {
      "cell_type": "code",
      "metadata": {
        "colab": {
          "base_uri": "https://localhost:8080/"
        },
        "id": "0yV13BtrzBoq",
        "outputId": "327bf1f8-a8f2-4f60-df30-eb237ab703a9"
      },
      "source": [
        "df_ecData.printSchema()"
      ],
      "execution_count": 28,
      "outputs": [
        {
          "output_type": "stream",
          "text": [
            "root\n",
            " |-- item_id: string (nullable = true)\n",
            " |-- status: string (nullable = true)\n",
            " |-- created_at: timestamp (nullable = true)\n",
            " |-- sku: string (nullable = true)\n",
            " |-- price: double (nullable = true)\n",
            " |-- qty_ordered: string (nullable = true)\n",
            " |-- grand_total: string (nullable = true)\n",
            " |-- increment_id: string (nullable = true)\n",
            " |-- category_name_1: string (nullable = true)\n",
            " |-- sales_commission_code: string (nullable = true)\n",
            " |-- discount_amount: string (nullable = true)\n",
            " |-- payment_method: string (nullable = true)\n",
            " |-- Working Date: string (nullable = true)\n",
            " |-- BI Status: string (nullable = true)\n",
            " |--  MV : string (nullable = true)\n",
            " |-- Year: string (nullable = true)\n",
            " |-- Month: string (nullable = true)\n",
            " |-- Customer Since: string (nullable = true)\n",
            " |-- M-Y: string (nullable = true)\n",
            " |-- FY: string (nullable = true)\n",
            " |-- Customer ID: string (nullable = true)\n",
            " |-- customer_id: string (nullable = true)\n",
            "\n"
          ],
          "name": "stdout"
        }
      ]
    },
    {
      "cell_type": "code",
      "metadata": {
        "colab": {
          "base_uri": "https://localhost:8080/"
        },
        "id": "4d1A1aJBzD6B",
        "outputId": "74ba689f-7d35-4f69-a0c7-e4aab4d8134d"
      },
      "source": [
        "df_ecData.describe().show()"
      ],
      "execution_count": 29,
      "outputs": [
        {
          "output_type": "stream",
          "text": [
            "+-------+-------------------+------------------+------------------+-----------------+------------------+-----------------+--------------------+---------------+---------------------+------------------+--------------+-------------------+-----------------+------------------+------------------+-----------------+------------------+------+------+------------------+------------------+\n",
            "|summary|            item_id|            status|               sku|            price|       qty_ordered|      grand_total|        increment_id|category_name_1|sales_commission_code|   discount_amount|payment_method|       Working Date|        BI Status|               MV |              Year|            Month|    Customer Since|   M-Y|    FY|       Customer ID|       customer_id|\n",
            "+-------+-------------------+------------------+------------------+-----------------+------------------+-----------------+--------------------+---------------+---------------------+------------------+--------------+-------------------+-----------------+------------------+------------------+-----------------+------------------+------+------+------------------+------------------+\n",
            "|  count|             584535|            584520|            584515|           584524|            584524|           584524|              584524|         584360|               447353|            584524|        584524|             584524|           584524|            584524|            584524|           584524|            584524|584513|584513|            584513|            584513|\n",
            "|   mean|  565667.0742176541|1313.7272727272727|3864.1727272727276| 8236.06409630743|1.2963937500106926|8530.706389193223|1.0035508663377672E8|           null|             Infinity|499.49746870574296|         999.0|  2016.909090909091|4.818181818181818|454.42381548986606| 2017.044117068397|7.167698579843391|           37307.0|  null|  null| 45790.67161960096| 45790.67161960096|\n",
            "| stddev| 200121.17364816947| 700.9234039335669|2852.9975544472204|435291.6903598816| 3.996098469958919|61321.38714761979|  450357.16970719415|           null|                  NaN|1506.9544730700354|           0.0|0.30151134457776363|1.537412229571615| 275.8043498711203|0.7073599984616239|3.486316891725585|13751.784422394063|  null|  null|34415.219539427206|34415.219539427206|\n",
            "|    min|(Frozen)_SC4545FRS\"|              2660|     Huawei Mate 8|              0.0|                 1|             -0.8|                   0|     Appliances|         AO28_L4W3217|                -2|        2,660 |           1/1/2017|            #REF!|              -   |              2016|                1|              #N/A|1-2017|  FY17|              #N/A|              #N/A|\n",
            "|    max|    Blue-4-6 years\"|            refund|      zuni16_319-A|     1.00348151E8|School & Education|               \\N|               49.95|            cod|         Ç-Isb 106989|             Valid| ublcreditcard|           9/9/2017|            Valid|            2017-5|            8-2017|             FY18|             48132|9-2017|  FY19|             99999|             99999|\n",
            "+-------+-------------------+------------------+------------------+-----------------+------------------+-----------------+--------------------+---------------+---------------------+------------------+--------------+-------------------+-----------------+------------------+------------------+-----------------+------------------+------+------+------------------+------------------+\n",
            "\n"
          ],
          "name": "stdout"
        }
      ]
    },
    {
      "cell_type": "code",
      "metadata": {
        "colab": {
          "base_uri": "https://localhost:8080/"
        },
        "id": "GpJB8L_2zv3T",
        "outputId": "e02155b4-e5e3-43dd-bf06-f06b6ffc1aca"
      },
      "source": [
        "df_pandas = df_ecData.toPandas()\n",
        "df_pandas.columns"
      ],
      "execution_count": 30,
      "outputs": [
        {
          "output_type": "execute_result",
          "data": {
            "text/plain": [
              "Index(['item_id', 'status', 'created_at', 'sku', 'price', 'qty_ordered',\n",
              "       'grand_total', 'increment_id', 'category_name_1',\n",
              "       'sales_commission_code', 'discount_amount', 'payment_method',\n",
              "       'Working Date', 'BI Status', ' MV ', 'Year', 'Month', 'Customer Since',\n",
              "       'M-Y', 'FY', 'Customer ID', 'customer_id'],\n",
              "      dtype='object')"
            ]
          },
          "metadata": {
            "tags": []
          },
          "execution_count": 30
        }
      ]
    },
    {
      "cell_type": "code",
      "metadata": {
        "id": "emhF5iMQzzds"
      },
      "source": [
        "df_pandas['item_id'] = df_pandas['item_id'].astype('string')\n",
        "df_pandas['status'] = df_pandas['status'].astype('category')\n",
        "df_pandas['sku'] = df_pandas['sku'].astype('string')\n",
        "df_pandas['qty_ordered'] = df_pandas['qty_ordered'].astype('string')\n",
        "df_pandas['grand_total'] = df_pandas['grand_total'].astype('string')\n",
        "df_pandas['increment_id'] = df_pandas['increment_id'].astype('string')\n",
        "df_pandas['category_name_1'] = df_pandas['category_name_1'].astype('category')\n",
        "df_pandas['sales_commission_code'] = df_pandas['sales_commission_code'].astype('string')\n",
        "df_pandas['discount_amount'] = df_pandas['discount_amount'].astype('string')\n",
        "df_pandas['payment_method'] = df_pandas['payment_method'].astype('category')\n",
        "df_pandas['Working Date'] = df_pandas['Working Date'].astype('datetime64')\n",
        "df_pandas['BI Status'] = df_pandas['BI Status'].astype('category')\n",
        "df_pandas[' MV '] = df_pandas[' MV '].astype('string')\n",
        "df_pandas['Year'] = df_pandas['Year'].astype('string')\n",
        "df_pandas['Month'] = df_pandas['Month'].astype('string')\n",
        "df_pandas['Customer Since'] = df_pandas['Customer Since'].astype('string')\n",
        "df_pandas['M-Y'] = df_pandas['M-Y'].astype('string')\n",
        "df_pandas['FY'] = df_pandas['FY'].astype('string')\n",
        "df_pandas['customer_id'] = df_pandas['customer_id'].astype('string')"
      ],
      "execution_count": 31,
      "outputs": []
    },
    {
      "cell_type": "markdown",
      "metadata": {
        "id": "6OFDIx4jDDaV"
      },
      "source": [
        "# **Analysis of Research Questions**"
      ]
    },
    {
      "cell_type": "markdown",
      "metadata": {
        "id": "OKYEhhYimx6P"
      },
      "source": [
        "***1. Which category has the most popularity in terms of sale? (Descriptive)*** "
      ]
    },
    {
      "cell_type": "code",
      "metadata": {
        "id": "pQNi09e20IGJ"
      },
      "source": [
        "df_ctgr = df_ecData.groupby(sf.col('category_name_1')).agg(sf.count('item_id').alias('no_of_item'))"
      ],
      "execution_count": 32,
      "outputs": []
    },
    {
      "cell_type": "code",
      "metadata": {
        "colab": {
          "base_uri": "https://localhost:8080/"
        },
        "id": "gZu5SpS10KZc",
        "outputId": "182a9075-5a9b-40d3-e42c-290553a3c2ad"
      },
      "source": [
        "df_ctgr.show()"
      ],
      "execution_count": 33,
      "outputs": [
        {
          "output_type": "stream",
          "text": [
            "+------------------+----------+\n",
            "|   category_name_1|no_of_item|\n",
            "+------------------+----------+\n",
            "|               cod|         7|\n",
            "|School & Education|      3477|\n",
            "|     Entertainment|     26326|\n",
            "|       Kids & Baby|     16485|\n",
            "|         Computing|     15933|\n",
            "|                \\N|      7850|\n",
            "|              null|       175|\n",
            "| Mobiles & Tablets|    115710|\n",
            "| Beauty & Grooming|     41496|\n",
            "|   Health & Sports|     17502|\n",
            "|           Soghaat|     34011|\n",
            "|             Books|      1870|\n",
            "|            Others|     29218|\n",
            "|           Payaxis|         4|\n",
            "|        Superstore|     43613|\n",
            "|     Men's Fashion|     92220|\n",
            "|        Appliances|     52413|\n",
            "|   Women's Fashion|     59721|\n",
            "|     Home & Living|     26504|\n",
            "+------------------+----------+\n",
            "\n"
          ],
          "name": "stdout"
        }
      ]
    },
    {
      "cell_type": "code",
      "metadata": {
        "id": "ewaBnHg60TW7"
      },
      "source": [
        "df_ecData.createOrReplaceTempView(\"eCommerce_view\")"
      ],
      "execution_count": 34,
      "outputs": []
    },
    {
      "cell_type": "code",
      "metadata": {
        "colab": {
          "base_uri": "https://localhost:8080/",
          "height": 542
        },
        "id": "C0tz0LvT0V6o",
        "outputId": "0c9b6c4c-2375-40f0-f692-566f43932e21"
      },
      "source": [
        "df_visual = spark.sql(\"SELECT category_name_1, count(item_id) as no_of_item FROM eCommerce_view group by category_name_1 order by no_of_item desc\")\n",
        "fig = px.bar(df_visual.toPandas(), x='category_name_1', y='no_of_item', color= 'no_of_item', color_continuous_scale= 'rainbow')\n",
        "fig.show()"
      ],
      "execution_count": 35,
      "outputs": [
        {
          "output_type": "display_data",
          "data": {
            "text/html": [
              "<html>\n",
              "<head><meta charset=\"utf-8\" /></head>\n",
              "<body>\n",
              "    <div>\n",
              "            <script src=\"https://cdnjs.cloudflare.com/ajax/libs/mathjax/2.7.5/MathJax.js?config=TeX-AMS-MML_SVG\"></script><script type=\"text/javascript\">if (window.MathJax) {MathJax.Hub.Config({SVG: {font: \"STIX-Web\"}});}</script>\n",
              "                <script type=\"text/javascript\">window.PlotlyConfig = {MathJaxConfig: 'local'};</script>\n",
              "        <script src=\"https://cdn.plot.ly/plotly-latest.min.js\"></script>    \n",
              "            <div id=\"6f061123-76b8-4e2a-af8b-4321a3a7b588\" class=\"plotly-graph-div\" style=\"height:525px; width:100%;\"></div>\n",
              "            <script type=\"text/javascript\">\n",
              "                \n",
              "                    window.PLOTLYENV=window.PLOTLYENV || {};\n",
              "                    \n",
              "                if (document.getElementById(\"6f061123-76b8-4e2a-af8b-4321a3a7b588\")) {\n",
              "                    Plotly.newPlot(\n",
              "                        '6f061123-76b8-4e2a-af8b-4321a3a7b588',\n",
              "                        [{\"alignmentgroup\": \"True\", \"hoverlabel\": {\"namelength\": 0}, \"hovertemplate\": \"category_name_1=%{x}<br>no_of_item=%{marker.color}\", \"legendgroup\": \"\", \"marker\": {\"color\": [115710, 92220, 59721, 52413, 43613, 41496, 34011, 29218, 26504, 26326, 17502, 16485, 15933, 7850, 3477, 1870, 175, 7, 4], \"coloraxis\": \"coloraxis\"}, \"name\": \"\", \"offsetgroup\": \"\", \"orientation\": \"v\", \"showlegend\": false, \"textposition\": \"auto\", \"type\": \"bar\", \"x\": [\"Mobiles & Tablets\", \"Men's Fashion\", \"Women's Fashion\", \"Appliances\", \"Superstore\", \"Beauty & Grooming\", \"Soghaat\", \"Others\", \"Home & Living\", \"Entertainment\", \"Health & Sports\", \"Kids & Baby\", \"Computing\", \"\\\\N\", \"School & Education\", \"Books\", null, \"cod\", \"Payaxis\"], \"xaxis\": \"x\", \"y\": [115710, 92220, 59721, 52413, 43613, 41496, 34011, 29218, 26504, 26326, 17502, 16485, 15933, 7850, 3477, 1870, 175, 7, 4], \"yaxis\": \"y\"}],\n",
              "                        {\"barmode\": \"relative\", \"coloraxis\": {\"colorbar\": {\"title\": {\"text\": \"no_of_item\"}}, \"colorscale\": [[0.0, \"rgb(150,0,90)\"], [0.125, \"rgb(0,0,200)\"], [0.25, \"rgb(0,25,255)\"], [0.375, \"rgb(0,152,255)\"], [0.5, \"rgb(44,255,150)\"], [0.625, \"rgb(151,255,0)\"], [0.75, \"rgb(255,234,0)\"], [0.875, \"rgb(255,111,0)\"], [1.0, \"rgb(255,0,0)\"]]}, \"legend\": {\"tracegroupgap\": 0}, \"margin\": {\"t\": 60}, \"template\": {\"data\": {\"bar\": [{\"error_x\": {\"color\": \"#2a3f5f\"}, \"error_y\": {\"color\": \"#2a3f5f\"}, \"marker\": {\"line\": {\"color\": \"#E5ECF6\", \"width\": 0.5}}, \"type\": \"bar\"}], \"barpolar\": [{\"marker\": {\"line\": {\"color\": \"#E5ECF6\", \"width\": 0.5}}, \"type\": \"barpolar\"}], \"carpet\": [{\"aaxis\": {\"endlinecolor\": \"#2a3f5f\", \"gridcolor\": \"white\", \"linecolor\": \"white\", \"minorgridcolor\": \"white\", \"startlinecolor\": \"#2a3f5f\"}, \"baxis\": {\"endlinecolor\": \"#2a3f5f\", \"gridcolor\": \"white\", \"linecolor\": \"white\", \"minorgridcolor\": \"white\", \"startlinecolor\": \"#2a3f5f\"}, \"type\": \"carpet\"}], \"choropleth\": [{\"colorbar\": {\"outlinewidth\": 0, \"ticks\": \"\"}, \"type\": \"choropleth\"}], \"contour\": [{\"colorbar\": {\"outlinewidth\": 0, \"ticks\": \"\"}, \"colorscale\": [[0.0, \"#0d0887\"], [0.1111111111111111, \"#46039f\"], [0.2222222222222222, \"#7201a8\"], [0.3333333333333333, \"#9c179e\"], [0.4444444444444444, \"#bd3786\"], [0.5555555555555556, \"#d8576b\"], [0.6666666666666666, \"#ed7953\"], [0.7777777777777778, \"#fb9f3a\"], [0.8888888888888888, \"#fdca26\"], [1.0, \"#f0f921\"]], \"type\": \"contour\"}], \"contourcarpet\": [{\"colorbar\": {\"outlinewidth\": 0, \"ticks\": \"\"}, \"type\": \"contourcarpet\"}], \"heatmap\": [{\"colorbar\": {\"outlinewidth\": 0, \"ticks\": \"\"}, \"colorscale\": [[0.0, \"#0d0887\"], [0.1111111111111111, \"#46039f\"], [0.2222222222222222, \"#7201a8\"], [0.3333333333333333, \"#9c179e\"], [0.4444444444444444, \"#bd3786\"], [0.5555555555555556, \"#d8576b\"], [0.6666666666666666, \"#ed7953\"], [0.7777777777777778, \"#fb9f3a\"], [0.8888888888888888, \"#fdca26\"], [1.0, \"#f0f921\"]], \"type\": \"heatmap\"}], \"heatmapgl\": [{\"colorbar\": {\"outlinewidth\": 0, \"ticks\": \"\"}, \"colorscale\": [[0.0, \"#0d0887\"], [0.1111111111111111, \"#46039f\"], [0.2222222222222222, \"#7201a8\"], [0.3333333333333333, \"#9c179e\"], [0.4444444444444444, \"#bd3786\"], [0.5555555555555556, \"#d8576b\"], [0.6666666666666666, \"#ed7953\"], [0.7777777777777778, \"#fb9f3a\"], [0.8888888888888888, \"#fdca26\"], [1.0, \"#f0f921\"]], \"type\": \"heatmapgl\"}], \"histogram\": [{\"marker\": {\"colorbar\": {\"outlinewidth\": 0, \"ticks\": \"\"}}, \"type\": \"histogram\"}], \"histogram2d\": [{\"colorbar\": {\"outlinewidth\": 0, \"ticks\": \"\"}, \"colorscale\": [[0.0, \"#0d0887\"], [0.1111111111111111, \"#46039f\"], [0.2222222222222222, \"#7201a8\"], [0.3333333333333333, \"#9c179e\"], [0.4444444444444444, \"#bd3786\"], [0.5555555555555556, \"#d8576b\"], [0.6666666666666666, \"#ed7953\"], [0.7777777777777778, \"#fb9f3a\"], [0.8888888888888888, \"#fdca26\"], [1.0, \"#f0f921\"]], \"type\": \"histogram2d\"}], \"histogram2dcontour\": [{\"colorbar\": {\"outlinewidth\": 0, \"ticks\": \"\"}, \"colorscale\": [[0.0, \"#0d0887\"], [0.1111111111111111, \"#46039f\"], [0.2222222222222222, \"#7201a8\"], [0.3333333333333333, \"#9c179e\"], [0.4444444444444444, \"#bd3786\"], [0.5555555555555556, \"#d8576b\"], [0.6666666666666666, \"#ed7953\"], [0.7777777777777778, \"#fb9f3a\"], [0.8888888888888888, \"#fdca26\"], [1.0, \"#f0f921\"]], \"type\": \"histogram2dcontour\"}], \"mesh3d\": [{\"colorbar\": {\"outlinewidth\": 0, \"ticks\": \"\"}, \"type\": \"mesh3d\"}], \"parcoords\": [{\"line\": {\"colorbar\": {\"outlinewidth\": 0, \"ticks\": \"\"}}, \"type\": \"parcoords\"}], \"pie\": [{\"automargin\": true, \"type\": \"pie\"}], \"scatter\": [{\"marker\": {\"colorbar\": {\"outlinewidth\": 0, \"ticks\": \"\"}}, \"type\": \"scatter\"}], \"scatter3d\": [{\"line\": {\"colorbar\": {\"outlinewidth\": 0, \"ticks\": \"\"}}, \"marker\": {\"colorbar\": {\"outlinewidth\": 0, \"ticks\": \"\"}}, \"type\": \"scatter3d\"}], \"scattercarpet\": [{\"marker\": {\"colorbar\": {\"outlinewidth\": 0, \"ticks\": \"\"}}, \"type\": \"scattercarpet\"}], \"scattergeo\": [{\"marker\": {\"colorbar\": {\"outlinewidth\": 0, \"ticks\": \"\"}}, \"type\": \"scattergeo\"}], \"scattergl\": [{\"marker\": {\"colorbar\": {\"outlinewidth\": 0, \"ticks\": \"\"}}, \"type\": \"scattergl\"}], \"scattermapbox\": [{\"marker\": {\"colorbar\": {\"outlinewidth\": 0, \"ticks\": \"\"}}, \"type\": \"scattermapbox\"}], \"scatterpolar\": [{\"marker\": {\"colorbar\": {\"outlinewidth\": 0, \"ticks\": \"\"}}, \"type\": \"scatterpolar\"}], \"scatterpolargl\": [{\"marker\": {\"colorbar\": {\"outlinewidth\": 0, \"ticks\": \"\"}}, \"type\": \"scatterpolargl\"}], \"scatterternary\": [{\"marker\": {\"colorbar\": {\"outlinewidth\": 0, \"ticks\": \"\"}}, \"type\": \"scatterternary\"}], \"surface\": [{\"colorbar\": {\"outlinewidth\": 0, \"ticks\": \"\"}, \"colorscale\": [[0.0, \"#0d0887\"], [0.1111111111111111, \"#46039f\"], [0.2222222222222222, \"#7201a8\"], [0.3333333333333333, \"#9c179e\"], [0.4444444444444444, \"#bd3786\"], [0.5555555555555556, \"#d8576b\"], [0.6666666666666666, \"#ed7953\"], [0.7777777777777778, \"#fb9f3a\"], [0.8888888888888888, \"#fdca26\"], [1.0, \"#f0f921\"]], \"type\": \"surface\"}], \"table\": [{\"cells\": {\"fill\": {\"color\": \"#EBF0F8\"}, \"line\": {\"color\": \"white\"}}, \"header\": {\"fill\": {\"color\": \"#C8D4E3\"}, \"line\": {\"color\": \"white\"}}, \"type\": \"table\"}]}, \"layout\": {\"annotationdefaults\": {\"arrowcolor\": \"#2a3f5f\", \"arrowhead\": 0, \"arrowwidth\": 1}, \"coloraxis\": {\"colorbar\": {\"outlinewidth\": 0, \"ticks\": \"\"}}, \"colorscale\": {\"diverging\": [[0, \"#8e0152\"], [0.1, \"#c51b7d\"], [0.2, \"#de77ae\"], [0.3, \"#f1b6da\"], [0.4, \"#fde0ef\"], [0.5, \"#f7f7f7\"], [0.6, \"#e6f5d0\"], [0.7, \"#b8e186\"], [0.8, \"#7fbc41\"], [0.9, \"#4d9221\"], [1, \"#276419\"]], \"sequential\": [[0.0, \"#0d0887\"], [0.1111111111111111, \"#46039f\"], [0.2222222222222222, \"#7201a8\"], [0.3333333333333333, \"#9c179e\"], [0.4444444444444444, \"#bd3786\"], [0.5555555555555556, \"#d8576b\"], [0.6666666666666666, \"#ed7953\"], [0.7777777777777778, \"#fb9f3a\"], [0.8888888888888888, \"#fdca26\"], [1.0, \"#f0f921\"]], \"sequentialminus\": [[0.0, \"#0d0887\"], [0.1111111111111111, \"#46039f\"], [0.2222222222222222, \"#7201a8\"], [0.3333333333333333, \"#9c179e\"], [0.4444444444444444, \"#bd3786\"], [0.5555555555555556, \"#d8576b\"], [0.6666666666666666, \"#ed7953\"], [0.7777777777777778, \"#fb9f3a\"], [0.8888888888888888, \"#fdca26\"], [1.0, \"#f0f921\"]]}, \"colorway\": [\"#636efa\", \"#EF553B\", \"#00cc96\", \"#ab63fa\", \"#FFA15A\", \"#19d3f3\", \"#FF6692\", \"#B6E880\", \"#FF97FF\", \"#FECB52\"], \"font\": {\"color\": \"#2a3f5f\"}, \"geo\": {\"bgcolor\": \"white\", \"lakecolor\": \"white\", \"landcolor\": \"#E5ECF6\", \"showlakes\": true, \"showland\": true, \"subunitcolor\": \"white\"}, \"hoverlabel\": {\"align\": \"left\"}, \"hovermode\": \"closest\", \"mapbox\": {\"style\": \"light\"}, \"paper_bgcolor\": \"white\", \"plot_bgcolor\": \"#E5ECF6\", \"polar\": {\"angularaxis\": {\"gridcolor\": \"white\", \"linecolor\": \"white\", \"ticks\": \"\"}, \"bgcolor\": \"#E5ECF6\", \"radialaxis\": {\"gridcolor\": \"white\", \"linecolor\": \"white\", \"ticks\": \"\"}}, \"scene\": {\"xaxis\": {\"backgroundcolor\": \"#E5ECF6\", \"gridcolor\": \"white\", \"gridwidth\": 2, \"linecolor\": \"white\", \"showbackground\": true, \"ticks\": \"\", \"zerolinecolor\": \"white\"}, \"yaxis\": {\"backgroundcolor\": \"#E5ECF6\", \"gridcolor\": \"white\", \"gridwidth\": 2, \"linecolor\": \"white\", \"showbackground\": true, \"ticks\": \"\", \"zerolinecolor\": \"white\"}, \"zaxis\": {\"backgroundcolor\": \"#E5ECF6\", \"gridcolor\": \"white\", \"gridwidth\": 2, \"linecolor\": \"white\", \"showbackground\": true, \"ticks\": \"\", \"zerolinecolor\": \"white\"}}, \"shapedefaults\": {\"line\": {\"color\": \"#2a3f5f\"}}, \"ternary\": {\"aaxis\": {\"gridcolor\": \"white\", \"linecolor\": \"white\", \"ticks\": \"\"}, \"baxis\": {\"gridcolor\": \"white\", \"linecolor\": \"white\", \"ticks\": \"\"}, \"bgcolor\": \"#E5ECF6\", \"caxis\": {\"gridcolor\": \"white\", \"linecolor\": \"white\", \"ticks\": \"\"}}, \"title\": {\"x\": 0.05}, \"xaxis\": {\"automargin\": true, \"gridcolor\": \"white\", \"linecolor\": \"white\", \"ticks\": \"\", \"title\": {\"standoff\": 15}, \"zerolinecolor\": \"white\", \"zerolinewidth\": 2}, \"yaxis\": {\"automargin\": true, \"gridcolor\": \"white\", \"linecolor\": \"white\", \"ticks\": \"\", \"title\": {\"standoff\": 15}, \"zerolinecolor\": \"white\", \"zerolinewidth\": 2}}}, \"xaxis\": {\"anchor\": \"y\", \"domain\": [0.0, 1.0], \"title\": {\"text\": \"category_name_1\"}}, \"yaxis\": {\"anchor\": \"x\", \"domain\": [0.0, 1.0], \"title\": {\"text\": \"no_of_item\"}}},\n",
              "                        {\"responsive\": true}\n",
              "                    ).then(function(){\n",
              "                            \n",
              "var gd = document.getElementById('6f061123-76b8-4e2a-af8b-4321a3a7b588');\n",
              "var x = new MutationObserver(function (mutations, observer) {{\n",
              "        var display = window.getComputedStyle(gd).display;\n",
              "        if (!display || display === 'none') {{\n",
              "            console.log([gd, 'removed!']);\n",
              "            Plotly.purge(gd);\n",
              "            observer.disconnect();\n",
              "        }}\n",
              "}});\n",
              "\n",
              "// Listen for the removal of the full notebook cells\n",
              "var notebookContainer = gd.closest('#notebook-container');\n",
              "if (notebookContainer) {{\n",
              "    x.observe(notebookContainer, {childList: true});\n",
              "}}\n",
              "\n",
              "// Listen for the clearing of the current output cell\n",
              "var outputEl = gd.closest('.output');\n",
              "if (outputEl) {{\n",
              "    x.observe(outputEl, {childList: true});\n",
              "}}\n",
              "\n",
              "                        })\n",
              "                };\n",
              "                \n",
              "            </script>\n",
              "        </div>\n",
              "</body>\n",
              "</html>"
            ]
          },
          "metadata": {
            "tags": []
          }
        }
      ]
    },
    {
      "cell_type": "markdown",
      "metadata": {
        "id": "NFehdZvhm9nc"
      },
      "source": [
        "***2. How was the sales condition throughout the time from July, 2016 to July, 2018 ? (Diagnostic)***"
      ]
    },
    {
      "cell_type": "code",
      "metadata": {
        "colab": {
          "base_uri": "https://localhost:8080/",
          "height": 542
        },
        "id": "sAt5HWjsm6d7",
        "outputId": "6d430fe4-fcd7-4bb1-b206-b9379a80694d"
      },
      "source": [
        "df_visual = spark.sql(\"SELECT created_at, sum(grand_total) as total FROM eCommerce_view group by created_at order by created_at\")\n",
        "\n",
        "df_visual = df_visual.toPandas()\n",
        "\n",
        "fig = go.Figure([go.Scatter(x=df_visual['created_at'], y=df_visual['total'])])\n",
        "fig.update_xaxes(rangeslider_visible=True)\n",
        "\n",
        "fig.show()"
      ],
      "execution_count": 36,
      "outputs": [
        {
          "output_type": "display_data",
          "data": {
            "text/html": [
              "<html>\n",
              "<head><meta charset=\"utf-8\" /></head>\n",
              "<body>\n",
              "    <div>\n",
              "            <script src=\"https://cdnjs.cloudflare.com/ajax/libs/mathjax/2.7.5/MathJax.js?config=TeX-AMS-MML_SVG\"></script><script type=\"text/javascript\">if (window.MathJax) {MathJax.Hub.Config({SVG: {font: \"STIX-Web\"}});}</script>\n",
              "                <script type=\"text/javascript\">window.PlotlyConfig = {MathJaxConfig: 'local'};</script>\n",
              "        <script src=\"https://cdn.plot.ly/plotly-latest.min.js\"></script>    \n",
              "            <div id=\"363204a8-1f76-48ae-8f3d-ee7f6a56fe4d\" class=\"plotly-graph-div\" style=\"height:525px; width:100%;\"></div>\n",
              "            <script type=\"text/javascript\">\n",
              "                \n",
              "                    window.PLOTLYENV=window.PLOTLYENV || {};\n",
              "                    \n",
              "                if (document.getElementById(\"363204a8-1f76-48ae-8f3d-ee7f6a56fe4d\")) {\n",
              "                    Plotly.newPlot(\n",
              "                        '363204a8-1f76-48ae-8f3d-ee7f6a56fe4d',\n",
              "                        [{\"type\": \"scatter\", \"x\": [null, \"2016-07-01T00:00:00\", \"2016-07-02T00:00:00\", \"2016-07-03T00:00:00\", \"2016-07-04T00:00:00\", \"2016-07-05T00:00:00\", \"2016-07-06T00:00:00\", \"2016-07-07T00:00:00\", \"2016-07-08T00:00:00\", \"2016-07-09T00:00:00\", \"2016-07-10T00:00:00\", \"2016-07-11T00:00:00\", \"2016-07-12T00:00:00\", \"2016-07-13T00:00:00\", \"2016-07-14T00:00:00\", \"2016-07-15T00:00:00\", \"2016-07-16T00:00:00\", \"2016-07-17T00:00:00\", \"2016-07-18T00:00:00\", \"2016-07-19T00:00:00\", \"2016-07-20T00:00:00\", \"2016-07-21T00:00:00\", \"2016-07-22T00:00:00\", \"2016-07-23T00:00:00\", \"2016-07-24T00:00:00\", \"2016-07-25T00:00:00\", \"2016-07-26T00:00:00\", \"2016-07-27T00:00:00\", \"2016-07-28T00:00:00\", \"2016-07-29T00:00:00\", \"2016-07-30T00:00:00\", \"2016-07-31T00:00:00\", \"2016-08-01T00:00:00\", \"2016-08-02T00:00:00\", \"2016-08-03T00:00:00\", \"2016-08-04T00:00:00\", \"2016-08-05T00:00:00\", \"2016-08-06T00:00:00\", \"2016-08-07T00:00:00\", \"2016-08-08T00:00:00\", \"2016-08-09T00:00:00\", \"2016-08-10T00:00:00\", \"2016-08-11T00:00:00\", \"2016-08-12T00:00:00\", \"2016-08-13T00:00:00\", \"2016-08-14T00:00:00\", \"2016-08-15T00:00:00\", \"2016-08-16T00:00:00\", \"2016-08-17T00:00:00\", \"2016-08-18T00:00:00\", \"2016-08-19T00:00:00\", \"2016-08-20T00:00:00\", \"2016-08-21T00:00:00\", \"2016-08-22T00:00:00\", \"2016-08-23T00:00:00\", \"2016-08-24T00:00:00\", \"2016-08-25T00:00:00\", \"2016-08-26T00:00:00\", \"2016-08-27T00:00:00\", \"2016-08-28T00:00:00\", \"2016-08-29T00:00:00\", \"2016-08-30T00:00:00\", \"2016-08-31T00:00:00\", \"2016-09-01T00:00:00\", \"2016-09-02T00:00:00\", \"2016-09-03T00:00:00\", \"2016-09-04T00:00:00\", \"2016-09-05T00:00:00\", \"2016-09-06T00:00:00\", \"2016-09-07T00:00:00\", \"2016-09-08T00:00:00\", \"2016-09-09T00:00:00\", \"2016-09-10T00:00:00\", \"2016-09-11T00:00:00\", \"2016-09-12T00:00:00\", \"2016-09-13T00:00:00\", \"2016-09-14T00:00:00\", \"2016-09-15T00:00:00\", \"2016-09-16T00:00:00\", \"2016-09-17T00:00:00\", \"2016-09-18T00:00:00\", \"2016-09-19T00:00:00\", \"2016-09-20T00:00:00\", \"2016-09-21T00:00:00\", \"2016-09-22T00:00:00\", \"2016-09-23T00:00:00\", \"2016-09-24T00:00:00\", \"2016-09-25T00:00:00\", \"2016-09-26T00:00:00\", \"2016-09-27T00:00:00\", \"2016-09-28T00:00:00\", \"2016-09-29T00:00:00\", \"2016-09-30T00:00:00\", \"2016-10-01T00:00:00\", \"2016-10-02T00:00:00\", \"2016-10-03T00:00:00\", \"2016-10-04T00:00:00\", \"2016-10-05T00:00:00\", \"2016-10-06T00:00:00\", \"2016-10-07T00:00:00\", \"2016-10-08T00:00:00\", \"2016-10-09T00:00:00\", \"2016-10-10T00:00:00\", \"2016-10-11T00:00:00\", \"2016-10-12T00:00:00\", \"2016-10-13T00:00:00\", \"2016-10-14T00:00:00\", \"2016-10-15T00:00:00\", \"2016-10-16T00:00:00\", \"2016-10-17T00:00:00\", \"2016-10-18T00:00:00\", \"2016-10-19T00:00:00\", \"2016-10-20T00:00:00\", \"2016-10-21T00:00:00\", \"2016-10-22T00:00:00\", \"2016-10-23T00:00:00\", \"2016-10-24T00:00:00\", \"2016-10-25T00:00:00\", \"2016-10-26T00:00:00\", \"2016-10-27T00:00:00\", \"2016-10-28T00:00:00\", \"2016-10-29T00:00:00\", \"2016-10-30T00:00:00\", \"2016-10-31T00:00:00\", \"2016-11-01T00:00:00\", \"2016-11-02T00:00:00\", \"2016-11-03T00:00:00\", \"2016-11-04T00:00:00\", \"2016-11-05T00:00:00\", \"2016-11-06T00:00:00\", \"2016-11-07T00:00:00\", \"2016-11-08T00:00:00\", \"2016-11-09T00:00:00\", \"2016-11-10T00:00:00\", \"2016-11-11T00:00:00\", \"2016-11-12T00:00:00\", \"2016-11-13T00:00:00\", \"2016-11-14T00:00:00\", \"2016-11-15T00:00:00\", \"2016-11-16T00:00:00\", \"2016-11-17T00:00:00\", \"2016-11-18T00:00:00\", \"2016-11-19T00:00:00\", \"2016-11-20T00:00:00\", \"2016-11-21T00:00:00\", \"2016-11-22T00:00:00\", \"2016-11-23T00:00:00\", \"2016-11-24T00:00:00\", \"2016-11-25T00:00:00\", \"2016-11-26T00:00:00\", \"2016-11-27T00:00:00\", \"2016-11-28T00:00:00\", \"2016-11-29T00:00:00\", \"2016-11-30T00:00:00\", \"2016-12-01T00:00:00\", \"2016-12-02T00:00:00\", \"2016-12-03T00:00:00\", \"2016-12-04T00:00:00\", \"2016-12-05T00:00:00\", \"2016-12-06T00:00:00\", \"2016-12-07T00:00:00\", \"2016-12-08T00:00:00\", \"2016-12-09T00:00:00\", \"2016-12-10T00:00:00\", \"2016-12-11T00:00:00\", \"2016-12-12T00:00:00\", \"2016-12-13T00:00:00\", \"2016-12-14T00:00:00\", \"2016-12-15T00:00:00\", \"2016-12-16T00:00:00\", \"2016-12-17T00:00:00\", \"2016-12-18T00:00:00\", \"2016-12-19T00:00:00\", \"2016-12-20T00:00:00\", \"2016-12-21T00:00:00\", \"2016-12-22T00:00:00\", \"2016-12-23T00:00:00\", \"2016-12-24T00:00:00\", \"2016-12-25T00:00:00\", \"2016-12-26T00:00:00\", \"2016-12-27T00:00:00\", \"2016-12-28T00:00:00\", \"2016-12-29T00:00:00\", \"2016-12-30T00:00:00\", \"2016-12-31T00:00:00\", \"2017-01-01T00:00:00\", \"2017-01-02T00:00:00\", \"2017-01-03T00:00:00\", \"2017-01-04T00:00:00\", \"2017-01-05T00:00:00\", \"2017-01-06T00:00:00\", \"2017-01-07T00:00:00\", \"2017-01-08T00:00:00\", \"2017-01-09T00:00:00\", \"2017-01-10T00:00:00\", \"2017-01-11T00:00:00\", \"2017-01-12T00:00:00\", \"2017-01-13T00:00:00\", \"2017-01-14T00:00:00\", \"2017-01-15T00:00:00\", \"2017-01-16T00:00:00\", \"2017-01-17T00:00:00\", \"2017-01-18T00:00:00\", \"2017-01-19T00:00:00\", \"2017-01-20T00:00:00\", \"2017-01-21T00:00:00\", \"2017-01-22T00:00:00\", \"2017-01-23T00:00:00\", \"2017-01-24T00:00:00\", \"2017-01-25T00:00:00\", \"2017-01-26T00:00:00\", \"2017-01-27T00:00:00\", \"2017-01-28T00:00:00\", \"2017-01-29T00:00:00\", \"2017-01-30T00:00:00\", \"2017-01-31T00:00:00\", \"2017-02-01T00:00:00\", \"2017-02-02T00:00:00\", \"2017-02-03T00:00:00\", \"2017-02-04T00:00:00\", \"2017-02-05T00:00:00\", \"2017-02-06T00:00:00\", \"2017-02-07T00:00:00\", \"2017-02-08T00:00:00\", \"2017-02-09T00:00:00\", \"2017-02-10T00:00:00\", \"2017-02-11T00:00:00\", \"2017-02-12T00:00:00\", \"2017-02-13T00:00:00\", \"2017-02-14T00:00:00\", \"2017-02-15T00:00:00\", \"2017-02-16T00:00:00\", \"2017-02-17T00:00:00\", \"2017-02-18T00:00:00\", \"2017-02-19T00:00:00\", \"2017-02-20T00:00:00\", \"2017-02-21T00:00:00\", \"2017-02-22T00:00:00\", \"2017-02-23T00:00:00\", \"2017-02-24T00:00:00\", \"2017-02-25T00:00:00\", \"2017-02-26T00:00:00\", \"2017-02-27T00:00:00\", \"2017-02-28T00:00:00\", \"2017-03-01T00:00:00\", \"2017-03-02T00:00:00\", \"2017-03-03T00:00:00\", \"2017-03-04T00:00:00\", \"2017-03-05T00:00:00\", \"2017-03-06T00:00:00\", \"2017-03-07T00:00:00\", \"2017-03-08T00:00:00\", \"2017-03-09T00:00:00\", \"2017-03-10T00:00:00\", \"2017-03-11T00:00:00\", \"2017-03-12T00:00:00\", \"2017-03-13T00:00:00\", \"2017-03-14T00:00:00\", \"2017-03-15T00:00:00\", \"2017-03-16T00:00:00\", \"2017-03-17T00:00:00\", \"2017-03-18T00:00:00\", \"2017-03-19T00:00:00\", \"2017-03-20T00:00:00\", \"2017-03-21T00:00:00\", \"2017-03-22T00:00:00\", \"2017-03-23T00:00:00\", \"2017-03-24T00:00:00\", \"2017-03-25T00:00:00\", \"2017-03-26T00:00:00\", \"2017-03-27T00:00:00\", \"2017-03-28T00:00:00\", \"2017-03-29T00:00:00\", \"2017-03-30T00:00:00\", \"2017-03-31T00:00:00\", \"2017-04-01T00:00:00\", \"2017-04-02T00:00:00\", \"2017-04-03T00:00:00\", \"2017-04-04T00:00:00\", \"2017-04-05T00:00:00\", \"2017-04-06T00:00:00\", \"2017-04-07T00:00:00\", \"2017-04-08T00:00:00\", \"2017-04-09T00:00:00\", \"2017-04-10T00:00:00\", \"2017-04-11T00:00:00\", \"2017-04-12T00:00:00\", \"2017-04-13T00:00:00\", \"2017-04-14T00:00:00\", \"2017-04-15T00:00:00\", \"2017-04-16T00:00:00\", \"2017-04-17T00:00:00\", \"2017-04-18T00:00:00\", \"2017-04-19T00:00:00\", \"2017-04-20T00:00:00\", \"2017-04-21T00:00:00\", \"2017-04-22T00:00:00\", \"2017-04-23T00:00:00\", \"2017-04-24T00:00:00\", \"2017-04-25T00:00:00\", \"2017-04-26T00:00:00\", \"2017-04-27T00:00:00\", \"2017-04-28T00:00:00\", \"2017-04-29T00:00:00\", \"2017-04-30T00:00:00\", \"2017-05-01T00:00:00\", \"2017-05-02T00:00:00\", \"2017-05-03T00:00:00\", \"2017-05-04T00:00:00\", \"2017-05-05T00:00:00\", \"2017-05-06T00:00:00\", \"2017-05-07T00:00:00\", \"2017-05-08T00:00:00\", \"2017-05-09T00:00:00\", \"2017-05-10T00:00:00\", \"2017-05-11T00:00:00\", \"2017-05-12T00:00:00\", \"2017-05-13T00:00:00\", \"2017-05-14T00:00:00\", \"2017-05-15T00:00:00\", \"2017-05-16T00:00:00\", \"2017-05-17T00:00:00\", \"2017-05-18T00:00:00\", \"2017-05-19T00:00:00\", \"2017-05-20T00:00:00\", \"2017-05-21T00:00:00\", \"2017-05-22T00:00:00\", \"2017-05-23T00:00:00\", \"2017-05-24T00:00:00\", \"2017-05-25T00:00:00\", \"2017-05-26T00:00:00\", \"2017-05-27T00:00:00\", \"2017-05-28T00:00:00\", \"2017-05-29T00:00:00\", \"2017-05-30T00:00:00\", \"2017-05-31T00:00:00\", \"2017-06-01T00:00:00\", \"2017-06-02T00:00:00\", \"2017-06-03T00:00:00\", \"2017-06-04T00:00:00\", \"2017-06-05T00:00:00\", \"2017-06-06T00:00:00\", \"2017-06-07T00:00:00\", \"2017-06-08T00:00:00\", \"2017-06-09T00:00:00\", \"2017-06-10T00:00:00\", \"2017-06-11T00:00:00\", \"2017-06-12T00:00:00\", \"2017-06-13T00:00:00\", \"2017-06-14T00:00:00\", \"2017-06-15T00:00:00\", \"2017-06-16T00:00:00\", \"2017-06-17T00:00:00\", \"2017-06-18T00:00:00\", \"2017-06-19T00:00:00\", \"2017-06-20T00:00:00\", \"2017-06-21T00:00:00\", \"2017-06-22T00:00:00\", \"2017-06-23T00:00:00\", \"2017-06-24T00:00:00\", \"2017-06-25T00:00:00\", \"2017-06-26T00:00:00\", \"2017-06-27T00:00:00\", \"2017-06-28T00:00:00\", \"2017-06-29T00:00:00\", \"2017-06-30T00:00:00\", \"2017-07-01T00:00:00\", \"2017-07-02T00:00:00\", \"2017-07-03T00:00:00\", \"2017-07-04T00:00:00\", \"2017-07-05T00:00:00\", \"2017-07-06T00:00:00\", \"2017-07-07T00:00:00\", \"2017-07-08T00:00:00\", \"2017-07-09T00:00:00\", \"2017-07-10T00:00:00\", \"2017-07-11T00:00:00\", \"2017-07-12T00:00:00\", \"2017-07-13T00:00:00\", \"2017-07-14T00:00:00\", \"2017-07-15T00:00:00\", \"2017-07-16T00:00:00\", \"2017-07-17T00:00:00\", \"2017-07-18T00:00:00\", \"2017-07-19T00:00:00\", \"2017-07-20T00:00:00\", \"2017-07-21T00:00:00\", \"2017-07-22T00:00:00\", \"2017-07-23T00:00:00\", \"2017-07-24T00:00:00\", \"2017-07-25T00:00:00\", \"2017-07-26T00:00:00\", \"2017-07-27T00:00:00\", \"2017-07-28T00:00:00\", \"2017-07-29T00:00:00\", \"2017-07-30T00:00:00\", \"2017-07-31T00:00:00\", \"2017-08-01T00:00:00\", \"2017-08-02T00:00:00\", \"2017-08-03T00:00:00\", \"2017-08-04T00:00:00\", \"2017-08-05T00:00:00\", \"2017-08-06T00:00:00\", \"2017-08-07T00:00:00\", \"2017-08-08T00:00:00\", \"2017-08-09T00:00:00\", \"2017-08-10T00:00:00\", \"2017-08-11T00:00:00\", \"2017-08-12T00:00:00\", \"2017-08-13T00:00:00\", \"2017-08-14T00:00:00\", \"2017-08-15T00:00:00\", \"2017-08-16T00:00:00\", \"2017-08-17T00:00:00\", \"2017-08-18T00:00:00\", \"2017-08-19T00:00:00\", \"2017-08-20T00:00:00\", \"2017-08-21T00:00:00\", \"2017-08-22T00:00:00\", \"2017-08-23T00:00:00\", \"2017-08-24T00:00:00\", \"2017-08-25T00:00:00\", \"2017-08-26T00:00:00\", \"2017-08-27T00:00:00\", \"2017-08-28T00:00:00\", \"2017-08-29T00:00:00\", \"2017-08-30T00:00:00\", \"2017-08-31T00:00:00\", \"2017-09-01T00:00:00\", \"2017-09-02T00:00:00\", \"2017-09-03T00:00:00\", \"2017-09-04T00:00:00\", \"2017-09-05T00:00:00\", \"2017-09-06T00:00:00\", \"2017-09-07T00:00:00\", \"2017-09-08T00:00:00\", \"2017-09-09T00:00:00\", \"2017-09-10T00:00:00\", \"2017-09-11T00:00:00\", \"2017-09-12T00:00:00\", \"2017-09-13T00:00:00\", \"2017-09-14T00:00:00\", \"2017-09-15T00:00:00\", \"2017-09-16T00:00:00\", \"2017-09-17T00:00:00\", \"2017-09-18T00:00:00\", \"2017-09-19T00:00:00\", \"2017-09-20T00:00:00\", \"2017-09-21T00:00:00\", \"2017-09-22T00:00:00\", \"2017-09-23T00:00:00\", \"2017-09-24T00:00:00\", \"2017-09-25T00:00:00\", \"2017-09-26T00:00:00\", \"2017-09-27T00:00:00\", \"2017-09-28T00:00:00\", \"2017-09-29T00:00:00\", \"2017-09-30T00:00:00\", \"2017-10-01T00:00:00\", \"2017-10-02T00:00:00\", \"2017-10-03T00:00:00\", \"2017-10-04T00:00:00\", \"2017-10-05T00:00:00\", \"2017-10-06T00:00:00\", \"2017-10-07T00:00:00\", \"2017-10-08T00:00:00\", \"2017-10-09T00:00:00\", \"2017-10-10T00:00:00\", \"2017-10-11T00:00:00\", \"2017-10-12T00:00:00\", \"2017-10-13T00:00:00\", \"2017-10-14T00:00:00\", \"2017-10-15T00:00:00\", \"2017-10-16T00:00:00\", \"2017-10-17T00:00:00\", \"2017-10-18T00:00:00\", \"2017-10-19T00:00:00\", \"2017-10-20T00:00:00\", \"2017-10-21T00:00:00\", \"2017-10-22T00:00:00\", \"2017-10-23T00:00:00\", \"2017-10-24T00:00:00\", \"2017-10-25T00:00:00\", \"2017-10-26T00:00:00\", \"2017-10-27T00:00:00\", \"2017-10-28T00:00:00\", \"2017-10-29T00:00:00\", \"2017-10-30T00:00:00\", \"2017-10-31T00:00:00\", \"2017-11-01T00:00:00\", \"2017-11-02T00:00:00\", \"2017-11-03T00:00:00\", \"2017-11-04T00:00:00\", \"2017-11-05T00:00:00\", \"2017-11-06T00:00:00\", \"2017-11-07T00:00:00\", \"2017-11-08T00:00:00\", \"2017-11-09T00:00:00\", \"2017-11-10T00:00:00\", \"2017-11-11T00:00:00\", \"2017-11-12T00:00:00\", \"2017-11-13T00:00:00\", \"2017-11-14T00:00:00\", \"2017-11-15T00:00:00\", \"2017-11-16T00:00:00\", \"2017-11-17T00:00:00\", \"2017-11-18T00:00:00\", \"2017-11-19T00:00:00\", \"2017-11-20T00:00:00\", \"2017-11-21T00:00:00\", \"2017-11-22T00:00:00\", \"2017-11-23T00:00:00\", \"2017-11-24T00:00:00\", \"2017-11-25T00:00:00\", \"2017-11-26T00:00:00\", \"2017-11-27T00:00:00\", \"2017-11-28T00:00:00\", \"2017-11-29T00:00:00\", \"2017-11-30T00:00:00\", \"2017-12-01T00:00:00\", \"2017-12-02T00:00:00\", \"2017-12-03T00:00:00\", \"2017-12-04T00:00:00\", \"2017-12-05T00:00:00\", \"2017-12-06T00:00:00\", \"2017-12-07T00:00:00\", \"2017-12-08T00:00:00\", \"2017-12-09T00:00:00\", \"2017-12-10T00:00:00\", \"2017-12-11T00:00:00\", \"2017-12-12T00:00:00\", \"2017-12-13T00:00:00\", \"2017-12-14T00:00:00\", \"2017-12-15T00:00:00\", \"2017-12-16T00:00:00\", \"2017-12-17T00:00:00\", \"2017-12-18T00:00:00\", \"2017-12-19T00:00:00\", \"2017-12-20T00:00:00\", \"2017-12-21T00:00:00\", \"2017-12-22T00:00:00\", \"2017-12-23T00:00:00\", \"2017-12-24T00:00:00\", \"2017-12-25T00:00:00\", \"2017-12-26T00:00:00\", \"2017-12-27T00:00:00\", \"2017-12-28T00:00:00\", \"2017-12-29T00:00:00\", \"2017-12-30T00:00:00\", \"2017-12-31T00:00:00\", \"2018-01-01T00:00:00\", \"2018-01-02T00:00:00\", \"2018-01-03T00:00:00\", \"2018-01-04T00:00:00\", \"2018-01-05T00:00:00\", \"2018-01-06T00:00:00\", \"2018-01-07T00:00:00\", \"2018-01-08T00:00:00\", \"2018-01-09T00:00:00\", \"2018-01-10T00:00:00\", \"2018-01-11T00:00:00\", \"2018-01-12T00:00:00\", \"2018-01-13T00:00:00\", \"2018-01-14T00:00:00\", \"2018-01-15T00:00:00\", \"2018-01-16T00:00:00\", \"2018-01-17T00:00:00\", \"2018-01-18T00:00:00\", \"2018-01-19T00:00:00\", \"2018-01-20T00:00:00\", \"2018-01-21T00:00:00\", \"2018-01-22T00:00:00\", \"2018-01-23T00:00:00\", \"2018-01-24T00:00:00\", \"2018-01-25T00:00:00\", \"2018-01-26T00:00:00\", \"2018-01-27T00:00:00\", \"2018-01-28T00:00:00\", \"2018-01-29T00:00:00\", \"2018-01-30T00:00:00\", \"2018-01-31T00:00:00\", \"2018-02-01T00:00:00\", \"2018-02-02T00:00:00\", \"2018-02-03T00:00:00\", \"2018-02-04T00:00:00\", \"2018-02-05T00:00:00\", \"2018-02-06T00:00:00\", \"2018-02-07T00:00:00\", \"2018-02-08T00:00:00\", \"2018-02-09T00:00:00\", \"2018-02-10T00:00:00\", \"2018-02-11T00:00:00\", \"2018-02-12T00:00:00\", \"2018-02-13T00:00:00\", \"2018-02-14T00:00:00\", \"2018-02-15T00:00:00\", \"2018-02-16T00:00:00\", \"2018-02-17T00:00:00\", \"2018-02-18T00:00:00\", \"2018-02-19T00:00:00\", \"2018-02-20T00:00:00\", \"2018-02-21T00:00:00\", \"2018-02-22T00:00:00\", \"2018-02-23T00:00:00\", \"2018-02-24T00:00:00\", \"2018-02-25T00:00:00\", \"2018-02-26T00:00:00\", \"2018-02-27T00:00:00\", \"2018-02-28T00:00:00\", \"2018-03-01T00:00:00\", \"2018-03-02T00:00:00\", \"2018-03-03T00:00:00\", \"2018-03-04T00:00:00\", \"2018-03-05T00:00:00\", \"2018-03-06T00:00:00\", \"2018-03-07T00:00:00\", \"2018-03-08T00:00:00\", \"2018-03-09T00:00:00\", \"2018-03-10T00:00:00\", \"2018-03-11T00:00:00\", \"2018-03-12T00:00:00\", \"2018-03-13T00:00:00\", \"2018-03-14T00:00:00\", \"2018-03-15T00:00:00\", \"2018-03-16T00:00:00\", \"2018-03-17T00:00:00\", \"2018-03-18T00:00:00\", \"2018-03-19T00:00:00\", \"2018-03-20T00:00:00\", \"2018-03-21T00:00:00\", \"2018-03-22T00:00:00\", \"2018-03-23T00:00:00\", \"2018-03-24T00:00:00\", \"2018-03-25T00:00:00\", \"2018-03-26T00:00:00\", \"2018-03-27T00:00:00\", \"2018-03-28T00:00:00\", \"2018-03-29T00:00:00\", \"2018-03-30T00:00:00\", \"2018-03-31T00:00:00\", \"2018-04-01T00:00:00\", \"2018-04-02T00:00:00\", \"2018-04-03T00:00:00\", \"2018-04-04T00:00:00\", \"2018-04-05T00:00:00\", \"2018-04-06T00:00:00\", \"2018-04-07T00:00:00\", \"2018-04-08T00:00:00\", \"2018-04-09T00:00:00\", \"2018-04-10T00:00:00\", \"2018-04-11T00:00:00\", \"2018-04-12T00:00:00\", \"2018-04-13T00:00:00\", \"2018-04-14T00:00:00\", \"2018-04-15T00:00:00\", \"2018-04-16T00:00:00\", \"2018-04-17T00:00:00\", \"2018-04-18T00:00:00\", \"2018-04-19T00:00:00\", \"2018-04-20T00:00:00\", \"2018-04-21T00:00:00\", \"2018-04-22T00:00:00\", \"2018-04-23T00:00:00\", \"2018-04-24T00:00:00\", \"2018-04-25T00:00:00\", \"2018-04-26T00:00:00\", \"2018-04-27T00:00:00\", \"2018-04-28T00:00:00\", \"2018-04-29T00:00:00\", \"2018-04-30T00:00:00\", \"2018-05-01T00:00:00\", \"2018-05-02T00:00:00\", \"2018-05-03T00:00:00\", \"2018-05-04T00:00:00\", \"2018-05-05T00:00:00\", \"2018-05-06T00:00:00\", \"2018-05-07T00:00:00\", \"2018-05-08T00:00:00\", \"2018-05-09T00:00:00\", \"2018-05-10T00:00:00\", \"2018-05-11T00:00:00\", \"2018-05-12T00:00:00\", \"2018-05-13T00:00:00\", \"2018-05-14T00:00:00\", \"2018-05-15T00:00:00\", \"2018-05-16T00:00:00\", \"2018-05-17T00:00:00\", \"2018-05-18T00:00:00\", \"2018-05-19T00:00:00\", \"2018-05-20T00:00:00\", \"2018-05-21T00:00:00\", \"2018-05-22T00:00:00\", \"2018-05-23T00:00:00\", \"2018-05-24T00:00:00\", \"2018-05-25T00:00:00\", \"2018-05-26T00:00:00\", \"2018-05-27T00:00:00\", \"2018-05-28T00:00:00\", \"2018-05-29T00:00:00\", \"2018-05-30T00:00:00\", \"2018-05-31T00:00:00\", \"2018-06-01T00:00:00\", \"2018-06-02T00:00:00\", \"2018-06-03T00:00:00\", \"2018-06-04T00:00:00\", \"2018-06-05T00:00:00\", \"2018-06-06T00:00:00\", \"2018-06-07T00:00:00\", \"2018-06-08T00:00:00\", \"2018-06-09T00:00:00\", \"2018-06-10T00:00:00\", \"2018-06-11T00:00:00\", \"2018-06-12T00:00:00\", \"2018-06-13T00:00:00\", \"2018-06-14T00:00:00\", \"2018-06-15T00:00:00\", \"2018-06-16T00:00:00\", \"2018-06-17T00:00:00\", \"2018-06-18T00:00:00\", \"2018-06-19T00:00:00\", \"2018-06-20T00:00:00\", \"2018-06-21T00:00:00\", \"2018-06-22T00:00:00\", \"2018-06-23T00:00:00\", \"2018-06-24T00:00:00\", \"2018-06-25T00:00:00\", \"2018-06-26T00:00:00\", \"2018-06-27T00:00:00\", \"2018-06-28T00:00:00\", \"2018-06-29T00:00:00\", \"2018-06-30T00:00:00\", \"2018-07-01T00:00:00\", \"2018-07-02T00:00:00\", \"2018-07-03T00:00:00\", \"2018-07-04T00:00:00\", \"2018-07-05T00:00:00\", \"2018-07-06T00:00:00\", \"2018-07-07T00:00:00\", \"2018-07-08T00:00:00\", \"2018-07-09T00:00:00\", \"2018-07-10T00:00:00\", \"2018-07-11T00:00:00\", \"2018-07-12T00:00:00\", \"2018-07-13T00:00:00\", \"2018-07-14T00:00:00\", \"2018-07-15T00:00:00\", \"2018-07-16T00:00:00\", \"2018-07-17T00:00:00\", \"2018-07-18T00:00:00\", \"2018-07-19T00:00:00\", \"2018-07-20T00:00:00\", \"2018-07-21T00:00:00\", \"2018-07-22T00:00:00\", \"2018-07-23T00:00:00\", \"2018-07-24T00:00:00\", \"2018-07-25T00:00:00\", \"2018-07-26T00:00:00\", \"2018-07-27T00:00:00\", \"2018-07-28T00:00:00\", \"2018-07-29T00:00:00\", \"2018-07-30T00:00:00\", \"2018-07-31T00:00:00\", \"2018-08-01T00:00:00\", \"2018-08-02T00:00:00\", \"2018-08-03T00:00:00\", \"2018-08-04T00:00:00\", \"2018-08-05T00:00:00\", \"2018-08-06T00:00:00\", \"2018-08-07T00:00:00\", \"2018-08-08T00:00:00\", \"2018-08-09T00:00:00\", \"2018-08-10T00:00:00\", \"2018-08-11T00:00:00\", \"2018-08-12T00:00:00\", \"2018-08-13T00:00:00\", \"2018-08-14T00:00:00\", \"2018-08-15T00:00:00\", \"2018-08-16T00:00:00\", \"2018-08-17T00:00:00\", \"2018-08-18T00:00:00\", \"2018-08-19T00:00:00\", \"2018-08-20T00:00:00\", \"2018-08-21T00:00:00\", \"2018-08-22T00:00:00\", \"2018-08-23T00:00:00\", \"2018-08-24T00:00:00\", \"2018-08-25T00:00:00\", \"2018-08-26T00:00:00\", \"2018-08-27T00:00:00\", \"2018-08-28T00:00:00\"], \"y\": [null, 1301026.75, 1408450.48, 2215490.88, 1094080.25, 913053.5, 93462.0, 160988.0, 436161.14999999997, 1149067.51, 488953.0, 892549.04, 1155577.1, 2691881.0, 1328075.0, 1591693.5, 451034.8, 526894.09, 1437304.0, 1182663.0, 847459.0, 1650627.23, 1438525.0, 2225287.0, 1989939.0, 2292310.0, 2464227.920000001, 1466343.52, 2550235.65, 2710176.9, 2361596.0, 771495.0, 2087514.3999999997, 1877198.0, 1580176.25, 1363589.0, 1241056.25, 1381198.4, 955587.0, 1340509.88, 1479418.71, 1871892.15, 1056958.8, 1675266.7400000002, 830812.3, 1543560.5, 1719464.1300000001, 5595669.9, 1170299.65, 1545196.88, 7040375.0, 902878.5, 937166.25, 1995272.0, 2826944.51, 1979621.0, 1522978.5, 1249210.5, 877143.0, 808083.0, 2294704.5, 1593831.0, 1892154.0, 2433351.25, 1164390.5, 1691615.0, 1375352.25, 2094735.0, 1857812.8900000001, 1905900.0, 1924947.0, 1418442.5, 1796175.5, 852316.5, 585264.5, 327274.0, 969407.0, 796231.3999999999, 1282292.5, 1127379.15, 741501.0, 1933779.5, 1412786.8, 989173.0, 2442489.25, 1725858.9300000002, 1116606.5, 2514108.5, 5799346.5, 4020866.2999999984, 12398450.649999995, 13580265.05, 18031213.420000006, 4515368.3500000015, 1714993.25, 2127866.95, 3571879.7, 2048152.55, 6106431.0, 3021346.75, 2204955.0, 2075669.7000000002, 2394628.5, 1766134.0, 1576842.9000000001, 2756309.7, 1699252.4, 3893594.0999999996, 2190628.96, 3197726.519999999, 6165562.05, 2409544.7199999997, 2456924.58, 2174517.4000000004, 3685644.799999999, 3117019.3, 7077619.159999999, 5683354.250000001, 2316018.0, 5294087.3, 1761815.44, 6082211.92, 1306565.0, 1673384.4800000002, 3612270.29, 2867485.0, 4860481.0, 2294376.06, 3239229.5, 897209.0, 2419289.79, 3118921.0, 3479131.0, 2059444.5, 2564656.2600000002, 1423575.7999999998, 1717065.26, 2176311.5, 2595983.5, 2499067.93, 1627989.0, 7107271.760000001, 8928508.9, 6108685.18, 8698481.149999999, 13812524.380000005, 38248853.099999994, 32428304.869999994, 68077115.70000002, 15973391.409999996, 10642708.34, 5548752.52, 4597063.16, 4680387.88, 3039436.45, 1980070.7899999998, 2528500.1, 2279151.7, 3061829.510000001, 4637811.910000001, 4156615.4000000004, 2947785.4899999993, 2502120.9499999993, 2428458.04, 1369188.8, 1234262.5499999998, 4083972.82, 2492803.8000000003, 3001596.0999999996, 3998413.6, 3026549.0, 1883584.6, 2576537.78, 3525348.0, 2989473.13, 2615928.0000000005, 2388930.95, 2523432.1, 1820359.6, 3306024.0999999996, 2273819.81, 2462747.2199999997, 3089912.76, 3976302.09, 5176710.370000001, 3137663.0, 5807952.6, 8228821.7, 8481439.85, 5612300.46, 4315241.879999999, 6041509.779999999, 3805492.67, 7498591.399999999, 5090971.04, 12931449.22, 3746532.4, 2107163.02, 1487099.2200000002, 1192727.5, 4141562.2, 1860840.0, 3075348.0, 2512955.1300000004, 1842528.0, 1546502.95, 1200942.5, 3389362.24, 2540315.26, 2280514.12, 2434180.9, 2322027.5, 2278857.75, 1126514.1, 2708922.27, 4201874.83, 2150226.5, 3982308.0, 3250595.699999999, 4849729.0, 3136207.5, 7558775.560000005, 4427686.56, 3396157.4799999995, 3845900.1799999992, 3719518.78, 2984969.659999999, 1752128.0, 3190389.1199999996, 2341386.24, 3230711.5, 2712083.0, 2024930.0, 3482706.15, 1020703.5, 2053788.71, 3077886.92, 2436156.65, 3161162.639999999, 3070952.5, 2898069.3, 2887040.0, 3418284.65, 3065746.7, 2993601.099999999, 3136982.749999999, 2735102.8, 1555587.6, 6087382.8, 5997470.800000001, 5697131.470000001, 6154683.960000001, 3195251.999999999, 1951479.97, 1887790.21, 1698107.0, 2196650.5, 2369398.0, 1867072.5, 2495017.88, 2700149.0999999996, 2990748.0, 1837814.0, 4087162.4, 4090744.9, 10228200.659999998, 12076217.549999999, 10200772.040000003, 6233190.739999999, 5311708.740000004, 8867123.0, 5928098.0, 8092793.229999999, 2980149.5, 2553392.97, 2043426.34, 2854840.9400000004, 4928550.0, 3202619.3299999996, 3010154.5399999996, 4332453.079999999, 3250095.0, 4822951.75, 5253328.0, 5092191.0, 4987499.5, 4801164.3, 4789626.399999998, 14583490.570000002, 16355122.379999997, 3963597.8, 11201523.0, 5528556.75, 7172900.0, 6278386.450000003, 3863751.8, 2141642.0, 959250.79, 5219768.209999998, 7041061.060000001, 5205304.110000003, 5534677.6400000015, 6187575.119999997, 4053953.0, 2322411.11, 1545694.84, 1666704.0, 2978767.959999999, 3217185.739999999, 2662884.3100000005, 1641429.28, 1093630.0, 1855124.0, 2080141.0, 1908985.25, 3266098.229999999, 1937514.36, 1634943.44, 1169486.04, 2280141.2, 2675767.06, 1914774.0, 6894448.5, 102861187.84899998, 28406652.423999988, 24050493.33500002, 28244609.27200001, 3084554.1500000004, 2974495.0500000007, 2454752.4, 2259908.35, 2512782.1199999996, 1236524.0, 3628252.0, 1679578.0, 2161611.2199999997, 5679448.929999999, 2924436.1399999997, 2629806.65, 2533498.15, 2651678.13, 3441743.940000001, 3085544.1700000004, 74574053.8025, 39562997.26999997, 3222287.9000000004, 3622197.390000001, 3250286.31, 1256268.25, 2011542.1999999995, 8888584.443500001, 5602150.0, 3748696.7950000004, 4079515.9800000004, 5407454.089999996, 5849711.050000001, 2390061.4499999993, 2323437.71, 2202179.565999999, 2088984.6900000002, 830485.7099999997, 694566.0, 659098.1000000001, 1167138.5299999998, 2343609.869999999, 1839811.93, 1259170.1, 1135625.16, 2474048.33, 1382362.9899999998, 1379763.1199999999, 4351232.279999999, 2112565.0, 1555814.02, 3248988.8600000003, 1358541.18, 3760853.0700000008, 3262899.78, 3680935.0429999996, 1943599.9699999997, 2157659.0699999994, 1309322.35, 2258407.7400000007, 1608649.0999999999, 1411144.2000000002, 1673154.7600000002, 3259460.8, 3448297.039999999, 2717126.8600000003, 2387552.5200000005, 4946301.040000002, 3997366.390000001, 5167227.543999999, 3494705.4799999995, 1511611.12, 2102963.0, 4384081.0200000005, 4216934.94, 5233107.720000002, 7417634.743, 1974286.57, 1803600.02, 1472277.3299999998, 1709870.77, 4968501.6400000015, 9126437.320000002, 6534395.619999997, 3044129.5300000003, 2551843.6499999985, 16651808.830000004, 19144629.059, 1960484.97, 1979324.42, 1964116.9300000004, 1854396.0899999999, 1541888.4500000002, 1786615.3900000001, 1800486.0799999998, 3647750.9100000015, 3368130.4499999997, 8879081.295000004, 3682680.4000000013, 2092310.1899999997, 2155853.0900000003, 2276485.4699999997, 3878545.9699999997, 1262287.85, 4224013.966999997, 1088106.42, 3034945.9000000013, 4371699.08, 2855041.4699999997, 3945931.8799999994, 2274341.29, 1435256.73, 1041424.11, 3790945.8, 772799.0, 774881.97, 1458677.25, 2036764.89, 3695103.896500001, 5581211.5, 2217890.5, 812431.0, 1799414.57, 1779402.0, 1948765.0399999998, 2957668.319999998, 2091906.2639999995, 1579064.97, 852814.46, 3364847.7300000004, 1651238.9400000002, 1706669.7999999998, 4713678.05, 4814736.990000001, 1508173.08, 1023815.0, 759731.97, 2054858.2099999997, 5734058.899999999, 7469471.129999996, 2241918.71, 2429213.9400000004, 3551846.429999999, 1879507.87, 36861054.65600002, 2169533.1, 5354255.08, 2849396.239999998, 1867486.33, 953778.87, 1402072.55, 2697034.7600000002, 4114317.3499999996, 9837758.150000002, 2821276.239999998, 1357923.5, 1875124.97, 1768231.5, 1368397.96, 1557499.8, 5137353.0225, 2536286.250000001, 1354679.46, 1141854.0, 1032822.37, 2249404.15, 829371.53, 3184010.5500000003, 6994910.210000002, 2058684.97, 1165672.36, 1197503.0, 2562486.940000001, 2424878.75, 3631058.32, 21059007.109999992, 34861352.82999998, 1608990.0, 2071374.9000000001, 1371024.5100000005, 3546046.715, 5080172.452000001, 114062945.78349994, 64762367.55699999, 35673625.75, 45082261.02199997, 48317771.317999944, 36284704.99150001, 45557609.6835, 156233418.15499997, 62748642.001499996, 54869245.671500005, 18229323.620000005, 10611603.950000001, 4523602.6899999995, 8975083.745000003, 2794022.2299999995, 3000042.6500000004, 1836603.2999999996, 2207489.3499999996, 2194591.13, 2951153.6799999997, 7111679.812499999, 4492097.328000002, 2530359.3800000004, 1465064.9, 3986988.26, 2732993.279999997, 2543736.549999999, 4231043.869999999, 4169990.0300000007, 1604966.3099999998, 795591.6799999997, 2445721.8999999994, 2085804.93, 1665287.4799999995, 2959585.0199999996, 4533855.680000002, 2521447.3000000003, 2042817.8800000001, 1698926.2000000002, 2701315.67, 2463512.3, 1723766.16, 3041901.4499999997, 2188996.21, 781465.25, 10147742.31, 4255191.05, 4368196.410000001, 2087253.3999999997, 6612900.019999995, 1727091.0799999998, 1403454.22, 1296069.21, 1697092.0, 2054105.74, 1647162.5, 5019397.770000001, 1339246.6, 1093102.6500000001, 1428816.94, 5158967.0, 1780745.7, 1352744.4999999998, 1262206.2700000005, 1355248.15, 1308339.3999999997, 1206627.9000000001, 1946274.2999999998, 2222671.3999999994, 2716636.05, 2105888.8000000003, 7976119.223999999, 3044987.1999999993, 1724073.4999999995, 2231623.85, 5104995.26, 2954909.85, 2330726.19, 1524906.7, 1573384.2700000007, 2083471.7, 1794415.0, 1375096.84, 1892141.69, 2898657.9500000007, 2408615.0599999996, 2792782.0800000005, 3207154.000000001, 2216575.959999999, 3428671.6599999983, 11854045.879999997, 16245853.269999996, 20369049.415000007, 13318915.960000003, 58809158.22000003, 19007162.43, 13516197.690000001, 17627467.59000001, 13820516.169999992, 6698555.669999995, 9201096.570000002, 36769513.235000014, 39996317.669999994, 9384817.919999994, 8613568.165000005, 20731913.32, 6859288.650000002, 6647725.049999999, 7797481.009999999, 8304761.249999998, 9563642.459999992, 7112984.000000001, 10105927.919999994, 11900209.27, 6232150.549999999, 10418467.699999997, 12442337.899999993, 35698466.18999999, 85386799.52, 21770751.930000015, 3374547.299999999, 1634642.2799999998, 3380055.5999999987, 2174545.25, 2690581.3, 3408868.83, 16806128.084000003, 13721661.309999997, 12281948.328000007, 15558658.750000002, 31513618.2, 25373435.9, 11183280.049999999, 3888798.6, 3564723.6999999997, 2076168.8599999994, 2280998.2500000005, 3804864.8000000007, 3969410.6899999995, 2237568.1900000004, 2350066.1300000004, 2781961.799999999, 4682047.1000000015, 2592886.7800000003, 1774946.2999999998, 5625726.13, 2376185.65, 2941810.1999999997, 2611674.5699999994, 13794447.550000004, 3639398.6999999993, 3567575.359999999, 2717304.549999999, 3692494.199999999, 2720095.18, 2450643.7499999995, 3975380.8899999997, 4350890.699999999, 3097583.76, 2864183.93, 2561892.4899999993, 1829120.9099999997, 9293286.0, 6403634.35, 3014801.240000001, 3023320.25, 4017162.2, 4857462.149999999, 61187932.28000001, 17644807.13, 11326411.720000004, 20511770.290000007, 15241257.769999998, 28211678.159999978, 18639605.71, 23717848.664999988, 11334383.519999996, 7840386.239999998, 15858952.499999998, 15177529.170000002, 13396266.380000003, 15090744.629999993, 22126877.540000003, 9573416.029999996, 8306733.550000001, 10343341.979999997, 9401219.23, 12970789.280000001, 6164714.189999999, 10591964.937499994, 8529166.629999999, 27117874.44999998, 18584114.350000005, 7780864.470000005, 7339654.769999998, 13315426.350000005, 12050495.52, 8905892.490000002, 9988344.189999998, 5880462.25, 7852585.999999999, 9192583.889999999, 8465220.249999998, 11710776.860000003, 8208266.680000001, 12252357.45, 8957684.2, 7140281.699999999, 8100047.48, 4675959.58, 12240890.500000002, 14856040.3, 6295878.8, 2804657.4, 9960626.100000001, 15613705.0, 9042317.63, 16466670.249999998, 9345604.59, 8653546.150000002, 6799953.0, 9645335.489999998, 6787305.09, 7959079.630000003, 8026364.45, 4124718.0, 4023597.5000000005, 5884561.0, 9908936.27, 9332561.260000002, 8647093.0, 11315658.100000001, 9217107.0, 12108299.75, 6050213.999999998, 9813935.260000002, 11000858.87, 12153312.799999999, 14941311.029999997, 11513093.76, 5787694.409999999, 5474057.0, 10500846.1, 10232202.08, 12056302.599999996, 18922666.85249999, 6075420.820000002, 6465968.0, 5834864.25, 5764557.94, 4889684.160000001, 4809599.7, 7710963.560000005, 8158006.699999999, 5675764.279999999, 7059660.0, 4062020.0, 5029047.25, 6408254.5, 4582242.699999999, 7628585.140000001, 1617281.3, 6959421.820000004, 4296090.4, 5492023.42, 2587185.4899999993, 4156481.1249999986, 2552120.0, 8507650.4475, 14984218.7325, 20944411.7175, 2842334.4499999997, 7783190.7, 15078599.395000001, 3786806.8, 4676292.5, 4668894.200000001, 3874644.9999999995, 2163573.0, 1154143.1, 2078130.2999999996, 3669771.9, 3707955.4000000004, 2425669.0300000003, 3231153.75]}],\n",
              "                        {\"template\": {\"data\": {\"bar\": [{\"error_x\": {\"color\": \"#2a3f5f\"}, \"error_y\": {\"color\": \"#2a3f5f\"}, \"marker\": {\"line\": {\"color\": \"#E5ECF6\", \"width\": 0.5}}, \"type\": \"bar\"}], \"barpolar\": [{\"marker\": {\"line\": {\"color\": \"#E5ECF6\", \"width\": 0.5}}, \"type\": \"barpolar\"}], \"carpet\": [{\"aaxis\": {\"endlinecolor\": \"#2a3f5f\", \"gridcolor\": \"white\", \"linecolor\": \"white\", \"minorgridcolor\": \"white\", \"startlinecolor\": \"#2a3f5f\"}, \"baxis\": {\"endlinecolor\": \"#2a3f5f\", \"gridcolor\": \"white\", \"linecolor\": \"white\", \"minorgridcolor\": \"white\", \"startlinecolor\": \"#2a3f5f\"}, \"type\": \"carpet\"}], \"choropleth\": [{\"colorbar\": {\"outlinewidth\": 0, \"ticks\": \"\"}, \"type\": \"choropleth\"}], \"contour\": [{\"colorbar\": {\"outlinewidth\": 0, \"ticks\": \"\"}, \"colorscale\": [[0.0, \"#0d0887\"], [0.1111111111111111, \"#46039f\"], [0.2222222222222222, \"#7201a8\"], [0.3333333333333333, \"#9c179e\"], [0.4444444444444444, \"#bd3786\"], [0.5555555555555556, \"#d8576b\"], [0.6666666666666666, \"#ed7953\"], [0.7777777777777778, \"#fb9f3a\"], [0.8888888888888888, \"#fdca26\"], [1.0, \"#f0f921\"]], \"type\": \"contour\"}], \"contourcarpet\": [{\"colorbar\": {\"outlinewidth\": 0, \"ticks\": \"\"}, \"type\": \"contourcarpet\"}], \"heatmap\": [{\"colorbar\": {\"outlinewidth\": 0, \"ticks\": \"\"}, \"colorscale\": [[0.0, \"#0d0887\"], [0.1111111111111111, \"#46039f\"], [0.2222222222222222, \"#7201a8\"], [0.3333333333333333, \"#9c179e\"], [0.4444444444444444, \"#bd3786\"], [0.5555555555555556, \"#d8576b\"], [0.6666666666666666, \"#ed7953\"], [0.7777777777777778, \"#fb9f3a\"], [0.8888888888888888, \"#fdca26\"], [1.0, \"#f0f921\"]], \"type\": \"heatmap\"}], \"heatmapgl\": [{\"colorbar\": {\"outlinewidth\": 0, \"ticks\": \"\"}, \"colorscale\": [[0.0, \"#0d0887\"], [0.1111111111111111, \"#46039f\"], [0.2222222222222222, \"#7201a8\"], [0.3333333333333333, \"#9c179e\"], [0.4444444444444444, \"#bd3786\"], [0.5555555555555556, \"#d8576b\"], [0.6666666666666666, \"#ed7953\"], [0.7777777777777778, \"#fb9f3a\"], [0.8888888888888888, \"#fdca26\"], [1.0, \"#f0f921\"]], \"type\": \"heatmapgl\"}], \"histogram\": [{\"marker\": {\"colorbar\": {\"outlinewidth\": 0, \"ticks\": \"\"}}, \"type\": \"histogram\"}], \"histogram2d\": [{\"colorbar\": {\"outlinewidth\": 0, \"ticks\": \"\"}, \"colorscale\": [[0.0, \"#0d0887\"], [0.1111111111111111, \"#46039f\"], [0.2222222222222222, \"#7201a8\"], [0.3333333333333333, \"#9c179e\"], [0.4444444444444444, \"#bd3786\"], [0.5555555555555556, \"#d8576b\"], [0.6666666666666666, \"#ed7953\"], [0.7777777777777778, \"#fb9f3a\"], [0.8888888888888888, \"#fdca26\"], [1.0, \"#f0f921\"]], \"type\": \"histogram2d\"}], \"histogram2dcontour\": [{\"colorbar\": {\"outlinewidth\": 0, \"ticks\": \"\"}, \"colorscale\": [[0.0, \"#0d0887\"], [0.1111111111111111, \"#46039f\"], [0.2222222222222222, \"#7201a8\"], [0.3333333333333333, \"#9c179e\"], [0.4444444444444444, \"#bd3786\"], [0.5555555555555556, \"#d8576b\"], [0.6666666666666666, \"#ed7953\"], [0.7777777777777778, \"#fb9f3a\"], [0.8888888888888888, \"#fdca26\"], [1.0, \"#f0f921\"]], \"type\": \"histogram2dcontour\"}], \"mesh3d\": [{\"colorbar\": {\"outlinewidth\": 0, \"ticks\": \"\"}, \"type\": \"mesh3d\"}], \"parcoords\": [{\"line\": {\"colorbar\": {\"outlinewidth\": 0, \"ticks\": \"\"}}, \"type\": \"parcoords\"}], \"pie\": [{\"automargin\": true, \"type\": \"pie\"}], \"scatter\": [{\"marker\": {\"colorbar\": {\"outlinewidth\": 0, \"ticks\": \"\"}}, \"type\": \"scatter\"}], \"scatter3d\": [{\"line\": {\"colorbar\": {\"outlinewidth\": 0, \"ticks\": \"\"}}, \"marker\": {\"colorbar\": {\"outlinewidth\": 0, \"ticks\": \"\"}}, \"type\": \"scatter3d\"}], \"scattercarpet\": [{\"marker\": {\"colorbar\": {\"outlinewidth\": 0, \"ticks\": \"\"}}, \"type\": \"scattercarpet\"}], \"scattergeo\": [{\"marker\": {\"colorbar\": {\"outlinewidth\": 0, \"ticks\": \"\"}}, \"type\": \"scattergeo\"}], \"scattergl\": [{\"marker\": {\"colorbar\": {\"outlinewidth\": 0, \"ticks\": \"\"}}, \"type\": \"scattergl\"}], \"scattermapbox\": [{\"marker\": {\"colorbar\": {\"outlinewidth\": 0, \"ticks\": \"\"}}, \"type\": \"scattermapbox\"}], \"scatterpolar\": [{\"marker\": {\"colorbar\": {\"outlinewidth\": 0, \"ticks\": \"\"}}, \"type\": \"scatterpolar\"}], \"scatterpolargl\": [{\"marker\": {\"colorbar\": {\"outlinewidth\": 0, \"ticks\": \"\"}}, \"type\": \"scatterpolargl\"}], \"scatterternary\": [{\"marker\": {\"colorbar\": {\"outlinewidth\": 0, \"ticks\": \"\"}}, \"type\": \"scatterternary\"}], \"surface\": [{\"colorbar\": {\"outlinewidth\": 0, \"ticks\": \"\"}, \"colorscale\": [[0.0, \"#0d0887\"], [0.1111111111111111, \"#46039f\"], [0.2222222222222222, \"#7201a8\"], [0.3333333333333333, \"#9c179e\"], [0.4444444444444444, \"#bd3786\"], [0.5555555555555556, \"#d8576b\"], [0.6666666666666666, \"#ed7953\"], [0.7777777777777778, \"#fb9f3a\"], [0.8888888888888888, \"#fdca26\"], [1.0, \"#f0f921\"]], \"type\": \"surface\"}], \"table\": [{\"cells\": {\"fill\": {\"color\": \"#EBF0F8\"}, \"line\": {\"color\": \"white\"}}, \"header\": {\"fill\": {\"color\": \"#C8D4E3\"}, \"line\": {\"color\": \"white\"}}, \"type\": \"table\"}]}, \"layout\": {\"annotationdefaults\": {\"arrowcolor\": \"#2a3f5f\", \"arrowhead\": 0, \"arrowwidth\": 1}, \"coloraxis\": {\"colorbar\": {\"outlinewidth\": 0, \"ticks\": \"\"}}, \"colorscale\": {\"diverging\": [[0, \"#8e0152\"], [0.1, \"#c51b7d\"], [0.2, \"#de77ae\"], [0.3, \"#f1b6da\"], [0.4, \"#fde0ef\"], [0.5, \"#f7f7f7\"], [0.6, \"#e6f5d0\"], [0.7, \"#b8e186\"], [0.8, \"#7fbc41\"], [0.9, \"#4d9221\"], [1, \"#276419\"]], \"sequential\": [[0.0, \"#0d0887\"], [0.1111111111111111, \"#46039f\"], [0.2222222222222222, \"#7201a8\"], [0.3333333333333333, \"#9c179e\"], [0.4444444444444444, \"#bd3786\"], [0.5555555555555556, \"#d8576b\"], [0.6666666666666666, \"#ed7953\"], [0.7777777777777778, \"#fb9f3a\"], [0.8888888888888888, \"#fdca26\"], [1.0, \"#f0f921\"]], \"sequentialminus\": [[0.0, \"#0d0887\"], [0.1111111111111111, \"#46039f\"], [0.2222222222222222, \"#7201a8\"], [0.3333333333333333, \"#9c179e\"], [0.4444444444444444, \"#bd3786\"], [0.5555555555555556, \"#d8576b\"], [0.6666666666666666, \"#ed7953\"], [0.7777777777777778, \"#fb9f3a\"], [0.8888888888888888, \"#fdca26\"], [1.0, \"#f0f921\"]]}, \"colorway\": [\"#636efa\", \"#EF553B\", \"#00cc96\", \"#ab63fa\", \"#FFA15A\", \"#19d3f3\", \"#FF6692\", \"#B6E880\", \"#FF97FF\", \"#FECB52\"], \"font\": {\"color\": \"#2a3f5f\"}, \"geo\": {\"bgcolor\": \"white\", \"lakecolor\": \"white\", \"landcolor\": \"#E5ECF6\", \"showlakes\": true, \"showland\": true, \"subunitcolor\": \"white\"}, \"hoverlabel\": {\"align\": \"left\"}, \"hovermode\": \"closest\", \"mapbox\": {\"style\": \"light\"}, \"paper_bgcolor\": \"white\", \"plot_bgcolor\": \"#E5ECF6\", \"polar\": {\"angularaxis\": {\"gridcolor\": \"white\", \"linecolor\": \"white\", \"ticks\": \"\"}, \"bgcolor\": \"#E5ECF6\", \"radialaxis\": {\"gridcolor\": \"white\", \"linecolor\": \"white\", \"ticks\": \"\"}}, \"scene\": {\"xaxis\": {\"backgroundcolor\": \"#E5ECF6\", \"gridcolor\": \"white\", \"gridwidth\": 2, \"linecolor\": \"white\", \"showbackground\": true, \"ticks\": \"\", \"zerolinecolor\": \"white\"}, \"yaxis\": {\"backgroundcolor\": \"#E5ECF6\", \"gridcolor\": \"white\", \"gridwidth\": 2, \"linecolor\": \"white\", \"showbackground\": true, \"ticks\": \"\", \"zerolinecolor\": \"white\"}, \"zaxis\": {\"backgroundcolor\": \"#E5ECF6\", \"gridcolor\": \"white\", \"gridwidth\": 2, \"linecolor\": \"white\", \"showbackground\": true, \"ticks\": \"\", \"zerolinecolor\": \"white\"}}, \"shapedefaults\": {\"line\": {\"color\": \"#2a3f5f\"}}, \"ternary\": {\"aaxis\": {\"gridcolor\": \"white\", \"linecolor\": \"white\", \"ticks\": \"\"}, \"baxis\": {\"gridcolor\": \"white\", \"linecolor\": \"white\", \"ticks\": \"\"}, \"bgcolor\": \"#E5ECF6\", \"caxis\": {\"gridcolor\": \"white\", \"linecolor\": \"white\", \"ticks\": \"\"}}, \"title\": {\"x\": 0.05}, \"xaxis\": {\"automargin\": true, \"gridcolor\": \"white\", \"linecolor\": \"white\", \"ticks\": \"\", \"title\": {\"standoff\": 15}, \"zerolinecolor\": \"white\", \"zerolinewidth\": 2}, \"yaxis\": {\"automargin\": true, \"gridcolor\": \"white\", \"linecolor\": \"white\", \"ticks\": \"\", \"title\": {\"standoff\": 15}, \"zerolinecolor\": \"white\", \"zerolinewidth\": 2}}}, \"xaxis\": {\"rangeslider\": {\"visible\": true}}},\n",
              "                        {\"responsive\": true}\n",
              "                    ).then(function(){\n",
              "                            \n",
              "var gd = document.getElementById('363204a8-1f76-48ae-8f3d-ee7f6a56fe4d');\n",
              "var x = new MutationObserver(function (mutations, observer) {{\n",
              "        var display = window.getComputedStyle(gd).display;\n",
              "        if (!display || display === 'none') {{\n",
              "            console.log([gd, 'removed!']);\n",
              "            Plotly.purge(gd);\n",
              "            observer.disconnect();\n",
              "        }}\n",
              "}});\n",
              "\n",
              "// Listen for the removal of the full notebook cells\n",
              "var notebookContainer = gd.closest('#notebook-container');\n",
              "if (notebookContainer) {{\n",
              "    x.observe(notebookContainer, {childList: true});\n",
              "}}\n",
              "\n",
              "// Listen for the clearing of the current output cell\n",
              "var outputEl = gd.closest('.output');\n",
              "if (outputEl) {{\n",
              "    x.observe(outputEl, {childList: true});\n",
              "}}\n",
              "\n",
              "                        })\n",
              "                };\n",
              "                \n",
              "            </script>\n",
              "        </div>\n",
              "</body>\n",
              "</html>"
            ]
          },
          "metadata": {
            "tags": []
          }
        }
      ]
    },
    {
      "cell_type": "markdown",
      "metadata": {
        "id": "fTogUEI00sY5"
      },
      "source": [
        "***3. Do the most cancelled category of items get affected by time or customer ? (Causality Analysis)***"
      ]
    },
    {
      "cell_type": "code",
      "metadata": {
        "colab": {
          "base_uri": "https://localhost:8080/",
          "height": 576
        },
        "id": "BedwxOrk0uiV",
        "outputId": "1b7ae8d3-93ba-4b65-a178-33adaccbc9ab"
      },
      "source": [
        "df_cancell = df_ecData.where(sf.col('status')=='canceled').groupby(sf.col('category_name_1'),sf.col('status')).agg(sf.count('status').alias('Cancelled_items'))\n",
        "df_cancell = df_cancell.toPandas()\n",
        "df_cancell.sort_values(by='Cancelled_items',ascending=False,inplace=True)\n",
        "df_cancell"
      ],
      "execution_count": 37,
      "outputs": [
        {
          "output_type": "execute_result",
          "data": {
            "text/html": [
              "<div>\n",
              "<style scoped>\n",
              "    .dataframe tbody tr th:only-of-type {\n",
              "        vertical-align: middle;\n",
              "    }\n",
              "\n",
              "    .dataframe tbody tr th {\n",
              "        vertical-align: top;\n",
              "    }\n",
              "\n",
              "    .dataframe thead th {\n",
              "        text-align: right;\n",
              "    }\n",
              "</style>\n",
              "<table border=\"1\" class=\"dataframe\">\n",
              "  <thead>\n",
              "    <tr style=\"text-align: right;\">\n",
              "      <th></th>\n",
              "      <th>category_name_1</th>\n",
              "      <th>status</th>\n",
              "      <th>Cancelled_items</th>\n",
              "    </tr>\n",
              "  </thead>\n",
              "  <tbody>\n",
              "    <tr>\n",
              "      <th>16</th>\n",
              "      <td>Mobiles &amp; Tablets</td>\n",
              "      <td>canceled</td>\n",
              "      <td>53715</td>\n",
              "    </tr>\n",
              "    <tr>\n",
              "      <th>15</th>\n",
              "      <td>Men's Fashion</td>\n",
              "      <td>canceled</td>\n",
              "      <td>22024</td>\n",
              "    </tr>\n",
              "    <tr>\n",
              "      <th>13</th>\n",
              "      <td>Appliances</td>\n",
              "      <td>canceled</td>\n",
              "      <td>21628</td>\n",
              "    </tr>\n",
              "    <tr>\n",
              "      <th>12</th>\n",
              "      <td>Others</td>\n",
              "      <td>canceled</td>\n",
              "      <td>18369</td>\n",
              "    </tr>\n",
              "    <tr>\n",
              "      <th>4</th>\n",
              "      <td>Women's Fashion</td>\n",
              "      <td>canceled</td>\n",
              "      <td>15961</td>\n",
              "    </tr>\n",
              "    <tr>\n",
              "      <th>2</th>\n",
              "      <td>Superstore</td>\n",
              "      <td>canceled</td>\n",
              "      <td>13926</td>\n",
              "    </tr>\n",
              "    <tr>\n",
              "      <th>0</th>\n",
              "      <td>Entertainment</td>\n",
              "      <td>canceled</td>\n",
              "      <td>12579</td>\n",
              "    </tr>\n",
              "    <tr>\n",
              "      <th>8</th>\n",
              "      <td>Beauty &amp; Grooming</td>\n",
              "      <td>canceled</td>\n",
              "      <td>9686</td>\n",
              "    </tr>\n",
              "    <tr>\n",
              "      <th>10</th>\n",
              "      <td>Soghaat</td>\n",
              "      <td>canceled</td>\n",
              "      <td>7593</td>\n",
              "    </tr>\n",
              "    <tr>\n",
              "      <th>7</th>\n",
              "      <td>Home &amp; Living</td>\n",
              "      <td>canceled</td>\n",
              "      <td>7199</td>\n",
              "    </tr>\n",
              "    <tr>\n",
              "      <th>6</th>\n",
              "      <td>Computing</td>\n",
              "      <td>canceled</td>\n",
              "      <td>6811</td>\n",
              "    </tr>\n",
              "    <tr>\n",
              "      <th>5</th>\n",
              "      <td>Kids &amp; Baby</td>\n",
              "      <td>canceled</td>\n",
              "      <td>4079</td>\n",
              "    </tr>\n",
              "    <tr>\n",
              "      <th>14</th>\n",
              "      <td>Health &amp; Sports</td>\n",
              "      <td>canceled</td>\n",
              "      <td>3382</td>\n",
              "    </tr>\n",
              "    <tr>\n",
              "      <th>9</th>\n",
              "      <td>\\N</td>\n",
              "      <td>canceled</td>\n",
              "      <td>3165</td>\n",
              "    </tr>\n",
              "    <tr>\n",
              "      <th>11</th>\n",
              "      <td>School &amp; Education</td>\n",
              "      <td>canceled</td>\n",
              "      <td>749</td>\n",
              "    </tr>\n",
              "    <tr>\n",
              "      <th>1</th>\n",
              "      <td>Books</td>\n",
              "      <td>canceled</td>\n",
              "      <td>273</td>\n",
              "    </tr>\n",
              "    <tr>\n",
              "      <th>3</th>\n",
              "      <td>None</td>\n",
              "      <td>canceled</td>\n",
              "      <td>110</td>\n",
              "    </tr>\n",
              "  </tbody>\n",
              "</table>\n",
              "</div>"
            ],
            "text/plain": [
              "       category_name_1    status  Cancelled_items\n",
              "16   Mobiles & Tablets  canceled            53715\n",
              "15       Men's Fashion  canceled            22024\n",
              "13          Appliances  canceled            21628\n",
              "12              Others  canceled            18369\n",
              "4      Women's Fashion  canceled            15961\n",
              "2           Superstore  canceled            13926\n",
              "0        Entertainment  canceled            12579\n",
              "8    Beauty & Grooming  canceled             9686\n",
              "10             Soghaat  canceled             7593\n",
              "7        Home & Living  canceled             7199\n",
              "6            Computing  canceled             6811\n",
              "5          Kids & Baby  canceled             4079\n",
              "14     Health & Sports  canceled             3382\n",
              "9                   \\N  canceled             3165\n",
              "11  School & Education  canceled              749\n",
              "1                Books  canceled              273\n",
              "3                 None  canceled              110"
            ]
          },
          "metadata": {
            "tags": []
          },
          "execution_count": 37
        }
      ]
    },
    {
      "cell_type": "code",
      "metadata": {
        "colab": {
          "base_uri": "https://localhost:8080/",
          "height": 542
        },
        "id": "0fnjiuD200d5",
        "outputId": "61b21026-6695-4a4d-fce4-0b7cd11c516f"
      },
      "source": [
        "graph = px.bar(df_cancell,x='category_name_1',y='Cancelled_items')\n",
        "graph.show()"
      ],
      "execution_count": 38,
      "outputs": [
        {
          "output_type": "display_data",
          "data": {
            "text/html": [
              "<html>\n",
              "<head><meta charset=\"utf-8\" /></head>\n",
              "<body>\n",
              "    <div>\n",
              "            <script src=\"https://cdnjs.cloudflare.com/ajax/libs/mathjax/2.7.5/MathJax.js?config=TeX-AMS-MML_SVG\"></script><script type=\"text/javascript\">if (window.MathJax) {MathJax.Hub.Config({SVG: {font: \"STIX-Web\"}});}</script>\n",
              "                <script type=\"text/javascript\">window.PlotlyConfig = {MathJaxConfig: 'local'};</script>\n",
              "        <script src=\"https://cdn.plot.ly/plotly-latest.min.js\"></script>    \n",
              "            <div id=\"e1d632c6-c6cd-4158-b4ac-78280323205b\" class=\"plotly-graph-div\" style=\"height:525px; width:100%;\"></div>\n",
              "            <script type=\"text/javascript\">\n",
              "                \n",
              "                    window.PLOTLYENV=window.PLOTLYENV || {};\n",
              "                    \n",
              "                if (document.getElementById(\"e1d632c6-c6cd-4158-b4ac-78280323205b\")) {\n",
              "                    Plotly.newPlot(\n",
              "                        'e1d632c6-c6cd-4158-b4ac-78280323205b',\n",
              "                        [{\"alignmentgroup\": \"True\", \"hoverlabel\": {\"namelength\": 0}, \"hovertemplate\": \"category_name_1=%{x}<br>Cancelled_items=%{y}\", \"legendgroup\": \"\", \"marker\": {\"color\": \"#636efa\"}, \"name\": \"\", \"offsetgroup\": \"\", \"orientation\": \"v\", \"showlegend\": false, \"textposition\": \"auto\", \"type\": \"bar\", \"x\": [\"Mobiles & Tablets\", \"Men's Fashion\", \"Appliances\", \"Others\", \"Women's Fashion\", \"Superstore\", \"Entertainment\", \"Beauty & Grooming\", \"Soghaat\", \"Home & Living\", \"Computing\", \"Kids & Baby\", \"Health & Sports\", \"\\\\N\", \"School & Education\", \"Books\", null], \"xaxis\": \"x\", \"y\": [53715, 22024, 21628, 18369, 15961, 13926, 12579, 9686, 7593, 7199, 6811, 4079, 3382, 3165, 749, 273, 110], \"yaxis\": \"y\"}],\n",
              "                        {\"barmode\": \"relative\", \"legend\": {\"tracegroupgap\": 0}, \"margin\": {\"t\": 60}, \"template\": {\"data\": {\"bar\": [{\"error_x\": {\"color\": \"#2a3f5f\"}, \"error_y\": {\"color\": \"#2a3f5f\"}, \"marker\": {\"line\": {\"color\": \"#E5ECF6\", \"width\": 0.5}}, \"type\": \"bar\"}], \"barpolar\": [{\"marker\": {\"line\": {\"color\": \"#E5ECF6\", \"width\": 0.5}}, \"type\": \"barpolar\"}], \"carpet\": [{\"aaxis\": {\"endlinecolor\": \"#2a3f5f\", \"gridcolor\": \"white\", \"linecolor\": \"white\", \"minorgridcolor\": \"white\", \"startlinecolor\": \"#2a3f5f\"}, \"baxis\": {\"endlinecolor\": \"#2a3f5f\", \"gridcolor\": \"white\", \"linecolor\": \"white\", \"minorgridcolor\": \"white\", \"startlinecolor\": \"#2a3f5f\"}, \"type\": \"carpet\"}], \"choropleth\": [{\"colorbar\": {\"outlinewidth\": 0, \"ticks\": \"\"}, \"type\": \"choropleth\"}], \"contour\": [{\"colorbar\": {\"outlinewidth\": 0, \"ticks\": \"\"}, \"colorscale\": [[0.0, \"#0d0887\"], [0.1111111111111111, \"#46039f\"], [0.2222222222222222, \"#7201a8\"], [0.3333333333333333, \"#9c179e\"], [0.4444444444444444, \"#bd3786\"], [0.5555555555555556, \"#d8576b\"], [0.6666666666666666, \"#ed7953\"], [0.7777777777777778, \"#fb9f3a\"], [0.8888888888888888, \"#fdca26\"], [1.0, \"#f0f921\"]], \"type\": \"contour\"}], \"contourcarpet\": [{\"colorbar\": {\"outlinewidth\": 0, \"ticks\": \"\"}, \"type\": \"contourcarpet\"}], \"heatmap\": [{\"colorbar\": {\"outlinewidth\": 0, \"ticks\": \"\"}, \"colorscale\": [[0.0, \"#0d0887\"], [0.1111111111111111, \"#46039f\"], [0.2222222222222222, \"#7201a8\"], [0.3333333333333333, \"#9c179e\"], [0.4444444444444444, \"#bd3786\"], [0.5555555555555556, \"#d8576b\"], [0.6666666666666666, \"#ed7953\"], [0.7777777777777778, \"#fb9f3a\"], [0.8888888888888888, \"#fdca26\"], [1.0, \"#f0f921\"]], \"type\": \"heatmap\"}], \"heatmapgl\": [{\"colorbar\": {\"outlinewidth\": 0, \"ticks\": \"\"}, \"colorscale\": [[0.0, \"#0d0887\"], [0.1111111111111111, \"#46039f\"], [0.2222222222222222, \"#7201a8\"], [0.3333333333333333, \"#9c179e\"], [0.4444444444444444, \"#bd3786\"], [0.5555555555555556, \"#d8576b\"], [0.6666666666666666, \"#ed7953\"], [0.7777777777777778, \"#fb9f3a\"], [0.8888888888888888, \"#fdca26\"], [1.0, \"#f0f921\"]], \"type\": \"heatmapgl\"}], \"histogram\": [{\"marker\": {\"colorbar\": {\"outlinewidth\": 0, \"ticks\": \"\"}}, \"type\": \"histogram\"}], \"histogram2d\": [{\"colorbar\": {\"outlinewidth\": 0, \"ticks\": \"\"}, \"colorscale\": [[0.0, \"#0d0887\"], [0.1111111111111111, \"#46039f\"], [0.2222222222222222, \"#7201a8\"], [0.3333333333333333, \"#9c179e\"], [0.4444444444444444, \"#bd3786\"], [0.5555555555555556, \"#d8576b\"], [0.6666666666666666, \"#ed7953\"], [0.7777777777777778, \"#fb9f3a\"], [0.8888888888888888, \"#fdca26\"], [1.0, \"#f0f921\"]], \"type\": \"histogram2d\"}], \"histogram2dcontour\": [{\"colorbar\": {\"outlinewidth\": 0, \"ticks\": \"\"}, \"colorscale\": [[0.0, \"#0d0887\"], [0.1111111111111111, \"#46039f\"], [0.2222222222222222, \"#7201a8\"], [0.3333333333333333, \"#9c179e\"], [0.4444444444444444, \"#bd3786\"], [0.5555555555555556, \"#d8576b\"], [0.6666666666666666, \"#ed7953\"], [0.7777777777777778, \"#fb9f3a\"], [0.8888888888888888, \"#fdca26\"], [1.0, \"#f0f921\"]], \"type\": \"histogram2dcontour\"}], \"mesh3d\": [{\"colorbar\": {\"outlinewidth\": 0, \"ticks\": \"\"}, \"type\": \"mesh3d\"}], \"parcoords\": [{\"line\": {\"colorbar\": {\"outlinewidth\": 0, \"ticks\": \"\"}}, \"type\": \"parcoords\"}], \"pie\": [{\"automargin\": true, \"type\": \"pie\"}], \"scatter\": [{\"marker\": {\"colorbar\": {\"outlinewidth\": 0, \"ticks\": \"\"}}, \"type\": \"scatter\"}], \"scatter3d\": [{\"line\": {\"colorbar\": {\"outlinewidth\": 0, \"ticks\": \"\"}}, \"marker\": {\"colorbar\": {\"outlinewidth\": 0, \"ticks\": \"\"}}, \"type\": \"scatter3d\"}], \"scattercarpet\": [{\"marker\": {\"colorbar\": {\"outlinewidth\": 0, \"ticks\": \"\"}}, \"type\": \"scattercarpet\"}], \"scattergeo\": [{\"marker\": {\"colorbar\": {\"outlinewidth\": 0, \"ticks\": \"\"}}, \"type\": \"scattergeo\"}], \"scattergl\": [{\"marker\": {\"colorbar\": {\"outlinewidth\": 0, \"ticks\": \"\"}}, \"type\": \"scattergl\"}], \"scattermapbox\": [{\"marker\": {\"colorbar\": {\"outlinewidth\": 0, \"ticks\": \"\"}}, \"type\": \"scattermapbox\"}], \"scatterpolar\": [{\"marker\": {\"colorbar\": {\"outlinewidth\": 0, \"ticks\": \"\"}}, \"type\": \"scatterpolar\"}], \"scatterpolargl\": [{\"marker\": {\"colorbar\": {\"outlinewidth\": 0, \"ticks\": \"\"}}, \"type\": \"scatterpolargl\"}], \"scatterternary\": [{\"marker\": {\"colorbar\": {\"outlinewidth\": 0, \"ticks\": \"\"}}, \"type\": \"scatterternary\"}], \"surface\": [{\"colorbar\": {\"outlinewidth\": 0, \"ticks\": \"\"}, \"colorscale\": [[0.0, \"#0d0887\"], [0.1111111111111111, \"#46039f\"], [0.2222222222222222, \"#7201a8\"], [0.3333333333333333, \"#9c179e\"], [0.4444444444444444, \"#bd3786\"], [0.5555555555555556, \"#d8576b\"], [0.6666666666666666, \"#ed7953\"], [0.7777777777777778, \"#fb9f3a\"], [0.8888888888888888, \"#fdca26\"], [1.0, \"#f0f921\"]], \"type\": \"surface\"}], \"table\": [{\"cells\": {\"fill\": {\"color\": \"#EBF0F8\"}, \"line\": {\"color\": \"white\"}}, \"header\": {\"fill\": {\"color\": \"#C8D4E3\"}, \"line\": {\"color\": \"white\"}}, \"type\": \"table\"}]}, \"layout\": {\"annotationdefaults\": {\"arrowcolor\": \"#2a3f5f\", \"arrowhead\": 0, \"arrowwidth\": 1}, \"coloraxis\": {\"colorbar\": {\"outlinewidth\": 0, \"ticks\": \"\"}}, \"colorscale\": {\"diverging\": [[0, \"#8e0152\"], [0.1, \"#c51b7d\"], [0.2, \"#de77ae\"], [0.3, \"#f1b6da\"], [0.4, \"#fde0ef\"], [0.5, \"#f7f7f7\"], [0.6, \"#e6f5d0\"], [0.7, \"#b8e186\"], [0.8, \"#7fbc41\"], [0.9, \"#4d9221\"], [1, \"#276419\"]], \"sequential\": [[0.0, \"#0d0887\"], [0.1111111111111111, \"#46039f\"], [0.2222222222222222, \"#7201a8\"], [0.3333333333333333, \"#9c179e\"], [0.4444444444444444, \"#bd3786\"], [0.5555555555555556, \"#d8576b\"], [0.6666666666666666, \"#ed7953\"], [0.7777777777777778, \"#fb9f3a\"], [0.8888888888888888, \"#fdca26\"], [1.0, \"#f0f921\"]], \"sequentialminus\": [[0.0, \"#0d0887\"], [0.1111111111111111, \"#46039f\"], [0.2222222222222222, \"#7201a8\"], [0.3333333333333333, \"#9c179e\"], [0.4444444444444444, \"#bd3786\"], [0.5555555555555556, \"#d8576b\"], [0.6666666666666666, \"#ed7953\"], [0.7777777777777778, \"#fb9f3a\"], [0.8888888888888888, \"#fdca26\"], [1.0, \"#f0f921\"]]}, \"colorway\": [\"#636efa\", \"#EF553B\", \"#00cc96\", \"#ab63fa\", \"#FFA15A\", \"#19d3f3\", \"#FF6692\", \"#B6E880\", \"#FF97FF\", \"#FECB52\"], \"font\": {\"color\": \"#2a3f5f\"}, \"geo\": {\"bgcolor\": \"white\", \"lakecolor\": \"white\", \"landcolor\": \"#E5ECF6\", \"showlakes\": true, \"showland\": true, \"subunitcolor\": \"white\"}, \"hoverlabel\": {\"align\": \"left\"}, \"hovermode\": \"closest\", \"mapbox\": {\"style\": \"light\"}, \"paper_bgcolor\": \"white\", \"plot_bgcolor\": \"#E5ECF6\", \"polar\": {\"angularaxis\": {\"gridcolor\": \"white\", \"linecolor\": \"white\", \"ticks\": \"\"}, \"bgcolor\": \"#E5ECF6\", \"radialaxis\": {\"gridcolor\": \"white\", \"linecolor\": \"white\", \"ticks\": \"\"}}, \"scene\": {\"xaxis\": {\"backgroundcolor\": \"#E5ECF6\", \"gridcolor\": \"white\", \"gridwidth\": 2, \"linecolor\": \"white\", \"showbackground\": true, \"ticks\": \"\", \"zerolinecolor\": \"white\"}, \"yaxis\": {\"backgroundcolor\": \"#E5ECF6\", \"gridcolor\": \"white\", \"gridwidth\": 2, \"linecolor\": \"white\", \"showbackground\": true, \"ticks\": \"\", \"zerolinecolor\": \"white\"}, \"zaxis\": {\"backgroundcolor\": \"#E5ECF6\", \"gridcolor\": \"white\", \"gridwidth\": 2, \"linecolor\": \"white\", \"showbackground\": true, \"ticks\": \"\", \"zerolinecolor\": \"white\"}}, \"shapedefaults\": {\"line\": {\"color\": \"#2a3f5f\"}}, \"ternary\": {\"aaxis\": {\"gridcolor\": \"white\", \"linecolor\": \"white\", \"ticks\": \"\"}, \"baxis\": {\"gridcolor\": \"white\", \"linecolor\": \"white\", \"ticks\": \"\"}, \"bgcolor\": \"#E5ECF6\", \"caxis\": {\"gridcolor\": \"white\", \"linecolor\": \"white\", \"ticks\": \"\"}}, \"title\": {\"x\": 0.05}, \"xaxis\": {\"automargin\": true, \"gridcolor\": \"white\", \"linecolor\": \"white\", \"ticks\": \"\", \"title\": {\"standoff\": 15}, \"zerolinecolor\": \"white\", \"zerolinewidth\": 2}, \"yaxis\": {\"automargin\": true, \"gridcolor\": \"white\", \"linecolor\": \"white\", \"ticks\": \"\", \"title\": {\"standoff\": 15}, \"zerolinecolor\": \"white\", \"zerolinewidth\": 2}}}, \"xaxis\": {\"anchor\": \"y\", \"domain\": [0.0, 1.0], \"title\": {\"text\": \"category_name_1\"}}, \"yaxis\": {\"anchor\": \"x\", \"domain\": [0.0, 1.0], \"title\": {\"text\": \"Cancelled_items\"}}},\n",
              "                        {\"responsive\": true}\n",
              "                    ).then(function(){\n",
              "                            \n",
              "var gd = document.getElementById('e1d632c6-c6cd-4158-b4ac-78280323205b');\n",
              "var x = new MutationObserver(function (mutations, observer) {{\n",
              "        var display = window.getComputedStyle(gd).display;\n",
              "        if (!display || display === 'none') {{\n",
              "            console.log([gd, 'removed!']);\n",
              "            Plotly.purge(gd);\n",
              "            observer.disconnect();\n",
              "        }}\n",
              "}});\n",
              "\n",
              "// Listen for the removal of the full notebook cells\n",
              "var notebookContainer = gd.closest('#notebook-container');\n",
              "if (notebookContainer) {{\n",
              "    x.observe(notebookContainer, {childList: true});\n",
              "}}\n",
              "\n",
              "// Listen for the clearing of the current output cell\n",
              "var outputEl = gd.closest('.output');\n",
              "if (outputEl) {{\n",
              "    x.observe(outputEl, {childList: true});\n",
              "}}\n",
              "\n",
              "                        })\n",
              "                };\n",
              "                \n",
              "            </script>\n",
              "        </div>\n",
              "</body>\n",
              "</html>"
            ]
          },
          "metadata": {
            "tags": []
          }
        }
      ]
    },
    {
      "cell_type": "code",
      "metadata": {
        "colab": {
          "base_uri": "https://localhost:8080/",
          "height": 542
        },
        "id": "jlf9YO1g058k",
        "outputId": "d22137b7-c7fc-41b0-b5c5-a5fa3ab5cfcb"
      },
      "source": [
        "df_visual = spark.sql(\"SELECT created_at, count(item_id) as total FROM eCommerce_view where status = 'canceled' and category_name_1 = 'Mobiles & Tablets' group by created_at order by created_at desc\")\n",
        "\n",
        "df_visual = df_visual.toPandas()\n",
        "\n",
        "fig = go.Figure([go.Scatter(x=df_visual['created_at'], y=df_visual['total'])])\n",
        "fig.update_xaxes(rangeslider_visible=True)\n",
        "\n",
        "fig.show()"
      ],
      "execution_count": 39,
      "outputs": [
        {
          "output_type": "display_data",
          "data": {
            "text/html": [
              "<html>\n",
              "<head><meta charset=\"utf-8\" /></head>\n",
              "<body>\n",
              "    <div>\n",
              "            <script src=\"https://cdnjs.cloudflare.com/ajax/libs/mathjax/2.7.5/MathJax.js?config=TeX-AMS-MML_SVG\"></script><script type=\"text/javascript\">if (window.MathJax) {MathJax.Hub.Config({SVG: {font: \"STIX-Web\"}});}</script>\n",
              "                <script type=\"text/javascript\">window.PlotlyConfig = {MathJaxConfig: 'local'};</script>\n",
              "        <script src=\"https://cdn.plot.ly/plotly-latest.min.js\"></script>    \n",
              "            <div id=\"bdf0b410-7a20-43dc-97a8-275d0fdcb867\" class=\"plotly-graph-div\" style=\"height:525px; width:100%;\"></div>\n",
              "            <script type=\"text/javascript\">\n",
              "                \n",
              "                    window.PLOTLYENV=window.PLOTLYENV || {};\n",
              "                    \n",
              "                if (document.getElementById(\"bdf0b410-7a20-43dc-97a8-275d0fdcb867\")) {\n",
              "                    Plotly.newPlot(\n",
              "                        'bdf0b410-7a20-43dc-97a8-275d0fdcb867',\n",
              "                        [{\"type\": \"scatter\", \"x\": [\"2018-08-28T00:00:00\", \"2018-08-27T00:00:00\", \"2018-08-26T00:00:00\", \"2018-08-25T00:00:00\", \"2018-08-24T00:00:00\", \"2018-08-23T00:00:00\", \"2018-08-22T00:00:00\", \"2018-08-21T00:00:00\", \"2018-08-20T00:00:00\", \"2018-08-19T00:00:00\", \"2018-08-18T00:00:00\", \"2018-08-17T00:00:00\", \"2018-08-16T00:00:00\", \"2018-08-15T00:00:00\", \"2018-08-14T00:00:00\", \"2018-08-13T00:00:00\", \"2018-08-12T00:00:00\", \"2018-08-11T00:00:00\", \"2018-08-10T00:00:00\", \"2018-08-09T00:00:00\", \"2018-08-08T00:00:00\", \"2018-08-07T00:00:00\", \"2018-08-06T00:00:00\", \"2018-08-05T00:00:00\", \"2018-08-04T00:00:00\", \"2018-08-03T00:00:00\", \"2018-08-02T00:00:00\", \"2018-08-01T00:00:00\", \"2018-07-31T00:00:00\", \"2018-07-30T00:00:00\", \"2018-07-29T00:00:00\", \"2018-07-28T00:00:00\", \"2018-07-27T00:00:00\", \"2018-07-26T00:00:00\", \"2018-07-25T00:00:00\", \"2018-07-24T00:00:00\", \"2018-07-23T00:00:00\", \"2018-07-22T00:00:00\", \"2018-07-21T00:00:00\", \"2018-07-20T00:00:00\", \"2018-07-19T00:00:00\", \"2018-07-18T00:00:00\", \"2018-07-17T00:00:00\", \"2018-07-16T00:00:00\", \"2018-07-15T00:00:00\", \"2018-07-14T00:00:00\", \"2018-07-13T00:00:00\", \"2018-07-12T00:00:00\", \"2018-07-11T00:00:00\", \"2018-07-10T00:00:00\", \"2018-07-09T00:00:00\", \"2018-07-08T00:00:00\", \"2018-07-07T00:00:00\", \"2018-07-06T00:00:00\", \"2018-07-05T00:00:00\", \"2018-07-04T00:00:00\", \"2018-07-03T00:00:00\", \"2018-07-02T00:00:00\", \"2018-07-01T00:00:00\", \"2018-06-30T00:00:00\", \"2018-06-29T00:00:00\", \"2018-06-28T00:00:00\", \"2018-06-27T00:00:00\", \"2018-06-26T00:00:00\", \"2018-06-25T00:00:00\", \"2018-06-24T00:00:00\", \"2018-06-23T00:00:00\", \"2018-06-22T00:00:00\", \"2018-06-21T00:00:00\", \"2018-06-20T00:00:00\", \"2018-06-19T00:00:00\", \"2018-06-18T00:00:00\", \"2018-06-17T00:00:00\", \"2018-06-16T00:00:00\", \"2018-06-15T00:00:00\", \"2018-06-14T00:00:00\", \"2018-06-13T00:00:00\", \"2018-06-12T00:00:00\", \"2018-06-11T00:00:00\", \"2018-06-10T00:00:00\", \"2018-06-09T00:00:00\", \"2018-06-08T00:00:00\", \"2018-06-07T00:00:00\", \"2018-06-06T00:00:00\", \"2018-06-05T00:00:00\", \"2018-06-04T00:00:00\", \"2018-06-03T00:00:00\", \"2018-06-02T00:00:00\", \"2018-06-01T00:00:00\", \"2018-05-31T00:00:00\", \"2018-05-30T00:00:00\", \"2018-05-29T00:00:00\", \"2018-05-28T00:00:00\", \"2018-05-27T00:00:00\", \"2018-05-26T00:00:00\", \"2018-05-25T00:00:00\", \"2018-05-24T00:00:00\", \"2018-05-23T00:00:00\", \"2018-05-22T00:00:00\", \"2018-05-21T00:00:00\", \"2018-05-20T00:00:00\", \"2018-05-19T00:00:00\", \"2018-05-18T00:00:00\", \"2018-05-17T00:00:00\", \"2018-05-16T00:00:00\", \"2018-05-15T00:00:00\", \"2018-05-14T00:00:00\", \"2018-05-13T00:00:00\", \"2018-05-12T00:00:00\", \"2018-05-11T00:00:00\", \"2018-05-10T00:00:00\", \"2018-05-09T00:00:00\", \"2018-05-08T00:00:00\", \"2018-05-07T00:00:00\", \"2018-05-06T00:00:00\", \"2018-05-05T00:00:00\", \"2018-05-04T00:00:00\", \"2018-05-03T00:00:00\", \"2018-05-02T00:00:00\", \"2018-05-01T00:00:00\", \"2018-04-30T00:00:00\", \"2018-04-29T00:00:00\", \"2018-04-28T00:00:00\", \"2018-04-27T00:00:00\", \"2018-04-26T00:00:00\", \"2018-04-25T00:00:00\", \"2018-04-24T00:00:00\", \"2018-04-23T00:00:00\", \"2018-04-22T00:00:00\", \"2018-04-21T00:00:00\", \"2018-04-20T00:00:00\", \"2018-04-19T00:00:00\", \"2018-04-18T00:00:00\", \"2018-04-17T00:00:00\", \"2018-04-16T00:00:00\", \"2018-04-15T00:00:00\", \"2018-04-14T00:00:00\", \"2018-04-13T00:00:00\", \"2018-04-12T00:00:00\", \"2018-04-11T00:00:00\", \"2018-04-10T00:00:00\", \"2018-04-09T00:00:00\", \"2018-04-08T00:00:00\", \"2018-04-07T00:00:00\", \"2018-04-06T00:00:00\", \"2018-04-05T00:00:00\", \"2018-04-04T00:00:00\", \"2018-04-03T00:00:00\", \"2018-04-02T00:00:00\", \"2018-04-01T00:00:00\", \"2018-03-31T00:00:00\", \"2018-03-30T00:00:00\", \"2018-03-29T00:00:00\", \"2018-03-28T00:00:00\", \"2018-03-27T00:00:00\", \"2018-03-26T00:00:00\", \"2018-03-25T00:00:00\", \"2018-03-24T00:00:00\", \"2018-03-23T00:00:00\", \"2018-03-22T00:00:00\", \"2018-03-21T00:00:00\", \"2018-03-20T00:00:00\", \"2018-03-19T00:00:00\", \"2018-03-18T00:00:00\", \"2018-03-17T00:00:00\", \"2018-03-16T00:00:00\", \"2018-03-15T00:00:00\", \"2018-03-14T00:00:00\", \"2018-03-13T00:00:00\", \"2018-03-12T00:00:00\", \"2018-03-11T00:00:00\", \"2018-03-10T00:00:00\", \"2018-03-09T00:00:00\", \"2018-03-08T00:00:00\", \"2018-03-07T00:00:00\", \"2018-03-06T00:00:00\", \"2018-03-05T00:00:00\", \"2018-03-04T00:00:00\", \"2018-03-03T00:00:00\", \"2018-03-02T00:00:00\", \"2018-03-01T00:00:00\", \"2018-02-28T00:00:00\", \"2018-02-27T00:00:00\", \"2018-02-26T00:00:00\", \"2018-02-25T00:00:00\", \"2018-02-24T00:00:00\", \"2018-02-23T00:00:00\", \"2018-02-22T00:00:00\", \"2018-02-21T00:00:00\", \"2018-02-20T00:00:00\", \"2018-02-19T00:00:00\", \"2018-02-18T00:00:00\", \"2018-02-17T00:00:00\", \"2018-02-16T00:00:00\", \"2018-02-15T00:00:00\", \"2018-02-14T00:00:00\", \"2018-02-13T00:00:00\", \"2018-02-12T00:00:00\", \"2018-02-11T00:00:00\", \"2018-02-10T00:00:00\", \"2018-02-09T00:00:00\", \"2018-02-08T00:00:00\", \"2018-02-07T00:00:00\", \"2018-02-06T00:00:00\", \"2018-02-05T00:00:00\", \"2018-02-04T00:00:00\", \"2018-02-03T00:00:00\", \"2018-02-02T00:00:00\", \"2018-02-01T00:00:00\", \"2018-01-31T00:00:00\", \"2018-01-30T00:00:00\", \"2018-01-29T00:00:00\", \"2018-01-28T00:00:00\", \"2018-01-27T00:00:00\", \"2018-01-26T00:00:00\", \"2018-01-25T00:00:00\", \"2018-01-24T00:00:00\", \"2018-01-23T00:00:00\", \"2018-01-22T00:00:00\", \"2018-01-21T00:00:00\", \"2018-01-20T00:00:00\", \"2018-01-19T00:00:00\", \"2018-01-18T00:00:00\", \"2018-01-17T00:00:00\", \"2018-01-16T00:00:00\", \"2018-01-15T00:00:00\", \"2018-01-14T00:00:00\", \"2018-01-13T00:00:00\", \"2018-01-12T00:00:00\", \"2018-01-11T00:00:00\", \"2018-01-10T00:00:00\", \"2018-01-09T00:00:00\", \"2018-01-08T00:00:00\", \"2018-01-07T00:00:00\", \"2018-01-06T00:00:00\", \"2018-01-05T00:00:00\", \"2018-01-04T00:00:00\", \"2018-01-03T00:00:00\", \"2018-01-02T00:00:00\", \"2018-01-01T00:00:00\", \"2017-12-31T00:00:00\", \"2017-12-30T00:00:00\", \"2017-12-29T00:00:00\", \"2017-12-28T00:00:00\", \"2017-12-27T00:00:00\", \"2017-12-26T00:00:00\", \"2017-12-25T00:00:00\", \"2017-12-24T00:00:00\", \"2017-12-23T00:00:00\", \"2017-12-22T00:00:00\", \"2017-12-21T00:00:00\", \"2017-12-20T00:00:00\", \"2017-12-19T00:00:00\", \"2017-12-18T00:00:00\", \"2017-12-17T00:00:00\", \"2017-12-16T00:00:00\", \"2017-12-15T00:00:00\", \"2017-12-14T00:00:00\", \"2017-12-13T00:00:00\", \"2017-12-12T00:00:00\", \"2017-12-11T00:00:00\", \"2017-12-10T00:00:00\", \"2017-12-09T00:00:00\", \"2017-12-08T00:00:00\", \"2017-12-07T00:00:00\", \"2017-12-06T00:00:00\", \"2017-12-05T00:00:00\", \"2017-12-04T00:00:00\", \"2017-12-03T00:00:00\", \"2017-12-02T00:00:00\", \"2017-12-01T00:00:00\", \"2017-11-30T00:00:00\", \"2017-11-29T00:00:00\", \"2017-11-28T00:00:00\", \"2017-11-27T00:00:00\", \"2017-11-26T00:00:00\", \"2017-11-25T00:00:00\", \"2017-11-24T00:00:00\", \"2017-11-23T00:00:00\", \"2017-11-22T00:00:00\", \"2017-11-21T00:00:00\", \"2017-11-20T00:00:00\", \"2017-11-19T00:00:00\", \"2017-11-18T00:00:00\", \"2017-11-17T00:00:00\", \"2017-11-16T00:00:00\", \"2017-11-15T00:00:00\", \"2017-11-14T00:00:00\", \"2017-11-13T00:00:00\", \"2017-11-12T00:00:00\", \"2017-11-11T00:00:00\", \"2017-11-10T00:00:00\", \"2017-11-09T00:00:00\", \"2017-11-08T00:00:00\", \"2017-11-07T00:00:00\", \"2017-11-06T00:00:00\", \"2017-11-05T00:00:00\", \"2017-11-04T00:00:00\", \"2017-11-03T00:00:00\", \"2017-11-02T00:00:00\", \"2017-11-01T00:00:00\", \"2017-10-31T00:00:00\", \"2017-10-30T00:00:00\", \"2017-10-29T00:00:00\", \"2017-10-28T00:00:00\", \"2017-10-27T00:00:00\", \"2017-10-26T00:00:00\", \"2017-10-25T00:00:00\", \"2017-10-24T00:00:00\", \"2017-10-23T00:00:00\", \"2017-10-22T00:00:00\", \"2017-10-21T00:00:00\", \"2017-10-20T00:00:00\", \"2017-10-19T00:00:00\", \"2017-10-18T00:00:00\", \"2017-10-17T00:00:00\", \"2017-10-16T00:00:00\", \"2017-10-15T00:00:00\", \"2017-10-14T00:00:00\", \"2017-10-13T00:00:00\", \"2017-10-12T00:00:00\", \"2017-10-11T00:00:00\", \"2017-10-10T00:00:00\", \"2017-10-09T00:00:00\", \"2017-10-08T00:00:00\", \"2017-10-07T00:00:00\", \"2017-10-06T00:00:00\", \"2017-10-05T00:00:00\", \"2017-10-04T00:00:00\", \"2017-10-03T00:00:00\", \"2017-10-02T00:00:00\", \"2017-10-01T00:00:00\", \"2017-09-30T00:00:00\", \"2017-09-29T00:00:00\", \"2017-09-28T00:00:00\", \"2017-09-27T00:00:00\", \"2017-09-26T00:00:00\", \"2017-09-25T00:00:00\", \"2017-09-24T00:00:00\", \"2017-09-23T00:00:00\", \"2017-09-22T00:00:00\", \"2017-09-21T00:00:00\", \"2017-09-20T00:00:00\", \"2017-09-19T00:00:00\", \"2017-09-18T00:00:00\", \"2017-09-17T00:00:00\", \"2017-09-16T00:00:00\", \"2017-09-15T00:00:00\", \"2017-09-14T00:00:00\", \"2017-09-13T00:00:00\", \"2017-09-12T00:00:00\", \"2017-09-11T00:00:00\", \"2017-09-10T00:00:00\", \"2017-09-09T00:00:00\", \"2017-09-08T00:00:00\", \"2017-09-07T00:00:00\", \"2017-09-06T00:00:00\", \"2017-09-05T00:00:00\", \"2017-09-04T00:00:00\", \"2017-09-03T00:00:00\", \"2017-09-02T00:00:00\", \"2017-09-01T00:00:00\", \"2017-08-31T00:00:00\", \"2017-08-30T00:00:00\", \"2017-08-29T00:00:00\", \"2017-08-28T00:00:00\", \"2017-08-27T00:00:00\", \"2017-08-26T00:00:00\", \"2017-08-25T00:00:00\", \"2017-08-24T00:00:00\", \"2017-08-23T00:00:00\", \"2017-08-22T00:00:00\", \"2017-08-21T00:00:00\", \"2017-08-20T00:00:00\", \"2017-08-19T00:00:00\", \"2017-08-18T00:00:00\", \"2017-08-17T00:00:00\", \"2017-08-16T00:00:00\", \"2017-08-15T00:00:00\", \"2017-08-14T00:00:00\", \"2017-08-13T00:00:00\", \"2017-08-12T00:00:00\", \"2017-08-11T00:00:00\", \"2017-08-10T00:00:00\", \"2017-08-09T00:00:00\", \"2017-08-08T00:00:00\", \"2017-08-07T00:00:00\", \"2017-08-06T00:00:00\", \"2017-08-05T00:00:00\", \"2017-08-04T00:00:00\", \"2017-08-03T00:00:00\", \"2017-08-02T00:00:00\", \"2017-08-01T00:00:00\", \"2017-07-31T00:00:00\", \"2017-07-30T00:00:00\", \"2017-07-29T00:00:00\", \"2017-07-28T00:00:00\", \"2017-07-27T00:00:00\", \"2017-07-26T00:00:00\", \"2017-07-25T00:00:00\", \"2017-07-24T00:00:00\", \"2017-07-23T00:00:00\", \"2017-07-22T00:00:00\", \"2017-07-21T00:00:00\", \"2017-07-20T00:00:00\", \"2017-07-19T00:00:00\", \"2017-07-18T00:00:00\", \"2017-07-17T00:00:00\", \"2017-07-16T00:00:00\", \"2017-07-15T00:00:00\", \"2017-07-14T00:00:00\", \"2017-07-13T00:00:00\", \"2017-07-12T00:00:00\", \"2017-07-11T00:00:00\", \"2017-07-10T00:00:00\", \"2017-07-09T00:00:00\", \"2017-07-08T00:00:00\", \"2017-07-07T00:00:00\", \"2017-07-06T00:00:00\", \"2017-07-05T00:00:00\", \"2017-07-04T00:00:00\", \"2017-07-03T00:00:00\", \"2017-07-02T00:00:00\", \"2017-07-01T00:00:00\", \"2017-06-30T00:00:00\", \"2017-06-29T00:00:00\", \"2017-06-28T00:00:00\", \"2017-06-27T00:00:00\", \"2017-06-26T00:00:00\", \"2017-06-25T00:00:00\", \"2017-06-24T00:00:00\", \"2017-06-23T00:00:00\", \"2017-06-22T00:00:00\", \"2017-06-21T00:00:00\", \"2017-06-20T00:00:00\", \"2017-06-19T00:00:00\", \"2017-06-18T00:00:00\", \"2017-06-17T00:00:00\", \"2017-06-16T00:00:00\", \"2017-06-15T00:00:00\", \"2017-06-14T00:00:00\", \"2017-06-13T00:00:00\", \"2017-06-12T00:00:00\", \"2017-06-11T00:00:00\", \"2017-06-10T00:00:00\", \"2017-06-09T00:00:00\", \"2017-06-08T00:00:00\", \"2017-06-07T00:00:00\", \"2017-06-06T00:00:00\", \"2017-06-05T00:00:00\", \"2017-06-04T00:00:00\", \"2017-06-03T00:00:00\", \"2017-06-02T00:00:00\", \"2017-06-01T00:00:00\", \"2017-05-31T00:00:00\", \"2017-05-30T00:00:00\", \"2017-05-29T00:00:00\", \"2017-05-28T00:00:00\", \"2017-05-27T00:00:00\", \"2017-05-26T00:00:00\", \"2017-05-25T00:00:00\", \"2017-05-24T00:00:00\", \"2017-05-23T00:00:00\", \"2017-05-22T00:00:00\", \"2017-05-21T00:00:00\", \"2017-05-20T00:00:00\", \"2017-05-19T00:00:00\", \"2017-05-18T00:00:00\", \"2017-05-17T00:00:00\", \"2017-05-16T00:00:00\", \"2017-05-15T00:00:00\", \"2017-05-14T00:00:00\", \"2017-05-13T00:00:00\", \"2017-05-12T00:00:00\", \"2017-05-11T00:00:00\", \"2017-05-10T00:00:00\", \"2017-05-09T00:00:00\", \"2017-05-08T00:00:00\", \"2017-05-07T00:00:00\", \"2017-05-06T00:00:00\", \"2017-05-05T00:00:00\", \"2017-05-04T00:00:00\", \"2017-05-03T00:00:00\", \"2017-05-02T00:00:00\", \"2017-05-01T00:00:00\", \"2017-04-30T00:00:00\", \"2017-04-29T00:00:00\", \"2017-04-28T00:00:00\", \"2017-04-27T00:00:00\", \"2017-04-26T00:00:00\", \"2017-04-25T00:00:00\", \"2017-04-24T00:00:00\", \"2017-04-23T00:00:00\", \"2017-04-22T00:00:00\", \"2017-04-21T00:00:00\", \"2017-04-20T00:00:00\", \"2017-04-19T00:00:00\", \"2017-04-18T00:00:00\", \"2017-04-17T00:00:00\", \"2017-04-16T00:00:00\", \"2017-04-15T00:00:00\", \"2017-04-14T00:00:00\", \"2017-04-13T00:00:00\", \"2017-04-12T00:00:00\", \"2017-04-11T00:00:00\", \"2017-04-10T00:00:00\", \"2017-04-09T00:00:00\", \"2017-04-08T00:00:00\", \"2017-04-07T00:00:00\", \"2017-04-06T00:00:00\", \"2017-04-05T00:00:00\", \"2017-04-04T00:00:00\", \"2017-04-03T00:00:00\", \"2017-04-02T00:00:00\", \"2017-04-01T00:00:00\", \"2017-03-31T00:00:00\", \"2017-03-30T00:00:00\", \"2017-03-29T00:00:00\", \"2017-03-28T00:00:00\", \"2017-03-27T00:00:00\", \"2017-03-26T00:00:00\", \"2017-03-25T00:00:00\", \"2017-03-24T00:00:00\", \"2017-03-23T00:00:00\", \"2017-03-22T00:00:00\", \"2017-03-21T00:00:00\", \"2017-03-20T00:00:00\", \"2017-03-19T00:00:00\", \"2017-03-18T00:00:00\", \"2017-03-17T00:00:00\", \"2017-03-16T00:00:00\", \"2017-03-15T00:00:00\", \"2017-03-14T00:00:00\", \"2017-03-13T00:00:00\", \"2017-03-12T00:00:00\", \"2017-03-11T00:00:00\", \"2017-03-10T00:00:00\", \"2017-03-09T00:00:00\", \"2017-03-08T00:00:00\", \"2017-03-07T00:00:00\", \"2017-03-06T00:00:00\", \"2017-03-05T00:00:00\", \"2017-03-04T00:00:00\", \"2017-03-03T00:00:00\", \"2017-03-02T00:00:00\", \"2017-03-01T00:00:00\", \"2017-02-28T00:00:00\", \"2017-02-27T00:00:00\", \"2017-02-26T00:00:00\", \"2017-02-25T00:00:00\", \"2017-02-24T00:00:00\", \"2017-02-23T00:00:00\", \"2017-02-22T00:00:00\", \"2017-02-21T00:00:00\", \"2017-02-20T00:00:00\", \"2017-02-19T00:00:00\", \"2017-02-18T00:00:00\", \"2017-02-17T00:00:00\", \"2017-02-16T00:00:00\", \"2017-02-15T00:00:00\", \"2017-02-14T00:00:00\", \"2017-02-13T00:00:00\", \"2017-02-12T00:00:00\", \"2017-02-11T00:00:00\", \"2017-02-10T00:00:00\", \"2017-02-09T00:00:00\", \"2017-02-08T00:00:00\", \"2017-02-07T00:00:00\", \"2017-02-06T00:00:00\", \"2017-02-05T00:00:00\", \"2017-02-04T00:00:00\", \"2017-02-03T00:00:00\", \"2017-02-02T00:00:00\", \"2017-02-01T00:00:00\", \"2017-01-31T00:00:00\", \"2017-01-30T00:00:00\", \"2017-01-29T00:00:00\", \"2017-01-28T00:00:00\", \"2017-01-27T00:00:00\", \"2017-01-26T00:00:00\", \"2017-01-25T00:00:00\", \"2017-01-24T00:00:00\", \"2017-01-23T00:00:00\", \"2017-01-22T00:00:00\", \"2017-01-21T00:00:00\", \"2017-01-20T00:00:00\", \"2017-01-19T00:00:00\", \"2017-01-18T00:00:00\", \"2017-01-17T00:00:00\", \"2017-01-16T00:00:00\", \"2017-01-15T00:00:00\", \"2017-01-14T00:00:00\", \"2017-01-13T00:00:00\", \"2017-01-12T00:00:00\", \"2017-01-11T00:00:00\", \"2017-01-10T00:00:00\", \"2017-01-09T00:00:00\", \"2017-01-08T00:00:00\", \"2017-01-07T00:00:00\", \"2017-01-06T00:00:00\", \"2017-01-05T00:00:00\", \"2017-01-04T00:00:00\", \"2017-01-03T00:00:00\", \"2017-01-02T00:00:00\", \"2017-01-01T00:00:00\", \"2016-12-31T00:00:00\", \"2016-12-30T00:00:00\", \"2016-12-29T00:00:00\", \"2016-12-28T00:00:00\", \"2016-12-27T00:00:00\", \"2016-12-26T00:00:00\", \"2016-12-25T00:00:00\", \"2016-12-24T00:00:00\", \"2016-12-23T00:00:00\", \"2016-12-22T00:00:00\", \"2016-12-21T00:00:00\", \"2016-12-20T00:00:00\", \"2016-12-19T00:00:00\", \"2016-12-18T00:00:00\", \"2016-12-17T00:00:00\", \"2016-12-16T00:00:00\", \"2016-12-15T00:00:00\", \"2016-12-14T00:00:00\", \"2016-12-13T00:00:00\", \"2016-12-12T00:00:00\", \"2016-12-11T00:00:00\", \"2016-12-10T00:00:00\", \"2016-12-09T00:00:00\", \"2016-12-08T00:00:00\", \"2016-12-07T00:00:00\", \"2016-12-06T00:00:00\", \"2016-12-05T00:00:00\", \"2016-12-04T00:00:00\", \"2016-12-03T00:00:00\", \"2016-12-02T00:00:00\", \"2016-12-01T00:00:00\", \"2016-11-30T00:00:00\", \"2016-11-29T00:00:00\", \"2016-11-28T00:00:00\", \"2016-11-27T00:00:00\", \"2016-11-26T00:00:00\", \"2016-11-25T00:00:00\", \"2016-11-24T00:00:00\", \"2016-11-23T00:00:00\", \"2016-11-22T00:00:00\", \"2016-11-21T00:00:00\", \"2016-11-20T00:00:00\", \"2016-11-19T00:00:00\", \"2016-11-18T00:00:00\", \"2016-11-17T00:00:00\", \"2016-11-16T00:00:00\", \"2016-11-15T00:00:00\", \"2016-11-14T00:00:00\", \"2016-11-13T00:00:00\", \"2016-11-12T00:00:00\", \"2016-11-11T00:00:00\", \"2016-11-10T00:00:00\", \"2016-11-09T00:00:00\", \"2016-11-08T00:00:00\", \"2016-11-07T00:00:00\", \"2016-11-06T00:00:00\", \"2016-11-05T00:00:00\", \"2016-11-04T00:00:00\", \"2016-11-03T00:00:00\", \"2016-11-02T00:00:00\", \"2016-11-01T00:00:00\", \"2016-10-31T00:00:00\", \"2016-10-30T00:00:00\", \"2016-10-29T00:00:00\", \"2016-10-28T00:00:00\", \"2016-10-27T00:00:00\", \"2016-10-26T00:00:00\", \"2016-10-25T00:00:00\", \"2016-10-24T00:00:00\", \"2016-10-23T00:00:00\", \"2016-10-22T00:00:00\", \"2016-10-21T00:00:00\", \"2016-10-20T00:00:00\", \"2016-10-19T00:00:00\", \"2016-10-18T00:00:00\", \"2016-10-17T00:00:00\", \"2016-10-16T00:00:00\", \"2016-10-15T00:00:00\", \"2016-10-14T00:00:00\", \"2016-10-13T00:00:00\", \"2016-10-12T00:00:00\", \"2016-10-11T00:00:00\", \"2016-10-10T00:00:00\", \"2016-10-09T00:00:00\", \"2016-10-08T00:00:00\", \"2016-10-07T00:00:00\", \"2016-10-06T00:00:00\", \"2016-10-05T00:00:00\", \"2016-10-04T00:00:00\", \"2016-10-03T00:00:00\", \"2016-10-02T00:00:00\", \"2016-10-01T00:00:00\", \"2016-09-30T00:00:00\", \"2016-09-29T00:00:00\", \"2016-09-28T00:00:00\", \"2016-09-27T00:00:00\", \"2016-09-26T00:00:00\", \"2016-09-25T00:00:00\", \"2016-09-24T00:00:00\", \"2016-09-23T00:00:00\", \"2016-09-22T00:00:00\", \"2016-09-21T00:00:00\", \"2016-09-20T00:00:00\", \"2016-09-19T00:00:00\", \"2016-09-18T00:00:00\", \"2016-09-17T00:00:00\", \"2016-09-16T00:00:00\", \"2016-09-15T00:00:00\", \"2016-09-14T00:00:00\", \"2016-09-13T00:00:00\", \"2016-09-12T00:00:00\", \"2016-09-11T00:00:00\", \"2016-09-10T00:00:00\", \"2016-09-09T00:00:00\", \"2016-09-08T00:00:00\", \"2016-09-07T00:00:00\", \"2016-09-06T00:00:00\", \"2016-09-05T00:00:00\", \"2016-09-04T00:00:00\", \"2016-09-03T00:00:00\", \"2016-09-02T00:00:00\", \"2016-09-01T00:00:00\", \"2016-08-31T00:00:00\", \"2016-08-30T00:00:00\", \"2016-08-29T00:00:00\", \"2016-08-28T00:00:00\", \"2016-08-27T00:00:00\", \"2016-08-26T00:00:00\", \"2016-08-25T00:00:00\", \"2016-08-24T00:00:00\", \"2016-08-23T00:00:00\", \"2016-08-22T00:00:00\", \"2016-08-21T00:00:00\", \"2016-08-20T00:00:00\", \"2016-08-19T00:00:00\", \"2016-08-18T00:00:00\", \"2016-08-17T00:00:00\", \"2016-08-16T00:00:00\", \"2016-08-15T00:00:00\", \"2016-08-14T00:00:00\", \"2016-08-13T00:00:00\", \"2016-08-12T00:00:00\", \"2016-08-11T00:00:00\", \"2016-08-10T00:00:00\", \"2016-08-09T00:00:00\", \"2016-08-08T00:00:00\", \"2016-08-07T00:00:00\", \"2016-08-06T00:00:00\", \"2016-08-05T00:00:00\", \"2016-08-04T00:00:00\", \"2016-08-03T00:00:00\", \"2016-08-02T00:00:00\", \"2016-08-01T00:00:00\", \"2016-07-31T00:00:00\", \"2016-07-30T00:00:00\", \"2016-07-29T00:00:00\", \"2016-07-28T00:00:00\", \"2016-07-27T00:00:00\", \"2016-07-26T00:00:00\", \"2016-07-25T00:00:00\", \"2016-07-24T00:00:00\", \"2016-07-23T00:00:00\", \"2016-07-22T00:00:00\", \"2016-07-21T00:00:00\", \"2016-07-20T00:00:00\", \"2016-07-19T00:00:00\", \"2016-07-18T00:00:00\", \"2016-07-17T00:00:00\", \"2016-07-16T00:00:00\", \"2016-07-15T00:00:00\", \"2016-07-14T00:00:00\", \"2016-07-13T00:00:00\", \"2016-07-12T00:00:00\", \"2016-07-11T00:00:00\", \"2016-07-10T00:00:00\", \"2016-07-09T00:00:00\", \"2016-07-08T00:00:00\", \"2016-07-07T00:00:00\", \"2016-07-06T00:00:00\", \"2016-07-05T00:00:00\", \"2016-07-04T00:00:00\", \"2016-07-03T00:00:00\", \"2016-07-02T00:00:00\", \"2016-07-01T00:00:00\"], \"y\": [12, 27, 48, 30, 26, 10, 27, 34, 49, 63, 50, 128, 59, 36, 139, 101, 98, 43, 54, 45, 45, 55, 96, 21, 46, 37, 59, 58, 40, 64, 72, 70, 85, 68, 55, 87, 69, 61, 59, 119, 98, 97, 117, 65, 65, 75, 116, 112, 91, 82, 58, 76, 90, 111, 88, 65, 90, 74, 50, 80, 105, 92, 63, 91, 85, 88, 82, 142, 110, 105, 104, 60, 44, 54, 84, 41, 54, 63, 85, 167, 82, 107, 81, 123, 60, 83, 80, 66, 116, 104, 50, 42, 103, 102, 48, 68, 52, 69, 70, 93, 96, 87, 153, 180, 127, 177, 166, 61, 123, 190, 157, 241, 181, 186, 95, 148, 651, 77, 53, 19, 23, 32, 24, 24, 37, 29, 55, 53, 43, 48, 33, 49, 36, 31, 27, 52, 28, 17, 21, 61, 20, 50, 37, 40, 41, 27, 55, 52, 32, 33, 48, 44, 60, 30, 53, 46, 126, 156, 251, 53, 47, 41, 46, 49, 32, 146, 265, 322, 107, 59, 60, 64, 69, 60, 74, 63, 55, 42, 104, 161, 44, 45, 322, 294, 51, 34, 63, 87, 106, 149, 630, 78, 104, 69, 34, 37, 27, 54, 27, 16, 14, 20, 23, 34, 35, 23, 18, 25, 36, 188, 18, 19, 41, 159, 35, 15, 23, 37, 9, 10, 11, 17, 15, 15, 22, 18, 6, 6, 52, 6, 18, 12, 12, 7, 27, 118, 17, 63, 43, 31, 21, 21, 27, 12, 32, 37, 22, 18, 16, 95, 65, 28, 30, 19, 10, 21, 46, 25, 47, 30, 57, 53, 72, 72, 113, 59, 24, 31, 13, 32, 48, 122, 51, 78, 196, 469, 681, 1537, 459, 300, 426, 475, 386, 824, 973, 59, 32, 17, 25, 6, 92, 255, 58, 34, 33, 29, 12, 42, 125, 63, 10, 41, 14, 11, 9, 33, 111, 10, 16, 32, 47, 20, 46, 251, 11, 13, 16, 10, 28, 47, 122, 38, 1235, 16, 12, 17, 29, 30, 10, 33, 11, 13, 51, 51, 35, 19, 27, 12, 8, 22, 52, 80, 28, 28, 16, 13, 22, 64, 79, 27, 17, 13, 26, 30, 9, 19, 37, 18, 5, 8, 12, 8, 53, 4, 38, 21, 28, 17, 12, 41, 22, 27, 20, 32, 25, 44, 24, 25, 37, 339, 363, 34, 29, 58, 52, 47, 4, 11, 10, 21, 95, 40, 23, 41, 28, 8, 28, 66, 15, 42, 27, 18, 25, 26, 30, 52, 23, 68, 48, 36, 53, 117, 134, 120, 27, 21, 19, 26, 51, 20, 21, 29, 18, 20, 17, 54, 15, 12, 23, 19, 5, 31, 24, 31, 33, 105, 86, 63, 120, 162, 32, 16, 150, 55, 50, 49, 27, 22, 50, 37, 35, 10, 23, 46, 18, 19, 20, 5, 25, 16, 30, 25, 37, 405, 296, 376, 1342, 60, 34, 48, 24, 11, 17, 24, 42, 28, 40, 24, 9, 28, 31, 47, 18, 23, 12, 20, 26, 32, 55, 15, 16, 26, 11, 29, 35, 100, 79, 93, 146, 78, 161, 78, 73, 50, 50, 77, 92, 109, 48, 91, 39, 37, 65, 36, 36, 29, 32, 51, 73, 92, 138, 108, 206, 237, 171, 87, 53, 24, 38, 26, 20, 5, 15, 28, 24, 28, 28, 45, 59, 28, 24, 78, 15, 20, 62, 36, 24, 30, 40, 42, 40, 64, 32, 53, 24, 16, 93, 29, 55, 54, 40, 59, 32, 33, 52, 64, 50, 58, 54, 51, 57, 32, 22, 34, 20, 40, 16, 28, 14, 18, 26, 35, 27, 20, 13, 13, 32, 35, 33, 29, 17, 12, 29, 61, 158, 59, 113, 45, 67, 75, 81, 136, 113, 103, 54, 53, 75, 88, 43, 40, 51, 16, 39, 46, 51, 55, 51, 53, 18, 46, 30, 75, 24, 40, 17, 33, 17, 46, 23, 62, 35, 39, 23, 19, 41, 47, 25, 62, 109, 253, 215, 1689, 946, 1246, 198, 11, 81, 119, 22, 30, 18, 30, 22, 5, 14, 31, 31, 34, 38, 17, 7, 29, 20, 32, 23, 34, 10, 14, 53, 16, 59, 25, 35, 86, 26, 16, 18, 12, 8, 19, 21, 16, 17, 11, 38, 34, 22, 34, 15, 21, 16, 52, 29, 44, 28, 44, 70, 469, 483, 156, 57, 31, 27, 10, 9, 13, 4, 8, 12, 5, 9, 10, 10, 9, 6, 8, 6, 14, 3, 18, 3, 11, 14, 12, 14, 10, 15, 5, 18, 21, 11, 3, 6, 20, 22, 18, 13, 1, 14, 7, 15, 7, 22, 12, 26, 7, 18, 8, 15, 14, 8, 12, 11, 11, 6, 17, 13, 8, 1, 10, 14, 11, 11, 18, 17, 11, 6, 9, 8, 11, 14, 9, 4, 3, 30, 9, 12, 9, 2, 3, 6, 3, 1, 2, 5, 5, 4, 17, 5]}],\n",
              "                        {\"template\": {\"data\": {\"bar\": [{\"error_x\": {\"color\": \"#2a3f5f\"}, \"error_y\": {\"color\": \"#2a3f5f\"}, \"marker\": {\"line\": {\"color\": \"#E5ECF6\", \"width\": 0.5}}, \"type\": \"bar\"}], \"barpolar\": [{\"marker\": {\"line\": {\"color\": \"#E5ECF6\", \"width\": 0.5}}, \"type\": \"barpolar\"}], \"carpet\": [{\"aaxis\": {\"endlinecolor\": \"#2a3f5f\", \"gridcolor\": \"white\", \"linecolor\": \"white\", \"minorgridcolor\": \"white\", \"startlinecolor\": \"#2a3f5f\"}, \"baxis\": {\"endlinecolor\": \"#2a3f5f\", \"gridcolor\": \"white\", \"linecolor\": \"white\", \"minorgridcolor\": \"white\", \"startlinecolor\": \"#2a3f5f\"}, \"type\": \"carpet\"}], \"choropleth\": [{\"colorbar\": {\"outlinewidth\": 0, \"ticks\": \"\"}, \"type\": \"choropleth\"}], \"contour\": [{\"colorbar\": {\"outlinewidth\": 0, \"ticks\": \"\"}, \"colorscale\": [[0.0, \"#0d0887\"], [0.1111111111111111, \"#46039f\"], [0.2222222222222222, \"#7201a8\"], [0.3333333333333333, \"#9c179e\"], [0.4444444444444444, \"#bd3786\"], [0.5555555555555556, \"#d8576b\"], [0.6666666666666666, \"#ed7953\"], [0.7777777777777778, \"#fb9f3a\"], [0.8888888888888888, \"#fdca26\"], [1.0, \"#f0f921\"]], \"type\": \"contour\"}], \"contourcarpet\": [{\"colorbar\": {\"outlinewidth\": 0, \"ticks\": \"\"}, \"type\": \"contourcarpet\"}], \"heatmap\": [{\"colorbar\": {\"outlinewidth\": 0, \"ticks\": \"\"}, \"colorscale\": [[0.0, \"#0d0887\"], [0.1111111111111111, \"#46039f\"], [0.2222222222222222, \"#7201a8\"], [0.3333333333333333, \"#9c179e\"], [0.4444444444444444, \"#bd3786\"], [0.5555555555555556, \"#d8576b\"], [0.6666666666666666, \"#ed7953\"], [0.7777777777777778, \"#fb9f3a\"], [0.8888888888888888, \"#fdca26\"], [1.0, \"#f0f921\"]], \"type\": \"heatmap\"}], \"heatmapgl\": [{\"colorbar\": {\"outlinewidth\": 0, \"ticks\": \"\"}, \"colorscale\": [[0.0, \"#0d0887\"], [0.1111111111111111, \"#46039f\"], [0.2222222222222222, \"#7201a8\"], [0.3333333333333333, \"#9c179e\"], [0.4444444444444444, \"#bd3786\"], [0.5555555555555556, \"#d8576b\"], [0.6666666666666666, \"#ed7953\"], [0.7777777777777778, \"#fb9f3a\"], [0.8888888888888888, \"#fdca26\"], [1.0, \"#f0f921\"]], \"type\": \"heatmapgl\"}], \"histogram\": [{\"marker\": {\"colorbar\": {\"outlinewidth\": 0, \"ticks\": \"\"}}, \"type\": \"histogram\"}], \"histogram2d\": [{\"colorbar\": {\"outlinewidth\": 0, \"ticks\": \"\"}, \"colorscale\": [[0.0, \"#0d0887\"], [0.1111111111111111, \"#46039f\"], [0.2222222222222222, \"#7201a8\"], [0.3333333333333333, \"#9c179e\"], [0.4444444444444444, \"#bd3786\"], [0.5555555555555556, \"#d8576b\"], [0.6666666666666666, \"#ed7953\"], [0.7777777777777778, \"#fb9f3a\"], [0.8888888888888888, \"#fdca26\"], [1.0, \"#f0f921\"]], \"type\": \"histogram2d\"}], \"histogram2dcontour\": [{\"colorbar\": {\"outlinewidth\": 0, \"ticks\": \"\"}, \"colorscale\": [[0.0, \"#0d0887\"], [0.1111111111111111, \"#46039f\"], [0.2222222222222222, \"#7201a8\"], [0.3333333333333333, \"#9c179e\"], [0.4444444444444444, \"#bd3786\"], [0.5555555555555556, \"#d8576b\"], [0.6666666666666666, \"#ed7953\"], [0.7777777777777778, \"#fb9f3a\"], [0.8888888888888888, \"#fdca26\"], [1.0, \"#f0f921\"]], \"type\": \"histogram2dcontour\"}], \"mesh3d\": [{\"colorbar\": {\"outlinewidth\": 0, \"ticks\": \"\"}, \"type\": \"mesh3d\"}], \"parcoords\": [{\"line\": {\"colorbar\": {\"outlinewidth\": 0, \"ticks\": \"\"}}, \"type\": \"parcoords\"}], \"pie\": [{\"automargin\": true, \"type\": \"pie\"}], \"scatter\": [{\"marker\": {\"colorbar\": {\"outlinewidth\": 0, \"ticks\": \"\"}}, \"type\": \"scatter\"}], \"scatter3d\": [{\"line\": {\"colorbar\": {\"outlinewidth\": 0, \"ticks\": \"\"}}, \"marker\": {\"colorbar\": {\"outlinewidth\": 0, \"ticks\": \"\"}}, \"type\": \"scatter3d\"}], \"scattercarpet\": [{\"marker\": {\"colorbar\": {\"outlinewidth\": 0, \"ticks\": \"\"}}, \"type\": \"scattercarpet\"}], \"scattergeo\": [{\"marker\": {\"colorbar\": {\"outlinewidth\": 0, \"ticks\": \"\"}}, \"type\": \"scattergeo\"}], \"scattergl\": [{\"marker\": {\"colorbar\": {\"outlinewidth\": 0, \"ticks\": \"\"}}, \"type\": \"scattergl\"}], \"scattermapbox\": [{\"marker\": {\"colorbar\": {\"outlinewidth\": 0, \"ticks\": \"\"}}, \"type\": \"scattermapbox\"}], \"scatterpolar\": [{\"marker\": {\"colorbar\": {\"outlinewidth\": 0, \"ticks\": \"\"}}, \"type\": \"scatterpolar\"}], \"scatterpolargl\": [{\"marker\": {\"colorbar\": {\"outlinewidth\": 0, \"ticks\": \"\"}}, \"type\": \"scatterpolargl\"}], \"scatterternary\": [{\"marker\": {\"colorbar\": {\"outlinewidth\": 0, \"ticks\": \"\"}}, \"type\": \"scatterternary\"}], \"surface\": [{\"colorbar\": {\"outlinewidth\": 0, \"ticks\": \"\"}, \"colorscale\": [[0.0, \"#0d0887\"], [0.1111111111111111, \"#46039f\"], [0.2222222222222222, \"#7201a8\"], [0.3333333333333333, \"#9c179e\"], [0.4444444444444444, \"#bd3786\"], [0.5555555555555556, \"#d8576b\"], [0.6666666666666666, \"#ed7953\"], [0.7777777777777778, \"#fb9f3a\"], [0.8888888888888888, \"#fdca26\"], [1.0, \"#f0f921\"]], \"type\": \"surface\"}], \"table\": [{\"cells\": {\"fill\": {\"color\": \"#EBF0F8\"}, \"line\": {\"color\": \"white\"}}, \"header\": {\"fill\": {\"color\": \"#C8D4E3\"}, \"line\": {\"color\": \"white\"}}, \"type\": \"table\"}]}, \"layout\": {\"annotationdefaults\": {\"arrowcolor\": \"#2a3f5f\", \"arrowhead\": 0, \"arrowwidth\": 1}, \"coloraxis\": {\"colorbar\": {\"outlinewidth\": 0, \"ticks\": \"\"}}, \"colorscale\": {\"diverging\": [[0, \"#8e0152\"], [0.1, \"#c51b7d\"], [0.2, \"#de77ae\"], [0.3, \"#f1b6da\"], [0.4, \"#fde0ef\"], [0.5, \"#f7f7f7\"], [0.6, \"#e6f5d0\"], [0.7, \"#b8e186\"], [0.8, \"#7fbc41\"], [0.9, \"#4d9221\"], [1, \"#276419\"]], \"sequential\": [[0.0, \"#0d0887\"], [0.1111111111111111, \"#46039f\"], [0.2222222222222222, \"#7201a8\"], [0.3333333333333333, \"#9c179e\"], [0.4444444444444444, \"#bd3786\"], [0.5555555555555556, \"#d8576b\"], [0.6666666666666666, \"#ed7953\"], [0.7777777777777778, \"#fb9f3a\"], [0.8888888888888888, \"#fdca26\"], [1.0, \"#f0f921\"]], \"sequentialminus\": [[0.0, \"#0d0887\"], [0.1111111111111111, \"#46039f\"], [0.2222222222222222, \"#7201a8\"], [0.3333333333333333, \"#9c179e\"], [0.4444444444444444, \"#bd3786\"], [0.5555555555555556, \"#d8576b\"], [0.6666666666666666, \"#ed7953\"], [0.7777777777777778, \"#fb9f3a\"], [0.8888888888888888, \"#fdca26\"], [1.0, \"#f0f921\"]]}, \"colorway\": [\"#636efa\", \"#EF553B\", \"#00cc96\", \"#ab63fa\", \"#FFA15A\", \"#19d3f3\", \"#FF6692\", \"#B6E880\", \"#FF97FF\", \"#FECB52\"], \"font\": {\"color\": \"#2a3f5f\"}, \"geo\": {\"bgcolor\": \"white\", \"lakecolor\": \"white\", \"landcolor\": \"#E5ECF6\", \"showlakes\": true, \"showland\": true, \"subunitcolor\": \"white\"}, \"hoverlabel\": {\"align\": \"left\"}, \"hovermode\": \"closest\", \"mapbox\": {\"style\": \"light\"}, \"paper_bgcolor\": \"white\", \"plot_bgcolor\": \"#E5ECF6\", \"polar\": {\"angularaxis\": {\"gridcolor\": \"white\", \"linecolor\": \"white\", \"ticks\": \"\"}, \"bgcolor\": \"#E5ECF6\", \"radialaxis\": {\"gridcolor\": \"white\", \"linecolor\": \"white\", \"ticks\": \"\"}}, \"scene\": {\"xaxis\": {\"backgroundcolor\": \"#E5ECF6\", \"gridcolor\": \"white\", \"gridwidth\": 2, \"linecolor\": \"white\", \"showbackground\": true, \"ticks\": \"\", \"zerolinecolor\": \"white\"}, \"yaxis\": {\"backgroundcolor\": \"#E5ECF6\", \"gridcolor\": \"white\", \"gridwidth\": 2, \"linecolor\": \"white\", \"showbackground\": true, \"ticks\": \"\", \"zerolinecolor\": \"white\"}, \"zaxis\": {\"backgroundcolor\": \"#E5ECF6\", \"gridcolor\": \"white\", \"gridwidth\": 2, \"linecolor\": \"white\", \"showbackground\": true, \"ticks\": \"\", \"zerolinecolor\": \"white\"}}, \"shapedefaults\": {\"line\": {\"color\": \"#2a3f5f\"}}, \"ternary\": {\"aaxis\": {\"gridcolor\": \"white\", \"linecolor\": \"white\", \"ticks\": \"\"}, \"baxis\": {\"gridcolor\": \"white\", \"linecolor\": \"white\", \"ticks\": \"\"}, \"bgcolor\": \"#E5ECF6\", \"caxis\": {\"gridcolor\": \"white\", \"linecolor\": \"white\", \"ticks\": \"\"}}, \"title\": {\"x\": 0.05}, \"xaxis\": {\"automargin\": true, \"gridcolor\": \"white\", \"linecolor\": \"white\", \"ticks\": \"\", \"title\": {\"standoff\": 15}, \"zerolinecolor\": \"white\", \"zerolinewidth\": 2}, \"yaxis\": {\"automargin\": true, \"gridcolor\": \"white\", \"linecolor\": \"white\", \"ticks\": \"\", \"title\": {\"standoff\": 15}, \"zerolinecolor\": \"white\", \"zerolinewidth\": 2}}}, \"xaxis\": {\"rangeslider\": {\"visible\": true}}},\n",
              "                        {\"responsive\": true}\n",
              "                    ).then(function(){\n",
              "                            \n",
              "var gd = document.getElementById('bdf0b410-7a20-43dc-97a8-275d0fdcb867');\n",
              "var x = new MutationObserver(function (mutations, observer) {{\n",
              "        var display = window.getComputedStyle(gd).display;\n",
              "        if (!display || display === 'none') {{\n",
              "            console.log([gd, 'removed!']);\n",
              "            Plotly.purge(gd);\n",
              "            observer.disconnect();\n",
              "        }}\n",
              "}});\n",
              "\n",
              "// Listen for the removal of the full notebook cells\n",
              "var notebookContainer = gd.closest('#notebook-container');\n",
              "if (notebookContainer) {{\n",
              "    x.observe(notebookContainer, {childList: true});\n",
              "}}\n",
              "\n",
              "// Listen for the clearing of the current output cell\n",
              "var outputEl = gd.closest('.output');\n",
              "if (outputEl) {{\n",
              "    x.observe(outputEl, {childList: true});\n",
              "}}\n",
              "\n",
              "                        })\n",
              "                };\n",
              "                \n",
              "            </script>\n",
              "        </div>\n",
              "</body>\n",
              "</html>"
            ]
          },
          "metadata": {
            "tags": []
          }
        }
      ]
    },
    {
      "cell_type": "code",
      "metadata": {
        "colab": {
          "base_uri": "https://localhost:8080/",
          "height": 542
        },
        "id": "7_EO9d9q1AHj",
        "outputId": "b3484b05-c2f4-4a54-f812-f094fd612fc3"
      },
      "source": [
        "df_visual = spark.sql(\"SELECT created_at, count(item_id) as total FROM eCommerce_view where status <> 'canceled' and category_name_1 = 'Mobiles & Tablets' group by created_at order by created_at desc\")\n",
        "\n",
        "df_visual = df_visual.toPandas()\n",
        "\n",
        "fig = go.Figure([go.Scatter(x=df_visual['created_at'], y=df_visual['total'])])\n",
        "fig.update_xaxes(rangeslider_visible=True)\n",
        "\n",
        "fig.show()"
      ],
      "execution_count": 40,
      "outputs": [
        {
          "output_type": "display_data",
          "data": {
            "text/html": [
              "<html>\n",
              "<head><meta charset=\"utf-8\" /></head>\n",
              "<body>\n",
              "    <div>\n",
              "            <script src=\"https://cdnjs.cloudflare.com/ajax/libs/mathjax/2.7.5/MathJax.js?config=TeX-AMS-MML_SVG\"></script><script type=\"text/javascript\">if (window.MathJax) {MathJax.Hub.Config({SVG: {font: \"STIX-Web\"}});}</script>\n",
              "                <script type=\"text/javascript\">window.PlotlyConfig = {MathJaxConfig: 'local'};</script>\n",
              "        <script src=\"https://cdn.plot.ly/plotly-latest.min.js\"></script>    \n",
              "            <div id=\"0ddf0acb-5085-4844-b8d7-23fb867837b9\" class=\"plotly-graph-div\" style=\"height:525px; width:100%;\"></div>\n",
              "            <script type=\"text/javascript\">\n",
              "                \n",
              "                    window.PLOTLYENV=window.PLOTLYENV || {};\n",
              "                    \n",
              "                if (document.getElementById(\"0ddf0acb-5085-4844-b8d7-23fb867837b9\")) {\n",
              "                    Plotly.newPlot(\n",
              "                        '0ddf0acb-5085-4844-b8d7-23fb867837b9',\n",
              "                        [{\"type\": \"scatter\", \"x\": [\"2018-08-28T00:00:00\", \"2018-08-27T00:00:00\", \"2018-08-26T00:00:00\", \"2018-08-25T00:00:00\", \"2018-08-24T00:00:00\", \"2018-08-23T00:00:00\", \"2018-08-22T00:00:00\", \"2018-08-21T00:00:00\", \"2018-08-20T00:00:00\", \"2018-08-19T00:00:00\", \"2018-08-18T00:00:00\", \"2018-08-17T00:00:00\", \"2018-08-16T00:00:00\", \"2018-08-15T00:00:00\", \"2018-08-14T00:00:00\", \"2018-08-13T00:00:00\", \"2018-08-12T00:00:00\", \"2018-08-11T00:00:00\", \"2018-08-10T00:00:00\", \"2018-08-09T00:00:00\", \"2018-08-08T00:00:00\", \"2018-08-07T00:00:00\", \"2018-08-06T00:00:00\", \"2018-08-05T00:00:00\", \"2018-08-04T00:00:00\", \"2018-08-03T00:00:00\", \"2018-08-02T00:00:00\", \"2018-08-01T00:00:00\", \"2018-07-31T00:00:00\", \"2018-07-30T00:00:00\", \"2018-07-29T00:00:00\", \"2018-07-28T00:00:00\", \"2018-07-27T00:00:00\", \"2018-07-26T00:00:00\", \"2018-07-25T00:00:00\", \"2018-07-24T00:00:00\", \"2018-07-23T00:00:00\", \"2018-07-22T00:00:00\", \"2018-07-21T00:00:00\", \"2018-07-20T00:00:00\", \"2018-07-19T00:00:00\", \"2018-07-18T00:00:00\", \"2018-07-17T00:00:00\", \"2018-07-16T00:00:00\", \"2018-07-15T00:00:00\", \"2018-07-14T00:00:00\", \"2018-07-13T00:00:00\", \"2018-07-12T00:00:00\", \"2018-07-11T00:00:00\", \"2018-07-10T00:00:00\", \"2018-07-09T00:00:00\", \"2018-07-08T00:00:00\", \"2018-07-07T00:00:00\", \"2018-07-06T00:00:00\", \"2018-07-05T00:00:00\", \"2018-07-04T00:00:00\", \"2018-07-03T00:00:00\", \"2018-07-02T00:00:00\", \"2018-07-01T00:00:00\", \"2018-06-30T00:00:00\", \"2018-06-29T00:00:00\", \"2018-06-28T00:00:00\", \"2018-06-27T00:00:00\", \"2018-06-26T00:00:00\", \"2018-06-25T00:00:00\", \"2018-06-24T00:00:00\", \"2018-06-23T00:00:00\", \"2018-06-22T00:00:00\", \"2018-06-21T00:00:00\", \"2018-06-20T00:00:00\", \"2018-06-19T00:00:00\", \"2018-06-18T00:00:00\", \"2018-06-17T00:00:00\", \"2018-06-16T00:00:00\", \"2018-06-15T00:00:00\", \"2018-06-14T00:00:00\", \"2018-06-13T00:00:00\", \"2018-06-12T00:00:00\", \"2018-06-11T00:00:00\", \"2018-06-10T00:00:00\", \"2018-06-09T00:00:00\", \"2018-06-08T00:00:00\", \"2018-06-07T00:00:00\", \"2018-06-06T00:00:00\", \"2018-06-05T00:00:00\", \"2018-06-04T00:00:00\", \"2018-06-03T00:00:00\", \"2018-06-02T00:00:00\", \"2018-06-01T00:00:00\", \"2018-05-31T00:00:00\", \"2018-05-30T00:00:00\", \"2018-05-29T00:00:00\", \"2018-05-28T00:00:00\", \"2018-05-27T00:00:00\", \"2018-05-26T00:00:00\", \"2018-05-25T00:00:00\", \"2018-05-24T00:00:00\", \"2018-05-23T00:00:00\", \"2018-05-22T00:00:00\", \"2018-05-21T00:00:00\", \"2018-05-20T00:00:00\", \"2018-05-19T00:00:00\", \"2018-05-18T00:00:00\", \"2018-05-17T00:00:00\", \"2018-05-16T00:00:00\", \"2018-05-15T00:00:00\", \"2018-05-14T00:00:00\", \"2018-05-13T00:00:00\", \"2018-05-12T00:00:00\", \"2018-05-11T00:00:00\", \"2018-05-10T00:00:00\", \"2018-05-09T00:00:00\", \"2018-05-08T00:00:00\", \"2018-05-07T00:00:00\", \"2018-05-06T00:00:00\", \"2018-05-05T00:00:00\", \"2018-05-04T00:00:00\", \"2018-05-03T00:00:00\", \"2018-05-02T00:00:00\", \"2018-05-01T00:00:00\", \"2018-04-30T00:00:00\", \"2018-04-29T00:00:00\", \"2018-04-28T00:00:00\", \"2018-04-27T00:00:00\", \"2018-04-26T00:00:00\", \"2018-04-25T00:00:00\", \"2018-04-24T00:00:00\", \"2018-04-23T00:00:00\", \"2018-04-22T00:00:00\", \"2018-04-21T00:00:00\", \"2018-04-20T00:00:00\", \"2018-04-19T00:00:00\", \"2018-04-18T00:00:00\", \"2018-04-17T00:00:00\", \"2018-04-16T00:00:00\", \"2018-04-15T00:00:00\", \"2018-04-14T00:00:00\", \"2018-04-13T00:00:00\", \"2018-04-12T00:00:00\", \"2018-04-11T00:00:00\", \"2018-04-10T00:00:00\", \"2018-04-09T00:00:00\", \"2018-04-08T00:00:00\", \"2018-04-07T00:00:00\", \"2018-04-06T00:00:00\", \"2018-04-05T00:00:00\", \"2018-04-04T00:00:00\", \"2018-04-03T00:00:00\", \"2018-04-02T00:00:00\", \"2018-04-01T00:00:00\", \"2018-03-31T00:00:00\", \"2018-03-30T00:00:00\", \"2018-03-29T00:00:00\", \"2018-03-28T00:00:00\", \"2018-03-27T00:00:00\", \"2018-03-26T00:00:00\", \"2018-03-25T00:00:00\", \"2018-03-24T00:00:00\", \"2018-03-23T00:00:00\", \"2018-03-22T00:00:00\", \"2018-03-21T00:00:00\", \"2018-03-20T00:00:00\", \"2018-03-19T00:00:00\", \"2018-03-18T00:00:00\", \"2018-03-17T00:00:00\", \"2018-03-16T00:00:00\", \"2018-03-15T00:00:00\", \"2018-03-14T00:00:00\", \"2018-03-13T00:00:00\", \"2018-03-12T00:00:00\", \"2018-03-11T00:00:00\", \"2018-03-10T00:00:00\", \"2018-03-09T00:00:00\", \"2018-03-08T00:00:00\", \"2018-03-07T00:00:00\", \"2018-03-06T00:00:00\", \"2018-03-05T00:00:00\", \"2018-03-04T00:00:00\", \"2018-03-03T00:00:00\", \"2018-03-02T00:00:00\", \"2018-03-01T00:00:00\", \"2018-02-28T00:00:00\", \"2018-02-27T00:00:00\", \"2018-02-26T00:00:00\", \"2018-02-25T00:00:00\", \"2018-02-24T00:00:00\", \"2018-02-23T00:00:00\", \"2018-02-22T00:00:00\", \"2018-02-21T00:00:00\", \"2018-02-20T00:00:00\", \"2018-02-19T00:00:00\", \"2018-02-18T00:00:00\", \"2018-02-17T00:00:00\", \"2018-02-16T00:00:00\", \"2018-02-15T00:00:00\", \"2018-02-14T00:00:00\", \"2018-02-13T00:00:00\", \"2018-02-12T00:00:00\", \"2018-02-11T00:00:00\", \"2018-02-10T00:00:00\", \"2018-02-09T00:00:00\", \"2018-02-08T00:00:00\", \"2018-02-07T00:00:00\", \"2018-02-06T00:00:00\", \"2018-02-05T00:00:00\", \"2018-02-04T00:00:00\", \"2018-02-03T00:00:00\", \"2018-02-02T00:00:00\", \"2018-02-01T00:00:00\", \"2018-01-31T00:00:00\", \"2018-01-30T00:00:00\", \"2018-01-29T00:00:00\", \"2018-01-28T00:00:00\", \"2018-01-27T00:00:00\", \"2018-01-26T00:00:00\", \"2018-01-25T00:00:00\", \"2018-01-24T00:00:00\", \"2018-01-23T00:00:00\", \"2018-01-22T00:00:00\", \"2018-01-21T00:00:00\", \"2018-01-20T00:00:00\", \"2018-01-19T00:00:00\", \"2018-01-18T00:00:00\", \"2018-01-17T00:00:00\", \"2018-01-16T00:00:00\", \"2018-01-15T00:00:00\", \"2018-01-14T00:00:00\", \"2018-01-13T00:00:00\", \"2018-01-12T00:00:00\", \"2018-01-11T00:00:00\", \"2018-01-10T00:00:00\", \"2018-01-09T00:00:00\", \"2018-01-08T00:00:00\", \"2018-01-07T00:00:00\", \"2018-01-06T00:00:00\", \"2018-01-05T00:00:00\", \"2018-01-04T00:00:00\", \"2018-01-03T00:00:00\", \"2018-01-02T00:00:00\", \"2018-01-01T00:00:00\", \"2017-12-31T00:00:00\", \"2017-12-30T00:00:00\", \"2017-12-29T00:00:00\", \"2017-12-28T00:00:00\", \"2017-12-27T00:00:00\", \"2017-12-26T00:00:00\", \"2017-12-25T00:00:00\", \"2017-12-24T00:00:00\", \"2017-12-23T00:00:00\", \"2017-12-22T00:00:00\", \"2017-12-21T00:00:00\", \"2017-12-20T00:00:00\", \"2017-12-19T00:00:00\", \"2017-12-18T00:00:00\", \"2017-12-17T00:00:00\", \"2017-12-16T00:00:00\", \"2017-12-15T00:00:00\", \"2017-12-14T00:00:00\", \"2017-12-13T00:00:00\", \"2017-12-12T00:00:00\", \"2017-12-11T00:00:00\", \"2017-12-10T00:00:00\", \"2017-12-09T00:00:00\", \"2017-12-08T00:00:00\", \"2017-12-07T00:00:00\", \"2017-12-06T00:00:00\", \"2017-12-05T00:00:00\", \"2017-12-04T00:00:00\", \"2017-12-03T00:00:00\", \"2017-12-02T00:00:00\", \"2017-12-01T00:00:00\", \"2017-11-30T00:00:00\", \"2017-11-29T00:00:00\", \"2017-11-28T00:00:00\", \"2017-11-27T00:00:00\", \"2017-11-26T00:00:00\", \"2017-11-25T00:00:00\", \"2017-11-24T00:00:00\", \"2017-11-23T00:00:00\", \"2017-11-22T00:00:00\", \"2017-11-21T00:00:00\", \"2017-11-20T00:00:00\", \"2017-11-19T00:00:00\", \"2017-11-18T00:00:00\", \"2017-11-17T00:00:00\", \"2017-11-16T00:00:00\", \"2017-11-15T00:00:00\", \"2017-11-14T00:00:00\", \"2017-11-13T00:00:00\", \"2017-11-12T00:00:00\", \"2017-11-11T00:00:00\", \"2017-11-10T00:00:00\", \"2017-11-09T00:00:00\", \"2017-11-08T00:00:00\", \"2017-11-07T00:00:00\", \"2017-11-06T00:00:00\", \"2017-11-05T00:00:00\", \"2017-11-04T00:00:00\", \"2017-11-03T00:00:00\", \"2017-11-02T00:00:00\", \"2017-11-01T00:00:00\", \"2017-10-31T00:00:00\", \"2017-10-30T00:00:00\", \"2017-10-29T00:00:00\", \"2017-10-28T00:00:00\", \"2017-10-27T00:00:00\", \"2017-10-26T00:00:00\", \"2017-10-25T00:00:00\", \"2017-10-24T00:00:00\", \"2017-10-23T00:00:00\", \"2017-10-22T00:00:00\", \"2017-10-21T00:00:00\", \"2017-10-20T00:00:00\", \"2017-10-19T00:00:00\", \"2017-10-18T00:00:00\", \"2017-10-17T00:00:00\", \"2017-10-16T00:00:00\", \"2017-10-15T00:00:00\", \"2017-10-14T00:00:00\", \"2017-10-13T00:00:00\", \"2017-10-12T00:00:00\", \"2017-10-11T00:00:00\", \"2017-10-10T00:00:00\", \"2017-10-09T00:00:00\", \"2017-10-08T00:00:00\", \"2017-10-07T00:00:00\", \"2017-10-06T00:00:00\", \"2017-10-05T00:00:00\", \"2017-10-04T00:00:00\", \"2017-10-03T00:00:00\", \"2017-10-02T00:00:00\", \"2017-10-01T00:00:00\", \"2017-09-30T00:00:00\", \"2017-09-29T00:00:00\", \"2017-09-28T00:00:00\", \"2017-09-27T00:00:00\", \"2017-09-26T00:00:00\", \"2017-09-25T00:00:00\", \"2017-09-24T00:00:00\", \"2017-09-23T00:00:00\", \"2017-09-22T00:00:00\", \"2017-09-21T00:00:00\", \"2017-09-20T00:00:00\", \"2017-09-19T00:00:00\", \"2017-09-18T00:00:00\", \"2017-09-17T00:00:00\", \"2017-09-16T00:00:00\", \"2017-09-15T00:00:00\", \"2017-09-14T00:00:00\", \"2017-09-13T00:00:00\", \"2017-09-12T00:00:00\", \"2017-09-11T00:00:00\", \"2017-09-10T00:00:00\", \"2017-09-09T00:00:00\", \"2017-09-08T00:00:00\", \"2017-09-07T00:00:00\", \"2017-09-06T00:00:00\", \"2017-09-05T00:00:00\", \"2017-09-04T00:00:00\", \"2017-09-03T00:00:00\", \"2017-09-02T00:00:00\", \"2017-09-01T00:00:00\", \"2017-08-31T00:00:00\", \"2017-08-30T00:00:00\", \"2017-08-29T00:00:00\", \"2017-08-28T00:00:00\", \"2017-08-27T00:00:00\", \"2017-08-26T00:00:00\", \"2017-08-25T00:00:00\", \"2017-08-24T00:00:00\", \"2017-08-23T00:00:00\", \"2017-08-22T00:00:00\", \"2017-08-21T00:00:00\", \"2017-08-20T00:00:00\", \"2017-08-19T00:00:00\", \"2017-08-18T00:00:00\", \"2017-08-17T00:00:00\", \"2017-08-16T00:00:00\", \"2017-08-15T00:00:00\", \"2017-08-14T00:00:00\", \"2017-08-13T00:00:00\", \"2017-08-12T00:00:00\", \"2017-08-11T00:00:00\", \"2017-08-10T00:00:00\", \"2017-08-09T00:00:00\", \"2017-08-08T00:00:00\", \"2017-08-07T00:00:00\", \"2017-08-06T00:00:00\", \"2017-08-05T00:00:00\", \"2017-08-04T00:00:00\", \"2017-08-03T00:00:00\", \"2017-08-02T00:00:00\", \"2017-08-01T00:00:00\", \"2017-07-31T00:00:00\", \"2017-07-30T00:00:00\", \"2017-07-29T00:00:00\", \"2017-07-28T00:00:00\", \"2017-07-27T00:00:00\", \"2017-07-26T00:00:00\", \"2017-07-25T00:00:00\", \"2017-07-24T00:00:00\", \"2017-07-23T00:00:00\", \"2017-07-22T00:00:00\", \"2017-07-21T00:00:00\", \"2017-07-20T00:00:00\", \"2017-07-19T00:00:00\", \"2017-07-18T00:00:00\", \"2017-07-17T00:00:00\", \"2017-07-16T00:00:00\", \"2017-07-15T00:00:00\", \"2017-07-14T00:00:00\", \"2017-07-13T00:00:00\", \"2017-07-12T00:00:00\", \"2017-07-11T00:00:00\", \"2017-07-10T00:00:00\", \"2017-07-09T00:00:00\", \"2017-07-08T00:00:00\", \"2017-07-07T00:00:00\", \"2017-07-06T00:00:00\", \"2017-07-05T00:00:00\", \"2017-07-04T00:00:00\", \"2017-07-03T00:00:00\", \"2017-07-02T00:00:00\", \"2017-07-01T00:00:00\", \"2017-06-30T00:00:00\", \"2017-06-29T00:00:00\", \"2017-06-28T00:00:00\", \"2017-06-27T00:00:00\", \"2017-06-26T00:00:00\", \"2017-06-25T00:00:00\", \"2017-06-24T00:00:00\", \"2017-06-23T00:00:00\", \"2017-06-22T00:00:00\", \"2017-06-21T00:00:00\", \"2017-06-20T00:00:00\", \"2017-06-19T00:00:00\", \"2017-06-18T00:00:00\", \"2017-06-17T00:00:00\", \"2017-06-16T00:00:00\", \"2017-06-15T00:00:00\", \"2017-06-14T00:00:00\", \"2017-06-13T00:00:00\", \"2017-06-12T00:00:00\", \"2017-06-11T00:00:00\", \"2017-06-10T00:00:00\", \"2017-06-09T00:00:00\", \"2017-06-08T00:00:00\", \"2017-06-07T00:00:00\", \"2017-06-06T00:00:00\", \"2017-06-05T00:00:00\", \"2017-06-04T00:00:00\", \"2017-06-03T00:00:00\", \"2017-06-02T00:00:00\", \"2017-06-01T00:00:00\", \"2017-05-31T00:00:00\", \"2017-05-30T00:00:00\", \"2017-05-29T00:00:00\", \"2017-05-28T00:00:00\", \"2017-05-27T00:00:00\", \"2017-05-26T00:00:00\", \"2017-05-25T00:00:00\", \"2017-05-24T00:00:00\", \"2017-05-23T00:00:00\", \"2017-05-22T00:00:00\", \"2017-05-21T00:00:00\", \"2017-05-20T00:00:00\", \"2017-05-19T00:00:00\", \"2017-05-18T00:00:00\", \"2017-05-17T00:00:00\", \"2017-05-16T00:00:00\", \"2017-05-15T00:00:00\", \"2017-05-14T00:00:00\", \"2017-05-13T00:00:00\", \"2017-05-12T00:00:00\", \"2017-05-11T00:00:00\", \"2017-05-10T00:00:00\", \"2017-05-09T00:00:00\", \"2017-05-08T00:00:00\", \"2017-05-07T00:00:00\", \"2017-05-06T00:00:00\", \"2017-05-05T00:00:00\", \"2017-05-04T00:00:00\", \"2017-05-03T00:00:00\", \"2017-05-02T00:00:00\", \"2017-05-01T00:00:00\", \"2017-04-30T00:00:00\", \"2017-04-29T00:00:00\", \"2017-04-28T00:00:00\", \"2017-04-27T00:00:00\", \"2017-04-26T00:00:00\", \"2017-04-25T00:00:00\", \"2017-04-24T00:00:00\", \"2017-04-23T00:00:00\", \"2017-04-22T00:00:00\", \"2017-04-21T00:00:00\", \"2017-04-20T00:00:00\", \"2017-04-19T00:00:00\", \"2017-04-18T00:00:00\", \"2017-04-17T00:00:00\", \"2017-04-16T00:00:00\", \"2017-04-15T00:00:00\", \"2017-04-14T00:00:00\", \"2017-04-13T00:00:00\", \"2017-04-12T00:00:00\", \"2017-04-11T00:00:00\", \"2017-04-10T00:00:00\", \"2017-04-09T00:00:00\", \"2017-04-08T00:00:00\", \"2017-04-07T00:00:00\", \"2017-04-06T00:00:00\", \"2017-04-05T00:00:00\", \"2017-04-04T00:00:00\", \"2017-04-03T00:00:00\", \"2017-04-02T00:00:00\", \"2017-04-01T00:00:00\", \"2017-03-31T00:00:00\", \"2017-03-30T00:00:00\", \"2017-03-29T00:00:00\", \"2017-03-28T00:00:00\", \"2017-03-27T00:00:00\", \"2017-03-26T00:00:00\", \"2017-03-25T00:00:00\", \"2017-03-24T00:00:00\", \"2017-03-23T00:00:00\", \"2017-03-22T00:00:00\", \"2017-03-21T00:00:00\", \"2017-03-20T00:00:00\", \"2017-03-19T00:00:00\", \"2017-03-18T00:00:00\", \"2017-03-17T00:00:00\", \"2017-03-16T00:00:00\", \"2017-03-15T00:00:00\", \"2017-03-14T00:00:00\", \"2017-03-13T00:00:00\", \"2017-03-12T00:00:00\", \"2017-03-11T00:00:00\", \"2017-03-10T00:00:00\", \"2017-03-09T00:00:00\", \"2017-03-08T00:00:00\", \"2017-03-07T00:00:00\", \"2017-03-06T00:00:00\", \"2017-03-05T00:00:00\", \"2017-03-04T00:00:00\", \"2017-03-03T00:00:00\", \"2017-03-02T00:00:00\", \"2017-03-01T00:00:00\", \"2017-02-28T00:00:00\", \"2017-02-27T00:00:00\", \"2017-02-26T00:00:00\", \"2017-02-25T00:00:00\", \"2017-02-24T00:00:00\", \"2017-02-23T00:00:00\", \"2017-02-22T00:00:00\", \"2017-02-21T00:00:00\", \"2017-02-20T00:00:00\", \"2017-02-19T00:00:00\", \"2017-02-18T00:00:00\", \"2017-02-17T00:00:00\", \"2017-02-16T00:00:00\", \"2017-02-15T00:00:00\", \"2017-02-14T00:00:00\", \"2017-02-13T00:00:00\", \"2017-02-12T00:00:00\", \"2017-02-11T00:00:00\", \"2017-02-10T00:00:00\", \"2017-02-09T00:00:00\", \"2017-02-08T00:00:00\", \"2017-02-07T00:00:00\", \"2017-02-06T00:00:00\", \"2017-02-05T00:00:00\", \"2017-02-04T00:00:00\", \"2017-02-03T00:00:00\", \"2017-02-02T00:00:00\", \"2017-02-01T00:00:00\", \"2017-01-31T00:00:00\", \"2017-01-30T00:00:00\", \"2017-01-29T00:00:00\", \"2017-01-28T00:00:00\", \"2017-01-27T00:00:00\", \"2017-01-26T00:00:00\", \"2017-01-25T00:00:00\", \"2017-01-24T00:00:00\", \"2017-01-23T00:00:00\", \"2017-01-22T00:00:00\", \"2017-01-21T00:00:00\", \"2017-01-20T00:00:00\", \"2017-01-19T00:00:00\", \"2017-01-18T00:00:00\", \"2017-01-17T00:00:00\", \"2017-01-16T00:00:00\", \"2017-01-15T00:00:00\", \"2017-01-14T00:00:00\", \"2017-01-13T00:00:00\", \"2017-01-12T00:00:00\", \"2017-01-11T00:00:00\", \"2017-01-10T00:00:00\", \"2017-01-09T00:00:00\", \"2017-01-08T00:00:00\", \"2017-01-07T00:00:00\", \"2017-01-06T00:00:00\", \"2017-01-05T00:00:00\", \"2017-01-04T00:00:00\", \"2017-01-03T00:00:00\", \"2017-01-02T00:00:00\", \"2017-01-01T00:00:00\", \"2016-12-31T00:00:00\", \"2016-12-30T00:00:00\", \"2016-12-29T00:00:00\", \"2016-12-28T00:00:00\", \"2016-12-27T00:00:00\", \"2016-12-26T00:00:00\", \"2016-12-25T00:00:00\", \"2016-12-24T00:00:00\", \"2016-12-23T00:00:00\", \"2016-12-22T00:00:00\", \"2016-12-21T00:00:00\", \"2016-12-20T00:00:00\", \"2016-12-19T00:00:00\", \"2016-12-18T00:00:00\", \"2016-12-17T00:00:00\", \"2016-12-16T00:00:00\", \"2016-12-15T00:00:00\", \"2016-12-14T00:00:00\", \"2016-12-13T00:00:00\", \"2016-12-12T00:00:00\", \"2016-12-11T00:00:00\", \"2016-12-10T00:00:00\", \"2016-12-09T00:00:00\", \"2016-12-08T00:00:00\", \"2016-12-07T00:00:00\", \"2016-12-06T00:00:00\", \"2016-12-05T00:00:00\", \"2016-12-04T00:00:00\", \"2016-12-03T00:00:00\", \"2016-12-02T00:00:00\", \"2016-12-01T00:00:00\", \"2016-11-30T00:00:00\", \"2016-11-29T00:00:00\", \"2016-11-28T00:00:00\", \"2016-11-27T00:00:00\", \"2016-11-26T00:00:00\", \"2016-11-25T00:00:00\", \"2016-11-24T00:00:00\", \"2016-11-23T00:00:00\", \"2016-11-22T00:00:00\", \"2016-11-21T00:00:00\", \"2016-11-20T00:00:00\", \"2016-11-19T00:00:00\", \"2016-11-18T00:00:00\", \"2016-11-17T00:00:00\", \"2016-11-16T00:00:00\", \"2016-11-15T00:00:00\", \"2016-11-14T00:00:00\", \"2016-11-13T00:00:00\", \"2016-11-12T00:00:00\", \"2016-11-11T00:00:00\", \"2016-11-10T00:00:00\", \"2016-11-09T00:00:00\", \"2016-11-08T00:00:00\", \"2016-11-07T00:00:00\", \"2016-11-06T00:00:00\", \"2016-11-05T00:00:00\", \"2016-11-04T00:00:00\", \"2016-11-03T00:00:00\", \"2016-11-02T00:00:00\", \"2016-11-01T00:00:00\", \"2016-10-31T00:00:00\", \"2016-10-30T00:00:00\", \"2016-10-29T00:00:00\", \"2016-10-28T00:00:00\", \"2016-10-27T00:00:00\", \"2016-10-26T00:00:00\", \"2016-10-25T00:00:00\", \"2016-10-24T00:00:00\", \"2016-10-23T00:00:00\", \"2016-10-22T00:00:00\", \"2016-10-21T00:00:00\", \"2016-10-20T00:00:00\", \"2016-10-19T00:00:00\", \"2016-10-18T00:00:00\", \"2016-10-17T00:00:00\", \"2016-10-16T00:00:00\", \"2016-10-15T00:00:00\", \"2016-10-14T00:00:00\", \"2016-10-13T00:00:00\", \"2016-10-12T00:00:00\", \"2016-10-11T00:00:00\", \"2016-10-10T00:00:00\", \"2016-10-09T00:00:00\", \"2016-10-08T00:00:00\", \"2016-10-07T00:00:00\", \"2016-10-06T00:00:00\", \"2016-10-05T00:00:00\", \"2016-10-04T00:00:00\", \"2016-10-03T00:00:00\", \"2016-10-02T00:00:00\", \"2016-10-01T00:00:00\", \"2016-09-30T00:00:00\", \"2016-09-29T00:00:00\", \"2016-09-28T00:00:00\", \"2016-09-27T00:00:00\", \"2016-09-26T00:00:00\", \"2016-09-25T00:00:00\", \"2016-09-24T00:00:00\", \"2016-09-23T00:00:00\", \"2016-09-22T00:00:00\", \"2016-09-21T00:00:00\", \"2016-09-20T00:00:00\", \"2016-09-19T00:00:00\", \"2016-09-18T00:00:00\", \"2016-09-17T00:00:00\", \"2016-09-16T00:00:00\", \"2016-09-15T00:00:00\", \"2016-09-14T00:00:00\", \"2016-09-13T00:00:00\", \"2016-09-12T00:00:00\", \"2016-09-11T00:00:00\", \"2016-09-10T00:00:00\", \"2016-09-09T00:00:00\", \"2016-09-08T00:00:00\", \"2016-09-07T00:00:00\", \"2016-09-06T00:00:00\", \"2016-09-05T00:00:00\", \"2016-09-04T00:00:00\", \"2016-09-03T00:00:00\", \"2016-09-02T00:00:00\", \"2016-09-01T00:00:00\", \"2016-08-31T00:00:00\", \"2016-08-30T00:00:00\", \"2016-08-29T00:00:00\", \"2016-08-28T00:00:00\", \"2016-08-27T00:00:00\", \"2016-08-26T00:00:00\", \"2016-08-25T00:00:00\", \"2016-08-24T00:00:00\", \"2016-08-23T00:00:00\", \"2016-08-22T00:00:00\", \"2016-08-21T00:00:00\", \"2016-08-20T00:00:00\", \"2016-08-19T00:00:00\", \"2016-08-18T00:00:00\", \"2016-08-17T00:00:00\", \"2016-08-16T00:00:00\", \"2016-08-15T00:00:00\", \"2016-08-14T00:00:00\", \"2016-08-13T00:00:00\", \"2016-08-12T00:00:00\", \"2016-08-11T00:00:00\", \"2016-08-10T00:00:00\", \"2016-08-09T00:00:00\", \"2016-08-08T00:00:00\", \"2016-08-07T00:00:00\", \"2016-08-06T00:00:00\", \"2016-08-05T00:00:00\", \"2016-08-04T00:00:00\", \"2016-08-03T00:00:00\", \"2016-08-02T00:00:00\", \"2016-08-01T00:00:00\", \"2016-07-31T00:00:00\", \"2016-07-30T00:00:00\", \"2016-07-29T00:00:00\", \"2016-07-28T00:00:00\", \"2016-07-27T00:00:00\", \"2016-07-26T00:00:00\", \"2016-07-25T00:00:00\", \"2016-07-24T00:00:00\", \"2016-07-23T00:00:00\", \"2016-07-22T00:00:00\", \"2016-07-21T00:00:00\", \"2016-07-20T00:00:00\", \"2016-07-19T00:00:00\", \"2016-07-18T00:00:00\", \"2016-07-17T00:00:00\", \"2016-07-16T00:00:00\", \"2016-07-15T00:00:00\", \"2016-07-14T00:00:00\", \"2016-07-13T00:00:00\", \"2016-07-12T00:00:00\", \"2016-07-11T00:00:00\", \"2016-07-10T00:00:00\", \"2016-07-09T00:00:00\", \"2016-07-08T00:00:00\", \"2016-07-07T00:00:00\", \"2016-07-06T00:00:00\", \"2016-07-05T00:00:00\", \"2016-07-04T00:00:00\", \"2016-07-03T00:00:00\", \"2016-07-02T00:00:00\", \"2016-07-01T00:00:00\"], \"y\": [12, 31, 17, 13, 27, 16, 5, 25, 6, 26, 17, 143, 15, 27, 186, 120, 107, 16, 20, 20, 15, 15, 19, 13, 24, 37, 21, 23, 14, 27, 24, 26, 57, 11, 18, 31, 25, 17, 21, 83, 43, 46, 25, 24, 18, 23, 58, 33, 47, 37, 30, 12, 34, 39, 17, 24, 42, 34, 34, 38, 58, 40, 41, 40, 23, 37, 48, 135, 43, 49, 39, 24, 18, 12, 42, 28, 21, 33, 38, 24, 29, 45, 44, 40, 42, 25, 27, 36, 41, 29, 36, 34, 34, 27, 36, 41, 21, 32, 30, 34, 61, 54, 360, 139, 193, 160, 215, 35, 54, 221, 139, 295, 54, 166, 125, 182, 497, 28, 28, 21, 25, 26, 35, 35, 34, 35, 49, 18, 25, 22, 36, 16, 21, 32, 36, 270, 18, 27, 28, 18, 38, 34, 31, 37, 38, 31, 32, 24, 24, 12, 33, 23, 26, 23, 27, 26, 104, 176, 218, 28, 21, 33, 23, 24, 31, 181, 434, 466, 78, 64, 33, 56, 77, 95, 93, 94, 97, 71, 58, 437, 62, 66, 636, 589, 45, 62, 93, 104, 110, 104, 715, 47, 144, 98, 36, 36, 28, 39, 30, 32, 50, 21, 28, 32, 23, 37, 31, 23, 24, 154, 30, 13, 26, 251, 17, 12, 14, 22, 28, 23, 23, 19, 19, 29, 23, 20, 15, 70, 64, 25, 11, 28, 27, 25, 21, 100, 33, 56, 92, 334, 19, 23, 31, 25, 17, 23, 17, 16, 12, 48, 37, 63, 29, 23, 11, 20, 48, 23, 27, 23, 50, 45, 57, 90, 179, 56, 57, 61, 30, 46, 56, 187, 77, 87, 202, 925, 870, 1958, 657, 344, 745, 541, 498, 1114, 1551, 42, 60, 21, 28, 25, 452, 635, 75, 27, 25, 25, 22, 77, 179, 73, 13, 22, 17, 12, 11, 33, 128, 15, 18, 15, 12, 15, 25, 80, 30, 30, 23, 11, 21, 35, 127, 46, 535, 17, 24, 29, 39, 84, 118, 29, 11, 12, 12, 28, 56, 22, 19, 24, 11, 18, 36, 89, 35, 43, 37, 11, 23, 38, 124, 38, 35, 39, 29, 42, 45, 54, 41, 75, 22, 24, 33, 28, 82, 56, 43, 62, 29, 51, 59, 96, 62, 48, 43, 41, 50, 73, 74, 72, 91, 433, 385, 52, 102, 112, 74, 69, 50, 31, 32, 48, 104, 72, 62, 79, 19, 39, 56, 92, 62, 77, 73, 52, 78, 92, 74, 70, 83, 343, 231, 218, 295, 371, 397, 533, 44, 40, 53, 52, 76, 60, 58, 36, 19, 29, 40, 65, 22, 8, 16, 7, 35, 23, 50, 47, 66, 76, 99, 78, 80, 74, 50, 43, 78, 67, 68, 50, 29, 35, 35, 42, 35, 32, 33, 36, 23, 29, 30, 16, 35, 35, 25, 43, 61, 353, 228, 394, 749, 46, 29, 33, 28, 16, 32, 34, 60, 40, 37, 42, 30, 34, 52, 70, 34, 51, 53, 35, 44, 38, 54, 29, 48, 42, 20, 43, 37, 76, 49, 45, 82, 46, 464, 54, 79, 47, 44, 54, 23, 37, 43, 31, 23, 41, 41, 26, 41, 41, 41, 44, 60, 83, 106, 135, 232, 266, 160, 62, 59, 29, 42, 81, 51, 49, 66, 79, 39, 53, 48, 69, 73, 63, 49, 34, 51, 48, 60, 65, 71, 55, 39, 72, 70, 77, 82, 65, 47, 29, 43, 49, 66, 95, 117, 92, 55, 74, 60, 69, 66, 88, 79, 41, 44, 77, 79, 89, 95, 63, 30, 112, 116, 43, 43, 44, 63, 36, 47, 16, 24, 44, 26, 35, 20, 39, 34, 35, 63, 35, 56, 28, 37, 61, 56, 87, 50, 54, 31, 61, 61, 44, 44, 45, 34, 22, 57, 42, 51, 38, 46, 57, 35, 77, 75, 35, 38, 75, 30, 27, 44, 37, 57, 57, 67, 48, 35, 32, 56, 73, 180, 128, 157, 320, 401, 1643, 1169, 1452, 305, 69, 134, 106, 30, 14, 42, 20, 13, 5, 19, 13, 20, 28, 27, 28, 12, 15, 24, 17, 31, 26, 18, 7, 31, 22, 23, 32, 37, 36, 18, 34, 29, 42, 35, 19, 32, 17, 26, 30, 40, 16, 11, 19, 13, 25, 22, 25, 32, 27, 34, 19, 44, 307, 439, 120, 61, 101, 98, 22, 36, 29, 25, 36, 24, 14, 34, 20, 37, 11, 5, 13, 15, 39, 26, 45, 34, 65, 47, 37, 37, 41, 44, 52, 46, 56, 18, 46, 44, 28, 45, 46, 39, 30, 39, 51, 48, 42, 60, 52, 74, 33, 46, 33, 61, 33, 68, 27, 35, 34, 76, 47, 43, 51, 11, 20, 77, 49, 28, 28, 18, 9, 10, 18, 36, 22, 18, 23, 10, 13, 21, 14, 19, 11, 17, 6, 14, 5, 5, 1, 7, 10, 4, 8, 18]}],\n",
              "                        {\"template\": {\"data\": {\"bar\": [{\"error_x\": {\"color\": \"#2a3f5f\"}, \"error_y\": {\"color\": \"#2a3f5f\"}, \"marker\": {\"line\": {\"color\": \"#E5ECF6\", \"width\": 0.5}}, \"type\": \"bar\"}], \"barpolar\": [{\"marker\": {\"line\": {\"color\": \"#E5ECF6\", \"width\": 0.5}}, \"type\": \"barpolar\"}], \"carpet\": [{\"aaxis\": {\"endlinecolor\": \"#2a3f5f\", \"gridcolor\": \"white\", \"linecolor\": \"white\", \"minorgridcolor\": \"white\", \"startlinecolor\": \"#2a3f5f\"}, \"baxis\": {\"endlinecolor\": \"#2a3f5f\", \"gridcolor\": \"white\", \"linecolor\": \"white\", \"minorgridcolor\": \"white\", \"startlinecolor\": \"#2a3f5f\"}, \"type\": \"carpet\"}], \"choropleth\": [{\"colorbar\": {\"outlinewidth\": 0, \"ticks\": \"\"}, \"type\": \"choropleth\"}], \"contour\": [{\"colorbar\": {\"outlinewidth\": 0, \"ticks\": \"\"}, \"colorscale\": [[0.0, \"#0d0887\"], [0.1111111111111111, \"#46039f\"], [0.2222222222222222, \"#7201a8\"], [0.3333333333333333, \"#9c179e\"], [0.4444444444444444, \"#bd3786\"], [0.5555555555555556, \"#d8576b\"], [0.6666666666666666, \"#ed7953\"], [0.7777777777777778, \"#fb9f3a\"], [0.8888888888888888, \"#fdca26\"], [1.0, \"#f0f921\"]], \"type\": \"contour\"}], \"contourcarpet\": [{\"colorbar\": {\"outlinewidth\": 0, \"ticks\": \"\"}, \"type\": \"contourcarpet\"}], \"heatmap\": [{\"colorbar\": {\"outlinewidth\": 0, \"ticks\": \"\"}, \"colorscale\": [[0.0, \"#0d0887\"], [0.1111111111111111, \"#46039f\"], [0.2222222222222222, \"#7201a8\"], [0.3333333333333333, \"#9c179e\"], [0.4444444444444444, \"#bd3786\"], [0.5555555555555556, \"#d8576b\"], [0.6666666666666666, \"#ed7953\"], [0.7777777777777778, \"#fb9f3a\"], [0.8888888888888888, \"#fdca26\"], [1.0, \"#f0f921\"]], \"type\": \"heatmap\"}], \"heatmapgl\": [{\"colorbar\": {\"outlinewidth\": 0, \"ticks\": \"\"}, \"colorscale\": [[0.0, \"#0d0887\"], [0.1111111111111111, \"#46039f\"], [0.2222222222222222, \"#7201a8\"], [0.3333333333333333, \"#9c179e\"], [0.4444444444444444, \"#bd3786\"], [0.5555555555555556, \"#d8576b\"], [0.6666666666666666, \"#ed7953\"], [0.7777777777777778, \"#fb9f3a\"], [0.8888888888888888, \"#fdca26\"], [1.0, \"#f0f921\"]], \"type\": \"heatmapgl\"}], \"histogram\": [{\"marker\": {\"colorbar\": {\"outlinewidth\": 0, \"ticks\": \"\"}}, \"type\": \"histogram\"}], \"histogram2d\": [{\"colorbar\": {\"outlinewidth\": 0, \"ticks\": \"\"}, \"colorscale\": [[0.0, \"#0d0887\"], [0.1111111111111111, \"#46039f\"], [0.2222222222222222, \"#7201a8\"], [0.3333333333333333, \"#9c179e\"], [0.4444444444444444, \"#bd3786\"], [0.5555555555555556, \"#d8576b\"], [0.6666666666666666, \"#ed7953\"], [0.7777777777777778, \"#fb9f3a\"], [0.8888888888888888, \"#fdca26\"], [1.0, \"#f0f921\"]], \"type\": \"histogram2d\"}], \"histogram2dcontour\": [{\"colorbar\": {\"outlinewidth\": 0, \"ticks\": \"\"}, \"colorscale\": [[0.0, \"#0d0887\"], [0.1111111111111111, \"#46039f\"], [0.2222222222222222, \"#7201a8\"], [0.3333333333333333, \"#9c179e\"], [0.4444444444444444, \"#bd3786\"], [0.5555555555555556, \"#d8576b\"], [0.6666666666666666, \"#ed7953\"], [0.7777777777777778, \"#fb9f3a\"], [0.8888888888888888, \"#fdca26\"], [1.0, \"#f0f921\"]], \"type\": \"histogram2dcontour\"}], \"mesh3d\": [{\"colorbar\": {\"outlinewidth\": 0, \"ticks\": \"\"}, \"type\": \"mesh3d\"}], \"parcoords\": [{\"line\": {\"colorbar\": {\"outlinewidth\": 0, \"ticks\": \"\"}}, \"type\": \"parcoords\"}], \"pie\": [{\"automargin\": true, \"type\": \"pie\"}], \"scatter\": [{\"marker\": {\"colorbar\": {\"outlinewidth\": 0, \"ticks\": \"\"}}, \"type\": \"scatter\"}], \"scatter3d\": [{\"line\": {\"colorbar\": {\"outlinewidth\": 0, \"ticks\": \"\"}}, \"marker\": {\"colorbar\": {\"outlinewidth\": 0, \"ticks\": \"\"}}, \"type\": \"scatter3d\"}], \"scattercarpet\": [{\"marker\": {\"colorbar\": {\"outlinewidth\": 0, \"ticks\": \"\"}}, \"type\": \"scattercarpet\"}], \"scattergeo\": [{\"marker\": {\"colorbar\": {\"outlinewidth\": 0, \"ticks\": \"\"}}, \"type\": \"scattergeo\"}], \"scattergl\": [{\"marker\": {\"colorbar\": {\"outlinewidth\": 0, \"ticks\": \"\"}}, \"type\": \"scattergl\"}], \"scattermapbox\": [{\"marker\": {\"colorbar\": {\"outlinewidth\": 0, \"ticks\": \"\"}}, \"type\": \"scattermapbox\"}], \"scatterpolar\": [{\"marker\": {\"colorbar\": {\"outlinewidth\": 0, \"ticks\": \"\"}}, \"type\": \"scatterpolar\"}], \"scatterpolargl\": [{\"marker\": {\"colorbar\": {\"outlinewidth\": 0, \"ticks\": \"\"}}, \"type\": \"scatterpolargl\"}], \"scatterternary\": [{\"marker\": {\"colorbar\": {\"outlinewidth\": 0, \"ticks\": \"\"}}, \"type\": \"scatterternary\"}], \"surface\": [{\"colorbar\": {\"outlinewidth\": 0, \"ticks\": \"\"}, \"colorscale\": [[0.0, \"#0d0887\"], [0.1111111111111111, \"#46039f\"], [0.2222222222222222, \"#7201a8\"], [0.3333333333333333, \"#9c179e\"], [0.4444444444444444, \"#bd3786\"], [0.5555555555555556, \"#d8576b\"], [0.6666666666666666, \"#ed7953\"], [0.7777777777777778, \"#fb9f3a\"], [0.8888888888888888, \"#fdca26\"], [1.0, \"#f0f921\"]], \"type\": \"surface\"}], \"table\": [{\"cells\": {\"fill\": {\"color\": \"#EBF0F8\"}, \"line\": {\"color\": \"white\"}}, \"header\": {\"fill\": {\"color\": \"#C8D4E3\"}, \"line\": {\"color\": \"white\"}}, \"type\": \"table\"}]}, \"layout\": {\"annotationdefaults\": {\"arrowcolor\": \"#2a3f5f\", \"arrowhead\": 0, \"arrowwidth\": 1}, \"coloraxis\": {\"colorbar\": {\"outlinewidth\": 0, \"ticks\": \"\"}}, \"colorscale\": {\"diverging\": [[0, \"#8e0152\"], [0.1, \"#c51b7d\"], [0.2, \"#de77ae\"], [0.3, \"#f1b6da\"], [0.4, \"#fde0ef\"], [0.5, \"#f7f7f7\"], [0.6, \"#e6f5d0\"], [0.7, \"#b8e186\"], [0.8, \"#7fbc41\"], [0.9, \"#4d9221\"], [1, \"#276419\"]], \"sequential\": [[0.0, \"#0d0887\"], [0.1111111111111111, \"#46039f\"], [0.2222222222222222, \"#7201a8\"], [0.3333333333333333, \"#9c179e\"], [0.4444444444444444, \"#bd3786\"], [0.5555555555555556, \"#d8576b\"], [0.6666666666666666, \"#ed7953\"], [0.7777777777777778, \"#fb9f3a\"], [0.8888888888888888, \"#fdca26\"], [1.0, \"#f0f921\"]], \"sequentialminus\": [[0.0, \"#0d0887\"], [0.1111111111111111, \"#46039f\"], [0.2222222222222222, \"#7201a8\"], [0.3333333333333333, \"#9c179e\"], [0.4444444444444444, \"#bd3786\"], [0.5555555555555556, \"#d8576b\"], [0.6666666666666666, \"#ed7953\"], [0.7777777777777778, \"#fb9f3a\"], [0.8888888888888888, \"#fdca26\"], [1.0, \"#f0f921\"]]}, \"colorway\": [\"#636efa\", \"#EF553B\", \"#00cc96\", \"#ab63fa\", \"#FFA15A\", \"#19d3f3\", \"#FF6692\", \"#B6E880\", \"#FF97FF\", \"#FECB52\"], \"font\": {\"color\": \"#2a3f5f\"}, \"geo\": {\"bgcolor\": \"white\", \"lakecolor\": \"white\", \"landcolor\": \"#E5ECF6\", \"showlakes\": true, \"showland\": true, \"subunitcolor\": \"white\"}, \"hoverlabel\": {\"align\": \"left\"}, \"hovermode\": \"closest\", \"mapbox\": {\"style\": \"light\"}, \"paper_bgcolor\": \"white\", \"plot_bgcolor\": \"#E5ECF6\", \"polar\": {\"angularaxis\": {\"gridcolor\": \"white\", \"linecolor\": \"white\", \"ticks\": \"\"}, \"bgcolor\": \"#E5ECF6\", \"radialaxis\": {\"gridcolor\": \"white\", \"linecolor\": \"white\", \"ticks\": \"\"}}, \"scene\": {\"xaxis\": {\"backgroundcolor\": \"#E5ECF6\", \"gridcolor\": \"white\", \"gridwidth\": 2, \"linecolor\": \"white\", \"showbackground\": true, \"ticks\": \"\", \"zerolinecolor\": \"white\"}, \"yaxis\": {\"backgroundcolor\": \"#E5ECF6\", \"gridcolor\": \"white\", \"gridwidth\": 2, \"linecolor\": \"white\", \"showbackground\": true, \"ticks\": \"\", \"zerolinecolor\": \"white\"}, \"zaxis\": {\"backgroundcolor\": \"#E5ECF6\", \"gridcolor\": \"white\", \"gridwidth\": 2, \"linecolor\": \"white\", \"showbackground\": true, \"ticks\": \"\", \"zerolinecolor\": \"white\"}}, \"shapedefaults\": {\"line\": {\"color\": \"#2a3f5f\"}}, \"ternary\": {\"aaxis\": {\"gridcolor\": \"white\", \"linecolor\": \"white\", \"ticks\": \"\"}, \"baxis\": {\"gridcolor\": \"white\", \"linecolor\": \"white\", \"ticks\": \"\"}, \"bgcolor\": \"#E5ECF6\", \"caxis\": {\"gridcolor\": \"white\", \"linecolor\": \"white\", \"ticks\": \"\"}}, \"title\": {\"x\": 0.05}, \"xaxis\": {\"automargin\": true, \"gridcolor\": \"white\", \"linecolor\": \"white\", \"ticks\": \"\", \"title\": {\"standoff\": 15}, \"zerolinecolor\": \"white\", \"zerolinewidth\": 2}, \"yaxis\": {\"automargin\": true, \"gridcolor\": \"white\", \"linecolor\": \"white\", \"ticks\": \"\", \"title\": {\"standoff\": 15}, \"zerolinecolor\": \"white\", \"zerolinewidth\": 2}}}, \"xaxis\": {\"rangeslider\": {\"visible\": true}}},\n",
              "                        {\"responsive\": true}\n",
              "                    ).then(function(){\n",
              "                            \n",
              "var gd = document.getElementById('0ddf0acb-5085-4844-b8d7-23fb867837b9');\n",
              "var x = new MutationObserver(function (mutations, observer) {{\n",
              "        var display = window.getComputedStyle(gd).display;\n",
              "        if (!display || display === 'none') {{\n",
              "            console.log([gd, 'removed!']);\n",
              "            Plotly.purge(gd);\n",
              "            observer.disconnect();\n",
              "        }}\n",
              "}});\n",
              "\n",
              "// Listen for the removal of the full notebook cells\n",
              "var notebookContainer = gd.closest('#notebook-container');\n",
              "if (notebookContainer) {{\n",
              "    x.observe(notebookContainer, {childList: true});\n",
              "}}\n",
              "\n",
              "// Listen for the clearing of the current output cell\n",
              "var outputEl = gd.closest('.output');\n",
              "if (outputEl) {{\n",
              "    x.observe(outputEl, {childList: true});\n",
              "}}\n",
              "\n",
              "                        })\n",
              "                };\n",
              "                \n",
              "            </script>\n",
              "        </div>\n",
              "</body>\n",
              "</html>"
            ]
          },
          "metadata": {
            "tags": []
          }
        }
      ]
    },
    {
      "cell_type": "code",
      "metadata": {
        "colab": {
          "base_uri": "https://localhost:8080/",
          "height": 204
        },
        "id": "aPOymvDL1TQt",
        "outputId": "ac49cd47-f05a-4c17-9433-96ba4403489a"
      },
      "source": [
        "df_ccl = spark.sql(\"SELECT customer_id, count(item_id) as total_cancelled FROM eCommerce_view where status = 'canceled' and category_name_1 = 'Mobiles & Tablets' group by customer_id order by total_cancelled desc\")\n",
        "\n",
        "df_ccl = df_ccl.toPandas()\n",
        "\n",
        "df_ccl.head(5)"
      ],
      "execution_count": 41,
      "outputs": [
        {
          "output_type": "execute_result",
          "data": {
            "text/html": [
              "<div>\n",
              "<style scoped>\n",
              "    .dataframe tbody tr th:only-of-type {\n",
              "        vertical-align: middle;\n",
              "    }\n",
              "\n",
              "    .dataframe tbody tr th {\n",
              "        vertical-align: top;\n",
              "    }\n",
              "\n",
              "    .dataframe thead th {\n",
              "        text-align: right;\n",
              "    }\n",
              "</style>\n",
              "<table border=\"1\" class=\"dataframe\">\n",
              "  <thead>\n",
              "    <tr style=\"text-align: right;\">\n",
              "      <th></th>\n",
              "      <th>customer_id</th>\n",
              "      <th>total_cancelled</th>\n",
              "    </tr>\n",
              "  </thead>\n",
              "  <tbody>\n",
              "    <tr>\n",
              "      <th>0</th>\n",
              "      <td>39707</td>\n",
              "      <td>496</td>\n",
              "    </tr>\n",
              "    <tr>\n",
              "      <th>1</th>\n",
              "      <td>26527</td>\n",
              "      <td>355</td>\n",
              "    </tr>\n",
              "    <tr>\n",
              "      <th>2</th>\n",
              "      <td>28896</td>\n",
              "      <td>312</td>\n",
              "    </tr>\n",
              "    <tr>\n",
              "      <th>3</th>\n",
              "      <td>10654</td>\n",
              "      <td>309</td>\n",
              "    </tr>\n",
              "    <tr>\n",
              "      <th>4</th>\n",
              "      <td>12278</td>\n",
              "      <td>290</td>\n",
              "    </tr>\n",
              "  </tbody>\n",
              "</table>\n",
              "</div>"
            ],
            "text/plain": [
              "  customer_id  total_cancelled\n",
              "0       39707              496\n",
              "1       26527              355\n",
              "2       28896              312\n",
              "3       10654              309\n",
              "4       12278              290"
            ]
          },
          "metadata": {
            "tags": []
          },
          "execution_count": 41
        }
      ]
    },
    {
      "cell_type": "code",
      "metadata": {
        "colab": {
          "base_uri": "https://localhost:8080/",
          "height": 204
        },
        "id": "lREiJS_Z1Y5K",
        "outputId": "8cf1fc56-f8c6-4015-9cd1-25f002c5a051"
      },
      "source": [
        "df_Notccl = spark.sql(\"SELECT customer_id, count(item_id) as total_Not_cancelled FROM eCommerce_view where status <> 'canceled' and category_name_1 = 'Mobiles & Tablets' group by customer_id order by total_Not_Cancelled desc\")\n",
        "\n",
        "df_Notccl = df_Notccl.toPandas()\n",
        "df_Notccl.head(5)"
      ],
      "execution_count": 42,
      "outputs": [
        {
          "output_type": "execute_result",
          "data": {
            "text/html": [
              "<div>\n",
              "<style scoped>\n",
              "    .dataframe tbody tr th:only-of-type {\n",
              "        vertical-align: middle;\n",
              "    }\n",
              "\n",
              "    .dataframe tbody tr th {\n",
              "        vertical-align: top;\n",
              "    }\n",
              "\n",
              "    .dataframe thead th {\n",
              "        text-align: right;\n",
              "    }\n",
              "</style>\n",
              "<table border=\"1\" class=\"dataframe\">\n",
              "  <thead>\n",
              "    <tr style=\"text-align: right;\">\n",
              "      <th></th>\n",
              "      <th>customer_id</th>\n",
              "      <th>total_Not_cancelled</th>\n",
              "    </tr>\n",
              "  </thead>\n",
              "  <tbody>\n",
              "    <tr>\n",
              "      <th>0</th>\n",
              "      <td>5769</td>\n",
              "      <td>185</td>\n",
              "    </tr>\n",
              "    <tr>\n",
              "      <th>1</th>\n",
              "      <td>163</td>\n",
              "      <td>172</td>\n",
              "    </tr>\n",
              "    <tr>\n",
              "      <th>2</th>\n",
              "      <td>36</td>\n",
              "      <td>158</td>\n",
              "    </tr>\n",
              "    <tr>\n",
              "      <th>3</th>\n",
              "      <td>800</td>\n",
              "      <td>157</td>\n",
              "    </tr>\n",
              "    <tr>\n",
              "      <th>4</th>\n",
              "      <td>820</td>\n",
              "      <td>155</td>\n",
              "    </tr>\n",
              "  </tbody>\n",
              "</table>\n",
              "</div>"
            ],
            "text/plain": [
              "  customer_id  total_Not_cancelled\n",
              "0        5769                  185\n",
              "1         163                  172\n",
              "2          36                  158\n",
              "3         800                  157\n",
              "4         820                  155"
            ]
          },
          "metadata": {
            "tags": []
          },
          "execution_count": 42
        }
      ]
    },
    {
      "cell_type": "code",
      "metadata": {
        "colab": {
          "base_uri": "https://localhost:8080/",
          "height": 436
        },
        "id": "rEzphshp1dv1",
        "outputId": "a2414afb-ddfd-4977-b117-d4d3aab13d11"
      },
      "source": [
        "df_final = df_ccl.merge(df_Notccl, on='customer_id',how='inner')\n",
        "df_final = df_final.sort_values(by='total_cancelled', ascending=False)\n",
        "\n",
        "print(f'Total Number of Customer : {df_final.shape[0]}')\n",
        "\n",
        "df_final"
      ],
      "execution_count": 43,
      "outputs": [
        {
          "output_type": "stream",
          "text": [
            "Total Number of Customer : 8021\n"
          ],
          "name": "stdout"
        },
        {
          "output_type": "execute_result",
          "data": {
            "text/html": [
              "<div>\n",
              "<style scoped>\n",
              "    .dataframe tbody tr th:only-of-type {\n",
              "        vertical-align: middle;\n",
              "    }\n",
              "\n",
              "    .dataframe tbody tr th {\n",
              "        vertical-align: top;\n",
              "    }\n",
              "\n",
              "    .dataframe thead th {\n",
              "        text-align: right;\n",
              "    }\n",
              "</style>\n",
              "<table border=\"1\" class=\"dataframe\">\n",
              "  <thead>\n",
              "    <tr style=\"text-align: right;\">\n",
              "      <th></th>\n",
              "      <th>customer_id</th>\n",
              "      <th>total_cancelled</th>\n",
              "      <th>total_Not_cancelled</th>\n",
              "    </tr>\n",
              "  </thead>\n",
              "  <tbody>\n",
              "    <tr>\n",
              "      <th>0</th>\n",
              "      <td>39707</td>\n",
              "      <td>496</td>\n",
              "      <td>18</td>\n",
              "    </tr>\n",
              "    <tr>\n",
              "      <th>1</th>\n",
              "      <td>26527</td>\n",
              "      <td>355</td>\n",
              "      <td>77</td>\n",
              "    </tr>\n",
              "    <tr>\n",
              "      <th>2</th>\n",
              "      <td>28896</td>\n",
              "      <td>312</td>\n",
              "      <td>55</td>\n",
              "    </tr>\n",
              "    <tr>\n",
              "      <th>3</th>\n",
              "      <td>10654</td>\n",
              "      <td>309</td>\n",
              "      <td>35</td>\n",
              "    </tr>\n",
              "    <tr>\n",
              "      <th>4</th>\n",
              "      <td>12278</td>\n",
              "      <td>290</td>\n",
              "      <td>21</td>\n",
              "    </tr>\n",
              "    <tr>\n",
              "      <th>...</th>\n",
              "      <td>...</td>\n",
              "      <td>...</td>\n",
              "      <td>...</td>\n",
              "    </tr>\n",
              "    <tr>\n",
              "      <th>5743</th>\n",
              "      <td>66948</td>\n",
              "      <td>1</td>\n",
              "      <td>2</td>\n",
              "    </tr>\n",
              "    <tr>\n",
              "      <th>5744</th>\n",
              "      <td>84444</td>\n",
              "      <td>1</td>\n",
              "      <td>8</td>\n",
              "    </tr>\n",
              "    <tr>\n",
              "      <th>5745</th>\n",
              "      <td>54817</td>\n",
              "      <td>1</td>\n",
              "      <td>1</td>\n",
              "    </tr>\n",
              "    <tr>\n",
              "      <th>5746</th>\n",
              "      <td>29540</td>\n",
              "      <td>1</td>\n",
              "      <td>1</td>\n",
              "    </tr>\n",
              "    <tr>\n",
              "      <th>8020</th>\n",
              "      <td>48516</td>\n",
              "      <td>1</td>\n",
              "      <td>2</td>\n",
              "    </tr>\n",
              "  </tbody>\n",
              "</table>\n",
              "<p>8021 rows × 3 columns</p>\n",
              "</div>"
            ],
            "text/plain": [
              "     customer_id  total_cancelled  total_Not_cancelled\n",
              "0          39707              496                   18\n",
              "1          26527              355                   77\n",
              "2          28896              312                   55\n",
              "3          10654              309                   35\n",
              "4          12278              290                   21\n",
              "...          ...              ...                  ...\n",
              "5743       66948                1                    2\n",
              "5744       84444                1                    8\n",
              "5745       54817                1                    1\n",
              "5746       29540                1                    1\n",
              "8020       48516                1                    2\n",
              "\n",
              "[8021 rows x 3 columns]"
            ]
          },
          "metadata": {
            "tags": []
          },
          "execution_count": 43
        }
      ]
    },
    {
      "cell_type": "code",
      "metadata": {
        "colab": {
          "base_uri": "https://localhost:8080/",
          "height": 436
        },
        "id": "RTKZ90_i1fjv",
        "outputId": "2cd5c160-3b52-46d4-e35a-572958194145"
      },
      "source": [
        "avg_cancel = df_final['total_cancelled'].mean()\n",
        "\n",
        "df_avg = df_final.query(f'total_cancelled > {avg_cancel}')\n",
        "\n",
        "print(f'Total Number of Customer who canceled more than average time : {df_avg.shape[0]}')\n",
        "\n",
        "df_avg"
      ],
      "execution_count": 44,
      "outputs": [
        {
          "output_type": "stream",
          "text": [
            "Total Number of Customer who canceled more than average time : 1618\n"
          ],
          "name": "stdout"
        },
        {
          "output_type": "execute_result",
          "data": {
            "text/html": [
              "<div>\n",
              "<style scoped>\n",
              "    .dataframe tbody tr th:only-of-type {\n",
              "        vertical-align: middle;\n",
              "    }\n",
              "\n",
              "    .dataframe tbody tr th {\n",
              "        vertical-align: top;\n",
              "    }\n",
              "\n",
              "    .dataframe thead th {\n",
              "        text-align: right;\n",
              "    }\n",
              "</style>\n",
              "<table border=\"1\" class=\"dataframe\">\n",
              "  <thead>\n",
              "    <tr style=\"text-align: right;\">\n",
              "      <th></th>\n",
              "      <th>customer_id</th>\n",
              "      <th>total_cancelled</th>\n",
              "      <th>total_Not_cancelled</th>\n",
              "    </tr>\n",
              "  </thead>\n",
              "  <tbody>\n",
              "    <tr>\n",
              "      <th>0</th>\n",
              "      <td>39707</td>\n",
              "      <td>496</td>\n",
              "      <td>18</td>\n",
              "    </tr>\n",
              "    <tr>\n",
              "      <th>1</th>\n",
              "      <td>26527</td>\n",
              "      <td>355</td>\n",
              "      <td>77</td>\n",
              "    </tr>\n",
              "    <tr>\n",
              "      <th>2</th>\n",
              "      <td>28896</td>\n",
              "      <td>312</td>\n",
              "      <td>55</td>\n",
              "    </tr>\n",
              "    <tr>\n",
              "      <th>3</th>\n",
              "      <td>10654</td>\n",
              "      <td>309</td>\n",
              "      <td>35</td>\n",
              "    </tr>\n",
              "    <tr>\n",
              "      <th>4</th>\n",
              "      <td>12278</td>\n",
              "      <td>290</td>\n",
              "      <td>21</td>\n",
              "    </tr>\n",
              "    <tr>\n",
              "      <th>...</th>\n",
              "      <td>...</td>\n",
              "      <td>...</td>\n",
              "      <td>...</td>\n",
              "    </tr>\n",
              "    <tr>\n",
              "      <th>1390</th>\n",
              "      <td>4009</td>\n",
              "      <td>5</td>\n",
              "      <td>1</td>\n",
              "    </tr>\n",
              "    <tr>\n",
              "      <th>1391</th>\n",
              "      <td>74283</td>\n",
              "      <td>5</td>\n",
              "      <td>1</td>\n",
              "    </tr>\n",
              "    <tr>\n",
              "      <th>1404</th>\n",
              "      <td>74688</td>\n",
              "      <td>5</td>\n",
              "      <td>5</td>\n",
              "    </tr>\n",
              "    <tr>\n",
              "      <th>1393</th>\n",
              "      <td>16866</td>\n",
              "      <td>5</td>\n",
              "      <td>1</td>\n",
              "    </tr>\n",
              "    <tr>\n",
              "      <th>1394</th>\n",
              "      <td>90447</td>\n",
              "      <td>5</td>\n",
              "      <td>1</td>\n",
              "    </tr>\n",
              "  </tbody>\n",
              "</table>\n",
              "<p>1618 rows × 3 columns</p>\n",
              "</div>"
            ],
            "text/plain": [
              "     customer_id  total_cancelled  total_Not_cancelled\n",
              "0          39707              496                   18\n",
              "1          26527              355                   77\n",
              "2          28896              312                   55\n",
              "3          10654              309                   35\n",
              "4          12278              290                   21\n",
              "...          ...              ...                  ...\n",
              "1390        4009                5                    1\n",
              "1391       74283                5                    1\n",
              "1404       74688                5                    5\n",
              "1393       16866                5                    1\n",
              "1394       90447                5                    1\n",
              "\n",
              "[1618 rows x 3 columns]"
            ]
          },
          "metadata": {
            "tags": []
          },
          "execution_count": 44
        }
      ]
    },
    {
      "cell_type": "code",
      "metadata": {
        "colab": {
          "base_uri": "https://localhost:8080/",
          "height": 669
        },
        "id": "VSZ_c4_81iLj",
        "outputId": "f1570d14-5058-46e2-ada1-51bc79902cdd"
      },
      "source": [
        "df_final.query(f'total_cancelled > 100')"
      ],
      "execution_count": 45,
      "outputs": [
        {
          "output_type": "execute_result",
          "data": {
            "text/html": [
              "<div>\n",
              "<style scoped>\n",
              "    .dataframe tbody tr th:only-of-type {\n",
              "        vertical-align: middle;\n",
              "    }\n",
              "\n",
              "    .dataframe tbody tr th {\n",
              "        vertical-align: top;\n",
              "    }\n",
              "\n",
              "    .dataframe thead th {\n",
              "        text-align: right;\n",
              "    }\n",
              "</style>\n",
              "<table border=\"1\" class=\"dataframe\">\n",
              "  <thead>\n",
              "    <tr style=\"text-align: right;\">\n",
              "      <th></th>\n",
              "      <th>customer_id</th>\n",
              "      <th>total_cancelled</th>\n",
              "      <th>total_Not_cancelled</th>\n",
              "    </tr>\n",
              "  </thead>\n",
              "  <tbody>\n",
              "    <tr>\n",
              "      <th>0</th>\n",
              "      <td>39707</td>\n",
              "      <td>496</td>\n",
              "      <td>18</td>\n",
              "    </tr>\n",
              "    <tr>\n",
              "      <th>1</th>\n",
              "      <td>26527</td>\n",
              "      <td>355</td>\n",
              "      <td>77</td>\n",
              "    </tr>\n",
              "    <tr>\n",
              "      <th>2</th>\n",
              "      <td>28896</td>\n",
              "      <td>312</td>\n",
              "      <td>55</td>\n",
              "    </tr>\n",
              "    <tr>\n",
              "      <th>3</th>\n",
              "      <td>10654</td>\n",
              "      <td>309</td>\n",
              "      <td>35</td>\n",
              "    </tr>\n",
              "    <tr>\n",
              "      <th>4</th>\n",
              "      <td>12278</td>\n",
              "      <td>290</td>\n",
              "      <td>21</td>\n",
              "    </tr>\n",
              "    <tr>\n",
              "      <th>5</th>\n",
              "      <td>87724</td>\n",
              "      <td>271</td>\n",
              "      <td>10</td>\n",
              "    </tr>\n",
              "    <tr>\n",
              "      <th>6</th>\n",
              "      <td>8963</td>\n",
              "      <td>222</td>\n",
              "      <td>67</td>\n",
              "    </tr>\n",
              "    <tr>\n",
              "      <th>7</th>\n",
              "      <td>12535</td>\n",
              "      <td>220</td>\n",
              "      <td>17</td>\n",
              "    </tr>\n",
              "    <tr>\n",
              "      <th>8</th>\n",
              "      <td>13793</td>\n",
              "      <td>207</td>\n",
              "      <td>26</td>\n",
              "    </tr>\n",
              "    <tr>\n",
              "      <th>9</th>\n",
              "      <td>59331</td>\n",
              "      <td>201</td>\n",
              "      <td>9</td>\n",
              "    </tr>\n",
              "    <tr>\n",
              "      <th>10</th>\n",
              "      <td>2844</td>\n",
              "      <td>198</td>\n",
              "      <td>32</td>\n",
              "    </tr>\n",
              "    <tr>\n",
              "      <th>11</th>\n",
              "      <td>37999</td>\n",
              "      <td>172</td>\n",
              "      <td>37</td>\n",
              "    </tr>\n",
              "    <tr>\n",
              "      <th>12</th>\n",
              "      <td>28952</td>\n",
              "      <td>136</td>\n",
              "      <td>25</td>\n",
              "    </tr>\n",
              "    <tr>\n",
              "      <th>13</th>\n",
              "      <td>12178</td>\n",
              "      <td>128</td>\n",
              "      <td>26</td>\n",
              "    </tr>\n",
              "    <tr>\n",
              "      <th>14</th>\n",
              "      <td>11862</td>\n",
              "      <td>124</td>\n",
              "      <td>14</td>\n",
              "    </tr>\n",
              "    <tr>\n",
              "      <th>15</th>\n",
              "      <td>61569</td>\n",
              "      <td>124</td>\n",
              "      <td>4</td>\n",
              "    </tr>\n",
              "    <tr>\n",
              "      <th>16</th>\n",
              "      <td>65910</td>\n",
              "      <td>120</td>\n",
              "      <td>8</td>\n",
              "    </tr>\n",
              "    <tr>\n",
              "      <th>17</th>\n",
              "      <td>38117</td>\n",
              "      <td>106</td>\n",
              "      <td>17</td>\n",
              "    </tr>\n",
              "    <tr>\n",
              "      <th>18</th>\n",
              "      <td>83736</td>\n",
              "      <td>105</td>\n",
              "      <td>46</td>\n",
              "    </tr>\n",
              "    <tr>\n",
              "      <th>19</th>\n",
              "      <td>11305</td>\n",
              "      <td>101</td>\n",
              "      <td>10</td>\n",
              "    </tr>\n",
              "  </tbody>\n",
              "</table>\n",
              "</div>"
            ],
            "text/plain": [
              "   customer_id  total_cancelled  total_Not_cancelled\n",
              "0        39707              496                   18\n",
              "1        26527              355                   77\n",
              "2        28896              312                   55\n",
              "3        10654              309                   35\n",
              "4        12278              290                   21\n",
              "5        87724              271                   10\n",
              "6         8963              222                   67\n",
              "7        12535              220                   17\n",
              "8        13793              207                   26\n",
              "9        59331              201                    9\n",
              "10        2844              198                   32\n",
              "11       37999              172                   37\n",
              "12       28952              136                   25\n",
              "13       12178              128                   26\n",
              "14       11862              124                   14\n",
              "15       61569              124                    4\n",
              "16       65910              120                    8\n",
              "17       38117              106                   17\n",
              "18       83736              105                   46\n",
              "19       11305              101                   10"
            ]
          },
          "metadata": {
            "tags": []
          },
          "execution_count": 45
        }
      ]
    },
    {
      "cell_type": "code",
      "metadata": {
        "id": "_sOyYAYZ1kYU"
      },
      "source": [
        ""
      ],
      "execution_count": 45,
      "outputs": []
    },
    {
      "cell_type": "markdown",
      "metadata": {
        "id": "0jnowVxh1nMK"
      },
      "source": [
        "# Using RandomForestRegression Model\n",
        "***4. How is the sales state going to be next year ? (Predictive)***\n",
        "\n"
      ]
    },
    {
      "cell_type": "code",
      "metadata": {
        "id": "sHMqFnOL1p0z"
      },
      "source": [
        "data_reg = spark.sql(\"SELECT Year, category_name_1, sum(grand_total) as total FROM eCommerce_view group by Year, category_name_1 Order by Year\")\n",
        "\n",
        "data_reg = data_reg.toPandas()\n",
        "\n",
        "data_reg.dropna(inplace=True)\n",
        "\n",
        "data_reg[\"category_name_1\"] = data_reg[\"category_name_1\"].astype('category')\n",
        "data_reg[\"category_name_1\"] = data_reg[\"category_name_1\"].cat.codes\n",
        "data_reg['total'] = data_reg['total'].astype('float')\n",
        "data_reg['Year'] = data_reg['Year'].astype('int64')\n",
        "\n",
        "x = data_reg[['Year','category_name_1']]\n",
        "y = data_reg['total']\n"
      ],
      "execution_count": 46,
      "outputs": []
    },
    {
      "cell_type": "code",
      "metadata": {
        "id": "vAbsgC-I10gp"
      },
      "source": [
        "from sklearn.model_selection import train_test_split\n",
        "# i have spilt data into 75 and 25%\n",
        "x_train, x_test, y_train, y_test = train_test_split(x,y,test_size = 0.27, random_state = 0)"
      ],
      "execution_count": 47,
      "outputs": []
    },
    {
      "cell_type": "code",
      "metadata": {
        "id": "kYOr4FKU112W"
      },
      "source": [
        "#Random Forest\n",
        "from sklearn.metrics import accuracy_score\n",
        "from sklearn.ensemble import RandomForestRegressor\n",
        "\n",
        "rf = RandomForestRegressor(random_state = 20)\n",
        "rf.fit(x_train,y_train)\n",
        "y_pred_rf = rf.predict(x_test)\n"
      ],
      "execution_count": 48,
      "outputs": []
    },
    {
      "cell_type": "code",
      "metadata": {
        "colab": {
          "base_uri": "https://localhost:8080/"
        },
        "id": "0l27JGeC14-T",
        "outputId": "20f4ae16-b1eb-4644-bc40-35adb49d8994"
      },
      "source": [
        "from sklearn.metrics import mean_squared_error, r2_score, mean_absolute_error\n",
        "\n",
        "r2 = r2_score(y_test, y_pred_rf)\n",
        "mse = mean_squared_error(y_test, y_pred_rf)\n",
        "mae = mean_absolute_error(y_test, y_pred_rf)\n",
        "\n",
        "print(f\"r2_score: {r2}, mean_squared_error: {mse}, mean_absolute_error: {mae}\")"
      ],
      "execution_count": 49,
      "outputs": [
        {
          "output_type": "stream",
          "text": [
            "r2_score: 0.4277885705891772, mean_squared_error: 4.700391261310883e+16, mean_absolute_error: 138643103.93385413\n"
          ],
          "name": "stdout"
        }
      ]
    },
    {
      "cell_type": "code",
      "metadata": {
        "id": "vWDqi5hA17PH"
      },
      "source": [
        ""
      ],
      "execution_count": 49,
      "outputs": []
    },
    {
      "cell_type": "markdown",
      "metadata": {
        "id": "uOwnnhmH2BFP"
      },
      "source": [
        "# Using fbProphet Model\n",
        "***How is the sales state going to be next year ? (Predictive)***\n",
        "\n"
      ]
    },
    {
      "cell_type": "code",
      "metadata": {
        "id": "ulEhkC6r2HLB"
      },
      "source": [
        "data = spark.sql(\"SELECT created_at, sum(grand_total) as total FROM eCommerce_view group by created_at order by created_at\")\n",
        "\n",
        "data = data.toPandas()\n",
        "\n",
        "data.dropna(inplace=True)"
      ],
      "execution_count": 50,
      "outputs": []
    },
    {
      "cell_type": "code",
      "metadata": {
        "colab": {
          "base_uri": "https://localhost:8080/",
          "height": 419
        },
        "id": "649zQvtQ2Q-2",
        "outputId": "f1336aae-6e8f-48fb-b78e-8173f5be58d9"
      },
      "source": [
        "data"
      ],
      "execution_count": 51,
      "outputs": [
        {
          "output_type": "execute_result",
          "data": {
            "text/html": [
              "<div>\n",
              "<style scoped>\n",
              "    .dataframe tbody tr th:only-of-type {\n",
              "        vertical-align: middle;\n",
              "    }\n",
              "\n",
              "    .dataframe tbody tr th {\n",
              "        vertical-align: top;\n",
              "    }\n",
              "\n",
              "    .dataframe thead th {\n",
              "        text-align: right;\n",
              "    }\n",
              "</style>\n",
              "<table border=\"1\" class=\"dataframe\">\n",
              "  <thead>\n",
              "    <tr style=\"text-align: right;\">\n",
              "      <th></th>\n",
              "      <th>created_at</th>\n",
              "      <th>total</th>\n",
              "    </tr>\n",
              "  </thead>\n",
              "  <tbody>\n",
              "    <tr>\n",
              "      <th>1</th>\n",
              "      <td>2016-07-01</td>\n",
              "      <td>1301026.75</td>\n",
              "    </tr>\n",
              "    <tr>\n",
              "      <th>2</th>\n",
              "      <td>2016-07-02</td>\n",
              "      <td>1408450.48</td>\n",
              "    </tr>\n",
              "    <tr>\n",
              "      <th>3</th>\n",
              "      <td>2016-07-03</td>\n",
              "      <td>2215490.88</td>\n",
              "    </tr>\n",
              "    <tr>\n",
              "      <th>4</th>\n",
              "      <td>2016-07-04</td>\n",
              "      <td>1094080.25</td>\n",
              "    </tr>\n",
              "    <tr>\n",
              "      <th>5</th>\n",
              "      <td>2016-07-05</td>\n",
              "      <td>913053.50</td>\n",
              "    </tr>\n",
              "    <tr>\n",
              "      <th>...</th>\n",
              "      <td>...</td>\n",
              "      <td>...</td>\n",
              "    </tr>\n",
              "    <tr>\n",
              "      <th>785</th>\n",
              "      <td>2018-08-24</td>\n",
              "      <td>2078130.30</td>\n",
              "    </tr>\n",
              "    <tr>\n",
              "      <th>786</th>\n",
              "      <td>2018-08-25</td>\n",
              "      <td>3669771.90</td>\n",
              "    </tr>\n",
              "    <tr>\n",
              "      <th>787</th>\n",
              "      <td>2018-08-26</td>\n",
              "      <td>3707955.40</td>\n",
              "    </tr>\n",
              "    <tr>\n",
              "      <th>788</th>\n",
              "      <td>2018-08-27</td>\n",
              "      <td>2425669.03</td>\n",
              "    </tr>\n",
              "    <tr>\n",
              "      <th>789</th>\n",
              "      <td>2018-08-28</td>\n",
              "      <td>3231153.75</td>\n",
              "    </tr>\n",
              "  </tbody>\n",
              "</table>\n",
              "<p>789 rows × 2 columns</p>\n",
              "</div>"
            ],
            "text/plain": [
              "    created_at       total\n",
              "1   2016-07-01  1301026.75\n",
              "2   2016-07-02  1408450.48\n",
              "3   2016-07-03  2215490.88\n",
              "4   2016-07-04  1094080.25\n",
              "5   2016-07-05   913053.50\n",
              "..         ...         ...\n",
              "785 2018-08-24  2078130.30\n",
              "786 2018-08-25  3669771.90\n",
              "787 2018-08-26  3707955.40\n",
              "788 2018-08-27  2425669.03\n",
              "789 2018-08-28  3231153.75\n",
              "\n",
              "[789 rows x 2 columns]"
            ]
          },
          "metadata": {
            "tags": []
          },
          "execution_count": 51
        }
      ]
    },
    {
      "cell_type": "code",
      "metadata": {
        "colab": {
          "base_uri": "https://localhost:8080/",
          "height": 419
        },
        "id": "VXV94g4A2V9I",
        "outputId": "ee96e227-3560-41a0-f44b-1eb6aff2fa43"
      },
      "source": [
        "data = data.rename(columns={'created_at': 'ds', 'total' : 'y'})\n",
        "data"
      ],
      "execution_count": 52,
      "outputs": [
        {
          "output_type": "execute_result",
          "data": {
            "text/html": [
              "<div>\n",
              "<style scoped>\n",
              "    .dataframe tbody tr th:only-of-type {\n",
              "        vertical-align: middle;\n",
              "    }\n",
              "\n",
              "    .dataframe tbody tr th {\n",
              "        vertical-align: top;\n",
              "    }\n",
              "\n",
              "    .dataframe thead th {\n",
              "        text-align: right;\n",
              "    }\n",
              "</style>\n",
              "<table border=\"1\" class=\"dataframe\">\n",
              "  <thead>\n",
              "    <tr style=\"text-align: right;\">\n",
              "      <th></th>\n",
              "      <th>ds</th>\n",
              "      <th>y</th>\n",
              "    </tr>\n",
              "  </thead>\n",
              "  <tbody>\n",
              "    <tr>\n",
              "      <th>1</th>\n",
              "      <td>2016-07-01</td>\n",
              "      <td>1301026.75</td>\n",
              "    </tr>\n",
              "    <tr>\n",
              "      <th>2</th>\n",
              "      <td>2016-07-02</td>\n",
              "      <td>1408450.48</td>\n",
              "    </tr>\n",
              "    <tr>\n",
              "      <th>3</th>\n",
              "      <td>2016-07-03</td>\n",
              "      <td>2215490.88</td>\n",
              "    </tr>\n",
              "    <tr>\n",
              "      <th>4</th>\n",
              "      <td>2016-07-04</td>\n",
              "      <td>1094080.25</td>\n",
              "    </tr>\n",
              "    <tr>\n",
              "      <th>5</th>\n",
              "      <td>2016-07-05</td>\n",
              "      <td>913053.50</td>\n",
              "    </tr>\n",
              "    <tr>\n",
              "      <th>...</th>\n",
              "      <td>...</td>\n",
              "      <td>...</td>\n",
              "    </tr>\n",
              "    <tr>\n",
              "      <th>785</th>\n",
              "      <td>2018-08-24</td>\n",
              "      <td>2078130.30</td>\n",
              "    </tr>\n",
              "    <tr>\n",
              "      <th>786</th>\n",
              "      <td>2018-08-25</td>\n",
              "      <td>3669771.90</td>\n",
              "    </tr>\n",
              "    <tr>\n",
              "      <th>787</th>\n",
              "      <td>2018-08-26</td>\n",
              "      <td>3707955.40</td>\n",
              "    </tr>\n",
              "    <tr>\n",
              "      <th>788</th>\n",
              "      <td>2018-08-27</td>\n",
              "      <td>2425669.03</td>\n",
              "    </tr>\n",
              "    <tr>\n",
              "      <th>789</th>\n",
              "      <td>2018-08-28</td>\n",
              "      <td>3231153.75</td>\n",
              "    </tr>\n",
              "  </tbody>\n",
              "</table>\n",
              "<p>789 rows × 2 columns</p>\n",
              "</div>"
            ],
            "text/plain": [
              "            ds           y\n",
              "1   2016-07-01  1301026.75\n",
              "2   2016-07-02  1408450.48\n",
              "3   2016-07-03  2215490.88\n",
              "4   2016-07-04  1094080.25\n",
              "5   2016-07-05   913053.50\n",
              "..         ...         ...\n",
              "785 2018-08-24  2078130.30\n",
              "786 2018-08-25  3669771.90\n",
              "787 2018-08-26  3707955.40\n",
              "788 2018-08-27  2425669.03\n",
              "789 2018-08-28  3231153.75\n",
              "\n",
              "[789 rows x 2 columns]"
            ]
          },
          "metadata": {
            "tags": []
          },
          "execution_count": 52
        }
      ]
    },
    {
      "cell_type": "code",
      "metadata": {
        "colab": {
          "base_uri": "https://localhost:8080/"
        },
        "id": "oXdj4sKg2ZmI",
        "outputId": "fc4edbdb-8a0b-43eb-af60-f599c36aed95"
      },
      "source": [
        "train = data.query('ds < \"2018-08-01\"')\n",
        "test = data.query('ds >= \"2018-08-01\"')\n",
        "\n",
        "test.shape[0]\n"
      ],
      "execution_count": 53,
      "outputs": [
        {
          "output_type": "execute_result",
          "data": {
            "text/plain": [
              "28"
            ]
          },
          "metadata": {
            "tags": []
          },
          "execution_count": 53
        }
      ]
    },
    {
      "cell_type": "code",
      "metadata": {
        "colab": {
          "base_uri": "https://localhost:8080/"
        },
        "id": "SBbMOHkZ2cJR",
        "outputId": "c1559e66-2ce9-48ec-ae17-0ddafe0b02b9"
      },
      "source": [
        "m = Prophet()\n",
        "m.fit(train)"
      ],
      "execution_count": 54,
      "outputs": [
        {
          "output_type": "stream",
          "text": [
            "INFO:prophet:Disabling daily seasonality. Run prophet with daily_seasonality=True to override this.\n"
          ],
          "name": "stderr"
        },
        {
          "output_type": "execute_result",
          "data": {
            "text/plain": [
              "<prophet.forecaster.Prophet at 0x7f427fd89450>"
            ]
          },
          "metadata": {
            "tags": []
          },
          "execution_count": 54
        }
      ]
    },
    {
      "cell_type": "code",
      "metadata": {
        "colab": {
          "base_uri": "https://localhost:8080/",
          "height": 204
        },
        "id": "PUpiD6e82eLy",
        "outputId": "0b143782-96c2-4a76-a7b8-4e667bd3bbc3"
      },
      "source": [
        "future = m.make_future_dataframe(periods=28)\n",
        "future.tail()"
      ],
      "execution_count": 55,
      "outputs": [
        {
          "output_type": "execute_result",
          "data": {
            "text/html": [
              "<div>\n",
              "<style scoped>\n",
              "    .dataframe tbody tr th:only-of-type {\n",
              "        vertical-align: middle;\n",
              "    }\n",
              "\n",
              "    .dataframe tbody tr th {\n",
              "        vertical-align: top;\n",
              "    }\n",
              "\n",
              "    .dataframe thead th {\n",
              "        text-align: right;\n",
              "    }\n",
              "</style>\n",
              "<table border=\"1\" class=\"dataframe\">\n",
              "  <thead>\n",
              "    <tr style=\"text-align: right;\">\n",
              "      <th></th>\n",
              "      <th>ds</th>\n",
              "    </tr>\n",
              "  </thead>\n",
              "  <tbody>\n",
              "    <tr>\n",
              "      <th>784</th>\n",
              "      <td>2018-08-24</td>\n",
              "    </tr>\n",
              "    <tr>\n",
              "      <th>785</th>\n",
              "      <td>2018-08-25</td>\n",
              "    </tr>\n",
              "    <tr>\n",
              "      <th>786</th>\n",
              "      <td>2018-08-26</td>\n",
              "    </tr>\n",
              "    <tr>\n",
              "      <th>787</th>\n",
              "      <td>2018-08-27</td>\n",
              "    </tr>\n",
              "    <tr>\n",
              "      <th>788</th>\n",
              "      <td>2018-08-28</td>\n",
              "    </tr>\n",
              "  </tbody>\n",
              "</table>\n",
              "</div>"
            ],
            "text/plain": [
              "            ds\n",
              "784 2018-08-24\n",
              "785 2018-08-25\n",
              "786 2018-08-26\n",
              "787 2018-08-27\n",
              "788 2018-08-28"
            ]
          },
          "metadata": {
            "tags": []
          },
          "execution_count": 55
        }
      ]
    },
    {
      "cell_type": "code",
      "metadata": {
        "colab": {
          "base_uri": "https://localhost:8080/",
          "height": 204
        },
        "id": "008bPNq52gVY",
        "outputId": "7e5c2d7c-4f52-404f-f95a-a144b8a61947"
      },
      "source": [
        "forecast = m.predict(future)\n",
        "forecast[['ds', 'yhat', 'yhat_lower', 'yhat_upper']].tail()"
      ],
      "execution_count": 56,
      "outputs": [
        {
          "output_type": "execute_result",
          "data": {
            "text/html": [
              "<div>\n",
              "<style scoped>\n",
              "    .dataframe tbody tr th:only-of-type {\n",
              "        vertical-align: middle;\n",
              "    }\n",
              "\n",
              "    .dataframe tbody tr th {\n",
              "        vertical-align: top;\n",
              "    }\n",
              "\n",
              "    .dataframe thead th {\n",
              "        text-align: right;\n",
              "    }\n",
              "</style>\n",
              "<table border=\"1\" class=\"dataframe\">\n",
              "  <thead>\n",
              "    <tr style=\"text-align: right;\">\n",
              "      <th></th>\n",
              "      <th>ds</th>\n",
              "      <th>yhat</th>\n",
              "      <th>yhat_lower</th>\n",
              "      <th>yhat_upper</th>\n",
              "    </tr>\n",
              "  </thead>\n",
              "  <tbody>\n",
              "    <tr>\n",
              "      <th>784</th>\n",
              "      <td>2018-08-24</td>\n",
              "      <td>1.232702e+07</td>\n",
              "      <td>-1.301581e+06</td>\n",
              "      <td>2.384102e+07</td>\n",
              "    </tr>\n",
              "    <tr>\n",
              "      <th>785</th>\n",
              "      <td>2018-08-25</td>\n",
              "      <td>8.119561e+06</td>\n",
              "      <td>-4.832260e+06</td>\n",
              "      <td>2.201629e+07</td>\n",
              "    </tr>\n",
              "    <tr>\n",
              "      <th>786</th>\n",
              "      <td>2018-08-26</td>\n",
              "      <td>7.022223e+06</td>\n",
              "      <td>-7.049099e+06</td>\n",
              "      <td>1.958191e+07</td>\n",
              "    </tr>\n",
              "    <tr>\n",
              "      <th>787</th>\n",
              "      <td>2018-08-27</td>\n",
              "      <td>8.238803e+06</td>\n",
              "      <td>-5.016572e+06</td>\n",
              "      <td>2.133650e+07</td>\n",
              "    </tr>\n",
              "    <tr>\n",
              "      <th>788</th>\n",
              "      <td>2018-08-28</td>\n",
              "      <td>8.162762e+06</td>\n",
              "      <td>-4.979071e+06</td>\n",
              "      <td>2.077750e+07</td>\n",
              "    </tr>\n",
              "  </tbody>\n",
              "</table>\n",
              "</div>"
            ],
            "text/plain": [
              "            ds          yhat    yhat_lower    yhat_upper\n",
              "784 2018-08-24  1.232702e+07 -1.301581e+06  2.384102e+07\n",
              "785 2018-08-25  8.119561e+06 -4.832260e+06  2.201629e+07\n",
              "786 2018-08-26  7.022223e+06 -7.049099e+06  1.958191e+07\n",
              "787 2018-08-27  8.238803e+06 -5.016572e+06  2.133650e+07\n",
              "788 2018-08-28  8.162762e+06 -4.979071e+06  2.077750e+07"
            ]
          },
          "metadata": {
            "tags": []
          },
          "execution_count": 56
        }
      ]
    },
    {
      "cell_type": "code",
      "metadata": {
        "id": "sDrxQjW02j-c"
      },
      "source": [
        "#fig1 = m.plot(forecast)"
      ],
      "execution_count": 57,
      "outputs": []
    },
    {
      "cell_type": "code",
      "metadata": {
        "colab": {
          "base_uri": "https://localhost:8080/",
          "height": 917
        },
        "id": "8wfXb4L_2lWz",
        "outputId": "b804a080-4c90-4533-cb85-9d3610152b48"
      },
      "source": [
        "metric_df = forecast.set_index('ds')[['yhat']].join(test.set_index('ds').y).reset_index()\n",
        "metric_df.dropna(inplace=True)\n",
        "\n",
        "metric_df"
      ],
      "execution_count": 58,
      "outputs": [
        {
          "output_type": "execute_result",
          "data": {
            "text/html": [
              "<div>\n",
              "<style scoped>\n",
              "    .dataframe tbody tr th:only-of-type {\n",
              "        vertical-align: middle;\n",
              "    }\n",
              "\n",
              "    .dataframe tbody tr th {\n",
              "        vertical-align: top;\n",
              "    }\n",
              "\n",
              "    .dataframe thead th {\n",
              "        text-align: right;\n",
              "    }\n",
              "</style>\n",
              "<table border=\"1\" class=\"dataframe\">\n",
              "  <thead>\n",
              "    <tr style=\"text-align: right;\">\n",
              "      <th></th>\n",
              "      <th>ds</th>\n",
              "      <th>yhat</th>\n",
              "      <th>y</th>\n",
              "    </tr>\n",
              "  </thead>\n",
              "  <tbody>\n",
              "    <tr>\n",
              "      <th>761</th>\n",
              "      <td>2018-08-01</td>\n",
              "      <td>8.531901e+06</td>\n",
              "      <td>5.029047e+06</td>\n",
              "    </tr>\n",
              "    <tr>\n",
              "      <th>762</th>\n",
              "      <td>2018-08-02</td>\n",
              "      <td>9.981466e+06</td>\n",
              "      <td>6.408254e+06</td>\n",
              "    </tr>\n",
              "    <tr>\n",
              "      <th>763</th>\n",
              "      <td>2018-08-03</td>\n",
              "      <td>1.322964e+07</td>\n",
              "      <td>4.582243e+06</td>\n",
              "    </tr>\n",
              "    <tr>\n",
              "      <th>764</th>\n",
              "      <td>2018-08-04</td>\n",
              "      <td>8.879734e+06</td>\n",
              "      <td>7.628585e+06</td>\n",
              "    </tr>\n",
              "    <tr>\n",
              "      <th>765</th>\n",
              "      <td>2018-08-05</td>\n",
              "      <td>7.613055e+06</td>\n",
              "      <td>1.617281e+06</td>\n",
              "    </tr>\n",
              "    <tr>\n",
              "      <th>766</th>\n",
              "      <td>2018-08-06</td>\n",
              "      <td>8.641090e+06</td>\n",
              "      <td>6.959422e+06</td>\n",
              "    </tr>\n",
              "    <tr>\n",
              "      <th>767</th>\n",
              "      <td>2018-08-07</td>\n",
              "      <td>8.365771e+06</td>\n",
              "      <td>4.296090e+06</td>\n",
              "    </tr>\n",
              "    <tr>\n",
              "      <th>768</th>\n",
              "      <td>2018-08-08</td>\n",
              "      <td>8.172316e+06</td>\n",
              "      <td>5.492023e+06</td>\n",
              "    </tr>\n",
              "    <tr>\n",
              "      <th>769</th>\n",
              "      <td>2018-08-09</td>\n",
              "      <td>9.487511e+06</td>\n",
              "      <td>2.587185e+06</td>\n",
              "    </tr>\n",
              "    <tr>\n",
              "      <th>770</th>\n",
              "      <td>2018-08-10</td>\n",
              "      <td>1.262250e+07</td>\n",
              "      <td>4.156481e+06</td>\n",
              "    </tr>\n",
              "    <tr>\n",
              "      <th>771</th>\n",
              "      <td>2018-08-11</td>\n",
              "      <td>8.184086e+06</td>\n",
              "      <td>2.552120e+06</td>\n",
              "    </tr>\n",
              "    <tr>\n",
              "      <th>772</th>\n",
              "      <td>2018-08-12</td>\n",
              "      <td>6.856257e+06</td>\n",
              "      <td>8.507650e+06</td>\n",
              "    </tr>\n",
              "    <tr>\n",
              "      <th>773</th>\n",
              "      <td>2018-08-13</td>\n",
              "      <td>7.852268e+06</td>\n",
              "      <td>1.498422e+07</td>\n",
              "    </tr>\n",
              "    <tr>\n",
              "      <th>774</th>\n",
              "      <td>2018-08-14</td>\n",
              "      <td>7.574838e+06</td>\n",
              "      <td>2.094441e+07</td>\n",
              "    </tr>\n",
              "    <tr>\n",
              "      <th>775</th>\n",
              "      <td>2018-08-15</td>\n",
              "      <td>7.408961e+06</td>\n",
              "      <td>2.842334e+06</td>\n",
              "    </tr>\n",
              "    <tr>\n",
              "      <th>776</th>\n",
              "      <td>2018-08-16</td>\n",
              "      <td>8.780174e+06</td>\n",
              "      <td>7.783191e+06</td>\n",
              "    </tr>\n",
              "    <tr>\n",
              "      <th>777</th>\n",
              "      <td>2018-08-17</td>\n",
              "      <td>1.199738e+07</td>\n",
              "      <td>1.507860e+07</td>\n",
              "    </tr>\n",
              "    <tr>\n",
              "      <th>778</th>\n",
              "      <td>2018-08-18</td>\n",
              "      <td>7.664209e+06</td>\n",
              "      <td>3.786807e+06</td>\n",
              "    </tr>\n",
              "    <tr>\n",
              "      <th>779</th>\n",
              "      <td>2018-08-19</td>\n",
              "      <td>6.460642e+06</td>\n",
              "      <td>4.676292e+06</td>\n",
              "    </tr>\n",
              "    <tr>\n",
              "      <th>780</th>\n",
              "      <td>2018-08-20</td>\n",
              "      <td>7.595212e+06</td>\n",
              "      <td>4.668894e+06</td>\n",
              "    </tr>\n",
              "    <tr>\n",
              "      <th>781</th>\n",
              "      <td>2018-08-21</td>\n",
              "      <td>7.465353e+06</td>\n",
              "      <td>3.874645e+06</td>\n",
              "    </tr>\n",
              "    <tr>\n",
              "      <th>782</th>\n",
              "      <td>2018-08-22</td>\n",
              "      <td>7.450377e+06</td>\n",
              "      <td>2.163573e+06</td>\n",
              "    </tr>\n",
              "    <tr>\n",
              "      <th>783</th>\n",
              "      <td>2018-08-23</td>\n",
              "      <td>8.969931e+06</td>\n",
              "      <td>1.154143e+06</td>\n",
              "    </tr>\n",
              "    <tr>\n",
              "      <th>784</th>\n",
              "      <td>2018-08-24</td>\n",
              "      <td>1.232702e+07</td>\n",
              "      <td>2.078130e+06</td>\n",
              "    </tr>\n",
              "    <tr>\n",
              "      <th>785</th>\n",
              "      <td>2018-08-25</td>\n",
              "      <td>8.119561e+06</td>\n",
              "      <td>3.669772e+06</td>\n",
              "    </tr>\n",
              "    <tr>\n",
              "      <th>786</th>\n",
              "      <td>2018-08-26</td>\n",
              "      <td>7.022223e+06</td>\n",
              "      <td>3.707955e+06</td>\n",
              "    </tr>\n",
              "    <tr>\n",
              "      <th>787</th>\n",
              "      <td>2018-08-27</td>\n",
              "      <td>8.238803e+06</td>\n",
              "      <td>2.425669e+06</td>\n",
              "    </tr>\n",
              "    <tr>\n",
              "      <th>788</th>\n",
              "      <td>2018-08-28</td>\n",
              "      <td>8.162762e+06</td>\n",
              "      <td>3.231154e+06</td>\n",
              "    </tr>\n",
              "  </tbody>\n",
              "</table>\n",
              "</div>"
            ],
            "text/plain": [
              "            ds          yhat             y\n",
              "761 2018-08-01  8.531901e+06  5.029047e+06\n",
              "762 2018-08-02  9.981466e+06  6.408254e+06\n",
              "763 2018-08-03  1.322964e+07  4.582243e+06\n",
              "764 2018-08-04  8.879734e+06  7.628585e+06\n",
              "765 2018-08-05  7.613055e+06  1.617281e+06\n",
              "766 2018-08-06  8.641090e+06  6.959422e+06\n",
              "767 2018-08-07  8.365771e+06  4.296090e+06\n",
              "768 2018-08-08  8.172316e+06  5.492023e+06\n",
              "769 2018-08-09  9.487511e+06  2.587185e+06\n",
              "770 2018-08-10  1.262250e+07  4.156481e+06\n",
              "771 2018-08-11  8.184086e+06  2.552120e+06\n",
              "772 2018-08-12  6.856257e+06  8.507650e+06\n",
              "773 2018-08-13  7.852268e+06  1.498422e+07\n",
              "774 2018-08-14  7.574838e+06  2.094441e+07\n",
              "775 2018-08-15  7.408961e+06  2.842334e+06\n",
              "776 2018-08-16  8.780174e+06  7.783191e+06\n",
              "777 2018-08-17  1.199738e+07  1.507860e+07\n",
              "778 2018-08-18  7.664209e+06  3.786807e+06\n",
              "779 2018-08-19  6.460642e+06  4.676292e+06\n",
              "780 2018-08-20  7.595212e+06  4.668894e+06\n",
              "781 2018-08-21  7.465353e+06  3.874645e+06\n",
              "782 2018-08-22  7.450377e+06  2.163573e+06\n",
              "783 2018-08-23  8.969931e+06  1.154143e+06\n",
              "784 2018-08-24  1.232702e+07  2.078130e+06\n",
              "785 2018-08-25  8.119561e+06  3.669772e+06\n",
              "786 2018-08-26  7.022223e+06  3.707955e+06\n",
              "787 2018-08-27  8.238803e+06  2.425669e+06\n",
              "788 2018-08-28  8.162762e+06  3.231154e+06"
            ]
          },
          "metadata": {
            "tags": []
          },
          "execution_count": 58
        }
      ]
    },
    {
      "cell_type": "code",
      "metadata": {
        "colab": {
          "base_uri": "https://localhost:8080/"
        },
        "id": "R0xi0iad2pZC",
        "outputId": "61947abd-eafb-47d2-f896-7d017c5189d0"
      },
      "source": [
        "from sklearn.metrics import mean_squared_error, r2_score, mean_absolute_error\n",
        "\n",
        "r2 = r2_score(metric_df.y, metric_df.yhat)\n",
        "mse = mean_squared_error(metric_df.y, metric_df.yhat)\n",
        "mae = mean_absolute_error(metric_df.y, metric_df.yhat)\n",
        "\n",
        "print(f\"r2_score: {r2}, mean_squared_error: {mse}, mean_absolute_error: {mae}\")"
      ],
      "execution_count": 59,
      "outputs": [
        {
          "output_type": "stream",
          "text": [
            "r2_score: -0.6234392611467166, mean_squared_error: 32187147347009.316, mean_absolute_error: 4901326.587481598\n"
          ],
          "name": "stdout"
        }
      ]
    },
    {
      "cell_type": "code",
      "metadata": {
        "colab": {
          "base_uri": "https://localhost:8080/",
          "height": 458
        },
        "id": "BcxHMV862sI_",
        "outputId": "41940354-7344-4419-e9aa-12b6a7aee326"
      },
      "source": [
        "modFinal = Prophet()\n",
        "modFinal.fit(data)\n",
        "future = modFinal.make_future_dataframe(periods=365)\n",
        "forecast = modFinal.predict(future)\n",
        "fig1 = modFinal.plot(forecast)"
      ],
      "execution_count": 60,
      "outputs": [
        {
          "output_type": "stream",
          "text": [
            "INFO:prophet:Disabling daily seasonality. Run prophet with daily_seasonality=True to override this.\n"
          ],
          "name": "stderr"
        },
        {
          "output_type": "display_data",
          "data": {
            "image/png": "[encoded data removed]",
            "text/plain": [
              "<Figure size 720x432 with 1 Axes>"
            ]
          },
          "metadata": {
            "tags": []
          }
        }
      ]
    },
    {
      "cell_type": "code",
      "metadata": {
        "id": "0ilYBOsyyeSW"
      },
      "source": [
        "# Creating A new DataFrame for visualize specipic Rows.\n",
        "df = EC_pakistan[(EC_pakistan['Status'] == 'complete') | (EC_pakistan['Status'] == 'canceled') | (EC_pakistan['Status'] == 'order_refunded')]"
      ],
      "execution_count": 61,
      "outputs": []
    },
    {
      "cell_type": "code",
      "metadata": {
        "colab": {
          "base_uri": "https://localhost:8080/",
          "height": 306
        },
        "id": "OlWzoM9kzBBY",
        "outputId": "2d827c05-9afa-4670-ad83-527da323f619"
      },
      "source": [
        "df.head(5)"
      ],
      "execution_count": 62,
      "outputs": [
        {
          "output_type": "execute_result",
          "data": {
            "text/html": [
              "<div>\n",
              "<style scoped>\n",
              "    .dataframe tbody tr th:only-of-type {\n",
              "        vertical-align: middle;\n",
              "    }\n",
              "\n",
              "    .dataframe tbody tr th {\n",
              "        vertical-align: top;\n",
              "    }\n",
              "\n",
              "    .dataframe thead th {\n",
              "        text-align: right;\n",
              "    }\n",
              "</style>\n",
              "<table border=\"1\" class=\"dataframe\">\n",
              "  <thead>\n",
              "    <tr style=\"text-align: right;\">\n",
              "      <th></th>\n",
              "      <th>Item ID</th>\n",
              "      <th>Status</th>\n",
              "      <th>Created at</th>\n",
              "      <th>Product Name</th>\n",
              "      <th>Price</th>\n",
              "      <th>Quantity</th>\n",
              "      <th>Grand Total</th>\n",
              "      <th>Increment ID</th>\n",
              "      <th>Product Category</th>\n",
              "      <th>Discount Amount</th>\n",
              "      <th>Payment Method</th>\n",
              "      <th>Working Date</th>\n",
              "      <th>BI Status</th>\n",
              "      <th>MV</th>\n",
              "      <th>Year</th>\n",
              "      <th>Month</th>\n",
              "      <th>Customer Since</th>\n",
              "      <th>M-Y</th>\n",
              "      <th>FY</th>\n",
              "      <th>Customer ID</th>\n",
              "    </tr>\n",
              "  </thead>\n",
              "  <tbody>\n",
              "    <tr>\n",
              "      <th>0</th>\n",
              "      <td>211131.0</td>\n",
              "      <td>complete</td>\n",
              "      <td>7/1/2016</td>\n",
              "      <td>kreations_YI 06-L</td>\n",
              "      <td>1950.0</td>\n",
              "      <td>1.0</td>\n",
              "      <td>1950.0</td>\n",
              "      <td>100147443</td>\n",
              "      <td>Women's Fashion</td>\n",
              "      <td>0.0</td>\n",
              "      <td>cod</td>\n",
              "      <td>7/1/2016</td>\n",
              "      <td>#REF!</td>\n",
              "      <td>1,950</td>\n",
              "      <td>2016.0</td>\n",
              "      <td>7.0</td>\n",
              "      <td>2016-7</td>\n",
              "      <td>7-2016</td>\n",
              "      <td>FY17</td>\n",
              "      <td>1.0</td>\n",
              "    </tr>\n",
              "    <tr>\n",
              "      <th>1</th>\n",
              "      <td>211133.0</td>\n",
              "      <td>canceled</td>\n",
              "      <td>7/1/2016</td>\n",
              "      <td>kcc_Buy 2 Frey Air Freshener &amp; Get 1 Kasual Bo...</td>\n",
              "      <td>240.0</td>\n",
              "      <td>1.0</td>\n",
              "      <td>240.0</td>\n",
              "      <td>100147444</td>\n",
              "      <td>Beauty &amp; Grooming</td>\n",
              "      <td>0.0</td>\n",
              "      <td>cod</td>\n",
              "      <td>7/1/2016</td>\n",
              "      <td>Gross</td>\n",
              "      <td>240</td>\n",
              "      <td>2016.0</td>\n",
              "      <td>7.0</td>\n",
              "      <td>2016-7</td>\n",
              "      <td>7-2016</td>\n",
              "      <td>FY17</td>\n",
              "      <td>2.0</td>\n",
              "    </tr>\n",
              "    <tr>\n",
              "      <th>2</th>\n",
              "      <td>211134.0</td>\n",
              "      <td>canceled</td>\n",
              "      <td>7/1/2016</td>\n",
              "      <td>Ego_UP0017-999-MR0</td>\n",
              "      <td>2450.0</td>\n",
              "      <td>1.0</td>\n",
              "      <td>2450.0</td>\n",
              "      <td>100147445</td>\n",
              "      <td>Women's Fashion</td>\n",
              "      <td>0.0</td>\n",
              "      <td>cod</td>\n",
              "      <td>7/1/2016</td>\n",
              "      <td>Gross</td>\n",
              "      <td>2,450</td>\n",
              "      <td>2016.0</td>\n",
              "      <td>7.0</td>\n",
              "      <td>2016-7</td>\n",
              "      <td>7-2016</td>\n",
              "      <td>FY17</td>\n",
              "      <td>3.0</td>\n",
              "    </tr>\n",
              "    <tr>\n",
              "      <th>3</th>\n",
              "      <td>211135.0</td>\n",
              "      <td>complete</td>\n",
              "      <td>7/1/2016</td>\n",
              "      <td>kcc_krone deal</td>\n",
              "      <td>360.0</td>\n",
              "      <td>1.0</td>\n",
              "      <td>60.0</td>\n",
              "      <td>100147446</td>\n",
              "      <td>Beauty &amp; Grooming</td>\n",
              "      <td>300.0</td>\n",
              "      <td>cod</td>\n",
              "      <td>7/1/2016</td>\n",
              "      <td>Net</td>\n",
              "      <td>360</td>\n",
              "      <td>2016.0</td>\n",
              "      <td>7.0</td>\n",
              "      <td>2016-7</td>\n",
              "      <td>7-2016</td>\n",
              "      <td>FY17</td>\n",
              "      <td>4.0</td>\n",
              "    </tr>\n",
              "    <tr>\n",
              "      <th>4</th>\n",
              "      <td>211136.0</td>\n",
              "      <td>order_refunded</td>\n",
              "      <td>7/1/2016</td>\n",
              "      <td>BK7010400AG</td>\n",
              "      <td>555.0</td>\n",
              "      <td>2.0</td>\n",
              "      <td>1110.0</td>\n",
              "      <td>100147447</td>\n",
              "      <td>Soghaat</td>\n",
              "      <td>0.0</td>\n",
              "      <td>cod</td>\n",
              "      <td>7/1/2016</td>\n",
              "      <td>Valid</td>\n",
              "      <td>1,110</td>\n",
              "      <td>2016.0</td>\n",
              "      <td>7.0</td>\n",
              "      <td>2016-7</td>\n",
              "      <td>7-2016</td>\n",
              "      <td>FY17</td>\n",
              "      <td>5.0</td>\n",
              "    </tr>\n",
              "  </tbody>\n",
              "</table>\n",
              "</div>"
            ],
            "text/plain": [
              "    Item ID          Status Created at  ...     M-Y    FY  Customer ID\n",
              "0  211131.0        complete   7/1/2016  ...  7-2016  FY17          1.0\n",
              "1  211133.0        canceled   7/1/2016  ...  7-2016  FY17          2.0\n",
              "2  211134.0        canceled   7/1/2016  ...  7-2016  FY17          3.0\n",
              "3  211135.0        complete   7/1/2016  ...  7-2016  FY17          4.0\n",
              "4  211136.0  order_refunded   7/1/2016  ...  7-2016  FY17          5.0\n",
              "\n",
              "[5 rows x 20 columns]"
            ]
          },
          "metadata": {
            "tags": []
          },
          "execution_count": 62
        }
      ]
    },
    {
      "cell_type": "code",
      "metadata": {
        "id": "1sS6hTu20Qug"
      },
      "source": [
        ""
      ],
      "execution_count": 62,
      "outputs": []
    },
    {
      "cell_type": "markdown",
      "metadata": {
        "id": "4uJpvSzo922t"
      },
      "source": [
        "**4. Which product demand is in a high-rising phase? (Exploratory)**"
      ]
    },
    {
      "cell_type": "code",
      "metadata": {
        "id": "kgusCbTw9q4t"
      },
      "source": [
        "def displaygraph(df,groupbycol,groupbycriteria,title,xlabel,ylabel):\n",
        "    lsfilterby=df[groupbycriteria].unique().tolist()\n",
        "    df_dict = {}\n",
        "    for n in lsfilterby:\n",
        "        df1 = df[df[groupbycriteria]==n]\n",
        "        df_dict[n] = df1.groupby(groupbycol)[groupbycriteria].count().reset_index()\n",
        "\n",
        "    fig = go.Figure()\n",
        "\n",
        "    for n in lsfilterby:\n",
        "        fig.add_trace(go.Scatter(x=df_dict[n][groupbycol], y=df_dict[n][groupbycriteria],\n",
        "                    mode='lines+markers',\n",
        "                    name=n))    \n",
        "\n",
        "    fig.update_layout(\n",
        "    title_text=title, # title of plot\n",
        "    xaxis_title_text=xlabel, # xaxis label\n",
        "    yaxis_title_text=ylabel, # yaxis label\n",
        "    \n",
        "    )\n",
        "    fig.show()"
      ],
      "execution_count": 63,
      "outputs": []
    },
    {
      "cell_type": "code",
      "metadata": {
        "id": "LIF33SMX98yj",
        "colab": {
          "base_uri": "https://localhost:8080/",
          "height": 542
        },
        "outputId": "946129a2-aa6b-48f9-d7d9-59f9e5a85976"
      },
      "source": [
        "#Order Month year vs order status\n",
        "\n",
        "displaygraph(EC_pakistan,'M-Y','Product Category','The Demand of Categories that are in High Rising Phase by Month','Month to Year','Count')"
      ],
      "execution_count": 64,
      "outputs": [
        {
          "output_type": "display_data",
          "data": {
            "text/html": [
              "<html>\n",
              "<head><meta charset=\"utf-8\" /></head>\n",
              "<body>\n",
              "    <div>\n",
              "            <script src=\"https://cdnjs.cloudflare.com/ajax/libs/mathjax/2.7.5/MathJax.js?config=TeX-AMS-MML_SVG\"></script><script type=\"text/javascript\">if (window.MathJax) {MathJax.Hub.Config({SVG: {font: \"STIX-Web\"}});}</script>\n",
              "                <script type=\"text/javascript\">window.PlotlyConfig = {MathJaxConfig: 'local'};</script>\n",
              "        <script src=\"https://cdn.plot.ly/plotly-latest.min.js\"></script>    \n",
              "            <div id=\"c7ac2117-9e04-4f49-aef6-aab4bc06dac1\" class=\"plotly-graph-div\" style=\"height:525px; width:100%;\"></div>\n",
              "            <script type=\"text/javascript\">\n",
              "                \n",
              "                    window.PLOTLYENV=window.PLOTLYENV || {};\n",
              "                    \n",
              "                if (document.getElementById(\"c7ac2117-9e04-4f49-aef6-aab4bc06dac1\")) {\n",
              "                    Plotly.newPlot(\n",
              "                        'c7ac2117-9e04-4f49-aef6-aab4bc06dac1',\n",
              "                        [{\"mode\": \"lines+markers\", \"name\": \"Women's Fashion\", \"type\": \"scatter\", \"x\": [\"1-2017\", \"1-2018\", \"10-2016\", \"10-2017\", \"11-2016\", \"11-2017\", \"12-2016\", \"12-2017\", \"2-2017\", \"2-2018\", \"3-2017\", \"3-2018\", \"4-2017\", \"4-2018\", \"5-2017\", \"5-2018\", \"6-2017\", \"6-2018\", \"7-2016\", \"7-2017\", \"7-2018\", \"8-2016\", \"8-2017\", \"8-2018\", \"9-2016\", \"9-2017\"], \"y\": [1282, 1692, 966, 2132, 5712, 7615, 885, 2267, 1488, 1962, 4432, 2171, 2668, 2252, 4941, 2812, 2024, 1420, 469, 1565, 1207, 628, 3576, 1374, 967, 1214]}, {\"mode\": \"lines+markers\", \"name\": \"Beauty & Grooming\", \"type\": \"scatter\", \"x\": [\"1-2017\", \"1-2018\", \"10-2016\", \"10-2017\", \"11-2016\", \"11-2017\", \"12-2016\", \"12-2017\", \"2-2017\", \"2-2018\", \"3-2017\", \"3-2018\", \"4-2017\", \"4-2018\", \"5-2017\", \"5-2018\", \"6-2017\", \"6-2018\", \"7-2016\", \"7-2017\", \"7-2018\", \"8-2016\", \"8-2017\", \"8-2018\", \"9-2016\", \"9-2017\"], \"y\": [880, 1290, 1390, 1089, 5754, 5003, 1080, 1884, 685, 1101, 1239, 1274, 1265, 873, 1382, 1685, 1482, 1192, 2425, 1178, 780, 1846, 1660, 958, 1405, 696]}, {\"mode\": \"lines+markers\", \"name\": \"Soghaat\", \"type\": \"scatter\", \"x\": [\"1-2017\", \"1-2018\", \"10-2016\", \"10-2017\", \"11-2016\", \"11-2017\", \"12-2016\", \"12-2017\", \"2-2017\", \"2-2018\", \"3-2017\", \"3-2018\", \"4-2017\", \"4-2018\", \"5-2017\", \"5-2018\", \"6-2017\", \"6-2018\", \"7-2016\", \"7-2017\", \"7-2018\", \"8-2016\", \"8-2017\", \"8-2018\", \"9-2016\", \"9-2017\"], \"y\": [1706, 661, 2754, 642, 6382, 1064, 1748, 908, 1029, 328, 1183, 339, 1155, 340, 1954, 1197, 1364, 642, 1746, 1040, 257, 1853, 1159, 257, 1771, 532]}, {\"mode\": \"lines+markers\", \"name\": \"Mobiles & Tablets\", \"type\": \"scatter\", \"x\": [\"1-2017\", \"1-2018\", \"10-2016\", \"10-2017\", \"11-2016\", \"11-2017\", \"12-2016\", \"12-2017\", \"2-2017\", \"2-2018\", \"3-2017\", \"3-2018\", \"4-2017\", \"4-2018\", \"5-2017\", \"5-2018\", \"6-2017\", \"6-2018\", \"7-2016\", \"7-2017\", \"7-2018\", \"8-2016\", \"8-2017\", \"8-2018\", \"9-2016\", \"9-2017\"], \"y\": [3045, 2694, 1724, 3956, 11839, 19404, 2796, 2458, 3124, 5738, 4218, 5989, 3539, 2217, 5876, 7351, 2821, 3757, 820, 5058, 3443, 1792, 4254, 2512, 3318, 1967]}, {\"mode\": \"lines+markers\", \"name\": \"Appliances\", \"type\": \"scatter\", \"x\": [\"1-2017\", \"1-2018\", \"10-2016\", \"10-2017\", \"11-2016\", \"11-2017\", \"12-2016\", \"12-2017\", \"2-2017\", \"2-2018\", \"3-2017\", \"3-2018\", \"4-2017\", \"4-2018\", \"5-2017\", \"5-2018\", \"6-2017\", \"6-2018\", \"7-2016\", \"7-2017\", \"7-2018\", \"8-2016\", \"8-2017\", \"8-2018\", \"9-2016\", \"9-2017\"], \"y\": [636, 1237, 616, 672, 6279, 14495, 860, 1751, 314, 2926, 1452, 2895, 890, 986, 3338, 4274, 1044, 1341, 381, 645, 812, 339, 1423, 1106, 1226, 475]}, {\"mode\": \"lines+markers\", \"name\": \"Home & Living\", \"type\": \"scatter\", \"x\": [\"1-2017\", \"1-2018\", \"10-2016\", \"10-2017\", \"11-2016\", \"11-2017\", \"12-2016\", \"12-2017\", \"2-2017\", \"2-2018\", \"3-2017\", \"3-2018\", \"4-2017\", \"4-2018\", \"5-2017\", \"5-2018\", \"6-2017\", \"6-2018\", \"7-2016\", \"7-2017\", \"7-2018\", \"8-2016\", \"8-2017\", \"8-2018\", \"9-2016\", \"9-2017\"], \"y\": [360, 728, 619, 472, 2984, 6034, 451, 957, 724, 1208, 1014, 833, 952, 724, 1562, 808, 768, 596, 389, 763, 595, 427, 832, 600, 760, 344]}, {\"mode\": \"lines+markers\", \"name\": \"Men's Fashion\", \"type\": \"scatter\", \"x\": [\"1-2017\", \"1-2018\", \"10-2016\", \"10-2017\", \"11-2016\", \"11-2017\", \"12-2016\", \"12-2017\", \"2-2017\", \"2-2018\", \"3-2017\", \"3-2018\", \"4-2017\", \"4-2018\", \"5-2017\", \"5-2018\", \"6-2017\", \"6-2018\", \"7-2016\", \"7-2017\", \"7-2018\", \"8-2016\", \"8-2017\", \"8-2018\", \"9-2016\", \"9-2017\"], \"y\": [2022, 1596, 1954, 2267, 15760, 16315, 2840, 2931, 2079, 3658, 2554, 3438, 3284, 1921, 6813, 2168, 3935, 1775, 1003, 1942, 1253, 2587, 3681, 1506, 1264, 1675]}, {\"mode\": \"lines+markers\", \"name\": \"Kids & Baby\", \"type\": \"scatter\", \"x\": [\"1-2017\", \"1-2018\", \"10-2016\", \"10-2017\", \"11-2016\", \"11-2017\", \"12-2016\", \"12-2017\", \"2-2017\", \"2-2018\", \"3-2017\", \"3-2018\", \"4-2017\", \"4-2018\", \"5-2017\", \"5-2018\", \"6-2017\", \"6-2018\", \"7-2016\", \"7-2017\", \"7-2018\", \"8-2016\", \"8-2017\", \"8-2018\", \"9-2016\", \"9-2017\"], \"y\": [497, 422, 578, 384, 1116, 1842, 591, 635, 360, 760, 758, 422, 660, 485, 1380, 432, 1125, 307, 168, 1150, 283, 509, 683, 257, 461, 229]}, {\"mode\": \"lines+markers\", \"name\": \"\\\\N\", \"type\": \"scatter\", \"x\": [\"1-2017\", \"10-2016\", \"10-2017\", \"11-2016\", \"11-2017\", \"12-2016\", \"12-2017\", \"2-2017\", \"3-2017\", \"4-2017\", \"5-2017\", \"6-2017\", \"7-2016\", \"7-2017\", \"8-2016\", \"8-2017\", \"9-2016\", \"9-2017\"], \"y\": [343, 808, 3, 2815, 99, 285, 14, 203, 227, 179, 322, 268, 731, 156, 178, 200, 1011, 8]}, {\"mode\": \"lines+markers\", \"name\": \"Others\", \"type\": \"scatter\", \"x\": [\"1-2017\", \"1-2018\", \"10-2016\", \"10-2017\", \"11-2016\", \"11-2017\", \"12-2016\", \"12-2017\", \"2-2017\", \"2-2018\", \"3-2017\", \"3-2018\", \"4-2017\", \"4-2018\", \"5-2017\", \"5-2018\", \"6-2017\", \"6-2018\", \"7-2016\", \"7-2017\", \"7-2018\", \"8-2016\", \"8-2017\", \"8-2018\", \"9-2016\", \"9-2017\"], \"y\": [140, 78, 163, 1600, 1117, 342, 89, 103, 109, 4017, 141, 19244, 102, 187, 202, 259, 290, 96, 35, 202, 68, 54, 106, 65, 355, 54]}, {\"mode\": \"lines+markers\", \"name\": \"Entertainment\", \"type\": \"scatter\", \"x\": [\"1-2017\", \"1-2018\", \"10-2016\", \"10-2017\", \"11-2016\", \"11-2017\", \"12-2016\", \"12-2017\", \"2-2017\", \"2-2018\", \"3-2017\", \"3-2018\", \"4-2017\", \"4-2018\", \"5-2017\", \"5-2018\", \"6-2017\", \"6-2018\", \"7-2016\", \"7-2017\", \"7-2018\", \"8-2016\", \"8-2017\", \"8-2018\", \"9-2016\", \"9-2017\"], \"y\": [267, 485, 291, 1312, 1893, 5657, 334, 289, 200, 2605, 691, 2058, 371, 285, 1963, 2192, 453, 484, 64, 571, 410, 91, 952, 1101, 851, 456]}, {\"mode\": \"lines+markers\", \"name\": \"Computing\", \"type\": \"scatter\", \"x\": [\"1-2017\", \"1-2018\", \"10-2016\", \"10-2017\", \"11-2016\", \"11-2017\", \"12-2016\", \"12-2017\", \"2-2017\", \"2-2018\", \"3-2017\", \"3-2018\", \"4-2017\", \"4-2018\", \"5-2017\", \"5-2018\", \"6-2017\", \"6-2018\", \"7-2016\", \"7-2017\", \"7-2018\", \"8-2016\", \"8-2017\", \"8-2018\", \"9-2016\", \"9-2017\"], \"y\": [293, 370, 237, 680, 2616, 2643, 330, 437, 194, 677, 448, 871, 343, 312, 889, 821, 305, 402, 214, 568, 318, 203, 726, 379, 487, 170]}, {\"mode\": \"lines+markers\", \"name\": \"Superstore\", \"type\": \"scatter\", \"x\": [\"1-2017\", \"1-2018\", \"10-2016\", \"10-2017\", \"11-2016\", \"11-2017\", \"12-2016\", \"12-2017\", \"2-2017\", \"2-2018\", \"3-2017\", \"3-2018\", \"4-2017\", \"4-2018\", \"5-2017\", \"5-2018\", \"6-2017\", \"6-2018\", \"7-2016\", \"7-2017\", \"7-2018\", \"8-2016\", \"8-2017\", \"8-2018\", \"9-2016\", \"9-2017\"], \"y\": [1012, 952, 242, 1825, 4889, 2105, 237, 698, 677, 1101, 361, 1178, 5580, 639, 2626, 2375, 3159, 1793, 12, 3586, 700, 251, 5043, 1240, 993, 339]}, {\"mode\": \"lines+markers\", \"name\": \"Health & Sports\", \"type\": \"scatter\", \"x\": [\"1-2017\", \"1-2018\", \"10-2016\", \"10-2017\", \"11-2016\", \"11-2017\", \"12-2016\", \"12-2017\", \"2-2017\", \"2-2018\", \"3-2017\", \"3-2018\", \"4-2017\", \"4-2018\", \"5-2017\", \"5-2018\", \"6-2017\", \"6-2018\", \"7-2016\", \"7-2017\", \"7-2018\", \"8-2016\", \"8-2017\", \"8-2018\", \"9-2016\", \"9-2017\"], \"y\": [511, 483, 532, 307, 1972, 1054, 671, 321, 561, 630, 495, 1031, 490, 965, 1286, 1276, 532, 821, 181, 533, 785, 371, 555, 417, 433, 289]}, {\"mode\": \"lines+markers\", \"name\": \"Books\", \"type\": \"scatter\", \"x\": [\"1-2017\", \"1-2018\", \"10-2016\", \"10-2017\", \"11-2016\", \"11-2017\", \"12-2016\", \"12-2017\", \"2-2017\", \"2-2018\", \"3-2017\", \"3-2018\", \"4-2017\", \"4-2018\", \"5-2017\", \"5-2018\", \"6-2017\", \"6-2018\", \"7-2016\", \"7-2017\", \"7-2018\", \"8-2016\", \"8-2017\", \"8-2018\", \"9-2016\", \"9-2017\"], \"y\": [39, 94, 73, 106, 89, 113, 52, 62, 43, 49, 97, 49, 53, 52, 114, 109, 119, 36, 22, 109, 36, 165, 47, 37, 37, 68]}, {\"mode\": \"lines+markers\", \"name\": \"School & Education\", \"type\": \"scatter\", \"x\": [\"1-2017\", \"1-2018\", \"10-2016\", \"10-2017\", \"11-2016\", \"11-2017\", \"12-2016\", \"12-2017\", \"2-2017\", \"2-2018\", \"3-2017\", \"3-2018\", \"4-2017\", \"4-2018\", \"5-2017\", \"5-2018\", \"6-2017\", \"6-2018\", \"7-2016\", \"7-2017\", \"7-2018\", \"8-2016\", \"8-2017\", \"8-2018\", \"9-2016\", \"9-2017\"], \"y\": [162, 77, 177, 52, 311, 143, 203, 32, 71, 143, 224, 158, 147, 75, 88, 78, 104, 74, 177, 209, 91, 241, 186, 86, 94, 75]}, {\"mode\": \"lines+markers\", \"name\": \"nan\", \"type\": \"scatter\", \"x\": [], \"y\": []}],\n",
              "                        {\"template\": {\"data\": {\"bar\": [{\"error_x\": {\"color\": \"#2a3f5f\"}, \"error_y\": {\"color\": \"#2a3f5f\"}, \"marker\": {\"line\": {\"color\": \"#E5ECF6\", \"width\": 0.5}}, \"type\": \"bar\"}], \"barpolar\": [{\"marker\": {\"line\": {\"color\": \"#E5ECF6\", \"width\": 0.5}}, \"type\": \"barpolar\"}], \"carpet\": [{\"aaxis\": {\"endlinecolor\": \"#2a3f5f\", \"gridcolor\": \"white\", \"linecolor\": \"white\", \"minorgridcolor\": \"white\", \"startlinecolor\": \"#2a3f5f\"}, \"baxis\": {\"endlinecolor\": \"#2a3f5f\", \"gridcolor\": \"white\", \"linecolor\": \"white\", \"minorgridcolor\": \"white\", \"startlinecolor\": \"#2a3f5f\"}, \"type\": \"carpet\"}], \"choropleth\": [{\"colorbar\": {\"outlinewidth\": 0, \"ticks\": \"\"}, \"type\": \"choropleth\"}], \"contour\": [{\"colorbar\": {\"outlinewidth\": 0, \"ticks\": \"\"}, \"colorscale\": [[0.0, \"#0d0887\"], [0.1111111111111111, \"#46039f\"], [0.2222222222222222, \"#7201a8\"], [0.3333333333333333, \"#9c179e\"], [0.4444444444444444, \"#bd3786\"], [0.5555555555555556, \"#d8576b\"], [0.6666666666666666, \"#ed7953\"], [0.7777777777777778, \"#fb9f3a\"], [0.8888888888888888, \"#fdca26\"], [1.0, \"#f0f921\"]], \"type\": \"contour\"}], \"contourcarpet\": [{\"colorbar\": {\"outlinewidth\": 0, \"ticks\": \"\"}, \"type\": \"contourcarpet\"}], \"heatmap\": [{\"colorbar\": {\"outlinewidth\": 0, \"ticks\": \"\"}, \"colorscale\": [[0.0, \"#0d0887\"], [0.1111111111111111, \"#46039f\"], [0.2222222222222222, \"#7201a8\"], [0.3333333333333333, \"#9c179e\"], [0.4444444444444444, \"#bd3786\"], [0.5555555555555556, \"#d8576b\"], [0.6666666666666666, \"#ed7953\"], [0.7777777777777778, \"#fb9f3a\"], [0.8888888888888888, \"#fdca26\"], [1.0, \"#f0f921\"]], \"type\": \"heatmap\"}], \"heatmapgl\": [{\"colorbar\": {\"outlinewidth\": 0, \"ticks\": \"\"}, \"colorscale\": [[0.0, \"#0d0887\"], [0.1111111111111111, \"#46039f\"], [0.2222222222222222, \"#7201a8\"], [0.3333333333333333, \"#9c179e\"], [0.4444444444444444, \"#bd3786\"], [0.5555555555555556, \"#d8576b\"], [0.6666666666666666, \"#ed7953\"], [0.7777777777777778, \"#fb9f3a\"], [0.8888888888888888, \"#fdca26\"], [1.0, \"#f0f921\"]], \"type\": \"heatmapgl\"}], \"histogram\": [{\"marker\": {\"colorbar\": {\"outlinewidth\": 0, \"ticks\": \"\"}}, \"type\": \"histogram\"}], \"histogram2d\": [{\"colorbar\": {\"outlinewidth\": 0, \"ticks\": \"\"}, \"colorscale\": [[0.0, \"#0d0887\"], [0.1111111111111111, \"#46039f\"], [0.2222222222222222, \"#7201a8\"], [0.3333333333333333, \"#9c179e\"], [0.4444444444444444, \"#bd3786\"], [0.5555555555555556, \"#d8576b\"], [0.6666666666666666, \"#ed7953\"], [0.7777777777777778, \"#fb9f3a\"], [0.8888888888888888, \"#fdca26\"], [1.0, \"#f0f921\"]], \"type\": \"histogram2d\"}], \"histogram2dcontour\": [{\"colorbar\": {\"outlinewidth\": 0, \"ticks\": \"\"}, \"colorscale\": [[0.0, \"#0d0887\"], [0.1111111111111111, \"#46039f\"], [0.2222222222222222, \"#7201a8\"], [0.3333333333333333, \"#9c179e\"], [0.4444444444444444, \"#bd3786\"], [0.5555555555555556, \"#d8576b\"], [0.6666666666666666, \"#ed7953\"], [0.7777777777777778, \"#fb9f3a\"], [0.8888888888888888, \"#fdca26\"], [1.0, \"#f0f921\"]], \"type\": \"histogram2dcontour\"}], \"mesh3d\": [{\"colorbar\": {\"outlinewidth\": 0, \"ticks\": \"\"}, \"type\": \"mesh3d\"}], \"parcoords\": [{\"line\": {\"colorbar\": {\"outlinewidth\": 0, \"ticks\": \"\"}}, \"type\": \"parcoords\"}], \"pie\": [{\"automargin\": true, \"type\": \"pie\"}], \"scatter\": [{\"marker\": {\"colorbar\": {\"outlinewidth\": 0, \"ticks\": \"\"}}, \"type\": \"scatter\"}], \"scatter3d\": [{\"line\": {\"colorbar\": {\"outlinewidth\": 0, \"ticks\": \"\"}}, \"marker\": {\"colorbar\": {\"outlinewidth\": 0, \"ticks\": \"\"}}, \"type\": \"scatter3d\"}], \"scattercarpet\": [{\"marker\": {\"colorbar\": {\"outlinewidth\": 0, \"ticks\": \"\"}}, \"type\": \"scattercarpet\"}], \"scattergeo\": [{\"marker\": {\"colorbar\": {\"outlinewidth\": 0, \"ticks\": \"\"}}, \"type\": \"scattergeo\"}], \"scattergl\": [{\"marker\": {\"colorbar\": {\"outlinewidth\": 0, \"ticks\": \"\"}}, \"type\": \"scattergl\"}], \"scattermapbox\": [{\"marker\": {\"colorbar\": {\"outlinewidth\": 0, \"ticks\": \"\"}}, \"type\": \"scattermapbox\"}], \"scatterpolar\": [{\"marker\": {\"colorbar\": {\"outlinewidth\": 0, \"ticks\": \"\"}}, \"type\": \"scatterpolar\"}], \"scatterpolargl\": [{\"marker\": {\"colorbar\": {\"outlinewidth\": 0, \"ticks\": \"\"}}, \"type\": \"scatterpolargl\"}], \"scatterternary\": [{\"marker\": {\"colorbar\": {\"outlinewidth\": 0, \"ticks\": \"\"}}, \"type\": \"scatterternary\"}], \"surface\": [{\"colorbar\": {\"outlinewidth\": 0, \"ticks\": \"\"}, \"colorscale\": [[0.0, \"#0d0887\"], [0.1111111111111111, \"#46039f\"], [0.2222222222222222, \"#7201a8\"], [0.3333333333333333, \"#9c179e\"], [0.4444444444444444, \"#bd3786\"], [0.5555555555555556, \"#d8576b\"], [0.6666666666666666, \"#ed7953\"], [0.7777777777777778, \"#fb9f3a\"], [0.8888888888888888, \"#fdca26\"], [1.0, \"#f0f921\"]], \"type\": \"surface\"}], \"table\": [{\"cells\": {\"fill\": {\"color\": \"#EBF0F8\"}, \"line\": {\"color\": \"white\"}}, \"header\": {\"fill\": {\"color\": \"#C8D4E3\"}, \"line\": {\"color\": \"white\"}}, \"type\": \"table\"}]}, \"layout\": {\"annotationdefaults\": {\"arrowcolor\": \"#2a3f5f\", \"arrowhead\": 0, \"arrowwidth\": 1}, \"coloraxis\": {\"colorbar\": {\"outlinewidth\": 0, \"ticks\": \"\"}}, \"colorscale\": {\"diverging\": [[0, \"#8e0152\"], [0.1, \"#c51b7d\"], [0.2, \"#de77ae\"], [0.3, \"#f1b6da\"], [0.4, \"#fde0ef\"], [0.5, \"#f7f7f7\"], [0.6, \"#e6f5d0\"], [0.7, \"#b8e186\"], [0.8, \"#7fbc41\"], [0.9, \"#4d9221\"], [1, \"#276419\"]], \"sequential\": [[0.0, \"#0d0887\"], [0.1111111111111111, \"#46039f\"], [0.2222222222222222, \"#7201a8\"], [0.3333333333333333, \"#9c179e\"], [0.4444444444444444, \"#bd3786\"], [0.5555555555555556, \"#d8576b\"], [0.6666666666666666, \"#ed7953\"], [0.7777777777777778, \"#fb9f3a\"], [0.8888888888888888, \"#fdca26\"], [1.0, \"#f0f921\"]], \"sequentialminus\": [[0.0, \"#0d0887\"], [0.1111111111111111, \"#46039f\"], [0.2222222222222222, \"#7201a8\"], [0.3333333333333333, \"#9c179e\"], [0.4444444444444444, \"#bd3786\"], [0.5555555555555556, \"#d8576b\"], [0.6666666666666666, \"#ed7953\"], [0.7777777777777778, \"#fb9f3a\"], [0.8888888888888888, \"#fdca26\"], [1.0, \"#f0f921\"]]}, \"colorway\": [\"#636efa\", \"#EF553B\", \"#00cc96\", \"#ab63fa\", \"#FFA15A\", \"#19d3f3\", \"#FF6692\", \"#B6E880\", \"#FF97FF\", \"#FECB52\"], \"font\": {\"color\": \"#2a3f5f\"}, \"geo\": {\"bgcolor\": \"white\", \"lakecolor\": \"white\", \"landcolor\": \"#E5ECF6\", \"showlakes\": true, \"showland\": true, \"subunitcolor\": \"white\"}, \"hoverlabel\": {\"align\": \"left\"}, \"hovermode\": \"closest\", \"mapbox\": {\"style\": \"light\"}, \"paper_bgcolor\": \"white\", \"plot_bgcolor\": \"#E5ECF6\", \"polar\": {\"angularaxis\": {\"gridcolor\": \"white\", \"linecolor\": \"white\", \"ticks\": \"\"}, \"bgcolor\": \"#E5ECF6\", \"radialaxis\": {\"gridcolor\": \"white\", \"linecolor\": \"white\", \"ticks\": \"\"}}, \"scene\": {\"xaxis\": {\"backgroundcolor\": \"#E5ECF6\", \"gridcolor\": \"white\", \"gridwidth\": 2, \"linecolor\": \"white\", \"showbackground\": true, \"ticks\": \"\", \"zerolinecolor\": \"white\"}, \"yaxis\": {\"backgroundcolor\": \"#E5ECF6\", \"gridcolor\": \"white\", \"gridwidth\": 2, \"linecolor\": \"white\", \"showbackground\": true, \"ticks\": \"\", \"zerolinecolor\": \"white\"}, \"zaxis\": {\"backgroundcolor\": \"#E5ECF6\", \"gridcolor\": \"white\", \"gridwidth\": 2, \"linecolor\": \"white\", \"showbackground\": true, \"ticks\": \"\", \"zerolinecolor\": \"white\"}}, \"shapedefaults\": {\"line\": {\"color\": \"#2a3f5f\"}}, \"ternary\": {\"aaxis\": {\"gridcolor\": \"white\", \"linecolor\": \"white\", \"ticks\": \"\"}, \"baxis\": {\"gridcolor\": \"white\", \"linecolor\": \"white\", \"ticks\": \"\"}, \"bgcolor\": \"#E5ECF6\", \"caxis\": {\"gridcolor\": \"white\", \"linecolor\": \"white\", \"ticks\": \"\"}}, \"title\": {\"x\": 0.05}, \"xaxis\": {\"automargin\": true, \"gridcolor\": \"white\", \"linecolor\": \"white\", \"ticks\": \"\", \"title\": {\"standoff\": 15}, \"zerolinecolor\": \"white\", \"zerolinewidth\": 2}, \"yaxis\": {\"automargin\": true, \"gridcolor\": \"white\", \"linecolor\": \"white\", \"ticks\": \"\", \"title\": {\"standoff\": 15}, \"zerolinecolor\": \"white\", \"zerolinewidth\": 2}}}, \"title\": {\"text\": \"The Demand of Categories that are in High Rising Phase by Month\"}, \"xaxis\": {\"title\": {\"text\": \"Month to Year\"}}, \"yaxis\": {\"title\": {\"text\": \"Count\"}}},\n",
              "                        {\"responsive\": true}\n",
              "                    ).then(function(){\n",
              "                            \n",
              "var gd = document.getElementById('c7ac2117-9e04-4f49-aef6-aab4bc06dac1');\n",
              "var x = new MutationObserver(function (mutations, observer) {{\n",
              "        var display = window.getComputedStyle(gd).display;\n",
              "        if (!display || display === 'none') {{\n",
              "            console.log([gd, 'removed!']);\n",
              "            Plotly.purge(gd);\n",
              "            observer.disconnect();\n",
              "        }}\n",
              "}});\n",
              "\n",
              "// Listen for the removal of the full notebook cells\n",
              "var notebookContainer = gd.closest('#notebook-container');\n",
              "if (notebookContainer) {{\n",
              "    x.observe(notebookContainer, {childList: true});\n",
              "}}\n",
              "\n",
              "// Listen for the clearing of the current output cell\n",
              "var outputEl = gd.closest('.output');\n",
              "if (outputEl) {{\n",
              "    x.observe(outputEl, {childList: true});\n",
              "}}\n",
              "\n",
              "                        })\n",
              "                };\n",
              "                \n",
              "            </script>\n",
              "        </div>\n",
              "</body>\n",
              "</html>"
            ]
          },
          "metadata": {
            "tags": []
          }
        }
      ]
    },
    {
      "cell_type": "markdown",
      "metadata": {
        "id": "p6nUGAjx9gkZ"
      },
      "source": [
        "**5. Which are the categories those get cancelled the most? (Exploratory)**"
      ]
    },
    {
      "cell_type": "code",
      "metadata": {
        "colab": {
          "base_uri": "https://localhost:8080/",
          "height": 542
        },
        "id": "zb9jSAx3zW7p",
        "outputId": "5700fb38-1496-4ff7-c3c9-cc2a521914e3"
      },
      "source": [
        "Status=df.groupby(['Product Category','Status'])['Grand Total'].sum().reset_index()\n",
        "graph=px.bar(Status,x='Product Category',y='Grand Total',color='Status')\n",
        "graph.show()"
      ],
      "execution_count": 65,
      "outputs": [
        {
          "output_type": "display_data",
          "data": {
            "text/html": [
              "<html>\n",
              "<head><meta charset=\"utf-8\" /></head>\n",
              "<body>\n",
              "    <div>\n",
              "            <script src=\"https://cdnjs.cloudflare.com/ajax/libs/mathjax/2.7.5/MathJax.js?config=TeX-AMS-MML_SVG\"></script><script type=\"text/javascript\">if (window.MathJax) {MathJax.Hub.Config({SVG: {font: \"STIX-Web\"}});}</script>\n",
              "                <script type=\"text/javascript\">window.PlotlyConfig = {MathJaxConfig: 'local'};</script>\n",
              "        <script src=\"https://cdn.plot.ly/plotly-latest.min.js\"></script>    \n",
              "            <div id=\"d0f8cc0c-349b-48ac-b4b1-7e89fee69d44\" class=\"plotly-graph-div\" style=\"height:525px; width:100%;\"></div>\n",
              "            <script type=\"text/javascript\">\n",
              "                \n",
              "                    window.PLOTLYENV=window.PLOTLYENV || {};\n",
              "                    \n",
              "                if (document.getElementById(\"d0f8cc0c-349b-48ac-b4b1-7e89fee69d44\")) {\n",
              "                    Plotly.newPlot(\n",
              "                        'd0f8cc0c-349b-48ac-b4b1-7e89fee69d44',\n",
              "                        [{\"alignmentgroup\": \"True\", \"hoverlabel\": {\"namelength\": 0}, \"hovertemplate\": \"Status=canceled<br>Product Category=%{x}<br>Grand Total=%{y}\", \"legendgroup\": \"Status=canceled\", \"marker\": {\"color\": \"#636efa\"}, \"name\": \"Status=canceled\", \"offsetgroup\": \"Status=canceled\", \"orientation\": \"v\", \"showlegend\": true, \"textposition\": \"auto\", \"type\": \"bar\", \"x\": [\"Appliances\", \"Beauty & Grooming\", \"Books\", \"Computing\", \"Entertainment\", \"Health & Sports\", \"Home & Living\", \"Kids & Baby\", \"Men's Fashion\", \"Mobiles & Tablets\", \"Others\", \"School & Education\", \"Soghaat\", \"Superstore\", \"Women's Fashion\", \"\\\\N\"], \"xaxis\": \"x\", \"y\": [357473134.53649676, 38094564.890999615, 656173.2649999998, 131307159.22299905, 302452432.27350366, 14149078.420499992, 35612232.357499845, 21508510.541000012, 73540509.1805004, 1621968345.120524, 127863522.25999992, 2052926.8075000057, 16749604.669500047, 45665904.862999745, 103564779.97250037, 12610517.13750006], \"yaxis\": \"y\"}, {\"alignmentgroup\": \"True\", \"hoverlabel\": {\"namelength\": 0}, \"hovertemplate\": \"Status=complete<br>Product Category=%{x}<br>Grand Total=%{y}\", \"legendgroup\": \"Status=complete\", \"marker\": {\"color\": \"#EF553B\"}, \"name\": \"Status=complete\", \"offsetgroup\": \"Status=complete\", \"orientation\": \"v\", \"showlegend\": true, \"textposition\": \"auto\", \"type\": \"bar\", \"x\": [\"Appliances\", \"Beauty & Grooming\", \"Books\", \"Computing\", \"Entertainment\", \"Health & Sports\", \"Home & Living\", \"Kids & Baby\", \"Men's Fashion\", \"Mobiles & Tablets\", \"Others\", \"School & Education\", \"Soghaat\", \"Superstore\", \"Women's Fashion\", \"\\\\N\"], \"xaxis\": \"x\", \"y\": [178511159.7154994, 32159284.933999848, 1059447.92, 35229703.43500015, 155001146.31000245, 13633819.552500015, 23125941.20199992, 11084248.705000032, 57939988.54000013, 488924856.2480075, 15720248.790000003, 2304395.5, 18068364.100500003, 33568672.098500095, 87653374.54799995, 17790337.771500036], \"yaxis\": \"y\"}, {\"alignmentgroup\": \"True\", \"hoverlabel\": {\"namelength\": 0}, \"hovertemplate\": \"Status=order_refunded<br>Product Category=%{x}<br>Grand Total=%{y}\", \"legendgroup\": \"Status=order_refunded\", \"marker\": {\"color\": \"#00cc96\"}, \"name\": \"Status=order_refunded\", \"offsetgroup\": \"Status=order_refunded\", \"orientation\": \"v\", \"showlegend\": true, \"textposition\": \"auto\", \"type\": \"bar\", \"x\": [\"Appliances\", \"Beauty & Grooming\", \"Books\", \"Computing\", \"Entertainment\", \"Health & Sports\", \"Home & Living\", \"Kids & Baby\", \"Men's Fashion\", \"Mobiles & Tablets\", \"Others\", \"School & Education\", \"Soghaat\", \"Superstore\", \"Women's Fashion\", \"\\\\N\"], \"xaxis\": \"x\", \"y\": [57499196.50999997, 7444111.760000017, 369944.8999999999, 20795537.439999986, 41305973.77999999, 4858157.59, 8014107.646500001, 2992998.310000002, 26919599.144999936, 195769618.31799945, 5457998.73, 774470.8065, 2440717.7500000005, 5038901.220000002, 29023620.429000042, 4212622.120000001], \"yaxis\": \"y\"}],\n",
              "                        {\"barmode\": \"relative\", \"legend\": {\"tracegroupgap\": 0}, \"margin\": {\"t\": 60}, \"template\": {\"data\": {\"bar\": [{\"error_x\": {\"color\": \"#2a3f5f\"}, \"error_y\": {\"color\": \"#2a3f5f\"}, \"marker\": {\"line\": {\"color\": \"#E5ECF6\", \"width\": 0.5}}, \"type\": \"bar\"}], \"barpolar\": [{\"marker\": {\"line\": {\"color\": \"#E5ECF6\", \"width\": 0.5}}, \"type\": \"barpolar\"}], \"carpet\": [{\"aaxis\": {\"endlinecolor\": \"#2a3f5f\", \"gridcolor\": \"white\", \"linecolor\": \"white\", \"minorgridcolor\": \"white\", \"startlinecolor\": \"#2a3f5f\"}, \"baxis\": {\"endlinecolor\": \"#2a3f5f\", \"gridcolor\": \"white\", \"linecolor\": \"white\", \"minorgridcolor\": \"white\", \"startlinecolor\": \"#2a3f5f\"}, \"type\": \"carpet\"}], \"choropleth\": [{\"colorbar\": {\"outlinewidth\": 0, \"ticks\": \"\"}, \"type\": \"choropleth\"}], \"contour\": [{\"colorbar\": {\"outlinewidth\": 0, \"ticks\": \"\"}, \"colorscale\": [[0.0, \"#0d0887\"], [0.1111111111111111, \"#46039f\"], [0.2222222222222222, \"#7201a8\"], [0.3333333333333333, \"#9c179e\"], [0.4444444444444444, \"#bd3786\"], [0.5555555555555556, \"#d8576b\"], [0.6666666666666666, \"#ed7953\"], [0.7777777777777778, \"#fb9f3a\"], [0.8888888888888888, \"#fdca26\"], [1.0, \"#f0f921\"]], \"type\": \"contour\"}], \"contourcarpet\": [{\"colorbar\": {\"outlinewidth\": 0, \"ticks\": \"\"}, \"type\": \"contourcarpet\"}], \"heatmap\": [{\"colorbar\": {\"outlinewidth\": 0, \"ticks\": \"\"}, \"colorscale\": [[0.0, \"#0d0887\"], [0.1111111111111111, \"#46039f\"], [0.2222222222222222, \"#7201a8\"], [0.3333333333333333, \"#9c179e\"], [0.4444444444444444, \"#bd3786\"], [0.5555555555555556, \"#d8576b\"], [0.6666666666666666, \"#ed7953\"], [0.7777777777777778, \"#fb9f3a\"], [0.8888888888888888, \"#fdca26\"], [1.0, \"#f0f921\"]], \"type\": \"heatmap\"}], \"heatmapgl\": [{\"colorbar\": {\"outlinewidth\": 0, \"ticks\": \"\"}, \"colorscale\": [[0.0, \"#0d0887\"], [0.1111111111111111, \"#46039f\"], [0.2222222222222222, \"#7201a8\"], [0.3333333333333333, \"#9c179e\"], [0.4444444444444444, \"#bd3786\"], [0.5555555555555556, \"#d8576b\"], [0.6666666666666666, \"#ed7953\"], [0.7777777777777778, \"#fb9f3a\"], [0.8888888888888888, \"#fdca26\"], [1.0, \"#f0f921\"]], \"type\": \"heatmapgl\"}], \"histogram\": [{\"marker\": {\"colorbar\": {\"outlinewidth\": 0, \"ticks\": \"\"}}, \"type\": \"histogram\"}], \"histogram2d\": [{\"colorbar\": {\"outlinewidth\": 0, \"ticks\": \"\"}, \"colorscale\": [[0.0, \"#0d0887\"], [0.1111111111111111, \"#46039f\"], [0.2222222222222222, \"#7201a8\"], [0.3333333333333333, \"#9c179e\"], [0.4444444444444444, \"#bd3786\"], [0.5555555555555556, \"#d8576b\"], [0.6666666666666666, \"#ed7953\"], [0.7777777777777778, \"#fb9f3a\"], [0.8888888888888888, \"#fdca26\"], [1.0, \"#f0f921\"]], \"type\": \"histogram2d\"}], \"histogram2dcontour\": [{\"colorbar\": {\"outlinewidth\": 0, \"ticks\": \"\"}, \"colorscale\": [[0.0, \"#0d0887\"], [0.1111111111111111, \"#46039f\"], [0.2222222222222222, \"#7201a8\"], [0.3333333333333333, \"#9c179e\"], [0.4444444444444444, \"#bd3786\"], [0.5555555555555556, \"#d8576b\"], [0.6666666666666666, \"#ed7953\"], [0.7777777777777778, \"#fb9f3a\"], [0.8888888888888888, \"#fdca26\"], [1.0, \"#f0f921\"]], \"type\": \"histogram2dcontour\"}], \"mesh3d\": [{\"colorbar\": {\"outlinewidth\": 0, \"ticks\": \"\"}, \"type\": \"mesh3d\"}], \"parcoords\": [{\"line\": {\"colorbar\": {\"outlinewidth\": 0, \"ticks\": \"\"}}, \"type\": \"parcoords\"}], \"pie\": [{\"automargin\": true, \"type\": \"pie\"}], \"scatter\": [{\"marker\": {\"colorbar\": {\"outlinewidth\": 0, \"ticks\": \"\"}}, \"type\": \"scatter\"}], \"scatter3d\": [{\"line\": {\"colorbar\": {\"outlinewidth\": 0, \"ticks\": \"\"}}, \"marker\": {\"colorbar\": {\"outlinewidth\": 0, \"ticks\": \"\"}}, \"type\": \"scatter3d\"}], \"scattercarpet\": [{\"marker\": {\"colorbar\": {\"outlinewidth\": 0, \"ticks\": \"\"}}, \"type\": \"scattercarpet\"}], \"scattergeo\": [{\"marker\": {\"colorbar\": {\"outlinewidth\": 0, \"ticks\": \"\"}}, \"type\": \"scattergeo\"}], \"scattergl\": [{\"marker\": {\"colorbar\": {\"outlinewidth\": 0, \"ticks\": \"\"}}, \"type\": \"scattergl\"}], \"scattermapbox\": [{\"marker\": {\"colorbar\": {\"outlinewidth\": 0, \"ticks\": \"\"}}, \"type\": \"scattermapbox\"}], \"scatterpolar\": [{\"marker\": {\"colorbar\": {\"outlinewidth\": 0, \"ticks\": \"\"}}, \"type\": \"scatterpolar\"}], \"scatterpolargl\": [{\"marker\": {\"colorbar\": {\"outlinewidth\": 0, \"ticks\": \"\"}}, \"type\": \"scatterpolargl\"}], \"scatterternary\": [{\"marker\": {\"colorbar\": {\"outlinewidth\": 0, \"ticks\": \"\"}}, \"type\": \"scatterternary\"}], \"surface\": [{\"colorbar\": {\"outlinewidth\": 0, \"ticks\": \"\"}, \"colorscale\": [[0.0, \"#0d0887\"], [0.1111111111111111, \"#46039f\"], [0.2222222222222222, \"#7201a8\"], [0.3333333333333333, \"#9c179e\"], [0.4444444444444444, \"#bd3786\"], [0.5555555555555556, \"#d8576b\"], [0.6666666666666666, \"#ed7953\"], [0.7777777777777778, \"#fb9f3a\"], [0.8888888888888888, \"#fdca26\"], [1.0, \"#f0f921\"]], \"type\": \"surface\"}], \"table\": [{\"cells\": {\"fill\": {\"color\": \"#EBF0F8\"}, \"line\": {\"color\": \"white\"}}, \"header\": {\"fill\": {\"color\": \"#C8D4E3\"}, \"line\": {\"color\": \"white\"}}, \"type\": \"table\"}]}, \"layout\": {\"annotationdefaults\": {\"arrowcolor\": \"#2a3f5f\", \"arrowhead\": 0, \"arrowwidth\": 1}, \"coloraxis\": {\"colorbar\": {\"outlinewidth\": 0, \"ticks\": \"\"}}, \"colorscale\": {\"diverging\": [[0, \"#8e0152\"], [0.1, \"#c51b7d\"], [0.2, \"#de77ae\"], [0.3, \"#f1b6da\"], [0.4, \"#fde0ef\"], [0.5, \"#f7f7f7\"], [0.6, \"#e6f5d0\"], [0.7, \"#b8e186\"], [0.8, \"#7fbc41\"], [0.9, \"#4d9221\"], [1, \"#276419\"]], \"sequential\": [[0.0, \"#0d0887\"], [0.1111111111111111, \"#46039f\"], [0.2222222222222222, \"#7201a8\"], [0.3333333333333333, \"#9c179e\"], [0.4444444444444444, \"#bd3786\"], [0.5555555555555556, \"#d8576b\"], [0.6666666666666666, \"#ed7953\"], [0.7777777777777778, \"#fb9f3a\"], [0.8888888888888888, \"#fdca26\"], [1.0, \"#f0f921\"]], \"sequentialminus\": [[0.0, \"#0d0887\"], [0.1111111111111111, \"#46039f\"], [0.2222222222222222, \"#7201a8\"], [0.3333333333333333, \"#9c179e\"], [0.4444444444444444, \"#bd3786\"], [0.5555555555555556, \"#d8576b\"], [0.6666666666666666, \"#ed7953\"], [0.7777777777777778, \"#fb9f3a\"], [0.8888888888888888, \"#fdca26\"], [1.0, \"#f0f921\"]]}, \"colorway\": [\"#636efa\", \"#EF553B\", \"#00cc96\", \"#ab63fa\", \"#FFA15A\", \"#19d3f3\", \"#FF6692\", \"#B6E880\", \"#FF97FF\", \"#FECB52\"], \"font\": {\"color\": \"#2a3f5f\"}, \"geo\": {\"bgcolor\": \"white\", \"lakecolor\": \"white\", \"landcolor\": \"#E5ECF6\", \"showlakes\": true, \"showland\": true, \"subunitcolor\": \"white\"}, \"hoverlabel\": {\"align\": \"left\"}, \"hovermode\": \"closest\", \"mapbox\": {\"style\": \"light\"}, \"paper_bgcolor\": \"white\", \"plot_bgcolor\": \"#E5ECF6\", \"polar\": {\"angularaxis\": {\"gridcolor\": \"white\", \"linecolor\": \"white\", \"ticks\": \"\"}, \"bgcolor\": \"#E5ECF6\", \"radialaxis\": {\"gridcolor\": \"white\", \"linecolor\": \"white\", \"ticks\": \"\"}}, \"scene\": {\"xaxis\": {\"backgroundcolor\": \"#E5ECF6\", \"gridcolor\": \"white\", \"gridwidth\": 2, \"linecolor\": \"white\", \"showbackground\": true, \"ticks\": \"\", \"zerolinecolor\": \"white\"}, \"yaxis\": {\"backgroundcolor\": \"#E5ECF6\", \"gridcolor\": \"white\", \"gridwidth\": 2, \"linecolor\": \"white\", \"showbackground\": true, \"ticks\": \"\", \"zerolinecolor\": \"white\"}, \"zaxis\": {\"backgroundcolor\": \"#E5ECF6\", \"gridcolor\": \"white\", \"gridwidth\": 2, \"linecolor\": \"white\", \"showbackground\": true, \"ticks\": \"\", \"zerolinecolor\": \"white\"}}, \"shapedefaults\": {\"line\": {\"color\": \"#2a3f5f\"}}, \"ternary\": {\"aaxis\": {\"gridcolor\": \"white\", \"linecolor\": \"white\", \"ticks\": \"\"}, \"baxis\": {\"gridcolor\": \"white\", \"linecolor\": \"white\", \"ticks\": \"\"}, \"bgcolor\": \"#E5ECF6\", \"caxis\": {\"gridcolor\": \"white\", \"linecolor\": \"white\", \"ticks\": \"\"}}, \"title\": {\"x\": 0.05}, \"xaxis\": {\"automargin\": true, \"gridcolor\": \"white\", \"linecolor\": \"white\", \"ticks\": \"\", \"title\": {\"standoff\": 15}, \"zerolinecolor\": \"white\", \"zerolinewidth\": 2}, \"yaxis\": {\"automargin\": true, \"gridcolor\": \"white\", \"linecolor\": \"white\", \"ticks\": \"\", \"title\": {\"standoff\": 15}, \"zerolinecolor\": \"white\", \"zerolinewidth\": 2}}}, \"xaxis\": {\"anchor\": \"y\", \"domain\": [0.0, 1.0], \"title\": {\"text\": \"Product Category\"}}, \"yaxis\": {\"anchor\": \"x\", \"domain\": [0.0, 1.0], \"title\": {\"text\": \"Grand Total\"}}},\n",
              "                        {\"responsive\": true}\n",
              "                    ).then(function(){\n",
              "                            \n",
              "var gd = document.getElementById('d0f8cc0c-349b-48ac-b4b1-7e89fee69d44');\n",
              "var x = new MutationObserver(function (mutations, observer) {{\n",
              "        var display = window.getComputedStyle(gd).display;\n",
              "        if (!display || display === 'none') {{\n",
              "            console.log([gd, 'removed!']);\n",
              "            Plotly.purge(gd);\n",
              "            observer.disconnect();\n",
              "        }}\n",
              "}});\n",
              "\n",
              "// Listen for the removal of the full notebook cells\n",
              "var notebookContainer = gd.closest('#notebook-container');\n",
              "if (notebookContainer) {{\n",
              "    x.observe(notebookContainer, {childList: true});\n",
              "}}\n",
              "\n",
              "// Listen for the clearing of the current output cell\n",
              "var outputEl = gd.closest('.output');\n",
              "if (outputEl) {{\n",
              "    x.observe(outputEl, {childList: true});\n",
              "}}\n",
              "\n",
              "                        })\n",
              "                };\n",
              "                \n",
              "            </script>\n",
              "        </div>\n",
              "</body>\n",
              "</html>"
            ]
          },
          "metadata": {
            "tags": []
          }
        }
      ]
    },
    {
      "cell_type": "code",
      "metadata": {
        "id": "FBavoURo9lpp"
      },
      "source": [
        ""
      ],
      "execution_count": 65,
      "outputs": []
    },
    {
      "cell_type": "markdown",
      "metadata": {
        "id": "VX11i3Z7pNX-"
      },
      "source": [
        "**What are the categories that got cancelled the most?**"
      ]
    },
    {
      "cell_type": "code",
      "metadata": {
        "colab": {
          "base_uri": "https://localhost:8080/",
          "height": 542
        },
        "id": "-rvGpl3LpPO9",
        "outputId": "96d09238-15ed-4bf0-cc8f-2aca936ba95b"
      },
      "source": [
        "df_visual1 = spark.sql(\"SELECT category_name_1, count(status) as status FROM eCommerce_view where status= 'canceled' group by category_name_1  order by status desc \")\n",
        "fig2 = px.bar(df_visual1.toPandas(), x='category_name_1', y='status',color = 'status', color_continuous_scale= 'rainbow' )\n",
        "fig2.show()"
      ],
      "execution_count": 66,
      "outputs": [
        {
          "output_type": "display_data",
          "data": {
            "text/html": [
              "<html>\n",
              "<head><meta charset=\"utf-8\" /></head>\n",
              "<body>\n",
              "    <div>\n",
              "            <script src=\"https://cdnjs.cloudflare.com/ajax/libs/mathjax/2.7.5/MathJax.js?config=TeX-AMS-MML_SVG\"></script><script type=\"text/javascript\">if (window.MathJax) {MathJax.Hub.Config({SVG: {font: \"STIX-Web\"}});}</script>\n",
              "                <script type=\"text/javascript\">window.PlotlyConfig = {MathJaxConfig: 'local'};</script>\n",
              "        <script src=\"https://cdn.plot.ly/plotly-latest.min.js\"></script>    \n",
              "            <div id=\"e5dd5abb-a3f8-4d96-a734-470399d7650b\" class=\"plotly-graph-div\" style=\"height:525px; width:100%;\"></div>\n",
              "            <script type=\"text/javascript\">\n",
              "                \n",
              "                    window.PLOTLYENV=window.PLOTLYENV || {};\n",
              "                    \n",
              "                if (document.getElementById(\"e5dd5abb-a3f8-4d96-a734-470399d7650b\")) {\n",
              "                    Plotly.newPlot(\n",
              "                        'e5dd5abb-a3f8-4d96-a734-470399d7650b',\n",
              "                        [{\"alignmentgroup\": \"True\", \"hoverlabel\": {\"namelength\": 0}, \"hovertemplate\": \"category_name_1=%{x}<br>status=%{marker.color}\", \"legendgroup\": \"\", \"marker\": {\"color\": [53715, 22024, 21628, 18369, 15961, 13926, 12579, 9686, 7593, 7199, 6811, 4079, 3382, 3165, 749, 273, 110], \"coloraxis\": \"coloraxis\"}, \"name\": \"\", \"offsetgroup\": \"\", \"orientation\": \"v\", \"showlegend\": false, \"textposition\": \"auto\", \"type\": \"bar\", \"x\": [\"Mobiles & Tablets\", \"Men's Fashion\", \"Appliances\", \"Others\", \"Women's Fashion\", \"Superstore\", \"Entertainment\", \"Beauty & Grooming\", \"Soghaat\", \"Home & Living\", \"Computing\", \"Kids & Baby\", \"Health & Sports\", \"\\\\N\", \"School & Education\", \"Books\", null], \"xaxis\": \"x\", \"y\": [53715, 22024, 21628, 18369, 15961, 13926, 12579, 9686, 7593, 7199, 6811, 4079, 3382, 3165, 749, 273, 110], \"yaxis\": \"y\"}],\n",
              "                        {\"barmode\": \"relative\", \"coloraxis\": {\"colorbar\": {\"title\": {\"text\": \"status\"}}, \"colorscale\": [[0.0, \"rgb(150,0,90)\"], [0.125, \"rgb(0,0,200)\"], [0.25, \"rgb(0,25,255)\"], [0.375, \"rgb(0,152,255)\"], [0.5, \"rgb(44,255,150)\"], [0.625, \"rgb(151,255,0)\"], [0.75, \"rgb(255,234,0)\"], [0.875, \"rgb(255,111,0)\"], [1.0, \"rgb(255,0,0)\"]]}, \"legend\": {\"tracegroupgap\": 0}, \"margin\": {\"t\": 60}, \"template\": {\"data\": {\"bar\": [{\"error_x\": {\"color\": \"#2a3f5f\"}, \"error_y\": {\"color\": \"#2a3f5f\"}, \"marker\": {\"line\": {\"color\": \"#E5ECF6\", \"width\": 0.5}}, \"type\": \"bar\"}], \"barpolar\": [{\"marker\": {\"line\": {\"color\": \"#E5ECF6\", \"width\": 0.5}}, \"type\": \"barpolar\"}], \"carpet\": [{\"aaxis\": {\"endlinecolor\": \"#2a3f5f\", \"gridcolor\": \"white\", \"linecolor\": \"white\", \"minorgridcolor\": \"white\", \"startlinecolor\": \"#2a3f5f\"}, \"baxis\": {\"endlinecolor\": \"#2a3f5f\", \"gridcolor\": \"white\", \"linecolor\": \"white\", \"minorgridcolor\": \"white\", \"startlinecolor\": \"#2a3f5f\"}, \"type\": \"carpet\"}], \"choropleth\": [{\"colorbar\": {\"outlinewidth\": 0, \"ticks\": \"\"}, \"type\": \"choropleth\"}], \"contour\": [{\"colorbar\": {\"outlinewidth\": 0, \"ticks\": \"\"}, \"colorscale\": [[0.0, \"#0d0887\"], [0.1111111111111111, \"#46039f\"], [0.2222222222222222, \"#7201a8\"], [0.3333333333333333, \"#9c179e\"], [0.4444444444444444, \"#bd3786\"], [0.5555555555555556, \"#d8576b\"], [0.6666666666666666, \"#ed7953\"], [0.7777777777777778, \"#fb9f3a\"], [0.8888888888888888, \"#fdca26\"], [1.0, \"#f0f921\"]], \"type\": \"contour\"}], \"contourcarpet\": [{\"colorbar\": {\"outlinewidth\": 0, \"ticks\": \"\"}, \"type\": \"contourcarpet\"}], \"heatmap\": [{\"colorbar\": {\"outlinewidth\": 0, \"ticks\": \"\"}, \"colorscale\": [[0.0, \"#0d0887\"], [0.1111111111111111, \"#46039f\"], [0.2222222222222222, \"#7201a8\"], [0.3333333333333333, \"#9c179e\"], [0.4444444444444444, \"#bd3786\"], [0.5555555555555556, \"#d8576b\"], [0.6666666666666666, \"#ed7953\"], [0.7777777777777778, \"#fb9f3a\"], [0.8888888888888888, \"#fdca26\"], [1.0, \"#f0f921\"]], \"type\": \"heatmap\"}], \"heatmapgl\": [{\"colorbar\": {\"outlinewidth\": 0, \"ticks\": \"\"}, \"colorscale\": [[0.0, \"#0d0887\"], [0.1111111111111111, \"#46039f\"], [0.2222222222222222, \"#7201a8\"], [0.3333333333333333, \"#9c179e\"], [0.4444444444444444, \"#bd3786\"], [0.5555555555555556, \"#d8576b\"], [0.6666666666666666, \"#ed7953\"], [0.7777777777777778, \"#fb9f3a\"], [0.8888888888888888, \"#fdca26\"], [1.0, \"#f0f921\"]], \"type\": \"heatmapgl\"}], \"histogram\": [{\"marker\": {\"colorbar\": {\"outlinewidth\": 0, \"ticks\": \"\"}}, \"type\": \"histogram\"}], \"histogram2d\": [{\"colorbar\": {\"outlinewidth\": 0, \"ticks\": \"\"}, \"colorscale\": [[0.0, \"#0d0887\"], [0.1111111111111111, \"#46039f\"], [0.2222222222222222, \"#7201a8\"], [0.3333333333333333, \"#9c179e\"], [0.4444444444444444, \"#bd3786\"], [0.5555555555555556, \"#d8576b\"], [0.6666666666666666, \"#ed7953\"], [0.7777777777777778, \"#fb9f3a\"], [0.8888888888888888, \"#fdca26\"], [1.0, \"#f0f921\"]], \"type\": \"histogram2d\"}], \"histogram2dcontour\": [{\"colorbar\": {\"outlinewidth\": 0, \"ticks\": \"\"}, \"colorscale\": [[0.0, \"#0d0887\"], [0.1111111111111111, \"#46039f\"], [0.2222222222222222, \"#7201a8\"], [0.3333333333333333, \"#9c179e\"], [0.4444444444444444, \"#bd3786\"], [0.5555555555555556, \"#d8576b\"], [0.6666666666666666, \"#ed7953\"], [0.7777777777777778, \"#fb9f3a\"], [0.8888888888888888, \"#fdca26\"], [1.0, \"#f0f921\"]], \"type\": \"histogram2dcontour\"}], \"mesh3d\": [{\"colorbar\": {\"outlinewidth\": 0, \"ticks\": \"\"}, \"type\": \"mesh3d\"}], \"parcoords\": [{\"line\": {\"colorbar\": {\"outlinewidth\": 0, \"ticks\": \"\"}}, \"type\": \"parcoords\"}], \"pie\": [{\"automargin\": true, \"type\": \"pie\"}], \"scatter\": [{\"marker\": {\"colorbar\": {\"outlinewidth\": 0, \"ticks\": \"\"}}, \"type\": \"scatter\"}], \"scatter3d\": [{\"line\": {\"colorbar\": {\"outlinewidth\": 0, \"ticks\": \"\"}}, \"marker\": {\"colorbar\": {\"outlinewidth\": 0, \"ticks\": \"\"}}, \"type\": \"scatter3d\"}], \"scattercarpet\": [{\"marker\": {\"colorbar\": {\"outlinewidth\": 0, \"ticks\": \"\"}}, \"type\": \"scattercarpet\"}], \"scattergeo\": [{\"marker\": {\"colorbar\": {\"outlinewidth\": 0, \"ticks\": \"\"}}, \"type\": \"scattergeo\"}], \"scattergl\": [{\"marker\": {\"colorbar\": {\"outlinewidth\": 0, \"ticks\": \"\"}}, \"type\": \"scattergl\"}], \"scattermapbox\": [{\"marker\": {\"colorbar\": {\"outlinewidth\": 0, \"ticks\": \"\"}}, \"type\": \"scattermapbox\"}], \"scatterpolar\": [{\"marker\": {\"colorbar\": {\"outlinewidth\": 0, \"ticks\": \"\"}}, \"type\": \"scatterpolar\"}], \"scatterpolargl\": [{\"marker\": {\"colorbar\": {\"outlinewidth\": 0, \"ticks\": \"\"}}, \"type\": \"scatterpolargl\"}], \"scatterternary\": [{\"marker\": {\"colorbar\": {\"outlinewidth\": 0, \"ticks\": \"\"}}, \"type\": \"scatterternary\"}], \"surface\": [{\"colorbar\": {\"outlinewidth\": 0, \"ticks\": \"\"}, \"colorscale\": [[0.0, \"#0d0887\"], [0.1111111111111111, \"#46039f\"], [0.2222222222222222, \"#7201a8\"], [0.3333333333333333, \"#9c179e\"], [0.4444444444444444, \"#bd3786\"], [0.5555555555555556, \"#d8576b\"], [0.6666666666666666, \"#ed7953\"], [0.7777777777777778, \"#fb9f3a\"], [0.8888888888888888, \"#fdca26\"], [1.0, \"#f0f921\"]], \"type\": \"surface\"}], \"table\": [{\"cells\": {\"fill\": {\"color\": \"#EBF0F8\"}, \"line\": {\"color\": \"white\"}}, \"header\": {\"fill\": {\"color\": \"#C8D4E3\"}, \"line\": {\"color\": \"white\"}}, \"type\": \"table\"}]}, \"layout\": {\"annotationdefaults\": {\"arrowcolor\": \"#2a3f5f\", \"arrowhead\": 0, \"arrowwidth\": 1}, \"coloraxis\": {\"colorbar\": {\"outlinewidth\": 0, \"ticks\": \"\"}}, \"colorscale\": {\"diverging\": [[0, \"#8e0152\"], [0.1, \"#c51b7d\"], [0.2, \"#de77ae\"], [0.3, \"#f1b6da\"], [0.4, \"#fde0ef\"], [0.5, \"#f7f7f7\"], [0.6, \"#e6f5d0\"], [0.7, \"#b8e186\"], [0.8, \"#7fbc41\"], [0.9, \"#4d9221\"], [1, \"#276419\"]], \"sequential\": [[0.0, \"#0d0887\"], [0.1111111111111111, \"#46039f\"], [0.2222222222222222, \"#7201a8\"], [0.3333333333333333, \"#9c179e\"], [0.4444444444444444, \"#bd3786\"], [0.5555555555555556, \"#d8576b\"], [0.6666666666666666, \"#ed7953\"], [0.7777777777777778, \"#fb9f3a\"], [0.8888888888888888, \"#fdca26\"], [1.0, \"#f0f921\"]], \"sequentialminus\": [[0.0, \"#0d0887\"], [0.1111111111111111, \"#46039f\"], [0.2222222222222222, \"#7201a8\"], [0.3333333333333333, \"#9c179e\"], [0.4444444444444444, \"#bd3786\"], [0.5555555555555556, \"#d8576b\"], [0.6666666666666666, \"#ed7953\"], [0.7777777777777778, \"#fb9f3a\"], [0.8888888888888888, \"#fdca26\"], [1.0, \"#f0f921\"]]}, \"colorway\": [\"#636efa\", \"#EF553B\", \"#00cc96\", \"#ab63fa\", \"#FFA15A\", \"#19d3f3\", \"#FF6692\", \"#B6E880\", \"#FF97FF\", \"#FECB52\"], \"font\": {\"color\": \"#2a3f5f\"}, \"geo\": {\"bgcolor\": \"white\", \"lakecolor\": \"white\", \"landcolor\": \"#E5ECF6\", \"showlakes\": true, \"showland\": true, \"subunitcolor\": \"white\"}, \"hoverlabel\": {\"align\": \"left\"}, \"hovermode\": \"closest\", \"mapbox\": {\"style\": \"light\"}, \"paper_bgcolor\": \"white\", \"plot_bgcolor\": \"#E5ECF6\", \"polar\": {\"angularaxis\": {\"gridcolor\": \"white\", \"linecolor\": \"white\", \"ticks\": \"\"}, \"bgcolor\": \"#E5ECF6\", \"radialaxis\": {\"gridcolor\": \"white\", \"linecolor\": \"white\", \"ticks\": \"\"}}, \"scene\": {\"xaxis\": {\"backgroundcolor\": \"#E5ECF6\", \"gridcolor\": \"white\", \"gridwidth\": 2, \"linecolor\": \"white\", \"showbackground\": true, \"ticks\": \"\", \"zerolinecolor\": \"white\"}, \"yaxis\": {\"backgroundcolor\": \"#E5ECF6\", \"gridcolor\": \"white\", \"gridwidth\": 2, \"linecolor\": \"white\", \"showbackground\": true, \"ticks\": \"\", \"zerolinecolor\": \"white\"}, \"zaxis\": {\"backgroundcolor\": \"#E5ECF6\", \"gridcolor\": \"white\", \"gridwidth\": 2, \"linecolor\": \"white\", \"showbackground\": true, \"ticks\": \"\", \"zerolinecolor\": \"white\"}}, \"shapedefaults\": {\"line\": {\"color\": \"#2a3f5f\"}}, \"ternary\": {\"aaxis\": {\"gridcolor\": \"white\", \"linecolor\": \"white\", \"ticks\": \"\"}, \"baxis\": {\"gridcolor\": \"white\", \"linecolor\": \"white\", \"ticks\": \"\"}, \"bgcolor\": \"#E5ECF6\", \"caxis\": {\"gridcolor\": \"white\", \"linecolor\": \"white\", \"ticks\": \"\"}}, \"title\": {\"x\": 0.05}, \"xaxis\": {\"automargin\": true, \"gridcolor\": \"white\", \"linecolor\": \"white\", \"ticks\": \"\", \"title\": {\"standoff\": 15}, \"zerolinecolor\": \"white\", \"zerolinewidth\": 2}, \"yaxis\": {\"automargin\": true, \"gridcolor\": \"white\", \"linecolor\": \"white\", \"ticks\": \"\", \"title\": {\"standoff\": 15}, \"zerolinecolor\": \"white\", \"zerolinewidth\": 2}}}, \"xaxis\": {\"anchor\": \"y\", \"domain\": [0.0, 1.0], \"title\": {\"text\": \"category_name_1\"}}, \"yaxis\": {\"anchor\": \"x\", \"domain\": [0.0, 1.0], \"title\": {\"text\": \"status\"}}},\n",
              "                        {\"responsive\": true}\n",
              "                    ).then(function(){\n",
              "                            \n",
              "var gd = document.getElementById('e5dd5abb-a3f8-4d96-a734-470399d7650b');\n",
              "var x = new MutationObserver(function (mutations, observer) {{\n",
              "        var display = window.getComputedStyle(gd).display;\n",
              "        if (!display || display === 'none') {{\n",
              "            console.log([gd, 'removed!']);\n",
              "            Plotly.purge(gd);\n",
              "            observer.disconnect();\n",
              "        }}\n",
              "}});\n",
              "\n",
              "// Listen for the removal of the full notebook cells\n",
              "var notebookContainer = gd.closest('#notebook-container');\n",
              "if (notebookContainer) {{\n",
              "    x.observe(notebookContainer, {childList: true});\n",
              "}}\n",
              "\n",
              "// Listen for the clearing of the current output cell\n",
              "var outputEl = gd.closest('.output');\n",
              "if (outputEl) {{\n",
              "    x.observe(outputEl, {childList: true});\n",
              "}}\n",
              "\n",
              "                        })\n",
              "                };\n",
              "                \n",
              "            </script>\n",
              "        </div>\n",
              "</body>\n",
              "</html>"
            ]
          },
          "metadata": {
            "tags": []
          }
        }
      ]
    },
    {
      "cell_type": "code",
      "metadata": {
        "id": "yL_6gz-t5H6Y"
      },
      "source": [
        ""
      ],
      "execution_count": 66,
      "outputs": []
    },
    {
      "cell_type": "markdown",
      "metadata": {
        "id": "RsN_Uyz25IXp"
      },
      "source": [
        "# **REFERENCE**\n",
        "\n",
        "1.   https://facebook.github.io/prophet/docs/quick_start.html\n",
        "2.   https://pythondata.com/forecasting-time-series-data-prophet-part-4/\n",
        "\n",
        "\n",
        "\n"
      ]
    },
    {
      "cell_type": "markdown",
      "metadata": {
        "id": "hEwy8e83AvF2"
      },
      "source": [
        "**End Of The Project**"
      ]
    }
  ]
}